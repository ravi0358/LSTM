{
 "cells": [
  {
   "cell_type": "code",
   "execution_count": 1,
   "metadata": {},
   "outputs": [],
   "source": [
    "import pickle\n",
    "import os\n",
    "import numpy as np\n",
    "import pandas as pd\n",
    "import re\n",
    "import operator\n",
    "from pandas.core.common import flatten\n",
    "import warnings\n",
    "warnings.filterwarnings(\"ignore\")\n",
    "from sklearn.preprocessing import MinMaxScaler\n",
    "#import pyhdb\n",
    "from time import ctime"
   ]
  },
  {
   "cell_type": "code",
   "execution_count": 2,
   "metadata": {},
   "outputs": [],
   "source": [
    "from datetime import datetime, timedelta\n",
    "from collections import OrderedDict"
   ]
  },
  {
   "cell_type": "code",
   "execution_count": 3,
   "metadata": {},
   "outputs": [],
   "source": [
    "from collections import Counter"
   ]
  },
  {
   "cell_type": "code",
   "execution_count": 4,
   "metadata": {},
   "outputs": [],
   "source": [
    "df = pd.read_csv('C:/Users/rsure/Python Notebooks/LSTM note books/EY/Data Extraction/EY_FINAL_1.csv')\n",
    "# df_2 = pd.read_csv('Query_Owned_COMM_IOT_Switching.csv')\n",
    "# df_3 = pd.read_csv('Query_Owned_PUBLIC_SECTOR_IOT_Switching.csv')\n",
    "# df_4 = pd.read_csv('Query_Owned_SMALL_IOT_Switching.csv')\n",
    "# df_5 = pd.read_csv('Query_Owned_SERVICEPROVIDER_AND_OTHER_IOT_Switching.csv')"
   ]
  },
  {
   "cell_type": "code",
   "execution_count": 5,
   "metadata": {},
   "outputs": [
    {
     "data": {
      "text/plain": [
       "(1943087, 20)"
      ]
     },
     "execution_count": 5,
     "metadata": {},
     "output_type": "execute_result"
    }
   ],
   "source": [
    "df.shape"
   ]
  },
  {
   "cell_type": "code",
   "execution_count": 6,
   "metadata": {},
   "outputs": [
    {
     "data": {
      "text/plain": [
       "20204"
      ]
     },
     "execution_count": 6,
     "metadata": {},
     "output_type": "execute_result"
    }
   ],
   "source": [
    "df['FISCAL_QUARTER_ID'].max()"
   ]
  },
  {
   "cell_type": "code",
   "execution_count": 7,
   "metadata": {},
   "outputs": [],
   "source": [
    "quarters =[20204]"
   ]
  },
  {
   "cell_type": "code",
   "execution_count": 8,
   "metadata": {},
   "outputs": [],
   "source": [
    "df = df[~df['FISCAL_QUARTER_ID'].isin(quarters)]"
   ]
  },
  {
   "cell_type": "code",
   "execution_count": 9,
   "metadata": {},
   "outputs": [
    {
     "data": {
      "text/plain": [
       "(1870031, 20)"
      ]
     },
     "execution_count": 9,
     "metadata": {},
     "output_type": "execute_result"
    }
   ],
   "source": [
    "df.shape"
   ]
  },
  {
   "cell_type": "code",
   "execution_count": 10,
   "metadata": {},
   "outputs": [
    {
     "data": {
      "text/plain": [
       "count    1.870031e+06\n",
       "mean     6.919797e-02\n",
       "std      1.082836e-01\n",
       "min      0.000000e+00\n",
       "25%      0.000000e+00\n",
       "50%      0.000000e+00\n",
       "75%      8.333300e-02\n",
       "max      1.000000e+00\n",
       "Name: ACTIVE_3YEARS, dtype: float64"
      ]
     },
     "execution_count": 10,
     "metadata": {},
     "output_type": "execute_result"
    }
   ],
   "source": [
    "df['ACTIVE_3YEARS'].describe()"
   ]
  },
  {
   "cell_type": "code",
   "execution_count": 11,
   "metadata": {},
   "outputs": [],
   "source": [
    "df.drop(['Unnamed: 0'],axis=1,inplace=True)"
   ]
  },
  {
   "cell_type": "code",
   "execution_count": 12,
   "metadata": {},
   "outputs": [
    {
     "data": {
      "text/plain": [
       "(1870031, 19)"
      ]
     },
     "execution_count": 12,
     "metadata": {},
     "output_type": "execute_result"
    }
   ],
   "source": [
    "df.shape"
   ]
  },
  {
   "cell_type": "code",
   "execution_count": 13,
   "metadata": {},
   "outputs": [
    {
     "data": {
      "text/plain": [
       "20010"
      ]
     },
     "execution_count": 13,
     "metadata": {},
     "output_type": "execute_result"
    }
   ],
   "source": [
    "df['SAVM_GROUP_ID'].nunique()"
   ]
  },
  {
   "cell_type": "markdown",
   "metadata": {},
   "source": [
    "Create Collab Revenue Feature "
   ]
  },
  {
   "cell_type": "code",
   "execution_count": 14,
   "metadata": {},
   "outputs": [
    {
     "data": {
      "text/plain": [
       "count    1.870031e+06\n",
       "mean     3.244493e+00\n",
       "std      4.957895e+00\n",
       "min      1.000000e+00\n",
       "25%      1.000000e+00\n",
       "50%      2.000000e+00\n",
       "75%      3.000000e+00\n",
       "max      2.160000e+02\n",
       "Name: SITES, dtype: float64"
      ]
     },
     "execution_count": 14,
     "metadata": {},
     "output_type": "execute_result"
    }
   ],
   "source": [
    "df.SITES.describe()"
   ]
  },
  {
   "cell_type": "code",
   "execution_count": 15,
   "metadata": {},
   "outputs": [
    {
     "data": {
      "text/html": [
       "<div>\n",
       "<style scoped>\n",
       "    .dataframe tbody tr th:only-of-type {\n",
       "        vertical-align: middle;\n",
       "    }\n",
       "\n",
       "    .dataframe tbody tr th {\n",
       "        vertical-align: top;\n",
       "    }\n",
       "\n",
       "    .dataframe thead th {\n",
       "        text-align: right;\n",
       "    }\n",
       "</style>\n",
       "<table border=\"1\" class=\"dataframe\">\n",
       "  <thead>\n",
       "    <tr style=\"text-align: right;\">\n",
       "      <th></th>\n",
       "      <th>SAVM_GROUP_ID</th>\n",
       "      <th>SAVM_SCMS_NAME</th>\n",
       "      <th>SAVM_VERTICAL_MARKET_SEGMENT</th>\n",
       "      <th>BUSINESS_ENTITY</th>\n",
       "      <th>FISCAL_QUARTER_ID</th>\n",
       "      <th>ACTUAL_BOOKINGS</th>\n",
       "      <th>LIST_PRICE</th>\n",
       "      <th>QUANTITY</th>\n",
       "      <th>EY_FLAG</th>\n",
       "      <th>TENURE</th>\n",
       "      <th>PENETRATION</th>\n",
       "      <th>CUMM_BOOK_SAVM</th>\n",
       "      <th>CUMM_BOOK_SAVM_ARC</th>\n",
       "      <th>AVG_REVENUE_VERT</th>\n",
       "      <th>DISCOUNT</th>\n",
       "      <th>AVG_QUR_BOOKINGS</th>\n",
       "      <th>SITES</th>\n",
       "      <th>ACTIVE_3YEARS</th>\n",
       "      <th>BOUGHT_EY_BEFORE</th>\n",
       "    </tr>\n",
       "  </thead>\n",
       "  <tbody>\n",
       "    <tr>\n",
       "      <td>0</td>\n",
       "      <td>203686542</td>\n",
       "      <td>COMMERCIAL</td>\n",
       "      <td>Manufacturing</td>\n",
       "      <td>Computing Systems</td>\n",
       "      <td>20154</td>\n",
       "      <td>0</td>\n",
       "      <td>0</td>\n",
       "      <td>0</td>\n",
       "      <td>0</td>\n",
       "      <td>3</td>\n",
       "      <td>8</td>\n",
       "      <td>344409</td>\n",
       "      <td>0</td>\n",
       "      <td>401701</td>\n",
       "      <td>0.0</td>\n",
       "      <td>0</td>\n",
       "      <td>1</td>\n",
       "      <td>0.0</td>\n",
       "      <td>0</td>\n",
       "    </tr>\n",
       "    <tr>\n",
       "      <td>1</td>\n",
       "      <td>203686542</td>\n",
       "      <td>COMMERCIAL</td>\n",
       "      <td>Manufacturing</td>\n",
       "      <td>Other</td>\n",
       "      <td>20154</td>\n",
       "      <td>0</td>\n",
       "      <td>0</td>\n",
       "      <td>0</td>\n",
       "      <td>0</td>\n",
       "      <td>3</td>\n",
       "      <td>8</td>\n",
       "      <td>685288</td>\n",
       "      <td>0</td>\n",
       "      <td>401701</td>\n",
       "      <td>0.0</td>\n",
       "      <td>0</td>\n",
       "      <td>1</td>\n",
       "      <td>0.0</td>\n",
       "      <td>0</td>\n",
       "    </tr>\n",
       "    <tr>\n",
       "      <td>2</td>\n",
       "      <td>203686542</td>\n",
       "      <td>COMMERCIAL</td>\n",
       "      <td>Manufacturing</td>\n",
       "      <td>Other</td>\n",
       "      <td>20162</td>\n",
       "      <td>0</td>\n",
       "      <td>0</td>\n",
       "      <td>0</td>\n",
       "      <td>0</td>\n",
       "      <td>5</td>\n",
       "      <td>11</td>\n",
       "      <td>685288</td>\n",
       "      <td>0</td>\n",
       "      <td>302453</td>\n",
       "      <td>0.0</td>\n",
       "      <td>0</td>\n",
       "      <td>1</td>\n",
       "      <td>0.0</td>\n",
       "      <td>0</td>\n",
       "    </tr>\n",
       "    <tr>\n",
       "      <td>3</td>\n",
       "      <td>203686542</td>\n",
       "      <td>COMMERCIAL</td>\n",
       "      <td>Manufacturing</td>\n",
       "      <td>Services ASS_L1</td>\n",
       "      <td>20154</td>\n",
       "      <td>0</td>\n",
       "      <td>0</td>\n",
       "      <td>0</td>\n",
       "      <td>0</td>\n",
       "      <td>3</td>\n",
       "      <td>8</td>\n",
       "      <td>706082</td>\n",
       "      <td>0</td>\n",
       "      <td>401701</td>\n",
       "      <td>0.0</td>\n",
       "      <td>0</td>\n",
       "      <td>1</td>\n",
       "      <td>0.0</td>\n",
       "      <td>0</td>\n",
       "    </tr>\n",
       "    <tr>\n",
       "      <td>4</td>\n",
       "      <td>203687728</td>\n",
       "      <td>COMMERCIAL</td>\n",
       "      <td>Manufacturing</td>\n",
       "      <td>Data Center Networking</td>\n",
       "      <td>20141</td>\n",
       "      <td>0</td>\n",
       "      <td>0</td>\n",
       "      <td>0</td>\n",
       "      <td>0</td>\n",
       "      <td>0</td>\n",
       "      <td>0</td>\n",
       "      <td>180321</td>\n",
       "      <td>0</td>\n",
       "      <td>72389</td>\n",
       "      <td>0.0</td>\n",
       "      <td>0</td>\n",
       "      <td>1</td>\n",
       "      <td>0.0</td>\n",
       "      <td>0</td>\n",
       "    </tr>\n",
       "  </tbody>\n",
       "</table>\n",
       "</div>"
      ],
      "text/plain": [
       "   SAVM_GROUP_ID SAVM_SCMS_NAME SAVM_VERTICAL_MARKET_SEGMENT  \\\n",
       "0      203686542     COMMERCIAL                Manufacturing   \n",
       "1      203686542     COMMERCIAL                Manufacturing   \n",
       "2      203686542     COMMERCIAL                Manufacturing   \n",
       "3      203686542     COMMERCIAL                Manufacturing   \n",
       "4      203687728     COMMERCIAL                Manufacturing   \n",
       "\n",
       "          BUSINESS_ENTITY  FISCAL_QUARTER_ID  ACTUAL_BOOKINGS  LIST_PRICE  \\\n",
       "0       Computing Systems              20154                0           0   \n",
       "1                   Other              20154                0           0   \n",
       "2                   Other              20162                0           0   \n",
       "3         Services ASS_L1              20154                0           0   \n",
       "4  Data Center Networking              20141                0           0   \n",
       "\n",
       "   QUANTITY  EY_FLAG  TENURE  PENETRATION  CUMM_BOOK_SAVM  CUMM_BOOK_SAVM_ARC  \\\n",
       "0         0        0       3            8          344409                   0   \n",
       "1         0        0       3            8          685288                   0   \n",
       "2         0        0       5           11          685288                   0   \n",
       "3         0        0       3            8          706082                   0   \n",
       "4         0        0       0            0          180321                   0   \n",
       "\n",
       "   AVG_REVENUE_VERT  DISCOUNT  AVG_QUR_BOOKINGS  SITES  ACTIVE_3YEARS  \\\n",
       "0            401701       0.0                 0      1            0.0   \n",
       "1            401701       0.0                 0      1            0.0   \n",
       "2            302453       0.0                 0      1            0.0   \n",
       "3            401701       0.0                 0      1            0.0   \n",
       "4             72389       0.0                 0      1            0.0   \n",
       "\n",
       "   BOUGHT_EY_BEFORE  \n",
       "0                 0  \n",
       "1                 0  \n",
       "2                 0  \n",
       "3                 0  \n",
       "4                 0  "
      ]
     },
     "execution_count": 15,
     "metadata": {},
     "output_type": "execute_result"
    }
   ],
   "source": [
    "df.head()"
   ]
  },
  {
   "cell_type": "code",
   "execution_count": 16,
   "metadata": {},
   "outputs": [
    {
     "data": {
      "text/plain": [
       "array(['Computing Systems', 'Other', 'Services ASS_L1',\n",
       "       'Data Center Networking', 'Enterprise Switching',\n",
       "       'Service Provider Routing', 'Collaboration', 'IOT', 'Wireless',\n",
       "       'Security', 'Enterprise Routing', 'Services TSS_L1', 'Meraki',\n",
       "       'UNKNOWN', nan, 'SP Video Software and Solutions',\n",
       "       'Monitoring and Analytics', 'SP Video Infrastructure'],\n",
       "      dtype=object)"
      ]
     },
     "execution_count": 16,
     "metadata": {},
     "output_type": "execute_result"
    }
   ],
   "source": [
    "df.BUSINESS_ENTITY.unique()"
   ]
  },
  {
   "cell_type": "code",
   "execution_count": 17,
   "metadata": {},
   "outputs": [],
   "source": [
    "df_allrev_gb = df.groupby(['SAVM_GROUP_ID','FISCAL_QUARTER_ID'])['ACTUAL_BOOKINGS'].sum().reset_index()"
   ]
  },
  {
   "cell_type": "code",
   "execution_count": 18,
   "metadata": {},
   "outputs": [],
   "source": [
    "df_colrev_gb = df[(df['BUSINESS_ENTITY']=='Computing Systems')| (df['BUSINESS_ENTITY']=='Data Center Networking')].groupby(['SAVM_GROUP_ID','FISCAL_QUARTER_ID'])['ACTUAL_BOOKINGS'].sum().reset_index()"
   ]
  },
  {
   "cell_type": "code",
   "execution_count": 19,
   "metadata": {},
   "outputs": [],
   "source": [
    "df_colrev_gb.rename({'ACTUAL_BOOKINGS':'ACTUAL_BOOKINGS_COL'},axis=1,inplace=True)"
   ]
  },
  {
   "cell_type": "code",
   "execution_count": 20,
   "metadata": {},
   "outputs": [],
   "source": [
    "df_colper = pd.merge(df_allrev_gb,df_colrev_gb,on=['SAVM_GROUP_ID','FISCAL_QUARTER_ID'])"
   ]
  },
  {
   "cell_type": "code",
   "execution_count": 21,
   "metadata": {},
   "outputs": [],
   "source": [
    "df_colper['DataCenterRevenue'] = df_colper['ACTUAL_BOOKINGS_COL']/df_colper['ACTUAL_BOOKINGS']"
   ]
  },
  {
   "cell_type": "code",
   "execution_count": 22,
   "metadata": {},
   "outputs": [],
   "source": [
    "df_colper.drop(['ACTUAL_BOOKINGS','ACTUAL_BOOKINGS_COL'],axis=1,inplace=True)"
   ]
  },
  {
   "cell_type": "code",
   "execution_count": 23,
   "metadata": {},
   "outputs": [],
   "source": [
    "df = df.merge(df_colper,how='left',on=['SAVM_GROUP_ID','FISCAL_QUARTER_ID'])"
   ]
  },
  {
   "cell_type": "code",
   "execution_count": 24,
   "metadata": {},
   "outputs": [
    {
     "data": {
      "text/html": [
       "<div>\n",
       "<style scoped>\n",
       "    .dataframe tbody tr th:only-of-type {\n",
       "        vertical-align: middle;\n",
       "    }\n",
       "\n",
       "    .dataframe tbody tr th {\n",
       "        vertical-align: top;\n",
       "    }\n",
       "\n",
       "    .dataframe thead th {\n",
       "        text-align: right;\n",
       "    }\n",
       "</style>\n",
       "<table border=\"1\" class=\"dataframe\">\n",
       "  <thead>\n",
       "    <tr style=\"text-align: right;\">\n",
       "      <th></th>\n",
       "      <th>SAVM_GROUP_ID</th>\n",
       "      <th>SAVM_SCMS_NAME</th>\n",
       "      <th>SAVM_VERTICAL_MARKET_SEGMENT</th>\n",
       "      <th>BUSINESS_ENTITY</th>\n",
       "      <th>FISCAL_QUARTER_ID</th>\n",
       "      <th>ACTUAL_BOOKINGS</th>\n",
       "      <th>LIST_PRICE</th>\n",
       "      <th>QUANTITY</th>\n",
       "      <th>EY_FLAG</th>\n",
       "      <th>TENURE</th>\n",
       "      <th>PENETRATION</th>\n",
       "      <th>CUMM_BOOK_SAVM</th>\n",
       "      <th>CUMM_BOOK_SAVM_ARC</th>\n",
       "      <th>AVG_REVENUE_VERT</th>\n",
       "      <th>DISCOUNT</th>\n",
       "      <th>AVG_QUR_BOOKINGS</th>\n",
       "      <th>SITES</th>\n",
       "      <th>ACTIVE_3YEARS</th>\n",
       "      <th>BOUGHT_EY_BEFORE</th>\n",
       "      <th>DataCenterRevenue</th>\n",
       "    </tr>\n",
       "  </thead>\n",
       "  <tbody>\n",
       "    <tr>\n",
       "      <td>0</td>\n",
       "      <td>203686542</td>\n",
       "      <td>COMMERCIAL</td>\n",
       "      <td>Manufacturing</td>\n",
       "      <td>Computing Systems</td>\n",
       "      <td>20154</td>\n",
       "      <td>0</td>\n",
       "      <td>0</td>\n",
       "      <td>0</td>\n",
       "      <td>0</td>\n",
       "      <td>3</td>\n",
       "      <td>8</td>\n",
       "      <td>344409</td>\n",
       "      <td>0</td>\n",
       "      <td>401701</td>\n",
       "      <td>0.0</td>\n",
       "      <td>0</td>\n",
       "      <td>1</td>\n",
       "      <td>0.0</td>\n",
       "      <td>0</td>\n",
       "      <td>0.0</td>\n",
       "    </tr>\n",
       "    <tr>\n",
       "      <td>1</td>\n",
       "      <td>203686542</td>\n",
       "      <td>COMMERCIAL</td>\n",
       "      <td>Manufacturing</td>\n",
       "      <td>Other</td>\n",
       "      <td>20154</td>\n",
       "      <td>0</td>\n",
       "      <td>0</td>\n",
       "      <td>0</td>\n",
       "      <td>0</td>\n",
       "      <td>3</td>\n",
       "      <td>8</td>\n",
       "      <td>685288</td>\n",
       "      <td>0</td>\n",
       "      <td>401701</td>\n",
       "      <td>0.0</td>\n",
       "      <td>0</td>\n",
       "      <td>1</td>\n",
       "      <td>0.0</td>\n",
       "      <td>0</td>\n",
       "      <td>0.0</td>\n",
       "    </tr>\n",
       "    <tr>\n",
       "      <td>2</td>\n",
       "      <td>203686542</td>\n",
       "      <td>COMMERCIAL</td>\n",
       "      <td>Manufacturing</td>\n",
       "      <td>Other</td>\n",
       "      <td>20162</td>\n",
       "      <td>0</td>\n",
       "      <td>0</td>\n",
       "      <td>0</td>\n",
       "      <td>0</td>\n",
       "      <td>5</td>\n",
       "      <td>11</td>\n",
       "      <td>685288</td>\n",
       "      <td>0</td>\n",
       "      <td>302453</td>\n",
       "      <td>0.0</td>\n",
       "      <td>0</td>\n",
       "      <td>1</td>\n",
       "      <td>0.0</td>\n",
       "      <td>0</td>\n",
       "      <td>NaN</td>\n",
       "    </tr>\n",
       "    <tr>\n",
       "      <td>3</td>\n",
       "      <td>203686542</td>\n",
       "      <td>COMMERCIAL</td>\n",
       "      <td>Manufacturing</td>\n",
       "      <td>Services ASS_L1</td>\n",
       "      <td>20154</td>\n",
       "      <td>0</td>\n",
       "      <td>0</td>\n",
       "      <td>0</td>\n",
       "      <td>0</td>\n",
       "      <td>3</td>\n",
       "      <td>8</td>\n",
       "      <td>706082</td>\n",
       "      <td>0</td>\n",
       "      <td>401701</td>\n",
       "      <td>0.0</td>\n",
       "      <td>0</td>\n",
       "      <td>1</td>\n",
       "      <td>0.0</td>\n",
       "      <td>0</td>\n",
       "      <td>0.0</td>\n",
       "    </tr>\n",
       "    <tr>\n",
       "      <td>4</td>\n",
       "      <td>203687728</td>\n",
       "      <td>COMMERCIAL</td>\n",
       "      <td>Manufacturing</td>\n",
       "      <td>Data Center Networking</td>\n",
       "      <td>20141</td>\n",
       "      <td>0</td>\n",
       "      <td>0</td>\n",
       "      <td>0</td>\n",
       "      <td>0</td>\n",
       "      <td>0</td>\n",
       "      <td>0</td>\n",
       "      <td>180321</td>\n",
       "      <td>0</td>\n",
       "      <td>72389</td>\n",
       "      <td>0.0</td>\n",
       "      <td>0</td>\n",
       "      <td>1</td>\n",
       "      <td>0.0</td>\n",
       "      <td>0</td>\n",
       "      <td>0.0</td>\n",
       "    </tr>\n",
       "  </tbody>\n",
       "</table>\n",
       "</div>"
      ],
      "text/plain": [
       "   SAVM_GROUP_ID SAVM_SCMS_NAME SAVM_VERTICAL_MARKET_SEGMENT  \\\n",
       "0      203686542     COMMERCIAL                Manufacturing   \n",
       "1      203686542     COMMERCIAL                Manufacturing   \n",
       "2      203686542     COMMERCIAL                Manufacturing   \n",
       "3      203686542     COMMERCIAL                Manufacturing   \n",
       "4      203687728     COMMERCIAL                Manufacturing   \n",
       "\n",
       "          BUSINESS_ENTITY  FISCAL_QUARTER_ID  ACTUAL_BOOKINGS  LIST_PRICE  \\\n",
       "0       Computing Systems              20154                0           0   \n",
       "1                   Other              20154                0           0   \n",
       "2                   Other              20162                0           0   \n",
       "3         Services ASS_L1              20154                0           0   \n",
       "4  Data Center Networking              20141                0           0   \n",
       "\n",
       "   QUANTITY  EY_FLAG  TENURE  PENETRATION  CUMM_BOOK_SAVM  CUMM_BOOK_SAVM_ARC  \\\n",
       "0         0        0       3            8          344409                   0   \n",
       "1         0        0       3            8          685288                   0   \n",
       "2         0        0       5           11          685288                   0   \n",
       "3         0        0       3            8          706082                   0   \n",
       "4         0        0       0            0          180321                   0   \n",
       "\n",
       "   AVG_REVENUE_VERT  DISCOUNT  AVG_QUR_BOOKINGS  SITES  ACTIVE_3YEARS  \\\n",
       "0            401701       0.0                 0      1            0.0   \n",
       "1            401701       0.0                 0      1            0.0   \n",
       "2            302453       0.0                 0      1            0.0   \n",
       "3            401701       0.0                 0      1            0.0   \n",
       "4             72389       0.0                 0      1            0.0   \n",
       "\n",
       "   BOUGHT_EY_BEFORE  DataCenterRevenue  \n",
       "0                 0                0.0  \n",
       "1                 0                0.0  \n",
       "2                 0                NaN  \n",
       "3                 0                0.0  \n",
       "4                 0                0.0  "
      ]
     },
     "execution_count": 24,
     "metadata": {},
     "output_type": "execute_result"
    }
   ],
   "source": [
    "df.head()"
   ]
  },
  {
   "cell_type": "code",
   "execution_count": 25,
   "metadata": {},
   "outputs": [],
   "source": [
    "df['DataCenterRevenue'].fillna(0,inplace=True)"
   ]
  },
  {
   "cell_type": "markdown",
   "metadata": {},
   "source": [
    "End Feature creation"
   ]
  },
  {
   "cell_type": "code",
   "execution_count": 26,
   "metadata": {},
   "outputs": [
    {
     "data": {
      "text/plain": [
       "Collaboration               33205\n",
       "Services TSS_L1             12179\n",
       "Security                     3490\n",
       "Wireless                     1358\n",
       "Enterprise Routing           1311\n",
       "Enterprise Switching          912\n",
       "Data Center Networking        348\n",
       "IOT                           185\n",
       "Other                         176\n",
       "Computing Systems             158\n",
       "Services ASS_L1               146\n",
       "UNKNOWN                       120\n",
       "Monitoring and Analytics      113\n",
       "Service Provider Routing       62\n",
       "Meraki                         42\n",
       "Name: BUSINESS_ENTITY, dtype: int64"
      ]
     },
     "execution_count": 26,
     "metadata": {},
     "output_type": "execute_result"
    }
   ],
   "source": [
    "df[df['EY_FLAG']==1]['BUSINESS_ENTITY'].value_counts()"
   ]
  },
  {
   "cell_type": "code",
   "execution_count": 27,
   "metadata": {},
   "outputs": [],
   "source": [
    "savm_colab = df[((df['BUSINESS_ENTITY']=='Computing Systems') | (df['BUSINESS_ENTITY']=='Data Center Networking'))&(df['EY_FLAG']==1)]['SAVM_GROUP_ID'].tolist()"
   ]
  },
  {
   "cell_type": "code",
   "execution_count": 28,
   "metadata": {},
   "outputs": [
    {
     "data": {
      "text/plain": [
       "171"
      ]
     },
     "execution_count": 28,
     "metadata": {},
     "output_type": "execute_result"
    }
   ],
   "source": [
    "len(Counter(savm_colab).keys())"
   ]
  },
  {
   "cell_type": "code",
   "execution_count": 29,
   "metadata": {},
   "outputs": [
    {
     "data": {
      "text/plain": [
       "171"
      ]
     },
     "execution_count": 29,
     "metadata": {},
     "output_type": "execute_result"
    }
   ],
   "source": [
    "df.loc[df.SAVM_GROUP_ID.isin(savm_colab)].SAVM_GROUP_ID.nunique()"
   ]
  },
  {
   "cell_type": "code",
   "execution_count": 30,
   "metadata": {},
   "outputs": [],
   "source": [
    "df_1 = df[df.SAVM_GROUP_ID.isin(savm_colab)]"
   ]
  },
  {
   "cell_type": "code",
   "execution_count": 31,
   "metadata": {},
   "outputs": [
    {
     "data": {
      "text/plain": [
       "Services TSS_L1             650\n",
       "Collaboration               457\n",
       "Security                    355\n",
       "Data Center Networking      348\n",
       "Wireless                    285\n",
       "Enterprise Switching        267\n",
       "Enterprise Routing          246\n",
       "Computing Systems           158\n",
       "Other                       122\n",
       "IOT                          93\n",
       "Services ASS_L1              91\n",
       "UNKNOWN                      74\n",
       "Service Provider Routing     62\n",
       "Monitoring and Analytics     21\n",
       "Meraki                        3\n",
       "Name: BUSINESS_ENTITY, dtype: int64"
      ]
     },
     "execution_count": 31,
     "metadata": {},
     "output_type": "execute_result"
    }
   ],
   "source": [
    "df_1[df_1['EY_FLAG']==1]['BUSINESS_ENTITY'].value_counts()"
   ]
  },
  {
   "cell_type": "code",
   "execution_count": 32,
   "metadata": {},
   "outputs": [
    {
     "data": {
      "text/plain": [
       "(31820, 20)"
      ]
     },
     "execution_count": 32,
     "metadata": {},
     "output_type": "execute_result"
    }
   ],
   "source": [
    "df_1.shape"
   ]
  },
  {
   "cell_type": "code",
   "execution_count": 33,
   "metadata": {},
   "outputs": [
    {
     "data": {
      "text/html": [
       "<div>\n",
       "<style scoped>\n",
       "    .dataframe tbody tr th:only-of-type {\n",
       "        vertical-align: middle;\n",
       "    }\n",
       "\n",
       "    .dataframe tbody tr th {\n",
       "        vertical-align: top;\n",
       "    }\n",
       "\n",
       "    .dataframe thead th {\n",
       "        text-align: right;\n",
       "    }\n",
       "</style>\n",
       "<table border=\"1\" class=\"dataframe\">\n",
       "  <thead>\n",
       "    <tr style=\"text-align: right;\">\n",
       "      <th></th>\n",
       "      <th>SAVM_GROUP_ID</th>\n",
       "      <th>SAVM_SCMS_NAME</th>\n",
       "      <th>SAVM_VERTICAL_MARKET_SEGMENT</th>\n",
       "      <th>BUSINESS_ENTITY</th>\n",
       "      <th>FISCAL_QUARTER_ID</th>\n",
       "      <th>ACTUAL_BOOKINGS</th>\n",
       "      <th>LIST_PRICE</th>\n",
       "      <th>QUANTITY</th>\n",
       "      <th>EY_FLAG</th>\n",
       "      <th>TENURE</th>\n",
       "      <th>PENETRATION</th>\n",
       "      <th>CUMM_BOOK_SAVM</th>\n",
       "      <th>CUMM_BOOK_SAVM_ARC</th>\n",
       "      <th>AVG_REVENUE_VERT</th>\n",
       "      <th>DISCOUNT</th>\n",
       "      <th>AVG_QUR_BOOKINGS</th>\n",
       "      <th>SITES</th>\n",
       "      <th>ACTIVE_3YEARS</th>\n",
       "      <th>BOUGHT_EY_BEFORE</th>\n",
       "      <th>DataCenterRevenue</th>\n",
       "    </tr>\n",
       "  </thead>\n",
       "  <tbody>\n",
       "    <tr>\n",
       "      <td>77</td>\n",
       "      <td>203711281</td>\n",
       "      <td>COMMERCIAL</td>\n",
       "      <td>Manufacturing</td>\n",
       "      <td>Other</td>\n",
       "      <td>20162</td>\n",
       "      <td>0</td>\n",
       "      <td>0</td>\n",
       "      <td>0</td>\n",
       "      <td>0</td>\n",
       "      <td>5</td>\n",
       "      <td>11</td>\n",
       "      <td>9674818</td>\n",
       "      <td>0</td>\n",
       "      <td>302453</td>\n",
       "      <td>0.0</td>\n",
       "      <td>0</td>\n",
       "      <td>1</td>\n",
       "      <td>0.0</td>\n",
       "      <td>0</td>\n",
       "      <td>0.011625</td>\n",
       "    </tr>\n",
       "    <tr>\n",
       "      <td>88</td>\n",
       "      <td>203715197</td>\n",
       "      <td>COMMERCIAL</td>\n",
       "      <td>Manufacturing</td>\n",
       "      <td>Service Provider Routing</td>\n",
       "      <td>20151</td>\n",
       "      <td>0</td>\n",
       "      <td>0</td>\n",
       "      <td>0</td>\n",
       "      <td>0</td>\n",
       "      <td>0</td>\n",
       "      <td>0</td>\n",
       "      <td>12182672</td>\n",
       "      <td>0</td>\n",
       "      <td>326270</td>\n",
       "      <td>0.0</td>\n",
       "      <td>0</td>\n",
       "      <td>1</td>\n",
       "      <td>0.0</td>\n",
       "      <td>0</td>\n",
       "      <td>0.340023</td>\n",
       "    </tr>\n",
       "    <tr>\n",
       "      <td>1379</td>\n",
       "      <td>203786184</td>\n",
       "      <td>COMMERCIAL</td>\n",
       "      <td>Professional Services</td>\n",
       "      <td>Other</td>\n",
       "      <td>20161</td>\n",
       "      <td>0</td>\n",
       "      <td>0</td>\n",
       "      <td>0</td>\n",
       "      <td>0</td>\n",
       "      <td>4</td>\n",
       "      <td>7</td>\n",
       "      <td>2492817</td>\n",
       "      <td>0</td>\n",
       "      <td>95619</td>\n",
       "      <td>0.0</td>\n",
       "      <td>0</td>\n",
       "      <td>1</td>\n",
       "      <td>0.0</td>\n",
       "      <td>0</td>\n",
       "      <td>0.000000</td>\n",
       "    </tr>\n",
       "    <tr>\n",
       "      <td>1380</td>\n",
       "      <td>203786184</td>\n",
       "      <td>COMMERCIAL</td>\n",
       "      <td>Professional Services</td>\n",
       "      <td>Other</td>\n",
       "      <td>20162</td>\n",
       "      <td>0</td>\n",
       "      <td>0</td>\n",
       "      <td>0</td>\n",
       "      <td>0</td>\n",
       "      <td>5</td>\n",
       "      <td>7</td>\n",
       "      <td>2492817</td>\n",
       "      <td>0</td>\n",
       "      <td>117106</td>\n",
       "      <td>0.0</td>\n",
       "      <td>0</td>\n",
       "      <td>1</td>\n",
       "      <td>0.0</td>\n",
       "      <td>0</td>\n",
       "      <td>0.000000</td>\n",
       "    </tr>\n",
       "    <tr>\n",
       "      <td>1963</td>\n",
       "      <td>238384110</td>\n",
       "      <td>COMMERCIAL</td>\n",
       "      <td>Manufacturing</td>\n",
       "      <td>Enterprise Routing</td>\n",
       "      <td>20171</td>\n",
       "      <td>0</td>\n",
       "      <td>0</td>\n",
       "      <td>0</td>\n",
       "      <td>0</td>\n",
       "      <td>4</td>\n",
       "      <td>7</td>\n",
       "      <td>471945</td>\n",
       "      <td>0</td>\n",
       "      <td>237022</td>\n",
       "      <td>0.0</td>\n",
       "      <td>0</td>\n",
       "      <td>1</td>\n",
       "      <td>0.0</td>\n",
       "      <td>0</td>\n",
       "      <td>0.000000</td>\n",
       "    </tr>\n",
       "  </tbody>\n",
       "</table>\n",
       "</div>"
      ],
      "text/plain": [
       "      SAVM_GROUP_ID SAVM_SCMS_NAME SAVM_VERTICAL_MARKET_SEGMENT  \\\n",
       "77        203711281     COMMERCIAL                Manufacturing   \n",
       "88        203715197     COMMERCIAL                Manufacturing   \n",
       "1379      203786184     COMMERCIAL        Professional Services   \n",
       "1380      203786184     COMMERCIAL        Professional Services   \n",
       "1963      238384110     COMMERCIAL                Manufacturing   \n",
       "\n",
       "               BUSINESS_ENTITY  FISCAL_QUARTER_ID  ACTUAL_BOOKINGS  \\\n",
       "77                       Other              20162                0   \n",
       "88    Service Provider Routing              20151                0   \n",
       "1379                     Other              20161                0   \n",
       "1380                     Other              20162                0   \n",
       "1963        Enterprise Routing              20171                0   \n",
       "\n",
       "      LIST_PRICE  QUANTITY  EY_FLAG  TENURE  PENETRATION  CUMM_BOOK_SAVM  \\\n",
       "77             0         0        0       5           11         9674818   \n",
       "88             0         0        0       0            0        12182672   \n",
       "1379           0         0        0       4            7         2492817   \n",
       "1380           0         0        0       5            7         2492817   \n",
       "1963           0         0        0       4            7          471945   \n",
       "\n",
       "      CUMM_BOOK_SAVM_ARC  AVG_REVENUE_VERT  DISCOUNT  AVG_QUR_BOOKINGS  SITES  \\\n",
       "77                     0            302453       0.0                 0      1   \n",
       "88                     0            326270       0.0                 0      1   \n",
       "1379                   0             95619       0.0                 0      1   \n",
       "1380                   0            117106       0.0                 0      1   \n",
       "1963                   0            237022       0.0                 0      1   \n",
       "\n",
       "      ACTIVE_3YEARS  BOUGHT_EY_BEFORE  DataCenterRevenue  \n",
       "77              0.0                 0           0.011625  \n",
       "88              0.0                 0           0.340023  \n",
       "1379            0.0                 0           0.000000  \n",
       "1380            0.0                 0           0.000000  \n",
       "1963            0.0                 0           0.000000  "
      ]
     },
     "execution_count": 33,
     "metadata": {},
     "output_type": "execute_result"
    }
   ],
   "source": [
    "df_1.head()"
   ]
  },
  {
   "cell_type": "code",
   "execution_count": 34,
   "metadata": {},
   "outputs": [
    {
     "data": {
      "text/plain": [
       "(506, 20)"
      ]
     },
     "execution_count": 34,
     "metadata": {},
     "output_type": "execute_result"
    }
   ],
   "source": [
    "df_1[((df_1['BUSINESS_ENTITY']=='Computing Systems') | (df_1['BUSINESS_ENTITY']=='Data Center Networking')) & (df_1['EY_FLAG']==1)].shape"
   ]
  },
  {
   "cell_type": "code",
   "execution_count": 35,
   "metadata": {},
   "outputs": [],
   "source": [
    "df_1['BUSINESS_ENTITY'] = np.where ( ((df_1['BUSINESS_ENTITY']=='Computing Systems') | (df_1['BUSINESS_ENTITY']=='Data Center Networking')) & (df_1['EY_FLAG']==1),'Reco_Prod',df_1['BUSINESS_ENTITY'])"
   ]
  },
  {
   "cell_type": "code",
   "execution_count": 36,
   "metadata": {},
   "outputs": [
    {
     "data": {
      "text/plain": [
       "171"
      ]
     },
     "execution_count": 36,
     "metadata": {},
     "output_type": "execute_result"
    }
   ],
   "source": [
    "df_1.SAVM_GROUP_ID.nunique()"
   ]
  },
  {
   "cell_type": "code",
   "execution_count": 37,
   "metadata": {},
   "outputs": [],
   "source": [
    "# df_1.drop(['ARCHITECTURE_BE'],axis=1,inplace=True)"
   ]
  },
  {
   "cell_type": "code",
   "execution_count": 38,
   "metadata": {},
   "outputs": [],
   "source": [
    "def remove_trailing(x):\n",
    "    x.sort_values('FISCAL_QUARTER_ID',inplace=True)\n",
    "    x.reset_index(inplace=True,drop=True)\n",
    "    i=(x.BUSINESS_ENTITY.values == 'Reco_Prod').argmax()\n",
    "    df_temp=x.head(i+1)\n",
    "    return df_temp\n",
    "    "
   ]
  },
  {
   "cell_type": "code",
   "execution_count": 39,
   "metadata": {},
   "outputs": [],
   "source": [
    "savm_ids=df_1.SAVM_GROUP_ID.unique().tolist()"
   ]
  },
  {
   "cell_type": "code",
   "execution_count": 40,
   "metadata": {},
   "outputs": [
    {
     "data": {
      "text/plain": [
       "171"
      ]
     },
     "execution_count": 40,
     "metadata": {},
     "output_type": "execute_result"
    }
   ],
   "source": [
    "len(savm_ids)"
   ]
  },
  {
   "cell_type": "code",
   "execution_count": 41,
   "metadata": {},
   "outputs": [],
   "source": [
    "l_df=[]"
   ]
  },
  {
   "cell_type": "code",
   "execution_count": 42,
   "metadata": {},
   "outputs": [
    {
     "name": "stdout",
     "output_type": "stream",
     "text": [
      "[203711281]\n",
      "[203715197]\n",
      "[203786184]\n",
      "[238384110]\n",
      "[203811794]\n",
      "[203738952]\n",
      "[203805558]\n",
      "[203731602]\n",
      "[203743287]\n",
      "[203771886]\n",
      "[203804029]\n",
      "[203893780]\n",
      "[203900225]\n",
      "[229243846]\n",
      "[203685109]\n",
      "[203688395]\n",
      "[203729778]\n",
      "[203778295]\n",
      "[203840348]\n",
      "[203876310]\n",
      "[203894195]\n",
      "[203901826]\n",
      "[207467425]\n",
      "[210348525]\n",
      "[213090026]\n",
      "[253432641]\n",
      "[203771540]\n",
      "[203857386]\n",
      "[253394317]\n",
      "[254834113]\n",
      "[257222636]\n",
      "[270467802]\n",
      "[283349746]\n",
      "[283506606]\n",
      "[283535544]\n",
      "[203729711]\n",
      "[203761500]\n",
      "[203799393]\n",
      "[203886994]\n",
      "[208057335]\n",
      "[203778788]\n",
      "[203685075]\n",
      "[203782597]\n",
      "[203893779]\n",
      "[283390025]\n",
      "[203801835]\n",
      "[203841554]\n",
      "[203721341]\n",
      "[203733148]\n",
      "[203801799]\n",
      "[203894396]\n",
      "[277975461]\n",
      "[203731715]\n",
      "[203876747]\n",
      "[203893701]\n",
      "[203894557]\n",
      "[276965252]\n",
      "[203848711]\n",
      "[203883059]\n",
      "[268119064]\n",
      "[203801807]\n",
      "[203801820]\n",
      "[208637723]\n",
      "[208057352]\n",
      "[222127765]\n",
      "[281559040]\n",
      "[281618740]\n",
      "[203899291]\n",
      "[283392657]\n",
      "[208057324]\n",
      "[283465951]\n",
      "[276521303]\n",
      "[203790841]\n",
      "[203685101]\n",
      "[203801814]\n",
      "[203842876]\n",
      "[203801817]\n",
      "[203751115]\n",
      "[203882786]\n",
      "[203781663]\n",
      "[203786768]\n",
      "[203799378]\n",
      "[235494000]\n",
      "[277183293]\n",
      "[203899406]\n",
      "[203894055]\n",
      "[203748877]\n",
      "[203875320]\n",
      "[203684886]\n",
      "[203795200]\n",
      "[238384385]\n",
      "[203743707]\n",
      "[203744004]\n",
      "[203799440]\n",
      "[203815812]\n",
      "[203864166]\n",
      "[203889179]\n",
      "[203750498]\n",
      "[203688399]\n",
      "[203893786]\n",
      "[203711810]\n",
      "[283497174]\n",
      "[203734025]\n",
      "[203798692]\n",
      "[203777575]\n",
      "[232001928]\n",
      "[203706755]\n",
      "[203745016]\n",
      "[203892264]\n",
      "[283468672]\n",
      "[203893694]\n",
      "[214420096]\n",
      "[203712234]\n",
      "[203895666]\n",
      "[203855764]\n",
      "[283402650]\n",
      "[222059241]\n",
      "[203857318]\n",
      "[283351046]\n",
      "[203810347]\n",
      "[203896516]\n",
      "[273800275]\n",
      "[203719538]\n",
      "[283517459]\n",
      "[211442226]\n",
      "[203893985]\n",
      "[203688166]\n",
      "[203695877]\n",
      "[203827903]\n",
      "[207817575]\n",
      "[203691097]\n",
      "[203849235]\n",
      "[203884948]\n",
      "[208630127]\n",
      "[203799549]\n",
      "[203848705]\n",
      "[203694176]\n",
      "[203706654]\n",
      "[203799435]\n",
      "[203854894]\n",
      "[203888023]\n",
      "[203893824]\n",
      "[203897007]\n",
      "[203898066]\n",
      "[208637690]\n",
      "[254663665]\n",
      "[203700789]\n",
      "[203700860]\n",
      "[203727728]\n",
      "[238383512]\n",
      "[253427361]\n",
      "[203895896]\n",
      "[203888043]\n",
      "[203785810]\n",
      "[203862217]\n",
      "[203899141]\n",
      "[283421635]\n",
      "[267208539]\n",
      "[276744533]\n",
      "[203776068]\n",
      "[203798709]\n",
      "[203729646]\n",
      "[203684841]\n",
      "[205775271]\n",
      "[208251727]\n",
      "[203755211]\n",
      "[281527951]\n",
      "[203743582]\n",
      "[203791717]\n",
      "[228971618]\n",
      "[283555746]\n"
     ]
    }
   ],
   "source": [
    "for i in savm_ids:\n",
    "    df_temp=df_1.loc[df_1.SAVM_GROUP_ID==i]\n",
    "    print(df_temp.SAVM_GROUP_ID.unique())\n",
    "    l_df.append(remove_trailing(df_temp))"
   ]
  },
  {
   "cell_type": "code",
   "execution_count": 43,
   "metadata": {},
   "outputs": [],
   "source": [
    "df_revised=pd.concat(l_df,axis=0)"
   ]
  },
  {
   "cell_type": "code",
   "execution_count": 44,
   "metadata": {},
   "outputs": [],
   "source": [
    "df_revised.to_csv('df_revised_without_trailing_DataCenter.csv')"
   ]
  },
  {
   "cell_type": "code",
   "execution_count": 45,
   "metadata": {},
   "outputs": [],
   "source": [
    "df_revised=pd.read_csv('df_revised_without_trailing_DataCenter.csv')"
   ]
  },
  {
   "cell_type": "code",
   "execution_count": 46,
   "metadata": {},
   "outputs": [],
   "source": [
    "def generate_security_revenue(row):\n",
    "    if (row['BUSINESS_ENTITY'] == 'Computing Systems') | (row['BUSINESS_ENTITY'] == 'Data Center Networking') | (row['BUSINESS_ENTITY'] == 'Reco_Prod'):\n",
    "        return row['ACTUAL_BOOKINGS']\n",
    "    else :\n",
    "        return 0"
   ]
  },
  {
   "cell_type": "code",
   "execution_count": 47,
   "metadata": {},
   "outputs": [],
   "source": [
    "def generate_cumilative_features(df_temp):\n",
    "    df_temp['DataCenter_Revenue']=df_temp.apply (lambda row: generate_security_revenue(row), axis=1)\n",
    "    df_temp_1=pd.DataFrame(df_temp.groupby(['SAVM_GROUP_ID','FISCAL_QUARTER_ID'])['DataCenter_Revenue'].sum()).reset_index()\n",
    "    df_temp_1['DataCenter_Revenue_cumulative']=df_temp_1['DataCenter_Revenue'].cumsum()\n",
    "    df_temp_1['Year']=df_temp_1['FISCAL_QUARTER_ID'].astype(str).str[:4]\n",
    "    df_temp_2=pd.DataFrame(df_temp_1.groupby('Year')['DataCenter_Revenue'].sum()).reset_index()\n",
    "    df_temp_2.columns=['Year','DataCenter_Revenue_cumulative_last_year']\n",
    "    df_temp_2['DataCenter_Revenue_cumulative_last_year']=df_temp_2['DataCenter_Revenue_cumulative_last_year'].shift(1)\n",
    "    df_temp_3=df_temp_1.merge(df_temp_2,on='Year',how='left')\n",
    "    df_temp_3.drop(['DataCenter_Revenue','Year'],axis=1,inplace=True)\n",
    "    df_temp_3['DataCenter_Revenue_cumulative_last_year'].fillna(0,inplace=True)\n",
    "    df_final=df_temp.merge(df_temp_3,on=['SAVM_GROUP_ID','FISCAL_QUARTER_ID'],how='left')\n",
    "    df_final.drop('DataCenter_Revenue',axis=1,inplace=True)\n",
    "    return df_final"
   ]
  },
  {
   "cell_type": "code",
   "execution_count": 48,
   "metadata": {},
   "outputs": [],
   "source": [
    "df_revised_new=df_revised.groupby('SAVM_GROUP_ID').apply(lambda x: generate_cumilative_features(x))"
   ]
  },
  {
   "cell_type": "code",
   "execution_count": 49,
   "metadata": {},
   "outputs": [
    {
     "data": {
      "text/plain": [
       "(22097, 23)"
      ]
     },
     "execution_count": 49,
     "metadata": {},
     "output_type": "execute_result"
    }
   ],
   "source": [
    "df_revised_new.shape"
   ]
  },
  {
   "cell_type": "code",
   "execution_count": 50,
   "metadata": {},
   "outputs": [
    {
     "data": {
      "text/plain": [
       "(22097, 21)"
      ]
     },
     "execution_count": 50,
     "metadata": {},
     "output_type": "execute_result"
    }
   ],
   "source": [
    "df_revised.shape"
   ]
  },
  {
   "cell_type": "code",
   "execution_count": 51,
   "metadata": {},
   "outputs": [],
   "source": [
    "df_1=df_revised_new.copy()"
   ]
  },
  {
   "cell_type": "code",
   "execution_count": 52,
   "metadata": {},
   "outputs": [
    {
     "data": {
      "text/html": [
       "<div>\n",
       "<style scoped>\n",
       "    .dataframe tbody tr th:only-of-type {\n",
       "        vertical-align: middle;\n",
       "    }\n",
       "\n",
       "    .dataframe tbody tr th {\n",
       "        vertical-align: top;\n",
       "    }\n",
       "\n",
       "    .dataframe thead th {\n",
       "        text-align: right;\n",
       "    }\n",
       "</style>\n",
       "<table border=\"1\" class=\"dataframe\">\n",
       "  <thead>\n",
       "    <tr style=\"text-align: right;\">\n",
       "      <th></th>\n",
       "      <th></th>\n",
       "      <th>Unnamed: 0</th>\n",
       "      <th>SAVM_GROUP_ID</th>\n",
       "      <th>SAVM_SCMS_NAME</th>\n",
       "      <th>SAVM_VERTICAL_MARKET_SEGMENT</th>\n",
       "      <th>BUSINESS_ENTITY</th>\n",
       "      <th>FISCAL_QUARTER_ID</th>\n",
       "      <th>ACTUAL_BOOKINGS</th>\n",
       "      <th>LIST_PRICE</th>\n",
       "      <th>QUANTITY</th>\n",
       "      <th>EY_FLAG</th>\n",
       "      <th>...</th>\n",
       "      <th>CUMM_BOOK_SAVM_ARC</th>\n",
       "      <th>AVG_REVENUE_VERT</th>\n",
       "      <th>DISCOUNT</th>\n",
       "      <th>AVG_QUR_BOOKINGS</th>\n",
       "      <th>SITES</th>\n",
       "      <th>ACTIVE_3YEARS</th>\n",
       "      <th>BOUGHT_EY_BEFORE</th>\n",
       "      <th>DataCenterRevenue</th>\n",
       "      <th>DataCenter_Revenue_cumulative</th>\n",
       "      <th>DataCenter_Revenue_cumulative_last_year</th>\n",
       "    </tr>\n",
       "    <tr>\n",
       "      <th>SAVM_GROUP_ID</th>\n",
       "      <th></th>\n",
       "      <th></th>\n",
       "      <th></th>\n",
       "      <th></th>\n",
       "      <th></th>\n",
       "      <th></th>\n",
       "      <th></th>\n",
       "      <th></th>\n",
       "      <th></th>\n",
       "      <th></th>\n",
       "      <th></th>\n",
       "      <th></th>\n",
       "      <th></th>\n",
       "      <th></th>\n",
       "      <th></th>\n",
       "      <th></th>\n",
       "      <th></th>\n",
       "      <th></th>\n",
       "      <th></th>\n",
       "      <th></th>\n",
       "      <th></th>\n",
       "      <th></th>\n",
       "    </tr>\n",
       "  </thead>\n",
       "  <tbody>\n",
       "    <tr>\n",
       "      <td rowspan=\"5\" valign=\"top\">203684841</td>\n",
       "      <td>0</td>\n",
       "      <td>0</td>\n",
       "      <td>203684841</td>\n",
       "      <td>ENTERPRISE</td>\n",
       "      <td>Retail</td>\n",
       "      <td>Services TSS_L1</td>\n",
       "      <td>20151</td>\n",
       "      <td>692957</td>\n",
       "      <td>997169</td>\n",
       "      <td>101</td>\n",
       "      <td>0</td>\n",
       "      <td>...</td>\n",
       "      <td>708815</td>\n",
       "      <td>341845</td>\n",
       "      <td>0.3</td>\n",
       "      <td>692957</td>\n",
       "      <td>2</td>\n",
       "      <td>0.0</td>\n",
       "      <td>0</td>\n",
       "      <td>0.00228</td>\n",
       "      <td>2997</td>\n",
       "      <td>0.0</td>\n",
       "    </tr>\n",
       "    <tr>\n",
       "      <td>1</td>\n",
       "      <td>1</td>\n",
       "      <td>203684841</td>\n",
       "      <td>ENTERPRISE</td>\n",
       "      <td>Retail</td>\n",
       "      <td>Security</td>\n",
       "      <td>20151</td>\n",
       "      <td>25772</td>\n",
       "      <td>117500</td>\n",
       "      <td>50000</td>\n",
       "      <td>0</td>\n",
       "      <td>...</td>\n",
       "      <td>25772</td>\n",
       "      <td>341845</td>\n",
       "      <td>0.8</td>\n",
       "      <td>25772</td>\n",
       "      <td>2</td>\n",
       "      <td>0.0</td>\n",
       "      <td>0</td>\n",
       "      <td>0.00228</td>\n",
       "      <td>2997</td>\n",
       "      <td>0.0</td>\n",
       "    </tr>\n",
       "    <tr>\n",
       "      <td>2</td>\n",
       "      <td>2</td>\n",
       "      <td>203684841</td>\n",
       "      <td>ENTERPRISE</td>\n",
       "      <td>Retail</td>\n",
       "      <td>Enterprise Switching</td>\n",
       "      <td>20151</td>\n",
       "      <td>17560</td>\n",
       "      <td>0</td>\n",
       "      <td>75</td>\n",
       "      <td>0</td>\n",
       "      <td>...</td>\n",
       "      <td>17560</td>\n",
       "      <td>341845</td>\n",
       "      <td>-17560.0</td>\n",
       "      <td>17560</td>\n",
       "      <td>2</td>\n",
       "      <td>0.0</td>\n",
       "      <td>0</td>\n",
       "      <td>0.00228</td>\n",
       "      <td>2997</td>\n",
       "      <td>0.0</td>\n",
       "    </tr>\n",
       "    <tr>\n",
       "      <td>3</td>\n",
       "      <td>3</td>\n",
       "      <td>203684841</td>\n",
       "      <td>ENTERPRISE</td>\n",
       "      <td>Retail</td>\n",
       "      <td>Computing Systems</td>\n",
       "      <td>20151</td>\n",
       "      <td>2911</td>\n",
       "      <td>7464</td>\n",
       "      <td>10</td>\n",
       "      <td>0</td>\n",
       "      <td>...</td>\n",
       "      <td>2911</td>\n",
       "      <td>341845</td>\n",
       "      <td>0.6</td>\n",
       "      <td>2911</td>\n",
       "      <td>2</td>\n",
       "      <td>0.0</td>\n",
       "      <td>0</td>\n",
       "      <td>0.00228</td>\n",
       "      <td>2997</td>\n",
       "      <td>0.0</td>\n",
       "    </tr>\n",
       "    <tr>\n",
       "      <td>4</td>\n",
       "      <td>4</td>\n",
       "      <td>203684841</td>\n",
       "      <td>ENTERPRISE</td>\n",
       "      <td>Retail</td>\n",
       "      <td>Enterprise Routing</td>\n",
       "      <td>20151</td>\n",
       "      <td>228243</td>\n",
       "      <td>522425</td>\n",
       "      <td>940</td>\n",
       "      <td>0</td>\n",
       "      <td>...</td>\n",
       "      <td>228243</td>\n",
       "      <td>341845</td>\n",
       "      <td>0.6</td>\n",
       "      <td>228243</td>\n",
       "      <td>2</td>\n",
       "      <td>0.0</td>\n",
       "      <td>0</td>\n",
       "      <td>0.00228</td>\n",
       "      <td>2997</td>\n",
       "      <td>0.0</td>\n",
       "    </tr>\n",
       "  </tbody>\n",
       "</table>\n",
       "<p>5 rows × 23 columns</p>\n",
       "</div>"
      ],
      "text/plain": [
       "                 Unnamed: 0  SAVM_GROUP_ID SAVM_SCMS_NAME  \\\n",
       "SAVM_GROUP_ID                                               \n",
       "203684841     0           0      203684841     ENTERPRISE   \n",
       "              1           1      203684841     ENTERPRISE   \n",
       "              2           2      203684841     ENTERPRISE   \n",
       "              3           3      203684841     ENTERPRISE   \n",
       "              4           4      203684841     ENTERPRISE   \n",
       "\n",
       "                SAVM_VERTICAL_MARKET_SEGMENT       BUSINESS_ENTITY  \\\n",
       "SAVM_GROUP_ID                                                        \n",
       "203684841     0                       Retail       Services TSS_L1   \n",
       "              1                       Retail              Security   \n",
       "              2                       Retail  Enterprise Switching   \n",
       "              3                       Retail     Computing Systems   \n",
       "              4                       Retail    Enterprise Routing   \n",
       "\n",
       "                 FISCAL_QUARTER_ID  ACTUAL_BOOKINGS  LIST_PRICE  QUANTITY  \\\n",
       "SAVM_GROUP_ID                                                               \n",
       "203684841     0              20151           692957      997169       101   \n",
       "              1              20151            25772      117500     50000   \n",
       "              2              20151            17560           0        75   \n",
       "              3              20151             2911        7464        10   \n",
       "              4              20151           228243      522425       940   \n",
       "\n",
       "                 EY_FLAG  ...  CUMM_BOOK_SAVM_ARC  AVG_REVENUE_VERT  DISCOUNT  \\\n",
       "SAVM_GROUP_ID             ...                                                   \n",
       "203684841     0        0  ...              708815            341845       0.3   \n",
       "              1        0  ...               25772            341845       0.8   \n",
       "              2        0  ...               17560            341845  -17560.0   \n",
       "              3        0  ...                2911            341845       0.6   \n",
       "              4        0  ...              228243            341845       0.6   \n",
       "\n",
       "                 AVG_QUR_BOOKINGS  SITES  ACTIVE_3YEARS  BOUGHT_EY_BEFORE  \\\n",
       "SAVM_GROUP_ID                                                               \n",
       "203684841     0            692957      2            0.0                 0   \n",
       "              1             25772      2            0.0                 0   \n",
       "              2             17560      2            0.0                 0   \n",
       "              3              2911      2            0.0                 0   \n",
       "              4            228243      2            0.0                 0   \n",
       "\n",
       "                 DataCenterRevenue  DataCenter_Revenue_cumulative  \\\n",
       "SAVM_GROUP_ID                                                       \n",
       "203684841     0            0.00228                           2997   \n",
       "              1            0.00228                           2997   \n",
       "              2            0.00228                           2997   \n",
       "              3            0.00228                           2997   \n",
       "              4            0.00228                           2997   \n",
       "\n",
       "                 DataCenter_Revenue_cumulative_last_year  \n",
       "SAVM_GROUP_ID                                             \n",
       "203684841     0                                      0.0  \n",
       "              1                                      0.0  \n",
       "              2                                      0.0  \n",
       "              3                                      0.0  \n",
       "              4                                      0.0  \n",
       "\n",
       "[5 rows x 23 columns]"
      ]
     },
     "execution_count": 52,
     "metadata": {},
     "output_type": "execute_result"
    }
   ],
   "source": [
    "df_1.head()"
   ]
  },
  {
   "cell_type": "code",
   "execution_count": 53,
   "metadata": {},
   "outputs": [],
   "source": [
    "df_1.drop(['SAVM_GROUP_ID','Unnamed: 0'],axis=1,inplace=True)"
   ]
  },
  {
   "cell_type": "code",
   "execution_count": 54,
   "metadata": {},
   "outputs": [],
   "source": [
    "df_1.reset_index(inplace=True)"
   ]
  },
  {
   "cell_type": "code",
   "execution_count": 55,
   "metadata": {},
   "outputs": [],
   "source": [
    "df_1.drop('level_1',axis=1,inplace=True)"
   ]
  },
  {
   "cell_type": "code",
   "execution_count": 56,
   "metadata": {},
   "outputs": [
    {
     "data": {
      "text/plain": [
       "['SAVM_GROUP_ID',\n",
       " 'SAVM_SCMS_NAME',\n",
       " 'SAVM_VERTICAL_MARKET_SEGMENT',\n",
       " 'BUSINESS_ENTITY',\n",
       " 'FISCAL_QUARTER_ID',\n",
       " 'ACTUAL_BOOKINGS',\n",
       " 'LIST_PRICE',\n",
       " 'QUANTITY',\n",
       " 'EY_FLAG',\n",
       " 'TENURE',\n",
       " 'PENETRATION',\n",
       " 'CUMM_BOOK_SAVM',\n",
       " 'CUMM_BOOK_SAVM_ARC',\n",
       " 'AVG_REVENUE_VERT',\n",
       " 'DISCOUNT',\n",
       " 'AVG_QUR_BOOKINGS',\n",
       " 'SITES',\n",
       " 'ACTIVE_3YEARS',\n",
       " 'BOUGHT_EY_BEFORE',\n",
       " 'DataCenterRevenue',\n",
       " 'DataCenter_Revenue_cumulative',\n",
       " 'DataCenter_Revenue_cumulative_last_year']"
      ]
     },
     "execution_count": 56,
     "metadata": {},
     "output_type": "execute_result"
    }
   ],
   "source": [
    "df_1.columns.tolist()"
   ]
  },
  {
   "cell_type": "code",
   "execution_count": 57,
   "metadata": {},
   "outputs": [],
   "source": [
    "df_1.loc[df_1.LIST_PRICE==0,'DISCOUNT']=0"
   ]
  },
  {
   "cell_type": "code",
   "execution_count": 58,
   "metadata": {},
   "outputs": [],
   "source": [
    "#df_1.BUSINESS_ENTITY.unique()"
   ]
  },
  {
   "cell_type": "code",
   "execution_count": 59,
   "metadata": {},
   "outputs": [],
   "source": [
    "df_DataCenter_First = pd.DataFrame(df_1.loc[(df_1.BUSINESS_ENTITY=='Computing Systems')| (df_1.BUSINESS_ENTITY=='Data Center Networking') | (df_1.BUSINESS_ENTITY=='Reco_Prod'),:].groupby(['SAVM_GROUP_ID'])['TENURE'].min())"
   ]
  },
  {
   "cell_type": "code",
   "execution_count": 60,
   "metadata": {},
   "outputs": [],
   "source": [
    "#df_Security_First.SAVM_GROUP_ID.nunique()"
   ]
  },
  {
   "cell_type": "code",
   "execution_count": 61,
   "metadata": {},
   "outputs": [],
   "source": [
    "df_DataCenter_First.reset_index(drop=False,inplace=True)"
   ]
  },
  {
   "cell_type": "code",
   "execution_count": 62,
   "metadata": {},
   "outputs": [],
   "source": [
    "df_DataCenter_First.columns = ['SAVM_GROUP_ID','DataCenter_TENURE']"
   ]
  },
  {
   "cell_type": "code",
   "execution_count": 63,
   "metadata": {},
   "outputs": [
    {
     "data": {
      "text/plain": [
       "171"
      ]
     },
     "execution_count": 63,
     "metadata": {},
     "output_type": "execute_result"
    }
   ],
   "source": [
    "df_DataCenter_First.SAVM_GROUP_ID.nunique()"
   ]
  },
  {
   "cell_type": "code",
   "execution_count": 64,
   "metadata": {},
   "outputs": [],
   "source": [
    "df_1 = df_1.merge(df_DataCenter_First,on='SAVM_GROUP_ID',how='inner')"
   ]
  },
  {
   "cell_type": "code",
   "execution_count": 65,
   "metadata": {},
   "outputs": [],
   "source": [
    "df_1['DataCenter_TENURE'] = df_1['TENURE'] - df_1['DataCenter_TENURE']"
   ]
  },
  {
   "cell_type": "code",
   "execution_count": 66,
   "metadata": {},
   "outputs": [],
   "source": [
    "df_1.loc[df_1.DataCenter_TENURE<=0,'DataCenter_TENURE'] = 0"
   ]
  },
  {
   "cell_type": "code",
   "execution_count": 67,
   "metadata": {},
   "outputs": [],
   "source": [
    "cat_columns = ['SAVM_VERTICAL_MARKET_SEGMENT','BUSINESS_ENTITY','SAVM_SCMS_NAME']\n",
    "int_columns = ['SAVM_GROUP_ID', 'FISCAL_QUARTER_ID','ACTUAL_BOOKINGS','QUANTITY','TENURE','PENETRATION','CUMM_BOOK_SAVM',\n",
    "               'CUMM_BOOK_SAVM_ARC','AVG_REVENUE_VERT','DISCOUNT',\n",
    "       'AVG_QUR_BOOKINGS', 'SITES', 'ACTIVE_3YEARS', 'BOUGHT_EY_BEFORE',\n",
    "       'DataCenterRevenue','DataCenter_Revenue_cumulative','DataCenter_Revenue_cumulative_last_year','DataCenter_TENURE']"
   ]
  },
  {
   "cell_type": "code",
   "execution_count": 68,
   "metadata": {},
   "outputs": [],
   "source": [
    "for column in df_1[cat_columns]:\n",
    "    df_1[column].fillna(df_1[column].mode()[0], inplace=True)"
   ]
  },
  {
   "cell_type": "code",
   "execution_count": 69,
   "metadata": {},
   "outputs": [],
   "source": [
    "for column in df_1[int_columns]:\n",
    "    df_1[column].fillna(df_1[column].median(), inplace=True)"
   ]
  },
  {
   "cell_type": "code",
   "execution_count": 70,
   "metadata": {},
   "outputs": [
    {
     "data": {
      "text/plain": [
       "array([20121, 20122, 20123, 20124, 20131, 20132, 20133, 20134, 20141,\n",
       "       20142, 20143, 20144, 20151, 20152, 20153, 20154, 20161, 20162,\n",
       "       20163, 20164, 20171, 20172, 20173, 20174, 20181, 20182, 20183,\n",
       "       20184, 20191, 20192, 20193, 20194, 20201, 20202, 20203],\n",
       "      dtype=int64)"
      ]
     },
     "execution_count": 70,
     "metadata": {},
     "output_type": "execute_result"
    }
   ],
   "source": [
    "np.sort(df_1['FISCAL_QUARTER_ID'].unique())"
   ]
  },
  {
   "cell_type": "code",
   "execution_count": 71,
   "metadata": {},
   "outputs": [],
   "source": [
    "#df_1.drop('SAVM_SCMS_NAME',axis=1,inplace=True)"
   ]
  },
  {
   "cell_type": "code",
   "execution_count": 72,
   "metadata": {},
   "outputs": [],
   "source": [
    "#df_1.head()"
   ]
  },
  {
   "cell_type": "code",
   "execution_count": 73,
   "metadata": {},
   "outputs": [],
   "source": [
    "df_1['FISCAL_QUARTER_ID'] = df_1['FISCAL_QUARTER_ID'].astype(str)\n",
    "df_1['DT'] = df_1['FISCAL_QUARTER_ID'].str[0:4] +str(0)+df_1['FISCAL_QUARTER_ID'].str[4] \n",
    "df_1['DT'] = df_1['DT'].astype(int)\n",
    "del df_1['FISCAL_QUARTER_ID']\n",
    "df_1['year_quarter'] = df_1['DT']\n",
    "del df_1['DT']"
   ]
  },
  {
   "cell_type": "code",
   "execution_count": 74,
   "metadata": {},
   "outputs": [],
   "source": [
    "df_2 = df_1[['SAVM_GROUP_ID','year_quarter','BUSINESS_ENTITY','CUMM_BOOK_SAVM_ARC']]"
   ]
  },
  {
   "cell_type": "code",
   "execution_count": 75,
   "metadata": {},
   "outputs": [],
   "source": [
    "df_temp=pd.DataFrame(df_1.loc[df_1.BUSINESS_ENTITY=='Reco_Prod'].groupby('year_quarter')['SAVM_GROUP_ID'].nunique()).reset_index()"
   ]
  },
  {
   "cell_type": "code",
   "execution_count": 76,
   "metadata": {},
   "outputs": [],
   "source": [
    "df_temp.columns=['year_quarter','SAVM_count']"
   ]
  },
  {
   "cell_type": "code",
   "execution_count": 77,
   "metadata": {},
   "outputs": [],
   "source": [
    "df_temp['year']=df_temp['year_quarter'].astype('str').str[:4]"
   ]
  },
  {
   "cell_type": "code",
   "execution_count": 78,
   "metadata": {},
   "outputs": [],
   "source": [
    "df_temp_1=pd.DataFrame(df_temp.groupby('year')['SAVM_count'].sum()).reset_index()"
   ]
  },
  {
   "cell_type": "code",
   "execution_count": 79,
   "metadata": {},
   "outputs": [],
   "source": [
    "df_temp_1['shifted_savm_count']=df_temp_1['SAVM_count'].shift(1)"
   ]
  },
  {
   "cell_type": "code",
   "execution_count": 80,
   "metadata": {},
   "outputs": [],
   "source": [
    "df_temp_final=df_temp.merge(df_temp_1,on='year',how='left')"
   ]
  },
  {
   "cell_type": "code",
   "execution_count": 81,
   "metadata": {},
   "outputs": [
    {
     "data": {
      "text/html": [
       "<div>\n",
       "<style scoped>\n",
       "    .dataframe tbody tr th:only-of-type {\n",
       "        vertical-align: middle;\n",
       "    }\n",
       "\n",
       "    .dataframe tbody tr th {\n",
       "        vertical-align: top;\n",
       "    }\n",
       "\n",
       "    .dataframe thead th {\n",
       "        text-align: right;\n",
       "    }\n",
       "</style>\n",
       "<table border=\"1\" class=\"dataframe\">\n",
       "  <thead>\n",
       "    <tr style=\"text-align: right;\">\n",
       "      <th></th>\n",
       "      <th>year_quarter</th>\n",
       "      <th>SAVM_count_x</th>\n",
       "      <th>year</th>\n",
       "      <th>SAVM_count_y</th>\n",
       "      <th>shifted_savm_count</th>\n",
       "    </tr>\n",
       "  </thead>\n",
       "  <tbody>\n",
       "    <tr>\n",
       "      <td>0</td>\n",
       "      <td>201503</td>\n",
       "      <td>1</td>\n",
       "      <td>2015</td>\n",
       "      <td>2</td>\n",
       "      <td>NaN</td>\n",
       "    </tr>\n",
       "    <tr>\n",
       "      <td>1</td>\n",
       "      <td>201504</td>\n",
       "      <td>1</td>\n",
       "      <td>2015</td>\n",
       "      <td>2</td>\n",
       "      <td>NaN</td>\n",
       "    </tr>\n",
       "    <tr>\n",
       "      <td>2</td>\n",
       "      <td>201604</td>\n",
       "      <td>7</td>\n",
       "      <td>2016</td>\n",
       "      <td>7</td>\n",
       "      <td>2.0</td>\n",
       "    </tr>\n",
       "    <tr>\n",
       "      <td>3</td>\n",
       "      <td>201701</td>\n",
       "      <td>1</td>\n",
       "      <td>2017</td>\n",
       "      <td>21</td>\n",
       "      <td>7.0</td>\n",
       "    </tr>\n",
       "    <tr>\n",
       "      <td>4</td>\n",
       "      <td>201702</td>\n",
       "      <td>1</td>\n",
       "      <td>2017</td>\n",
       "      <td>21</td>\n",
       "      <td>7.0</td>\n",
       "    </tr>\n",
       "    <tr>\n",
       "      <td>5</td>\n",
       "      <td>201703</td>\n",
       "      <td>5</td>\n",
       "      <td>2017</td>\n",
       "      <td>21</td>\n",
       "      <td>7.0</td>\n",
       "    </tr>\n",
       "    <tr>\n",
       "      <td>6</td>\n",
       "      <td>201704</td>\n",
       "      <td>14</td>\n",
       "      <td>2017</td>\n",
       "      <td>21</td>\n",
       "      <td>7.0</td>\n",
       "    </tr>\n",
       "    <tr>\n",
       "      <td>7</td>\n",
       "      <td>201801</td>\n",
       "      <td>3</td>\n",
       "      <td>2018</td>\n",
       "      <td>28</td>\n",
       "      <td>21.0</td>\n",
       "    </tr>\n",
       "    <tr>\n",
       "      <td>8</td>\n",
       "      <td>201802</td>\n",
       "      <td>4</td>\n",
       "      <td>2018</td>\n",
       "      <td>28</td>\n",
       "      <td>21.0</td>\n",
       "    </tr>\n",
       "    <tr>\n",
       "      <td>9</td>\n",
       "      <td>201803</td>\n",
       "      <td>8</td>\n",
       "      <td>2018</td>\n",
       "      <td>28</td>\n",
       "      <td>21.0</td>\n",
       "    </tr>\n",
       "    <tr>\n",
       "      <td>10</td>\n",
       "      <td>201804</td>\n",
       "      <td>13</td>\n",
       "      <td>2018</td>\n",
       "      <td>28</td>\n",
       "      <td>21.0</td>\n",
       "    </tr>\n",
       "    <tr>\n",
       "      <td>11</td>\n",
       "      <td>201901</td>\n",
       "      <td>12</td>\n",
       "      <td>2019</td>\n",
       "      <td>57</td>\n",
       "      <td>28.0</td>\n",
       "    </tr>\n",
       "    <tr>\n",
       "      <td>12</td>\n",
       "      <td>201902</td>\n",
       "      <td>6</td>\n",
       "      <td>2019</td>\n",
       "      <td>57</td>\n",
       "      <td>28.0</td>\n",
       "    </tr>\n",
       "    <tr>\n",
       "      <td>13</td>\n",
       "      <td>201903</td>\n",
       "      <td>13</td>\n",
       "      <td>2019</td>\n",
       "      <td>57</td>\n",
       "      <td>28.0</td>\n",
       "    </tr>\n",
       "    <tr>\n",
       "      <td>14</td>\n",
       "      <td>201904</td>\n",
       "      <td>26</td>\n",
       "      <td>2019</td>\n",
       "      <td>57</td>\n",
       "      <td>28.0</td>\n",
       "    </tr>\n",
       "    <tr>\n",
       "      <td>15</td>\n",
       "      <td>202001</td>\n",
       "      <td>17</td>\n",
       "      <td>2020</td>\n",
       "      <td>56</td>\n",
       "      <td>57.0</td>\n",
       "    </tr>\n",
       "    <tr>\n",
       "      <td>16</td>\n",
       "      <td>202002</td>\n",
       "      <td>25</td>\n",
       "      <td>2020</td>\n",
       "      <td>56</td>\n",
       "      <td>57.0</td>\n",
       "    </tr>\n",
       "    <tr>\n",
       "      <td>17</td>\n",
       "      <td>202003</td>\n",
       "      <td>14</td>\n",
       "      <td>2020</td>\n",
       "      <td>56</td>\n",
       "      <td>57.0</td>\n",
       "    </tr>\n",
       "  </tbody>\n",
       "</table>\n",
       "</div>"
      ],
      "text/plain": [
       "    year_quarter  SAVM_count_x  year  SAVM_count_y  shifted_savm_count\n",
       "0         201503             1  2015             2                 NaN\n",
       "1         201504             1  2015             2                 NaN\n",
       "2         201604             7  2016             7                 2.0\n",
       "3         201701             1  2017            21                 7.0\n",
       "4         201702             1  2017            21                 7.0\n",
       "5         201703             5  2017            21                 7.0\n",
       "6         201704            14  2017            21                 7.0\n",
       "7         201801             3  2018            28                21.0\n",
       "8         201802             4  2018            28                21.0\n",
       "9         201803             8  2018            28                21.0\n",
       "10        201804            13  2018            28                21.0\n",
       "11        201901            12  2019            57                28.0\n",
       "12        201902             6  2019            57                28.0\n",
       "13        201903            13  2019            57                28.0\n",
       "14        201904            26  2019            57                28.0\n",
       "15        202001            17  2020            56                57.0\n",
       "16        202002            25  2020            56                57.0\n",
       "17        202003            14  2020            56                57.0"
      ]
     },
     "execution_count": 81,
     "metadata": {},
     "output_type": "execute_result"
    }
   ],
   "source": [
    "df_temp_final"
   ]
  },
  {
   "cell_type": "code",
   "execution_count": 82,
   "metadata": {},
   "outputs": [],
   "source": [
    "df_1_final=df_1.merge(df_temp_final[['year_quarter','shifted_savm_count']],on='year_quarter',how='left')"
   ]
  },
  {
   "cell_type": "code",
   "execution_count": 83,
   "metadata": {},
   "outputs": [],
   "source": [
    "df_1_final['shifted_savm_count'].fillna(0,inplace=True)"
   ]
  },
  {
   "cell_type": "code",
   "execution_count": 84,
   "metadata": {},
   "outputs": [],
   "source": [
    "df_1=df_1_final.copy()"
   ]
  },
  {
   "cell_type": "code",
   "execution_count": 85,
   "metadata": {},
   "outputs": [],
   "source": [
    "df_dummified=pd.get_dummies(df_1,prefix=['Vert','BE','Seg'],columns=['SAVM_VERTICAL_MARKET_SEGMENT','BUSINESS_ENTITY','SAVM_SCMS_NAME'])"
   ]
  },
  {
   "cell_type": "code",
   "execution_count": 86,
   "metadata": {},
   "outputs": [
    {
     "data": {
      "text/plain": [
       "(22097, 58)"
      ]
     },
     "execution_count": 86,
     "metadata": {},
     "output_type": "execute_result"
    }
   ],
   "source": [
    "df_dummified.shape"
   ]
  },
  {
   "cell_type": "code",
   "execution_count": 87,
   "metadata": {},
   "outputs": [
    {
     "data": {
      "text/plain": [
       "array([201501, 201502, 201503, 201504, 201601, 201602, 201603, 201604,\n",
       "       201701, 201702, 201703, 201704, 201801, 201802, 201803, 201804,\n",
       "       201901, 201902, 201903, 201904, 202001, 202002, 201402, 201403,\n",
       "       201404, 201201, 201202, 201203, 201204, 201301, 201302, 202003,\n",
       "       201401, 201303, 201304], dtype=int64)"
      ]
     },
     "execution_count": 87,
     "metadata": {},
     "output_type": "execute_result"
    }
   ],
   "source": [
    "df_dummified['year_quarter'].unique()"
   ]
  },
  {
   "cell_type": "code",
   "execution_count": 88,
   "metadata": {},
   "outputs": [
    {
     "data": {
      "text/html": [
       "<div>\n",
       "<style scoped>\n",
       "    .dataframe tbody tr th:only-of-type {\n",
       "        vertical-align: middle;\n",
       "    }\n",
       "\n",
       "    .dataframe tbody tr th {\n",
       "        vertical-align: top;\n",
       "    }\n",
       "\n",
       "    .dataframe thead th {\n",
       "        text-align: right;\n",
       "    }\n",
       "</style>\n",
       "<table border=\"1\" class=\"dataframe\">\n",
       "  <thead>\n",
       "    <tr style=\"text-align: right;\">\n",
       "      <th></th>\n",
       "      <th>SAVM_GROUP_ID</th>\n",
       "      <th>ACTUAL_BOOKINGS</th>\n",
       "      <th>LIST_PRICE</th>\n",
       "      <th>QUANTITY</th>\n",
       "      <th>EY_FLAG</th>\n",
       "      <th>TENURE</th>\n",
       "      <th>PENETRATION</th>\n",
       "      <th>CUMM_BOOK_SAVM</th>\n",
       "      <th>CUMM_BOOK_SAVM_ARC</th>\n",
       "      <th>AVG_REVENUE_VERT</th>\n",
       "      <th>...</th>\n",
       "      <th>BE_Security</th>\n",
       "      <th>BE_Service Provider Routing</th>\n",
       "      <th>BE_Services ASS_L1</th>\n",
       "      <th>BE_Services TSS_L1</th>\n",
       "      <th>BE_UNKNOWN</th>\n",
       "      <th>BE_Wireless</th>\n",
       "      <th>Seg_COMMERCIAL</th>\n",
       "      <th>Seg_ENTERPRISE</th>\n",
       "      <th>Seg_PUBLIC SECTOR</th>\n",
       "      <th>Seg_SERVICE PROVIDER</th>\n",
       "    </tr>\n",
       "  </thead>\n",
       "  <tbody>\n",
       "    <tr>\n",
       "      <td>0</td>\n",
       "      <td>203684841</td>\n",
       "      <td>692957</td>\n",
       "      <td>997169</td>\n",
       "      <td>101</td>\n",
       "      <td>0</td>\n",
       "      <td>0</td>\n",
       "      <td>0</td>\n",
       "      <td>67648766</td>\n",
       "      <td>708815</td>\n",
       "      <td>341845</td>\n",
       "      <td>...</td>\n",
       "      <td>0</td>\n",
       "      <td>0</td>\n",
       "      <td>0</td>\n",
       "      <td>1</td>\n",
       "      <td>0</td>\n",
       "      <td>0</td>\n",
       "      <td>0</td>\n",
       "      <td>1</td>\n",
       "      <td>0</td>\n",
       "      <td>0</td>\n",
       "    </tr>\n",
       "    <tr>\n",
       "      <td>1</td>\n",
       "      <td>203684841</td>\n",
       "      <td>25772</td>\n",
       "      <td>117500</td>\n",
       "      <td>50000</td>\n",
       "      <td>0</td>\n",
       "      <td>0</td>\n",
       "      <td>0</td>\n",
       "      <td>42756085</td>\n",
       "      <td>25772</td>\n",
       "      <td>341845</td>\n",
       "      <td>...</td>\n",
       "      <td>1</td>\n",
       "      <td>0</td>\n",
       "      <td>0</td>\n",
       "      <td>0</td>\n",
       "      <td>0</td>\n",
       "      <td>0</td>\n",
       "      <td>0</td>\n",
       "      <td>1</td>\n",
       "      <td>0</td>\n",
       "      <td>0</td>\n",
       "    </tr>\n",
       "    <tr>\n",
       "      <td>2</td>\n",
       "      <td>203684841</td>\n",
       "      <td>17560</td>\n",
       "      <td>0</td>\n",
       "      <td>75</td>\n",
       "      <td>0</td>\n",
       "      <td>0</td>\n",
       "      <td>0</td>\n",
       "      <td>26064854</td>\n",
       "      <td>17560</td>\n",
       "      <td>341845</td>\n",
       "      <td>...</td>\n",
       "      <td>0</td>\n",
       "      <td>0</td>\n",
       "      <td>0</td>\n",
       "      <td>0</td>\n",
       "      <td>0</td>\n",
       "      <td>0</td>\n",
       "      <td>0</td>\n",
       "      <td>1</td>\n",
       "      <td>0</td>\n",
       "      <td>0</td>\n",
       "    </tr>\n",
       "    <tr>\n",
       "      <td>3</td>\n",
       "      <td>203684841</td>\n",
       "      <td>2911</td>\n",
       "      <td>7464</td>\n",
       "      <td>10</td>\n",
       "      <td>0</td>\n",
       "      <td>0</td>\n",
       "      <td>0</td>\n",
       "      <td>3723673</td>\n",
       "      <td>2911</td>\n",
       "      <td>341845</td>\n",
       "      <td>...</td>\n",
       "      <td>0</td>\n",
       "      <td>0</td>\n",
       "      <td>0</td>\n",
       "      <td>0</td>\n",
       "      <td>0</td>\n",
       "      <td>0</td>\n",
       "      <td>0</td>\n",
       "      <td>1</td>\n",
       "      <td>0</td>\n",
       "      <td>0</td>\n",
       "    </tr>\n",
       "    <tr>\n",
       "      <td>4</td>\n",
       "      <td>203684841</td>\n",
       "      <td>228243</td>\n",
       "      <td>522425</td>\n",
       "      <td>940</td>\n",
       "      <td>0</td>\n",
       "      <td>0</td>\n",
       "      <td>0</td>\n",
       "      <td>14725600</td>\n",
       "      <td>228243</td>\n",
       "      <td>341845</td>\n",
       "      <td>...</td>\n",
       "      <td>0</td>\n",
       "      <td>0</td>\n",
       "      <td>0</td>\n",
       "      <td>0</td>\n",
       "      <td>0</td>\n",
       "      <td>0</td>\n",
       "      <td>0</td>\n",
       "      <td>1</td>\n",
       "      <td>0</td>\n",
       "      <td>0</td>\n",
       "    </tr>\n",
       "  </tbody>\n",
       "</table>\n",
       "<p>5 rows × 58 columns</p>\n",
       "</div>"
      ],
      "text/plain": [
       "   SAVM_GROUP_ID  ACTUAL_BOOKINGS  LIST_PRICE  QUANTITY  EY_FLAG  TENURE  \\\n",
       "0      203684841           692957      997169       101        0       0   \n",
       "1      203684841            25772      117500     50000        0       0   \n",
       "2      203684841            17560           0        75        0       0   \n",
       "3      203684841             2911        7464        10        0       0   \n",
       "4      203684841           228243      522425       940        0       0   \n",
       "\n",
       "   PENETRATION  CUMM_BOOK_SAVM  CUMM_BOOK_SAVM_ARC  AVG_REVENUE_VERT  ...  \\\n",
       "0            0        67648766              708815            341845  ...   \n",
       "1            0        42756085               25772            341845  ...   \n",
       "2            0        26064854               17560            341845  ...   \n",
       "3            0         3723673                2911            341845  ...   \n",
       "4            0        14725600              228243            341845  ...   \n",
       "\n",
       "   BE_Security  BE_Service Provider Routing  BE_Services ASS_L1  \\\n",
       "0            0                            0                   0   \n",
       "1            1                            0                   0   \n",
       "2            0                            0                   0   \n",
       "3            0                            0                   0   \n",
       "4            0                            0                   0   \n",
       "\n",
       "   BE_Services TSS_L1  BE_UNKNOWN  BE_Wireless  Seg_COMMERCIAL  \\\n",
       "0                   1           0            0               0   \n",
       "1                   0           0            0               0   \n",
       "2                   0           0            0               0   \n",
       "3                   0           0            0               0   \n",
       "4                   0           0            0               0   \n",
       "\n",
       "   Seg_ENTERPRISE  Seg_PUBLIC SECTOR  Seg_SERVICE PROVIDER  \n",
       "0               1                  0                     0  \n",
       "1               1                  0                     0  \n",
       "2               1                  0                     0  \n",
       "3               1                  0                     0  \n",
       "4               1                  0                     0  \n",
       "\n",
       "[5 rows x 58 columns]"
      ]
     },
     "execution_count": 88,
     "metadata": {},
     "output_type": "execute_result"
    }
   ],
   "source": [
    "df_dummified.head()"
   ]
  },
  {
   "cell_type": "code",
   "execution_count": 89,
   "metadata": {},
   "outputs": [
    {
     "data": {
      "text/plain": [
       "(22097, 58)"
      ]
     },
     "execution_count": 89,
     "metadata": {},
     "output_type": "execute_result"
    }
   ],
   "source": [
    "df_dummified.shape"
   ]
  },
  {
   "cell_type": "code",
   "execution_count": 90,
   "metadata": {},
   "outputs": [],
   "source": [
    "#df_dummified.columns.tolist()"
   ]
  },
  {
   "cell_type": "code",
   "execution_count": 91,
   "metadata": {},
   "outputs": [],
   "source": [
    "#pl_columns=[col for col in df_dummified if col.startswith('Prod_')]\n",
    "#pl_columns = ['Prod_Reco_Prod']\n",
    "vr_columns=[col for col in df_dummified if col.startswith('Vert_')]\n",
    "be_columns=[col for col in df_dummified if col.startswith('BE_')]\n",
    "scms_columns=[col for col in df_dummified if col.startswith('Seg_')]\n",
    "numerical_columns =  ['TENURE','PENETRATION','CUMM_BOOK_SAVM','AVG_REVENUE_VERT',\n",
    "                     'DISCOUNT','AVG_QUR_BOOKINGS', 'SITES', 'ACTIVE_3YEARS', 'BOUGHT_EY_BEFORE','DataCenterRevenue','DataCenter_Revenue_cumulative','DataCenter_Revenue_cumulative_last_year','DataCenter_TENURE','shifted_savm_count']\n",
    "sum_cols = ['ACTUAL_BOOKINGS','QUANTITY']"
   ]
  },
  {
   "cell_type": "code",
   "execution_count": 92,
   "metadata": {},
   "outputs": [],
   "source": [
    "df_temp_1=df_dummified.groupby(['SAVM_GROUP_ID','year_quarter'])[vr_columns].apply(lambda x : x.astype(int).sum())"
   ]
  },
  {
   "cell_type": "code",
   "execution_count": 93,
   "metadata": {},
   "outputs": [],
   "source": [
    "for column in df_temp_1.columns:\n",
    "    df_temp_1[column]= np.where(df_temp_1[column]>0,1,0)"
   ]
  },
  {
   "cell_type": "code",
   "execution_count": 94,
   "metadata": {},
   "outputs": [],
   "source": [
    "df_temp_2=df_dummified.groupby(['SAVM_GROUP_ID','year_quarter'])[be_columns].apply(lambda x : x.astype(int).sum())"
   ]
  },
  {
   "cell_type": "code",
   "execution_count": 95,
   "metadata": {},
   "outputs": [],
   "source": [
    "for column in df_temp_2.columns:\n",
    "    df_temp_2[column]= np.where(df_temp_2[column]>0,1,0)"
   ]
  },
  {
   "cell_type": "code",
   "execution_count": 96,
   "metadata": {},
   "outputs": [],
   "source": [
    "df_temp_3 =  df_dummified.groupby(['SAVM_GROUP_ID','year_quarter'])[numerical_columns].max()\n",
    "df_temp_4 =  df_dummified.groupby(['SAVM_GROUP_ID','year_quarter'])[sum_cols].sum()\n",
    "df_temp_5=df_dummified.groupby(['SAVM_GROUP_ID','year_quarter'])[scms_columns].apply(lambda x : x.astype(int).sum())"
   ]
  },
  {
   "cell_type": "code",
   "execution_count": 97,
   "metadata": {},
   "outputs": [],
   "source": [
    "for column in df_temp_5.columns:\n",
    "    df_temp_5[column]= np.where(df_temp_5[column]>0,1,0)"
   ]
  },
  {
   "cell_type": "code",
   "execution_count": 98,
   "metadata": {},
   "outputs": [],
   "source": [
    "df_aggregated=pd.concat([df_temp_1,df_temp_2,df_temp_3,df_temp_4,df_temp_5],axis=1)"
   ]
  },
  {
   "cell_type": "code",
   "execution_count": 99,
   "metadata": {},
   "outputs": [
    {
     "data": {
      "text/html": [
       "<div>\n",
       "<style scoped>\n",
       "    .dataframe tbody tr th:only-of-type {\n",
       "        vertical-align: middle;\n",
       "    }\n",
       "\n",
       "    .dataframe tbody tr th {\n",
       "        vertical-align: top;\n",
       "    }\n",
       "\n",
       "    .dataframe thead th {\n",
       "        text-align: right;\n",
       "    }\n",
       "</style>\n",
       "<table border=\"1\" class=\"dataframe\">\n",
       "  <thead>\n",
       "    <tr style=\"text-align: right;\">\n",
       "      <th></th>\n",
       "      <th></th>\n",
       "      <th>Vert_Education- Public/Private</th>\n",
       "      <th>Vert_Energy/Utilities</th>\n",
       "      <th>Vert_Financial Services</th>\n",
       "      <th>Vert_Government</th>\n",
       "      <th>Vert_Health Care</th>\n",
       "      <th>Vert_Hospitality/Hotels &amp; Leisure</th>\n",
       "      <th>Vert_Manufacturing</th>\n",
       "      <th>Vert_Media/Entertainment</th>\n",
       "      <th>Vert_Professional Services</th>\n",
       "      <th>Vert_Retail</th>\n",
       "      <th>...</th>\n",
       "      <th>DataCenter_Revenue_cumulative</th>\n",
       "      <th>DataCenter_Revenue_cumulative_last_year</th>\n",
       "      <th>DataCenter_TENURE</th>\n",
       "      <th>shifted_savm_count</th>\n",
       "      <th>ACTUAL_BOOKINGS</th>\n",
       "      <th>QUANTITY</th>\n",
       "      <th>Seg_COMMERCIAL</th>\n",
       "      <th>Seg_ENTERPRISE</th>\n",
       "      <th>Seg_PUBLIC SECTOR</th>\n",
       "      <th>Seg_SERVICE PROVIDER</th>\n",
       "    </tr>\n",
       "    <tr>\n",
       "      <th>SAVM_GROUP_ID</th>\n",
       "      <th>year_quarter</th>\n",
       "      <th></th>\n",
       "      <th></th>\n",
       "      <th></th>\n",
       "      <th></th>\n",
       "      <th></th>\n",
       "      <th></th>\n",
       "      <th></th>\n",
       "      <th></th>\n",
       "      <th></th>\n",
       "      <th></th>\n",
       "      <th></th>\n",
       "      <th></th>\n",
       "      <th></th>\n",
       "      <th></th>\n",
       "      <th></th>\n",
       "      <th></th>\n",
       "      <th></th>\n",
       "      <th></th>\n",
       "      <th></th>\n",
       "      <th></th>\n",
       "      <th></th>\n",
       "    </tr>\n",
       "  </thead>\n",
       "  <tbody>\n",
       "    <tr>\n",
       "      <td rowspan=\"5\" valign=\"top\">203684841</td>\n",
       "      <td>201501</td>\n",
       "      <td>0</td>\n",
       "      <td>0</td>\n",
       "      <td>0</td>\n",
       "      <td>0</td>\n",
       "      <td>0</td>\n",
       "      <td>0</td>\n",
       "      <td>0</td>\n",
       "      <td>0</td>\n",
       "      <td>0</td>\n",
       "      <td>1</td>\n",
       "      <td>...</td>\n",
       "      <td>2997</td>\n",
       "      <td>0.0</td>\n",
       "      <td>0</td>\n",
       "      <td>0.0</td>\n",
       "      <td>1314730</td>\n",
       "      <td>54577</td>\n",
       "      <td>0</td>\n",
       "      <td>1</td>\n",
       "      <td>0</td>\n",
       "      <td>0</td>\n",
       "    </tr>\n",
       "    <tr>\n",
       "      <td>201502</td>\n",
       "      <td>0</td>\n",
       "      <td>0</td>\n",
       "      <td>0</td>\n",
       "      <td>0</td>\n",
       "      <td>0</td>\n",
       "      <td>0</td>\n",
       "      <td>0</td>\n",
       "      <td>0</td>\n",
       "      <td>0</td>\n",
       "      <td>1</td>\n",
       "      <td>...</td>\n",
       "      <td>738703</td>\n",
       "      <td>0.0</td>\n",
       "      <td>1</td>\n",
       "      <td>0.0</td>\n",
       "      <td>1884522</td>\n",
       "      <td>9885</td>\n",
       "      <td>0</td>\n",
       "      <td>1</td>\n",
       "      <td>0</td>\n",
       "      <td>0</td>\n",
       "    </tr>\n",
       "    <tr>\n",
       "      <td>201503</td>\n",
       "      <td>0</td>\n",
       "      <td>0</td>\n",
       "      <td>0</td>\n",
       "      <td>0</td>\n",
       "      <td>0</td>\n",
       "      <td>0</td>\n",
       "      <td>0</td>\n",
       "      <td>0</td>\n",
       "      <td>0</td>\n",
       "      <td>1</td>\n",
       "      <td>...</td>\n",
       "      <td>809211</td>\n",
       "      <td>0.0</td>\n",
       "      <td>2</td>\n",
       "      <td>0.0</td>\n",
       "      <td>287263</td>\n",
       "      <td>28546</td>\n",
       "      <td>0</td>\n",
       "      <td>1</td>\n",
       "      <td>0</td>\n",
       "      <td>0</td>\n",
       "    </tr>\n",
       "    <tr>\n",
       "      <td>201504</td>\n",
       "      <td>0</td>\n",
       "      <td>0</td>\n",
       "      <td>0</td>\n",
       "      <td>0</td>\n",
       "      <td>0</td>\n",
       "      <td>0</td>\n",
       "      <td>0</td>\n",
       "      <td>0</td>\n",
       "      <td>0</td>\n",
       "      <td>1</td>\n",
       "      <td>...</td>\n",
       "      <td>820888</td>\n",
       "      <td>0.0</td>\n",
       "      <td>3</td>\n",
       "      <td>0.0</td>\n",
       "      <td>10508438</td>\n",
       "      <td>108124</td>\n",
       "      <td>0</td>\n",
       "      <td>1</td>\n",
       "      <td>0</td>\n",
       "      <td>0</td>\n",
       "    </tr>\n",
       "    <tr>\n",
       "      <td>201601</td>\n",
       "      <td>0</td>\n",
       "      <td>0</td>\n",
       "      <td>0</td>\n",
       "      <td>0</td>\n",
       "      <td>0</td>\n",
       "      <td>0</td>\n",
       "      <td>0</td>\n",
       "      <td>0</td>\n",
       "      <td>0</td>\n",
       "      <td>1</td>\n",
       "      <td>...</td>\n",
       "      <td>1064844</td>\n",
       "      <td>820888.0</td>\n",
       "      <td>4</td>\n",
       "      <td>0.0</td>\n",
       "      <td>1076009</td>\n",
       "      <td>88</td>\n",
       "      <td>0</td>\n",
       "      <td>1</td>\n",
       "      <td>0</td>\n",
       "      <td>0</td>\n",
       "    </tr>\n",
       "  </tbody>\n",
       "</table>\n",
       "<p>5 rows × 53 columns</p>\n",
       "</div>"
      ],
      "text/plain": [
       "                            Vert_Education- Public/Private  \\\n",
       "SAVM_GROUP_ID year_quarter                                   \n",
       "203684841     201501                                     0   \n",
       "              201502                                     0   \n",
       "              201503                                     0   \n",
       "              201504                                     0   \n",
       "              201601                                     0   \n",
       "\n",
       "                            Vert_Energy/Utilities  Vert_Financial Services  \\\n",
       "SAVM_GROUP_ID year_quarter                                                   \n",
       "203684841     201501                            0                        0   \n",
       "              201502                            0                        0   \n",
       "              201503                            0                        0   \n",
       "              201504                            0                        0   \n",
       "              201601                            0                        0   \n",
       "\n",
       "                            Vert_Government  Vert_Health Care  \\\n",
       "SAVM_GROUP_ID year_quarter                                      \n",
       "203684841     201501                      0                 0   \n",
       "              201502                      0                 0   \n",
       "              201503                      0                 0   \n",
       "              201504                      0                 0   \n",
       "              201601                      0                 0   \n",
       "\n",
       "                            Vert_Hospitality/Hotels & Leisure  \\\n",
       "SAVM_GROUP_ID year_quarter                                      \n",
       "203684841     201501                                        0   \n",
       "              201502                                        0   \n",
       "              201503                                        0   \n",
       "              201504                                        0   \n",
       "              201601                                        0   \n",
       "\n",
       "                            Vert_Manufacturing  Vert_Media/Entertainment  \\\n",
       "SAVM_GROUP_ID year_quarter                                                 \n",
       "203684841     201501                         0                         0   \n",
       "              201502                         0                         0   \n",
       "              201503                         0                         0   \n",
       "              201504                         0                         0   \n",
       "              201601                         0                         0   \n",
       "\n",
       "                            Vert_Professional Services  Vert_Retail  ...  \\\n",
       "SAVM_GROUP_ID year_quarter                                           ...   \n",
       "203684841     201501                                 0            1  ...   \n",
       "              201502                                 0            1  ...   \n",
       "              201503                                 0            1  ...   \n",
       "              201504                                 0            1  ...   \n",
       "              201601                                 0            1  ...   \n",
       "\n",
       "                            DataCenter_Revenue_cumulative  \\\n",
       "SAVM_GROUP_ID year_quarter                                  \n",
       "203684841     201501                                 2997   \n",
       "              201502                               738703   \n",
       "              201503                               809211   \n",
       "              201504                               820888   \n",
       "              201601                              1064844   \n",
       "\n",
       "                            DataCenter_Revenue_cumulative_last_year  \\\n",
       "SAVM_GROUP_ID year_quarter                                            \n",
       "203684841     201501                                            0.0   \n",
       "              201502                                            0.0   \n",
       "              201503                                            0.0   \n",
       "              201504                                            0.0   \n",
       "              201601                                       820888.0   \n",
       "\n",
       "                            DataCenter_TENURE  shifted_savm_count  \\\n",
       "SAVM_GROUP_ID year_quarter                                          \n",
       "203684841     201501                        0                 0.0   \n",
       "              201502                        1                 0.0   \n",
       "              201503                        2                 0.0   \n",
       "              201504                        3                 0.0   \n",
       "              201601                        4                 0.0   \n",
       "\n",
       "                            ACTUAL_BOOKINGS  QUANTITY  Seg_COMMERCIAL  \\\n",
       "SAVM_GROUP_ID year_quarter                                              \n",
       "203684841     201501                1314730     54577               0   \n",
       "              201502                1884522      9885               0   \n",
       "              201503                 287263     28546               0   \n",
       "              201504               10508438    108124               0   \n",
       "              201601                1076009        88               0   \n",
       "\n",
       "                            Seg_ENTERPRISE  Seg_PUBLIC SECTOR  \\\n",
       "SAVM_GROUP_ID year_quarter                                      \n",
       "203684841     201501                     1                  0   \n",
       "              201502                     1                  0   \n",
       "              201503                     1                  0   \n",
       "              201504                     1                  0   \n",
       "              201601                     1                  0   \n",
       "\n",
       "                            Seg_SERVICE PROVIDER  \n",
       "SAVM_GROUP_ID year_quarter                        \n",
       "203684841     201501                           0  \n",
       "              201502                           0  \n",
       "              201503                           0  \n",
       "              201504                           0  \n",
       "              201601                           0  \n",
       "\n",
       "[5 rows x 53 columns]"
      ]
     },
     "execution_count": 99,
     "metadata": {},
     "output_type": "execute_result"
    }
   ],
   "source": [
    "df_aggregated.head()"
   ]
  },
  {
   "cell_type": "code",
   "execution_count": 100,
   "metadata": {},
   "outputs": [],
   "source": [
    "df_aggregated.reset_index(inplace=True)"
   ]
  },
  {
   "cell_type": "code",
   "execution_count": 101,
   "metadata": {},
   "outputs": [
    {
     "data": {
      "text/html": [
       "<div>\n",
       "<style scoped>\n",
       "    .dataframe tbody tr th:only-of-type {\n",
       "        vertical-align: middle;\n",
       "    }\n",
       "\n",
       "    .dataframe tbody tr th {\n",
       "        vertical-align: top;\n",
       "    }\n",
       "\n",
       "    .dataframe thead th {\n",
       "        text-align: right;\n",
       "    }\n",
       "</style>\n",
       "<table border=\"1\" class=\"dataframe\">\n",
       "  <thead>\n",
       "    <tr style=\"text-align: right;\">\n",
       "      <th></th>\n",
       "      <th>SAVM_GROUP_ID</th>\n",
       "      <th>year_quarter</th>\n",
       "      <th>Vert_Education- Public/Private</th>\n",
       "      <th>Vert_Energy/Utilities</th>\n",
       "      <th>Vert_Financial Services</th>\n",
       "      <th>Vert_Government</th>\n",
       "      <th>Vert_Health Care</th>\n",
       "      <th>Vert_Hospitality/Hotels &amp; Leisure</th>\n",
       "      <th>Vert_Manufacturing</th>\n",
       "      <th>Vert_Media/Entertainment</th>\n",
       "      <th>...</th>\n",
       "      <th>DataCenter_Revenue_cumulative</th>\n",
       "      <th>DataCenter_Revenue_cumulative_last_year</th>\n",
       "      <th>DataCenter_TENURE</th>\n",
       "      <th>shifted_savm_count</th>\n",
       "      <th>ACTUAL_BOOKINGS</th>\n",
       "      <th>QUANTITY</th>\n",
       "      <th>Seg_COMMERCIAL</th>\n",
       "      <th>Seg_ENTERPRISE</th>\n",
       "      <th>Seg_PUBLIC SECTOR</th>\n",
       "      <th>Seg_SERVICE PROVIDER</th>\n",
       "    </tr>\n",
       "  </thead>\n",
       "  <tbody>\n",
       "    <tr>\n",
       "      <td>0</td>\n",
       "      <td>203684841</td>\n",
       "      <td>201501</td>\n",
       "      <td>0</td>\n",
       "      <td>0</td>\n",
       "      <td>0</td>\n",
       "      <td>0</td>\n",
       "      <td>0</td>\n",
       "      <td>0</td>\n",
       "      <td>0</td>\n",
       "      <td>0</td>\n",
       "      <td>...</td>\n",
       "      <td>2997</td>\n",
       "      <td>0.0</td>\n",
       "      <td>0</td>\n",
       "      <td>0.0</td>\n",
       "      <td>1314730</td>\n",
       "      <td>54577</td>\n",
       "      <td>0</td>\n",
       "      <td>1</td>\n",
       "      <td>0</td>\n",
       "      <td>0</td>\n",
       "    </tr>\n",
       "    <tr>\n",
       "      <td>1</td>\n",
       "      <td>203684841</td>\n",
       "      <td>201502</td>\n",
       "      <td>0</td>\n",
       "      <td>0</td>\n",
       "      <td>0</td>\n",
       "      <td>0</td>\n",
       "      <td>0</td>\n",
       "      <td>0</td>\n",
       "      <td>0</td>\n",
       "      <td>0</td>\n",
       "      <td>...</td>\n",
       "      <td>738703</td>\n",
       "      <td>0.0</td>\n",
       "      <td>1</td>\n",
       "      <td>0.0</td>\n",
       "      <td>1884522</td>\n",
       "      <td>9885</td>\n",
       "      <td>0</td>\n",
       "      <td>1</td>\n",
       "      <td>0</td>\n",
       "      <td>0</td>\n",
       "    </tr>\n",
       "    <tr>\n",
       "      <td>2</td>\n",
       "      <td>203684841</td>\n",
       "      <td>201503</td>\n",
       "      <td>0</td>\n",
       "      <td>0</td>\n",
       "      <td>0</td>\n",
       "      <td>0</td>\n",
       "      <td>0</td>\n",
       "      <td>0</td>\n",
       "      <td>0</td>\n",
       "      <td>0</td>\n",
       "      <td>...</td>\n",
       "      <td>809211</td>\n",
       "      <td>0.0</td>\n",
       "      <td>2</td>\n",
       "      <td>0.0</td>\n",
       "      <td>287263</td>\n",
       "      <td>28546</td>\n",
       "      <td>0</td>\n",
       "      <td>1</td>\n",
       "      <td>0</td>\n",
       "      <td>0</td>\n",
       "    </tr>\n",
       "    <tr>\n",
       "      <td>3</td>\n",
       "      <td>203684841</td>\n",
       "      <td>201504</td>\n",
       "      <td>0</td>\n",
       "      <td>0</td>\n",
       "      <td>0</td>\n",
       "      <td>0</td>\n",
       "      <td>0</td>\n",
       "      <td>0</td>\n",
       "      <td>0</td>\n",
       "      <td>0</td>\n",
       "      <td>...</td>\n",
       "      <td>820888</td>\n",
       "      <td>0.0</td>\n",
       "      <td>3</td>\n",
       "      <td>0.0</td>\n",
       "      <td>10508438</td>\n",
       "      <td>108124</td>\n",
       "      <td>0</td>\n",
       "      <td>1</td>\n",
       "      <td>0</td>\n",
       "      <td>0</td>\n",
       "    </tr>\n",
       "    <tr>\n",
       "      <td>4</td>\n",
       "      <td>203684841</td>\n",
       "      <td>201601</td>\n",
       "      <td>0</td>\n",
       "      <td>0</td>\n",
       "      <td>0</td>\n",
       "      <td>0</td>\n",
       "      <td>0</td>\n",
       "      <td>0</td>\n",
       "      <td>0</td>\n",
       "      <td>0</td>\n",
       "      <td>...</td>\n",
       "      <td>1064844</td>\n",
       "      <td>820888.0</td>\n",
       "      <td>4</td>\n",
       "      <td>0.0</td>\n",
       "      <td>1076009</td>\n",
       "      <td>88</td>\n",
       "      <td>0</td>\n",
       "      <td>1</td>\n",
       "      <td>0</td>\n",
       "      <td>0</td>\n",
       "    </tr>\n",
       "  </tbody>\n",
       "</table>\n",
       "<p>5 rows × 55 columns</p>\n",
       "</div>"
      ],
      "text/plain": [
       "   SAVM_GROUP_ID  year_quarter  Vert_Education- Public/Private  \\\n",
       "0      203684841        201501                               0   \n",
       "1      203684841        201502                               0   \n",
       "2      203684841        201503                               0   \n",
       "3      203684841        201504                               0   \n",
       "4      203684841        201601                               0   \n",
       "\n",
       "   Vert_Energy/Utilities  Vert_Financial Services  Vert_Government  \\\n",
       "0                      0                        0                0   \n",
       "1                      0                        0                0   \n",
       "2                      0                        0                0   \n",
       "3                      0                        0                0   \n",
       "4                      0                        0                0   \n",
       "\n",
       "   Vert_Health Care  Vert_Hospitality/Hotels & Leisure  Vert_Manufacturing  \\\n",
       "0                 0                                  0                   0   \n",
       "1                 0                                  0                   0   \n",
       "2                 0                                  0                   0   \n",
       "3                 0                                  0                   0   \n",
       "4                 0                                  0                   0   \n",
       "\n",
       "   Vert_Media/Entertainment  ...  DataCenter_Revenue_cumulative  \\\n",
       "0                         0  ...                           2997   \n",
       "1                         0  ...                         738703   \n",
       "2                         0  ...                         809211   \n",
       "3                         0  ...                         820888   \n",
       "4                         0  ...                        1064844   \n",
       "\n",
       "   DataCenter_Revenue_cumulative_last_year  DataCenter_TENURE  \\\n",
       "0                                      0.0                  0   \n",
       "1                                      0.0                  1   \n",
       "2                                      0.0                  2   \n",
       "3                                      0.0                  3   \n",
       "4                                 820888.0                  4   \n",
       "\n",
       "   shifted_savm_count  ACTUAL_BOOKINGS  QUANTITY  Seg_COMMERCIAL  \\\n",
       "0                 0.0          1314730     54577               0   \n",
       "1                 0.0          1884522      9885               0   \n",
       "2                 0.0           287263     28546               0   \n",
       "3                 0.0         10508438    108124               0   \n",
       "4                 0.0          1076009        88               0   \n",
       "\n",
       "   Seg_ENTERPRISE  Seg_PUBLIC SECTOR  Seg_SERVICE PROVIDER  \n",
       "0               1                  0                     0  \n",
       "1               1                  0                     0  \n",
       "2               1                  0                     0  \n",
       "3               1                  0                     0  \n",
       "4               1                  0                     0  \n",
       "\n",
       "[5 rows x 55 columns]"
      ]
     },
     "execution_count": 101,
     "metadata": {},
     "output_type": "execute_result"
    }
   ],
   "source": [
    "df_aggregated.head()"
   ]
  },
  {
   "cell_type": "code",
   "execution_count": 102,
   "metadata": {},
   "outputs": [
    {
     "data": {
      "text/plain": [
       "(2625, 55)"
      ]
     },
     "execution_count": 102,
     "metadata": {},
     "output_type": "execute_result"
    }
   ],
   "source": [
    "df_aggregated.shape"
   ]
  },
  {
   "cell_type": "code",
   "execution_count": 103,
   "metadata": {},
   "outputs": [
    {
     "data": {
      "text/plain": [
       "171"
      ]
     },
     "execution_count": 103,
     "metadata": {},
     "output_type": "execute_result"
    }
   ],
   "source": [
    "df_aggregated.SAVM_GROUP_ID.nunique()"
   ]
  },
  {
   "cell_type": "code",
   "execution_count": 104,
   "metadata": {},
   "outputs": [
    {
     "data": {
      "text/html": [
       "<div>\n",
       "<style scoped>\n",
       "    .dataframe tbody tr th:only-of-type {\n",
       "        vertical-align: middle;\n",
       "    }\n",
       "\n",
       "    .dataframe tbody tr th {\n",
       "        vertical-align: top;\n",
       "    }\n",
       "\n",
       "    .dataframe thead th {\n",
       "        text-align: right;\n",
       "    }\n",
       "</style>\n",
       "<table border=\"1\" class=\"dataframe\">\n",
       "  <thead>\n",
       "    <tr style=\"text-align: right;\">\n",
       "      <th></th>\n",
       "      <th>SAVM_GROUP_ID</th>\n",
       "      <th>year_quarter</th>\n",
       "      <th>BUSINESS_ENTITY</th>\n",
       "      <th>CUMM_BOOK_SAVM_ARC</th>\n",
       "    </tr>\n",
       "  </thead>\n",
       "  <tbody>\n",
       "    <tr>\n",
       "      <td>0</td>\n",
       "      <td>203684841</td>\n",
       "      <td>201501</td>\n",
       "      <td>Services TSS_L1</td>\n",
       "      <td>708815</td>\n",
       "    </tr>\n",
       "    <tr>\n",
       "      <td>1</td>\n",
       "      <td>203684841</td>\n",
       "      <td>201501</td>\n",
       "      <td>Security</td>\n",
       "      <td>25772</td>\n",
       "    </tr>\n",
       "    <tr>\n",
       "      <td>2</td>\n",
       "      <td>203684841</td>\n",
       "      <td>201501</td>\n",
       "      <td>Enterprise Switching</td>\n",
       "      <td>17560</td>\n",
       "    </tr>\n",
       "    <tr>\n",
       "      <td>3</td>\n",
       "      <td>203684841</td>\n",
       "      <td>201501</td>\n",
       "      <td>Computing Systems</td>\n",
       "      <td>2911</td>\n",
       "    </tr>\n",
       "    <tr>\n",
       "      <td>4</td>\n",
       "      <td>203684841</td>\n",
       "      <td>201501</td>\n",
       "      <td>Enterprise Routing</td>\n",
       "      <td>228243</td>\n",
       "    </tr>\n",
       "  </tbody>\n",
       "</table>\n",
       "</div>"
      ],
      "text/plain": [
       "   SAVM_GROUP_ID  year_quarter       BUSINESS_ENTITY  CUMM_BOOK_SAVM_ARC\n",
       "0      203684841        201501       Services TSS_L1              708815\n",
       "1      203684841        201501              Security               25772\n",
       "2      203684841        201501  Enterprise Switching               17560\n",
       "3      203684841        201501     Computing Systems                2911\n",
       "4      203684841        201501    Enterprise Routing              228243"
      ]
     },
     "execution_count": 104,
     "metadata": {},
     "output_type": "execute_result"
    }
   ],
   "source": [
    "df_2.head()"
   ]
  },
  {
   "cell_type": "code",
   "execution_count": 105,
   "metadata": {},
   "outputs": [],
   "source": [
    "df2_pivot = df_2.pivot_table(values='CUMM_BOOK_SAVM_ARC',index=['SAVM_GROUP_ID', 'year_quarter'],\n",
    "                 columns='BUSINESS_ENTITY',aggfunc=np.max).add_prefix('BEval_').reset_index()"
   ]
  },
  {
   "cell_type": "code",
   "execution_count": 106,
   "metadata": {},
   "outputs": [],
   "source": [
    "df2_pivot.fillna(0,inplace=True)"
   ]
  },
  {
   "cell_type": "code",
   "execution_count": 107,
   "metadata": {},
   "outputs": [
    {
     "data": {
      "text/html": [
       "<div>\n",
       "<style scoped>\n",
       "    .dataframe tbody tr th:only-of-type {\n",
       "        vertical-align: middle;\n",
       "    }\n",
       "\n",
       "    .dataframe tbody tr th {\n",
       "        vertical-align: top;\n",
       "    }\n",
       "\n",
       "    .dataframe thead th {\n",
       "        text-align: right;\n",
       "    }\n",
       "</style>\n",
       "<table border=\"1\" class=\"dataframe\">\n",
       "  <thead>\n",
       "    <tr style=\"text-align: right;\">\n",
       "      <th>BUSINESS_ENTITY</th>\n",
       "      <th>SAVM_GROUP_ID</th>\n",
       "      <th>year_quarter</th>\n",
       "      <th>BEval_Collaboration</th>\n",
       "      <th>BEval_Computing Systems</th>\n",
       "      <th>BEval_Data Center Networking</th>\n",
       "      <th>BEval_Enterprise Routing</th>\n",
       "      <th>BEval_Enterprise Switching</th>\n",
       "      <th>BEval_IOT</th>\n",
       "      <th>BEval_Meraki</th>\n",
       "      <th>BEval_Monitoring and Analytics</th>\n",
       "      <th>BEval_Other</th>\n",
       "      <th>BEval_Reco_Prod</th>\n",
       "      <th>BEval_SP Video Infrastructure</th>\n",
       "      <th>BEval_SP Video Software and Solutions</th>\n",
       "      <th>BEval_Security</th>\n",
       "      <th>BEval_Service Provider Routing</th>\n",
       "      <th>BEval_Services ASS_L1</th>\n",
       "      <th>BEval_Services TSS_L1</th>\n",
       "      <th>BEval_UNKNOWN</th>\n",
       "      <th>BEval_Wireless</th>\n",
       "    </tr>\n",
       "  </thead>\n",
       "  <tbody>\n",
       "    <tr>\n",
       "      <td>0</td>\n",
       "      <td>203684841</td>\n",
       "      <td>201501</td>\n",
       "      <td>163481.0</td>\n",
       "      <td>2911.0</td>\n",
       "      <td>86.0</td>\n",
       "      <td>228243.0</td>\n",
       "      <td>17560.0</td>\n",
       "      <td>0.0</td>\n",
       "      <td>0.0</td>\n",
       "      <td>0.0</td>\n",
       "      <td>0.0</td>\n",
       "      <td>0.0</td>\n",
       "      <td>0.0</td>\n",
       "      <td>182560.0</td>\n",
       "      <td>25772.0</td>\n",
       "      <td>153.0</td>\n",
       "      <td>0.0</td>\n",
       "      <td>708815.0</td>\n",
       "      <td>0.0</td>\n",
       "      <td>1007.0</td>\n",
       "    </tr>\n",
       "    <tr>\n",
       "      <td>1</td>\n",
       "      <td>203684841</td>\n",
       "      <td>201502</td>\n",
       "      <td>332481.0</td>\n",
       "      <td>5822.0</td>\n",
       "      <td>732906.0</td>\n",
       "      <td>335638.0</td>\n",
       "      <td>220677.0</td>\n",
       "      <td>0.0</td>\n",
       "      <td>0.0</td>\n",
       "      <td>0.0</td>\n",
       "      <td>0.0</td>\n",
       "      <td>0.0</td>\n",
       "      <td>0.0</td>\n",
       "      <td>0.0</td>\n",
       "      <td>25453.0</td>\n",
       "      <td>4237.0</td>\n",
       "      <td>3568.0</td>\n",
       "      <td>776040.0</td>\n",
       "      <td>0.0</td>\n",
       "      <td>579895.0</td>\n",
       "    </tr>\n",
       "    <tr>\n",
       "      <td>2</td>\n",
       "      <td>203684841</td>\n",
       "      <td>201503</td>\n",
       "      <td>335961.0</td>\n",
       "      <td>80468.0</td>\n",
       "      <td>732906.0</td>\n",
       "      <td>345999.0</td>\n",
       "      <td>413355.0</td>\n",
       "      <td>0.0</td>\n",
       "      <td>0.0</td>\n",
       "      <td>0.0</td>\n",
       "      <td>0.0</td>\n",
       "      <td>0.0</td>\n",
       "      <td>0.0</td>\n",
       "      <td>372422.0</td>\n",
       "      <td>26051.0</td>\n",
       "      <td>4193.0</td>\n",
       "      <td>3568.0</td>\n",
       "      <td>857153.0</td>\n",
       "      <td>0.0</td>\n",
       "      <td>613614.0</td>\n",
       "    </tr>\n",
       "    <tr>\n",
       "      <td>3</td>\n",
       "      <td>203684841</td>\n",
       "      <td>201504</td>\n",
       "      <td>330019.0</td>\n",
       "      <td>80443.0</td>\n",
       "      <td>740544.0</td>\n",
       "      <td>3506090.0</td>\n",
       "      <td>2223217.0</td>\n",
       "      <td>37597.0</td>\n",
       "      <td>0.0</td>\n",
       "      <td>0.0</td>\n",
       "      <td>0.0</td>\n",
       "      <td>0.0</td>\n",
       "      <td>0.0</td>\n",
       "      <td>372422.0</td>\n",
       "      <td>62115.0</td>\n",
       "      <td>4193.0</td>\n",
       "      <td>-92139.0</td>\n",
       "      <td>3706744.0</td>\n",
       "      <td>0.0</td>\n",
       "      <td>3025706.0</td>\n",
       "    </tr>\n",
       "    <tr>\n",
       "      <td>4</td>\n",
       "      <td>203684841</td>\n",
       "      <td>201601</td>\n",
       "      <td>398774.0</td>\n",
       "      <td>0.0</td>\n",
       "      <td>984401.0</td>\n",
       "      <td>3645384.0</td>\n",
       "      <td>2263772.0</td>\n",
       "      <td>36595.0</td>\n",
       "      <td>0.0</td>\n",
       "      <td>0.0</td>\n",
       "      <td>0.0</td>\n",
       "      <td>0.0</td>\n",
       "      <td>0.0</td>\n",
       "      <td>473800.0</td>\n",
       "      <td>62115.0</td>\n",
       "      <td>5314.0</td>\n",
       "      <td>-92139.0</td>\n",
       "      <td>4708604.0</td>\n",
       "      <td>0.0</td>\n",
       "      <td>3043443.0</td>\n",
       "    </tr>\n",
       "  </tbody>\n",
       "</table>\n",
       "</div>"
      ],
      "text/plain": [
       "BUSINESS_ENTITY  SAVM_GROUP_ID  year_quarter  BEval_Collaboration  \\\n",
       "0                    203684841        201501             163481.0   \n",
       "1                    203684841        201502             332481.0   \n",
       "2                    203684841        201503             335961.0   \n",
       "3                    203684841        201504             330019.0   \n",
       "4                    203684841        201601             398774.0   \n",
       "\n",
       "BUSINESS_ENTITY  BEval_Computing Systems  BEval_Data Center Networking  \\\n",
       "0                                 2911.0                          86.0   \n",
       "1                                 5822.0                      732906.0   \n",
       "2                                80468.0                      732906.0   \n",
       "3                                80443.0                      740544.0   \n",
       "4                                    0.0                      984401.0   \n",
       "\n",
       "BUSINESS_ENTITY  BEval_Enterprise Routing  BEval_Enterprise Switching  \\\n",
       "0                                228243.0                     17560.0   \n",
       "1                                335638.0                    220677.0   \n",
       "2                                345999.0                    413355.0   \n",
       "3                               3506090.0                   2223217.0   \n",
       "4                               3645384.0                   2263772.0   \n",
       "\n",
       "BUSINESS_ENTITY  BEval_IOT  BEval_Meraki  BEval_Monitoring and Analytics  \\\n",
       "0                      0.0           0.0                             0.0   \n",
       "1                      0.0           0.0                             0.0   \n",
       "2                      0.0           0.0                             0.0   \n",
       "3                  37597.0           0.0                             0.0   \n",
       "4                  36595.0           0.0                             0.0   \n",
       "\n",
       "BUSINESS_ENTITY  BEval_Other  BEval_Reco_Prod  BEval_SP Video Infrastructure  \\\n",
       "0                        0.0              0.0                            0.0   \n",
       "1                        0.0              0.0                            0.0   \n",
       "2                        0.0              0.0                            0.0   \n",
       "3                        0.0              0.0                            0.0   \n",
       "4                        0.0              0.0                            0.0   \n",
       "\n",
       "BUSINESS_ENTITY  BEval_SP Video Software and Solutions  BEval_Security  \\\n",
       "0                                             182560.0         25772.0   \n",
       "1                                                  0.0         25453.0   \n",
       "2                                             372422.0         26051.0   \n",
       "3                                             372422.0         62115.0   \n",
       "4                                             473800.0         62115.0   \n",
       "\n",
       "BUSINESS_ENTITY  BEval_Service Provider Routing  BEval_Services ASS_L1  \\\n",
       "0                                         153.0                    0.0   \n",
       "1                                        4237.0                 3568.0   \n",
       "2                                        4193.0                 3568.0   \n",
       "3                                        4193.0               -92139.0   \n",
       "4                                        5314.0               -92139.0   \n",
       "\n",
       "BUSINESS_ENTITY  BEval_Services TSS_L1  BEval_UNKNOWN  BEval_Wireless  \n",
       "0                             708815.0            0.0          1007.0  \n",
       "1                             776040.0            0.0        579895.0  \n",
       "2                             857153.0            0.0        613614.0  \n",
       "3                            3706744.0            0.0       3025706.0  \n",
       "4                            4708604.0            0.0       3043443.0  "
      ]
     },
     "execution_count": 107,
     "metadata": {},
     "output_type": "execute_result"
    }
   ],
   "source": [
    "df2_pivot.head()"
   ]
  },
  {
   "cell_type": "code",
   "execution_count": 108,
   "metadata": {},
   "outputs": [
    {
     "data": {
      "text/html": [
       "<div>\n",
       "<style scoped>\n",
       "    .dataframe tbody tr th:only-of-type {\n",
       "        vertical-align: middle;\n",
       "    }\n",
       "\n",
       "    .dataframe tbody tr th {\n",
       "        vertical-align: top;\n",
       "    }\n",
       "\n",
       "    .dataframe thead th {\n",
       "        text-align: right;\n",
       "    }\n",
       "</style>\n",
       "<table border=\"1\" class=\"dataframe\">\n",
       "  <thead>\n",
       "    <tr style=\"text-align: right;\">\n",
       "      <th></th>\n",
       "      <th>SAVM_GROUP_ID</th>\n",
       "      <th>year_quarter</th>\n",
       "      <th>BUSINESS_ENTITY</th>\n",
       "      <th>CUMM_BOOK_SAVM_ARC</th>\n",
       "    </tr>\n",
       "  </thead>\n",
       "  <tbody>\n",
       "    <tr>\n",
       "      <td>10</td>\n",
       "      <td>203684841</td>\n",
       "      <td>201502</td>\n",
       "      <td>Data Center Networking</td>\n",
       "      <td>732906</td>\n",
       "    </tr>\n",
       "    <tr>\n",
       "      <td>11</td>\n",
       "      <td>203684841</td>\n",
       "      <td>201502</td>\n",
       "      <td>Services TSS_L1</td>\n",
       "      <td>776040</td>\n",
       "    </tr>\n",
       "    <tr>\n",
       "      <td>12</td>\n",
       "      <td>203684841</td>\n",
       "      <td>201502</td>\n",
       "      <td>Wireless</td>\n",
       "      <td>579895</td>\n",
       "    </tr>\n",
       "    <tr>\n",
       "      <td>13</td>\n",
       "      <td>203684841</td>\n",
       "      <td>201502</td>\n",
       "      <td>Service Provider Routing</td>\n",
       "      <td>4237</td>\n",
       "    </tr>\n",
       "    <tr>\n",
       "      <td>14</td>\n",
       "      <td>203684841</td>\n",
       "      <td>201502</td>\n",
       "      <td>Security</td>\n",
       "      <td>25453</td>\n",
       "    </tr>\n",
       "    <tr>\n",
       "      <td>15</td>\n",
       "      <td>203684841</td>\n",
       "      <td>201502</td>\n",
       "      <td>Services ASS_L1</td>\n",
       "      <td>3568</td>\n",
       "    </tr>\n",
       "    <tr>\n",
       "      <td>16</td>\n",
       "      <td>203684841</td>\n",
       "      <td>201502</td>\n",
       "      <td>Enterprise Routing</td>\n",
       "      <td>335638</td>\n",
       "    </tr>\n",
       "    <tr>\n",
       "      <td>17</td>\n",
       "      <td>203684841</td>\n",
       "      <td>201502</td>\n",
       "      <td>Computing Systems</td>\n",
       "      <td>5822</td>\n",
       "    </tr>\n",
       "    <tr>\n",
       "      <td>18</td>\n",
       "      <td>203684841</td>\n",
       "      <td>201502</td>\n",
       "      <td>Collaboration</td>\n",
       "      <td>332481</td>\n",
       "    </tr>\n",
       "    <tr>\n",
       "      <td>19</td>\n",
       "      <td>203684841</td>\n",
       "      <td>201502</td>\n",
       "      <td>Enterprise Switching</td>\n",
       "      <td>220677</td>\n",
       "    </tr>\n",
       "  </tbody>\n",
       "</table>\n",
       "</div>"
      ],
      "text/plain": [
       "    SAVM_GROUP_ID  year_quarter           BUSINESS_ENTITY  CUMM_BOOK_SAVM_ARC\n",
       "10      203684841        201502    Data Center Networking              732906\n",
       "11      203684841        201502           Services TSS_L1              776040\n",
       "12      203684841        201502                  Wireless              579895\n",
       "13      203684841        201502  Service Provider Routing                4237\n",
       "14      203684841        201502                  Security               25453\n",
       "15      203684841        201502           Services ASS_L1                3568\n",
       "16      203684841        201502        Enterprise Routing              335638\n",
       "17      203684841        201502         Computing Systems                5822\n",
       "18      203684841        201502             Collaboration              332481\n",
       "19      203684841        201502      Enterprise Switching              220677"
      ]
     },
     "execution_count": 108,
     "metadata": {},
     "output_type": "execute_result"
    }
   ],
   "source": [
    "df_2.loc[(df_2.SAVM_GROUP_ID==203684841)&(df_2.year_quarter==201502),:]"
   ]
  },
  {
   "cell_type": "code",
   "execution_count": 109,
   "metadata": {},
   "outputs": [],
   "source": [
    "#df2_pivot.loc[df2_pivot.SAVM_GROUP_ID==203684841,:]"
   ]
  },
  {
   "cell_type": "code",
   "execution_count": 110,
   "metadata": {},
   "outputs": [
    {
     "data": {
      "text/plain": [
       "(2625, 20)"
      ]
     },
     "execution_count": 110,
     "metadata": {},
     "output_type": "execute_result"
    }
   ],
   "source": [
    "df2_pivot.shape"
   ]
  },
  {
   "cell_type": "code",
   "execution_count": 111,
   "metadata": {},
   "outputs": [],
   "source": [
    "df_aggregated_1 = pd.merge(df_aggregated,df2_pivot,on=['SAVM_GROUP_ID','year_quarter'])"
   ]
  },
  {
   "cell_type": "code",
   "execution_count": 112,
   "metadata": {},
   "outputs": [
    {
     "data": {
      "text/plain": [
       "['SAVM_GROUP_ID',\n",
       " 'year_quarter',\n",
       " 'Vert_Education- Public/Private',\n",
       " 'Vert_Energy/Utilities',\n",
       " 'Vert_Financial Services',\n",
       " 'Vert_Government',\n",
       " 'Vert_Health Care',\n",
       " 'Vert_Hospitality/Hotels & Leisure',\n",
       " 'Vert_Manufacturing',\n",
       " 'Vert_Media/Entertainment',\n",
       " 'Vert_Professional Services',\n",
       " 'Vert_Retail',\n",
       " 'Vert_Service Provider',\n",
       " 'Vert_Technical Services',\n",
       " 'Vert_Transportation',\n",
       " 'Vert_Unknown',\n",
       " 'Vert_Wholesale/Distribution',\n",
       " 'BE_Collaboration',\n",
       " 'BE_Computing Systems',\n",
       " 'BE_Data Center Networking',\n",
       " 'BE_Enterprise Routing',\n",
       " 'BE_Enterprise Switching',\n",
       " 'BE_IOT',\n",
       " 'BE_Meraki',\n",
       " 'BE_Monitoring and Analytics',\n",
       " 'BE_Other',\n",
       " 'BE_Reco_Prod',\n",
       " 'BE_SP Video Infrastructure',\n",
       " 'BE_SP Video Software and Solutions',\n",
       " 'BE_Security',\n",
       " 'BE_Service Provider Routing',\n",
       " 'BE_Services ASS_L1',\n",
       " 'BE_Services TSS_L1',\n",
       " 'BE_UNKNOWN',\n",
       " 'BE_Wireless',\n",
       " 'TENURE',\n",
       " 'PENETRATION',\n",
       " 'CUMM_BOOK_SAVM',\n",
       " 'AVG_REVENUE_VERT',\n",
       " 'DISCOUNT',\n",
       " 'AVG_QUR_BOOKINGS',\n",
       " 'SITES',\n",
       " 'ACTIVE_3YEARS',\n",
       " 'BOUGHT_EY_BEFORE',\n",
       " 'DataCenterRevenue',\n",
       " 'DataCenter_Revenue_cumulative',\n",
       " 'DataCenter_Revenue_cumulative_last_year',\n",
       " 'DataCenter_TENURE',\n",
       " 'shifted_savm_count',\n",
       " 'ACTUAL_BOOKINGS',\n",
       " 'QUANTITY',\n",
       " 'Seg_COMMERCIAL',\n",
       " 'Seg_ENTERPRISE',\n",
       " 'Seg_PUBLIC SECTOR',\n",
       " 'Seg_SERVICE PROVIDER',\n",
       " 'BEval_Collaboration',\n",
       " 'BEval_Computing Systems',\n",
       " 'BEval_Data Center Networking',\n",
       " 'BEval_Enterprise Routing',\n",
       " 'BEval_Enterprise Switching',\n",
       " 'BEval_IOT',\n",
       " 'BEval_Meraki',\n",
       " 'BEval_Monitoring and Analytics',\n",
       " 'BEval_Other',\n",
       " 'BEval_Reco_Prod',\n",
       " 'BEval_SP Video Infrastructure',\n",
       " 'BEval_SP Video Software and Solutions',\n",
       " 'BEval_Security',\n",
       " 'BEval_Service Provider Routing',\n",
       " 'BEval_Services ASS_L1',\n",
       " 'BEval_Services TSS_L1',\n",
       " 'BEval_UNKNOWN',\n",
       " 'BEval_Wireless']"
      ]
     },
     "execution_count": 112,
     "metadata": {},
     "output_type": "execute_result"
    }
   ],
   "source": [
    "df_aggregated_1.columns.tolist()"
   ]
  },
  {
   "cell_type": "code",
   "execution_count": 113,
   "metadata": {},
   "outputs": [],
   "source": [
    "df_aggregated_1.drop('BEval_Reco_Prod',axis=1,inplace=True)"
   ]
  },
  {
   "cell_type": "code",
   "execution_count": 114,
   "metadata": {},
   "outputs": [
    {
     "data": {
      "text/html": [
       "<div>\n",
       "<style scoped>\n",
       "    .dataframe tbody tr th:only-of-type {\n",
       "        vertical-align: middle;\n",
       "    }\n",
       "\n",
       "    .dataframe tbody tr th {\n",
       "        vertical-align: top;\n",
       "    }\n",
       "\n",
       "    .dataframe thead th {\n",
       "        text-align: right;\n",
       "    }\n",
       "</style>\n",
       "<table border=\"1\" class=\"dataframe\">\n",
       "  <thead>\n",
       "    <tr style=\"text-align: right;\">\n",
       "      <th></th>\n",
       "      <th>SAVM_GROUP_ID</th>\n",
       "      <th>year_quarter</th>\n",
       "      <th>Vert_Education- Public/Private</th>\n",
       "      <th>Vert_Energy/Utilities</th>\n",
       "      <th>Vert_Financial Services</th>\n",
       "      <th>Vert_Government</th>\n",
       "      <th>Vert_Health Care</th>\n",
       "      <th>Vert_Hospitality/Hotels &amp; Leisure</th>\n",
       "      <th>Vert_Manufacturing</th>\n",
       "      <th>Vert_Media/Entertainment</th>\n",
       "      <th>...</th>\n",
       "      <th>BEval_Monitoring and Analytics</th>\n",
       "      <th>BEval_Other</th>\n",
       "      <th>BEval_SP Video Infrastructure</th>\n",
       "      <th>BEval_SP Video Software and Solutions</th>\n",
       "      <th>BEval_Security</th>\n",
       "      <th>BEval_Service Provider Routing</th>\n",
       "      <th>BEval_Services ASS_L1</th>\n",
       "      <th>BEval_Services TSS_L1</th>\n",
       "      <th>BEval_UNKNOWN</th>\n",
       "      <th>BEval_Wireless</th>\n",
       "    </tr>\n",
       "  </thead>\n",
       "  <tbody>\n",
       "    <tr>\n",
       "      <td>0</td>\n",
       "      <td>203684841</td>\n",
       "      <td>201501</td>\n",
       "      <td>0</td>\n",
       "      <td>0</td>\n",
       "      <td>0</td>\n",
       "      <td>0</td>\n",
       "      <td>0</td>\n",
       "      <td>0</td>\n",
       "      <td>0</td>\n",
       "      <td>0</td>\n",
       "      <td>...</td>\n",
       "      <td>0.0</td>\n",
       "      <td>0.0</td>\n",
       "      <td>0.0</td>\n",
       "      <td>182560.0</td>\n",
       "      <td>25772.0</td>\n",
       "      <td>153.0</td>\n",
       "      <td>0.0</td>\n",
       "      <td>708815.0</td>\n",
       "      <td>0.0</td>\n",
       "      <td>1007.0</td>\n",
       "    </tr>\n",
       "    <tr>\n",
       "      <td>1</td>\n",
       "      <td>203684841</td>\n",
       "      <td>201502</td>\n",
       "      <td>0</td>\n",
       "      <td>0</td>\n",
       "      <td>0</td>\n",
       "      <td>0</td>\n",
       "      <td>0</td>\n",
       "      <td>0</td>\n",
       "      <td>0</td>\n",
       "      <td>0</td>\n",
       "      <td>...</td>\n",
       "      <td>0.0</td>\n",
       "      <td>0.0</td>\n",
       "      <td>0.0</td>\n",
       "      <td>0.0</td>\n",
       "      <td>25453.0</td>\n",
       "      <td>4237.0</td>\n",
       "      <td>3568.0</td>\n",
       "      <td>776040.0</td>\n",
       "      <td>0.0</td>\n",
       "      <td>579895.0</td>\n",
       "    </tr>\n",
       "    <tr>\n",
       "      <td>2</td>\n",
       "      <td>203684841</td>\n",
       "      <td>201503</td>\n",
       "      <td>0</td>\n",
       "      <td>0</td>\n",
       "      <td>0</td>\n",
       "      <td>0</td>\n",
       "      <td>0</td>\n",
       "      <td>0</td>\n",
       "      <td>0</td>\n",
       "      <td>0</td>\n",
       "      <td>...</td>\n",
       "      <td>0.0</td>\n",
       "      <td>0.0</td>\n",
       "      <td>0.0</td>\n",
       "      <td>372422.0</td>\n",
       "      <td>26051.0</td>\n",
       "      <td>4193.0</td>\n",
       "      <td>3568.0</td>\n",
       "      <td>857153.0</td>\n",
       "      <td>0.0</td>\n",
       "      <td>613614.0</td>\n",
       "    </tr>\n",
       "    <tr>\n",
       "      <td>3</td>\n",
       "      <td>203684841</td>\n",
       "      <td>201504</td>\n",
       "      <td>0</td>\n",
       "      <td>0</td>\n",
       "      <td>0</td>\n",
       "      <td>0</td>\n",
       "      <td>0</td>\n",
       "      <td>0</td>\n",
       "      <td>0</td>\n",
       "      <td>0</td>\n",
       "      <td>...</td>\n",
       "      <td>0.0</td>\n",
       "      <td>0.0</td>\n",
       "      <td>0.0</td>\n",
       "      <td>372422.0</td>\n",
       "      <td>62115.0</td>\n",
       "      <td>4193.0</td>\n",
       "      <td>-92139.0</td>\n",
       "      <td>3706744.0</td>\n",
       "      <td>0.0</td>\n",
       "      <td>3025706.0</td>\n",
       "    </tr>\n",
       "    <tr>\n",
       "      <td>4</td>\n",
       "      <td>203684841</td>\n",
       "      <td>201601</td>\n",
       "      <td>0</td>\n",
       "      <td>0</td>\n",
       "      <td>0</td>\n",
       "      <td>0</td>\n",
       "      <td>0</td>\n",
       "      <td>0</td>\n",
       "      <td>0</td>\n",
       "      <td>0</td>\n",
       "      <td>...</td>\n",
       "      <td>0.0</td>\n",
       "      <td>0.0</td>\n",
       "      <td>0.0</td>\n",
       "      <td>473800.0</td>\n",
       "      <td>62115.0</td>\n",
       "      <td>5314.0</td>\n",
       "      <td>-92139.0</td>\n",
       "      <td>4708604.0</td>\n",
       "      <td>0.0</td>\n",
       "      <td>3043443.0</td>\n",
       "    </tr>\n",
       "  </tbody>\n",
       "</table>\n",
       "<p>5 rows × 72 columns</p>\n",
       "</div>"
      ],
      "text/plain": [
       "   SAVM_GROUP_ID  year_quarter  Vert_Education- Public/Private  \\\n",
       "0      203684841        201501                               0   \n",
       "1      203684841        201502                               0   \n",
       "2      203684841        201503                               0   \n",
       "3      203684841        201504                               0   \n",
       "4      203684841        201601                               0   \n",
       "\n",
       "   Vert_Energy/Utilities  Vert_Financial Services  Vert_Government  \\\n",
       "0                      0                        0                0   \n",
       "1                      0                        0                0   \n",
       "2                      0                        0                0   \n",
       "3                      0                        0                0   \n",
       "4                      0                        0                0   \n",
       "\n",
       "   Vert_Health Care  Vert_Hospitality/Hotels & Leisure  Vert_Manufacturing  \\\n",
       "0                 0                                  0                   0   \n",
       "1                 0                                  0                   0   \n",
       "2                 0                                  0                   0   \n",
       "3                 0                                  0                   0   \n",
       "4                 0                                  0                   0   \n",
       "\n",
       "   Vert_Media/Entertainment  ...  BEval_Monitoring and Analytics  BEval_Other  \\\n",
       "0                         0  ...                             0.0          0.0   \n",
       "1                         0  ...                             0.0          0.0   \n",
       "2                         0  ...                             0.0          0.0   \n",
       "3                         0  ...                             0.0          0.0   \n",
       "4                         0  ...                             0.0          0.0   \n",
       "\n",
       "   BEval_SP Video Infrastructure  BEval_SP Video Software and Solutions  \\\n",
       "0                            0.0                               182560.0   \n",
       "1                            0.0                                    0.0   \n",
       "2                            0.0                               372422.0   \n",
       "3                            0.0                               372422.0   \n",
       "4                            0.0                               473800.0   \n",
       "\n",
       "   BEval_Security  BEval_Service Provider Routing  BEval_Services ASS_L1  \\\n",
       "0         25772.0                           153.0                    0.0   \n",
       "1         25453.0                          4237.0                 3568.0   \n",
       "2         26051.0                          4193.0                 3568.0   \n",
       "3         62115.0                          4193.0               -92139.0   \n",
       "4         62115.0                          5314.0               -92139.0   \n",
       "\n",
       "   BEval_Services TSS_L1  BEval_UNKNOWN  BEval_Wireless  \n",
       "0               708815.0            0.0          1007.0  \n",
       "1               776040.0            0.0        579895.0  \n",
       "2               857153.0            0.0        613614.0  \n",
       "3              3706744.0            0.0       3025706.0  \n",
       "4              4708604.0            0.0       3043443.0  \n",
       "\n",
       "[5 rows x 72 columns]"
      ]
     },
     "execution_count": 114,
     "metadata": {},
     "output_type": "execute_result"
    }
   ],
   "source": [
    "df_aggregated_1.head()"
   ]
  },
  {
   "cell_type": "code",
   "execution_count": 115,
   "metadata": {},
   "outputs": [],
   "source": [
    "df_aggregated_final=df_aggregated_1.groupby(['SAVM_GROUP_ID']).apply(lambda x: x.sort_values('year_quarter',ascending=True))"
   ]
  },
  {
   "cell_type": "code",
   "execution_count": 116,
   "metadata": {},
   "outputs": [],
   "source": [
    "df_aggregated_final.reset_index(inplace=True,drop=True)"
   ]
  },
  {
   "cell_type": "code",
   "execution_count": 117,
   "metadata": {},
   "outputs": [
    {
     "data": {
      "text/plain": [
       "(2625, 72)"
      ]
     },
     "execution_count": 117,
     "metadata": {},
     "output_type": "execute_result"
    }
   ],
   "source": [
    "df_aggregated_final.shape"
   ]
  },
  {
   "cell_type": "code",
   "execution_count": 118,
   "metadata": {},
   "outputs": [],
   "source": [
    "# df_1=[]\n",
    "# df=[]\n",
    "# df_all=[]\n",
    "# df_dummified=[]\n",
    "# df_aggregated=[]\n",
    "# df_temp_1=[]\n",
    "# df_temp_2=[]\n",
    "# df_temp_3=[]\n",
    "# df_temp_4=[]\n",
    "# df_temp_5=[]\n",
    "# df_temp_6=[]"
   ]
  },
  {
   "cell_type": "code",
   "execution_count": 119,
   "metadata": {},
   "outputs": [],
   "source": [
    "def generate_qtrs(min_,max_):\n",
    "    l_qtrs=[]\n",
    "    yrqtr=0\n",
    "    l_qtrs.append(min_)\n",
    "    while yrqtr!=max_:\n",
    "        qtr = int(str(int(min_))[-1:])\n",
    "        year = int(str(int(min_))[:4])\n",
    "        if(qtr==4):\n",
    "            year = year+1\n",
    "            yrqtr = str(year)+'01'\n",
    "            yrqtr = int(yrqtr)\n",
    "        else:\n",
    "            yrqtr = int(min_)+1 \n",
    "        #print(yrqtr)    \n",
    "        l_qtrs.append(yrqtr)\n",
    "        min_=yrqtr\n",
    "    return l_qtrs"
   ]
  },
  {
   "cell_type": "code",
   "execution_count": 120,
   "metadata": {},
   "outputs": [],
   "source": [
    "def insert_rows(df):\n",
    "    df.reset_index(inplace=True,drop=True)\n",
    "    df.sort_values('year_quarter',inplace=True)\n",
    "    if df.year_quarter.nunique()==1:\n",
    "        return df\n",
    "    else :\n",
    "        dates=[df.year_quarter.min(),df.year_quarter.max()]\n",
    "        #df.drop_duplicates('year_quarter',inplace=True)\n",
    "        min_=df.year_quarter.min()\n",
    "        max_=df.year_quarter.max()\n",
    "        qtrs_list=generate_qtrs(min_,max_)\n",
    "        full_idx=qtrs_list\n",
    "    #df['year_quarter']=df['year_quarter'].astype('str')\n",
    "        df.set_index('year_quarter',inplace=True)\n",
    "    #print(df)\n",
    "        df_=df.reindex(full_idx)\n",
    "    #print(df_)\n",
    "        len_=df_.shape[0]\n",
    "        first_value=0\n",
    "        l=[]\n",
    "        cnt_=0\n",
    "        for i in range(len_):\n",
    "            l.append(first_value+cnt_)\n",
    "            cnt_=cnt_+1\n",
    "        df_['TENURE']=l\n",
    "        df_.fillna(method='ffill',inplace=True)\n",
    "        df_.reset_index(inplace=True)\n",
    "        dates=[df_.year_quarter.min(),df_.year_quarter.max()]\n",
    "        return df_ "
   ]
  },
  {
   "cell_type": "code",
   "execution_count": 121,
   "metadata": {},
   "outputs": [],
   "source": [
    "df_aggregated_inserted = df_aggregated_final.groupby(['SAVM_GROUP_ID']).apply(lambda x: insert_rows(x))"
   ]
  },
  {
   "cell_type": "code",
   "execution_count": 122,
   "metadata": {},
   "outputs": [],
   "source": [
    "#df_aggregated_inserted.SAV"
   ]
  },
  {
   "cell_type": "code",
   "execution_count": 123,
   "metadata": {},
   "outputs": [
    {
     "data": {
      "text/html": [
       "<div>\n",
       "<style scoped>\n",
       "    .dataframe tbody tr th:only-of-type {\n",
       "        vertical-align: middle;\n",
       "    }\n",
       "\n",
       "    .dataframe tbody tr th {\n",
       "        vertical-align: top;\n",
       "    }\n",
       "\n",
       "    .dataframe thead th {\n",
       "        text-align: right;\n",
       "    }\n",
       "</style>\n",
       "<table border=\"1\" class=\"dataframe\">\n",
       "  <thead>\n",
       "    <tr style=\"text-align: right;\">\n",
       "      <th></th>\n",
       "      <th></th>\n",
       "      <th>year_quarter</th>\n",
       "      <th>SAVM_GROUP_ID</th>\n",
       "      <th>Vert_Education- Public/Private</th>\n",
       "      <th>Vert_Energy/Utilities</th>\n",
       "      <th>Vert_Financial Services</th>\n",
       "      <th>Vert_Government</th>\n",
       "      <th>Vert_Health Care</th>\n",
       "      <th>Vert_Hospitality/Hotels &amp; Leisure</th>\n",
       "      <th>Vert_Manufacturing</th>\n",
       "      <th>Vert_Media/Entertainment</th>\n",
       "      <th>...</th>\n",
       "      <th>BEval_Monitoring and Analytics</th>\n",
       "      <th>BEval_Other</th>\n",
       "      <th>BEval_SP Video Infrastructure</th>\n",
       "      <th>BEval_SP Video Software and Solutions</th>\n",
       "      <th>BEval_Security</th>\n",
       "      <th>BEval_Service Provider Routing</th>\n",
       "      <th>BEval_Services ASS_L1</th>\n",
       "      <th>BEval_Services TSS_L1</th>\n",
       "      <th>BEval_UNKNOWN</th>\n",
       "      <th>BEval_Wireless</th>\n",
       "    </tr>\n",
       "    <tr>\n",
       "      <th>SAVM_GROUP_ID</th>\n",
       "      <th></th>\n",
       "      <th></th>\n",
       "      <th></th>\n",
       "      <th></th>\n",
       "      <th></th>\n",
       "      <th></th>\n",
       "      <th></th>\n",
       "      <th></th>\n",
       "      <th></th>\n",
       "      <th></th>\n",
       "      <th></th>\n",
       "      <th></th>\n",
       "      <th></th>\n",
       "      <th></th>\n",
       "      <th></th>\n",
       "      <th></th>\n",
       "      <th></th>\n",
       "      <th></th>\n",
       "      <th></th>\n",
       "      <th></th>\n",
       "      <th></th>\n",
       "      <th></th>\n",
       "    </tr>\n",
       "  </thead>\n",
       "  <tbody>\n",
       "    <tr>\n",
       "      <td rowspan=\"5\" valign=\"top\">203684841</td>\n",
       "      <td>0</td>\n",
       "      <td>201501</td>\n",
       "      <td>203684841.0</td>\n",
       "      <td>0.0</td>\n",
       "      <td>0.0</td>\n",
       "      <td>0.0</td>\n",
       "      <td>0.0</td>\n",
       "      <td>0.0</td>\n",
       "      <td>0.0</td>\n",
       "      <td>0.0</td>\n",
       "      <td>0.0</td>\n",
       "      <td>...</td>\n",
       "      <td>0.0</td>\n",
       "      <td>0.0</td>\n",
       "      <td>0.0</td>\n",
       "      <td>182560.0</td>\n",
       "      <td>25772.0</td>\n",
       "      <td>153.0</td>\n",
       "      <td>0.0</td>\n",
       "      <td>708815.0</td>\n",
       "      <td>0.0</td>\n",
       "      <td>1007.0</td>\n",
       "    </tr>\n",
       "    <tr>\n",
       "      <td>1</td>\n",
       "      <td>201502</td>\n",
       "      <td>203684841.0</td>\n",
       "      <td>0.0</td>\n",
       "      <td>0.0</td>\n",
       "      <td>0.0</td>\n",
       "      <td>0.0</td>\n",
       "      <td>0.0</td>\n",
       "      <td>0.0</td>\n",
       "      <td>0.0</td>\n",
       "      <td>0.0</td>\n",
       "      <td>...</td>\n",
       "      <td>0.0</td>\n",
       "      <td>0.0</td>\n",
       "      <td>0.0</td>\n",
       "      <td>0.0</td>\n",
       "      <td>25453.0</td>\n",
       "      <td>4237.0</td>\n",
       "      <td>3568.0</td>\n",
       "      <td>776040.0</td>\n",
       "      <td>0.0</td>\n",
       "      <td>579895.0</td>\n",
       "    </tr>\n",
       "    <tr>\n",
       "      <td>2</td>\n",
       "      <td>201503</td>\n",
       "      <td>203684841.0</td>\n",
       "      <td>0.0</td>\n",
       "      <td>0.0</td>\n",
       "      <td>0.0</td>\n",
       "      <td>0.0</td>\n",
       "      <td>0.0</td>\n",
       "      <td>0.0</td>\n",
       "      <td>0.0</td>\n",
       "      <td>0.0</td>\n",
       "      <td>...</td>\n",
       "      <td>0.0</td>\n",
       "      <td>0.0</td>\n",
       "      <td>0.0</td>\n",
       "      <td>372422.0</td>\n",
       "      <td>26051.0</td>\n",
       "      <td>4193.0</td>\n",
       "      <td>3568.0</td>\n",
       "      <td>857153.0</td>\n",
       "      <td>0.0</td>\n",
       "      <td>613614.0</td>\n",
       "    </tr>\n",
       "    <tr>\n",
       "      <td>3</td>\n",
       "      <td>201504</td>\n",
       "      <td>203684841.0</td>\n",
       "      <td>0.0</td>\n",
       "      <td>0.0</td>\n",
       "      <td>0.0</td>\n",
       "      <td>0.0</td>\n",
       "      <td>0.0</td>\n",
       "      <td>0.0</td>\n",
       "      <td>0.0</td>\n",
       "      <td>0.0</td>\n",
       "      <td>...</td>\n",
       "      <td>0.0</td>\n",
       "      <td>0.0</td>\n",
       "      <td>0.0</td>\n",
       "      <td>372422.0</td>\n",
       "      <td>62115.0</td>\n",
       "      <td>4193.0</td>\n",
       "      <td>-92139.0</td>\n",
       "      <td>3706744.0</td>\n",
       "      <td>0.0</td>\n",
       "      <td>3025706.0</td>\n",
       "    </tr>\n",
       "    <tr>\n",
       "      <td>4</td>\n",
       "      <td>201601</td>\n",
       "      <td>203684841.0</td>\n",
       "      <td>0.0</td>\n",
       "      <td>0.0</td>\n",
       "      <td>0.0</td>\n",
       "      <td>0.0</td>\n",
       "      <td>0.0</td>\n",
       "      <td>0.0</td>\n",
       "      <td>0.0</td>\n",
       "      <td>0.0</td>\n",
       "      <td>...</td>\n",
       "      <td>0.0</td>\n",
       "      <td>0.0</td>\n",
       "      <td>0.0</td>\n",
       "      <td>473800.0</td>\n",
       "      <td>62115.0</td>\n",
       "      <td>5314.0</td>\n",
       "      <td>-92139.0</td>\n",
       "      <td>4708604.0</td>\n",
       "      <td>0.0</td>\n",
       "      <td>3043443.0</td>\n",
       "    </tr>\n",
       "  </tbody>\n",
       "</table>\n",
       "<p>5 rows × 72 columns</p>\n",
       "</div>"
      ],
      "text/plain": [
       "                 year_quarter  SAVM_GROUP_ID  Vert_Education- Public/Private  \\\n",
       "SAVM_GROUP_ID                                                                  \n",
       "203684841     0        201501    203684841.0                             0.0   \n",
       "              1        201502    203684841.0                             0.0   \n",
       "              2        201503    203684841.0                             0.0   \n",
       "              3        201504    203684841.0                             0.0   \n",
       "              4        201601    203684841.0                             0.0   \n",
       "\n",
       "                 Vert_Energy/Utilities  Vert_Financial Services  \\\n",
       "SAVM_GROUP_ID                                                     \n",
       "203684841     0                    0.0                      0.0   \n",
       "              1                    0.0                      0.0   \n",
       "              2                    0.0                      0.0   \n",
       "              3                    0.0                      0.0   \n",
       "              4                    0.0                      0.0   \n",
       "\n",
       "                 Vert_Government  Vert_Health Care  \\\n",
       "SAVM_GROUP_ID                                        \n",
       "203684841     0              0.0               0.0   \n",
       "              1              0.0               0.0   \n",
       "              2              0.0               0.0   \n",
       "              3              0.0               0.0   \n",
       "              4              0.0               0.0   \n",
       "\n",
       "                 Vert_Hospitality/Hotels & Leisure  Vert_Manufacturing  \\\n",
       "SAVM_GROUP_ID                                                            \n",
       "203684841     0                                0.0                 0.0   \n",
       "              1                                0.0                 0.0   \n",
       "              2                                0.0                 0.0   \n",
       "              3                                0.0                 0.0   \n",
       "              4                                0.0                 0.0   \n",
       "\n",
       "                 Vert_Media/Entertainment  ...  \\\n",
       "SAVM_GROUP_ID                              ...   \n",
       "203684841     0                       0.0  ...   \n",
       "              1                       0.0  ...   \n",
       "              2                       0.0  ...   \n",
       "              3                       0.0  ...   \n",
       "              4                       0.0  ...   \n",
       "\n",
       "                 BEval_Monitoring and Analytics  BEval_Other  \\\n",
       "SAVM_GROUP_ID                                                  \n",
       "203684841     0                             0.0          0.0   \n",
       "              1                             0.0          0.0   \n",
       "              2                             0.0          0.0   \n",
       "              3                             0.0          0.0   \n",
       "              4                             0.0          0.0   \n",
       "\n",
       "                 BEval_SP Video Infrastructure  \\\n",
       "SAVM_GROUP_ID                                    \n",
       "203684841     0                            0.0   \n",
       "              1                            0.0   \n",
       "              2                            0.0   \n",
       "              3                            0.0   \n",
       "              4                            0.0   \n",
       "\n",
       "                 BEval_SP Video Software and Solutions  BEval_Security  \\\n",
       "SAVM_GROUP_ID                                                            \n",
       "203684841     0                               182560.0         25772.0   \n",
       "              1                                    0.0         25453.0   \n",
       "              2                               372422.0         26051.0   \n",
       "              3                               372422.0         62115.0   \n",
       "              4                               473800.0         62115.0   \n",
       "\n",
       "                 BEval_Service Provider Routing  BEval_Services ASS_L1  \\\n",
       "SAVM_GROUP_ID                                                            \n",
       "203684841     0                           153.0                    0.0   \n",
       "              1                          4237.0                 3568.0   \n",
       "              2                          4193.0                 3568.0   \n",
       "              3                          4193.0               -92139.0   \n",
       "              4                          5314.0               -92139.0   \n",
       "\n",
       "                 BEval_Services TSS_L1  BEval_UNKNOWN  BEval_Wireless  \n",
       "SAVM_GROUP_ID                                                          \n",
       "203684841     0               708815.0            0.0          1007.0  \n",
       "              1               776040.0            0.0        579895.0  \n",
       "              2               857153.0            0.0        613614.0  \n",
       "              3              3706744.0            0.0       3025706.0  \n",
       "              4              4708604.0            0.0       3043443.0  \n",
       "\n",
       "[5 rows x 72 columns]"
      ]
     },
     "execution_count": 123,
     "metadata": {},
     "output_type": "execute_result"
    }
   ],
   "source": [
    "df_aggregated_inserted.head()"
   ]
  },
  {
   "cell_type": "code",
   "execution_count": 124,
   "metadata": {},
   "outputs": [],
   "source": [
    "df_aggregated_inserted.drop(['SAVM_GROUP_ID'],axis=1,inplace=True)"
   ]
  },
  {
   "cell_type": "code",
   "execution_count": 125,
   "metadata": {},
   "outputs": [],
   "source": [
    "df_aggregated_inserted.reset_index(inplace=True)"
   ]
  },
  {
   "cell_type": "code",
   "execution_count": 126,
   "metadata": {},
   "outputs": [
    {
     "data": {
      "text/plain": [
       "(2788, 73)"
      ]
     },
     "execution_count": 126,
     "metadata": {},
     "output_type": "execute_result"
    }
   ],
   "source": [
    "df_aggregated_inserted.shape"
   ]
  },
  {
   "cell_type": "code",
   "execution_count": 127,
   "metadata": {},
   "outputs": [],
   "source": [
    "df_aggregated_inserted.drop(['level_1'],axis=1,inplace=True)"
   ]
  },
  {
   "cell_type": "code",
   "execution_count": 128,
   "metadata": {},
   "outputs": [
    {
     "data": {
      "text/html": [
       "<div>\n",
       "<style scoped>\n",
       "    .dataframe tbody tr th:only-of-type {\n",
       "        vertical-align: middle;\n",
       "    }\n",
       "\n",
       "    .dataframe tbody tr th {\n",
       "        vertical-align: top;\n",
       "    }\n",
       "\n",
       "    .dataframe thead th {\n",
       "        text-align: right;\n",
       "    }\n",
       "</style>\n",
       "<table border=\"1\" class=\"dataframe\">\n",
       "  <thead>\n",
       "    <tr style=\"text-align: right;\">\n",
       "      <th></th>\n",
       "      <th>SAVM_GROUP_ID</th>\n",
       "      <th>year_quarter</th>\n",
       "      <th>Vert_Education- Public/Private</th>\n",
       "      <th>Vert_Energy/Utilities</th>\n",
       "      <th>Vert_Financial Services</th>\n",
       "      <th>Vert_Government</th>\n",
       "      <th>Vert_Health Care</th>\n",
       "      <th>Vert_Hospitality/Hotels &amp; Leisure</th>\n",
       "      <th>Vert_Manufacturing</th>\n",
       "      <th>Vert_Media/Entertainment</th>\n",
       "      <th>...</th>\n",
       "      <th>BEval_Monitoring and Analytics</th>\n",
       "      <th>BEval_Other</th>\n",
       "      <th>BEval_SP Video Infrastructure</th>\n",
       "      <th>BEval_SP Video Software and Solutions</th>\n",
       "      <th>BEval_Security</th>\n",
       "      <th>BEval_Service Provider Routing</th>\n",
       "      <th>BEval_Services ASS_L1</th>\n",
       "      <th>BEval_Services TSS_L1</th>\n",
       "      <th>BEval_UNKNOWN</th>\n",
       "      <th>BEval_Wireless</th>\n",
       "    </tr>\n",
       "  </thead>\n",
       "  <tbody>\n",
       "    <tr>\n",
       "      <td>0</td>\n",
       "      <td>203684841</td>\n",
       "      <td>201501</td>\n",
       "      <td>0.0</td>\n",
       "      <td>0.0</td>\n",
       "      <td>0.0</td>\n",
       "      <td>0.0</td>\n",
       "      <td>0.0</td>\n",
       "      <td>0.0</td>\n",
       "      <td>0.0</td>\n",
       "      <td>0.0</td>\n",
       "      <td>...</td>\n",
       "      <td>0.0</td>\n",
       "      <td>0.0</td>\n",
       "      <td>0.0</td>\n",
       "      <td>182560.0</td>\n",
       "      <td>25772.0</td>\n",
       "      <td>153.0</td>\n",
       "      <td>0.0</td>\n",
       "      <td>708815.0</td>\n",
       "      <td>0.0</td>\n",
       "      <td>1007.0</td>\n",
       "    </tr>\n",
       "    <tr>\n",
       "      <td>1</td>\n",
       "      <td>203684841</td>\n",
       "      <td>201502</td>\n",
       "      <td>0.0</td>\n",
       "      <td>0.0</td>\n",
       "      <td>0.0</td>\n",
       "      <td>0.0</td>\n",
       "      <td>0.0</td>\n",
       "      <td>0.0</td>\n",
       "      <td>0.0</td>\n",
       "      <td>0.0</td>\n",
       "      <td>...</td>\n",
       "      <td>0.0</td>\n",
       "      <td>0.0</td>\n",
       "      <td>0.0</td>\n",
       "      <td>0.0</td>\n",
       "      <td>25453.0</td>\n",
       "      <td>4237.0</td>\n",
       "      <td>3568.0</td>\n",
       "      <td>776040.0</td>\n",
       "      <td>0.0</td>\n",
       "      <td>579895.0</td>\n",
       "    </tr>\n",
       "    <tr>\n",
       "      <td>2</td>\n",
       "      <td>203684841</td>\n",
       "      <td>201503</td>\n",
       "      <td>0.0</td>\n",
       "      <td>0.0</td>\n",
       "      <td>0.0</td>\n",
       "      <td>0.0</td>\n",
       "      <td>0.0</td>\n",
       "      <td>0.0</td>\n",
       "      <td>0.0</td>\n",
       "      <td>0.0</td>\n",
       "      <td>...</td>\n",
       "      <td>0.0</td>\n",
       "      <td>0.0</td>\n",
       "      <td>0.0</td>\n",
       "      <td>372422.0</td>\n",
       "      <td>26051.0</td>\n",
       "      <td>4193.0</td>\n",
       "      <td>3568.0</td>\n",
       "      <td>857153.0</td>\n",
       "      <td>0.0</td>\n",
       "      <td>613614.0</td>\n",
       "    </tr>\n",
       "    <tr>\n",
       "      <td>3</td>\n",
       "      <td>203684841</td>\n",
       "      <td>201504</td>\n",
       "      <td>0.0</td>\n",
       "      <td>0.0</td>\n",
       "      <td>0.0</td>\n",
       "      <td>0.0</td>\n",
       "      <td>0.0</td>\n",
       "      <td>0.0</td>\n",
       "      <td>0.0</td>\n",
       "      <td>0.0</td>\n",
       "      <td>...</td>\n",
       "      <td>0.0</td>\n",
       "      <td>0.0</td>\n",
       "      <td>0.0</td>\n",
       "      <td>372422.0</td>\n",
       "      <td>62115.0</td>\n",
       "      <td>4193.0</td>\n",
       "      <td>-92139.0</td>\n",
       "      <td>3706744.0</td>\n",
       "      <td>0.0</td>\n",
       "      <td>3025706.0</td>\n",
       "    </tr>\n",
       "    <tr>\n",
       "      <td>4</td>\n",
       "      <td>203684841</td>\n",
       "      <td>201601</td>\n",
       "      <td>0.0</td>\n",
       "      <td>0.0</td>\n",
       "      <td>0.0</td>\n",
       "      <td>0.0</td>\n",
       "      <td>0.0</td>\n",
       "      <td>0.0</td>\n",
       "      <td>0.0</td>\n",
       "      <td>0.0</td>\n",
       "      <td>...</td>\n",
       "      <td>0.0</td>\n",
       "      <td>0.0</td>\n",
       "      <td>0.0</td>\n",
       "      <td>473800.0</td>\n",
       "      <td>62115.0</td>\n",
       "      <td>5314.0</td>\n",
       "      <td>-92139.0</td>\n",
       "      <td>4708604.0</td>\n",
       "      <td>0.0</td>\n",
       "      <td>3043443.0</td>\n",
       "    </tr>\n",
       "  </tbody>\n",
       "</table>\n",
       "<p>5 rows × 72 columns</p>\n",
       "</div>"
      ],
      "text/plain": [
       "   SAVM_GROUP_ID  year_quarter  Vert_Education- Public/Private  \\\n",
       "0      203684841        201501                             0.0   \n",
       "1      203684841        201502                             0.0   \n",
       "2      203684841        201503                             0.0   \n",
       "3      203684841        201504                             0.0   \n",
       "4      203684841        201601                             0.0   \n",
       "\n",
       "   Vert_Energy/Utilities  Vert_Financial Services  Vert_Government  \\\n",
       "0                    0.0                      0.0              0.0   \n",
       "1                    0.0                      0.0              0.0   \n",
       "2                    0.0                      0.0              0.0   \n",
       "3                    0.0                      0.0              0.0   \n",
       "4                    0.0                      0.0              0.0   \n",
       "\n",
       "   Vert_Health Care  Vert_Hospitality/Hotels & Leisure  Vert_Manufacturing  \\\n",
       "0               0.0                                0.0                 0.0   \n",
       "1               0.0                                0.0                 0.0   \n",
       "2               0.0                                0.0                 0.0   \n",
       "3               0.0                                0.0                 0.0   \n",
       "4               0.0                                0.0                 0.0   \n",
       "\n",
       "   Vert_Media/Entertainment  ...  BEval_Monitoring and Analytics  BEval_Other  \\\n",
       "0                       0.0  ...                             0.0          0.0   \n",
       "1                       0.0  ...                             0.0          0.0   \n",
       "2                       0.0  ...                             0.0          0.0   \n",
       "3                       0.0  ...                             0.0          0.0   \n",
       "4                       0.0  ...                             0.0          0.0   \n",
       "\n",
       "   BEval_SP Video Infrastructure  BEval_SP Video Software and Solutions  \\\n",
       "0                            0.0                               182560.0   \n",
       "1                            0.0                                    0.0   \n",
       "2                            0.0                               372422.0   \n",
       "3                            0.0                               372422.0   \n",
       "4                            0.0                               473800.0   \n",
       "\n",
       "   BEval_Security  BEval_Service Provider Routing  BEval_Services ASS_L1  \\\n",
       "0         25772.0                           153.0                    0.0   \n",
       "1         25453.0                          4237.0                 3568.0   \n",
       "2         26051.0                          4193.0                 3568.0   \n",
       "3         62115.0                          4193.0               -92139.0   \n",
       "4         62115.0                          5314.0               -92139.0   \n",
       "\n",
       "   BEval_Services TSS_L1  BEval_UNKNOWN  BEval_Wireless  \n",
       "0               708815.0            0.0          1007.0  \n",
       "1               776040.0            0.0        579895.0  \n",
       "2               857153.0            0.0        613614.0  \n",
       "3              3706744.0            0.0       3025706.0  \n",
       "4              4708604.0            0.0       3043443.0  \n",
       "\n",
       "[5 rows x 72 columns]"
      ]
     },
     "execution_count": 128,
     "metadata": {},
     "output_type": "execute_result"
    }
   ],
   "source": [
    "df_aggregated_inserted.head()"
   ]
  },
  {
   "cell_type": "code",
   "execution_count": 129,
   "metadata": {},
   "outputs": [],
   "source": [
    "beval_columns=[col for col in df_aggregated_inserted if col.startswith('BEval_')]"
   ]
  },
  {
   "cell_type": "code",
   "execution_count": 130,
   "metadata": {},
   "outputs": [],
   "source": [
    "prod = 'BE_Reco_Prod'\n",
    "x = [i for i in df_aggregated_inserted.columns.tolist() if i!='BE_Reco_Prod']\n",
    "SAVM_Final = []\n",
    "iloop=0\n",
    "window_size = 3\n",
    "for i in df_aggregated_inserted.SAVM_GROUP_ID.unique():\n",
    "    savm_list = []\n",
    "    Test_Df = df_aggregated_inserted.loc[df_aggregated_inserted.SAVM_GROUP_ID==i,:]\n",
    "    for j in range(0,window_size+1):\n",
    "        if(j<window_size):\n",
    "            df_shift = Test_Df[x].shift(-j)\n",
    "            df_shift.columns = [k+'t_'+str(j) for k in df_shift.columns]\n",
    "            savm_list.append(df_shift)\n",
    "        if(j == window_size):\n",
    "            Shifted_Df = Test_Df[[prod]].shift(-j)\n",
    "            Shifted_Df.columns = ['BE_Reco_Prod_t']\n",
    "            savm_list.append(Shifted_Df)\n",
    "    iloop+=1\n",
    "    if(np.divmod(iloop,1000)[1]==0):\n",
    "        print('completed '+str(iloop))\n",
    "    df_IE2K = pd.concat(savm_list,axis=1)\n",
    "    df_IE2K.dropna(inplace=True,axis=0)\n",
    "    SAVM_Final.append(df_IE2K)"
   ]
  },
  {
   "cell_type": "code",
   "execution_count": 131,
   "metadata": {},
   "outputs": [],
   "source": [
    "Final_Data = pd.concat(SAVM_Final,axis=0)\n",
    "SAVM_collated =  Final_Data"
   ]
  },
  {
   "cell_type": "code",
   "execution_count": 132,
   "metadata": {},
   "outputs": [
    {
     "name": "stdout",
     "output_type": "stream",
     "text": [
      "<class 'pandas.core.frame.DataFrame'>\n",
      "Int64Index: 2282 entries, 0 to 2780\n",
      "Columns: 214 entries, SAVM_GROUP_IDt_0 to BE_Reco_Prod_t\n",
      "dtypes: float64(211), int64(3)\n",
      "memory usage: 3.7 MB\n"
     ]
    }
   ],
   "source": [
    "SAVM_collated.info()"
   ]
  },
  {
   "cell_type": "code",
   "execution_count": 133,
   "metadata": {},
   "outputs": [
    {
     "data": {
      "text/plain": [
       "count    2282.000000\n",
       "mean        0.034107\n",
       "std         0.083638\n",
       "min         0.000000\n",
       "25%         0.000000\n",
       "50%         0.000000\n",
       "75%         0.000000\n",
       "max         0.583333\n",
       "Name: ACTIVE_3YEARSt_0, dtype: float64"
      ]
     },
     "execution_count": 133,
     "metadata": {},
     "output_type": "execute_result"
    }
   ],
   "source": [
    "SAVM_collated['ACTIVE_3YEARSt_0'].describe()"
   ]
  },
  {
   "cell_type": "code",
   "execution_count": 134,
   "metadata": {},
   "outputs": [],
   "source": [
    "SAVM_collated.replace([np.inf, -np.inf], np.nan,inplace=True)"
   ]
  },
  {
   "cell_type": "code",
   "execution_count": 135,
   "metadata": {},
   "outputs": [],
   "source": [
    "SAVM_collated.fillna(0,inplace=True)"
   ]
  },
  {
   "cell_type": "code",
   "execution_count": 136,
   "metadata": {},
   "outputs": [],
   "source": [
    "#beval_columns=[col for col in df_aggregated_inserted if col.startswith('BEval_')]"
   ]
  },
  {
   "cell_type": "code",
   "execution_count": 137,
   "metadata": {},
   "outputs": [],
   "source": [
    "beval_columns_1=[col for col in SAVM_collated if col.startswith('BEval_')]\n",
    "vr_columns_1=[col for col in SAVM_collated if col.startswith('Vert_')]\n",
    "be_columns_1=[col for col in SAVM_collated if col.startswith('BE_')]\n"
   ]
  },
  {
   "cell_type": "code",
   "execution_count": 138,
   "metadata": {},
   "outputs": [],
   "source": [
    "SAVM_collated[vr_columns_1]=SAVM_collated[vr_columns_1].astype(int)\n",
    "SAVM_collated[be_columns_1]=SAVM_collated[be_columns_1].astype(int)\n",
    "SAVM_collated[beval_columns_1]=SAVM_collated[beval_columns_1].astype(int)"
   ]
  },
  {
   "cell_type": "code",
   "execution_count": 139,
   "metadata": {},
   "outputs": [],
   "source": [
    "#SAVM_collated = SAVM_collated.astype(int)"
   ]
  },
  {
   "cell_type": "code",
   "execution_count": 140,
   "metadata": {},
   "outputs": [
    {
     "name": "stdout",
     "output_type": "stream",
     "text": [
      "<class 'pandas.core.frame.DataFrame'>\n",
      "Int64Index: 2282 entries, 0 to 2780\n",
      "Columns: 214 entries, SAVM_GROUP_IDt_0 to BE_Reco_Prod_t\n",
      "dtypes: float64(63), int32(148), int64(3)\n",
      "memory usage: 2.5 MB\n"
     ]
    }
   ],
   "source": [
    "SAVM_collated.info()"
   ]
  },
  {
   "cell_type": "code",
   "execution_count": 141,
   "metadata": {},
   "outputs": [],
   "source": [
    "SAVM_collated['BE_Reco_Prod_t'] = np.where(SAVM_collated['BE_Reco_Prod_t']>=1,1,0)"
   ]
  },
  {
   "cell_type": "code",
   "execution_count": 142,
   "metadata": {},
   "outputs": [],
   "source": [
    "SAVM_collated.to_csv('SAVM_collated_revised_DataCenter.csv')"
   ]
  },
  {
   "cell_type": "code",
   "execution_count": 143,
   "metadata": {},
   "outputs": [],
   "source": [
    "SAVM_collated=pd.read_csv('SAVM_collated_revised_DataCenter.csv')"
   ]
  },
  {
   "cell_type": "code",
   "execution_count": 144,
   "metadata": {},
   "outputs": [],
   "source": [
    "SAVM_collated.drop('Unnamed: 0',axis=1,inplace=True)"
   ]
  },
  {
   "cell_type": "code",
   "execution_count": 145,
   "metadata": {},
   "outputs": [
    {
     "data": {
      "text/plain": [
       "0    2118\n",
       "1     164\n",
       "Name: BE_Reco_Prod_t, dtype: int64"
      ]
     },
     "execution_count": 145,
     "metadata": {},
     "output_type": "execute_result"
    }
   ],
   "source": [
    "SAVM_collated['BE_Reco_Prod_t'].value_counts()"
   ]
  },
  {
   "cell_type": "code",
   "execution_count": 146,
   "metadata": {},
   "outputs": [],
   "source": [
    "def add_qtr(x):\n",
    "    qtr = int(str(int(x))[-1:])\n",
    "    year = int(str(int(x))[:4])\n",
    "    if(qtr==4):\n",
    "        year = year+1\n",
    "        yrqtr = str(year)+'01'\n",
    "        yrqtr = int(yrqtr)\n",
    "    else:\n",
    "        yrqtr = int(x)+1    \n",
    "    return(yrqtr)    "
   ]
  },
  {
   "cell_type": "code",
   "execution_count": 147,
   "metadata": {},
   "outputs": [],
   "source": [
    "SAVM_collated['year_quartert_3'] = SAVM_collated['year_quartert_2'].apply(lambda x: add_qtr(x))"
   ]
  },
  {
   "cell_type": "code",
   "execution_count": 148,
   "metadata": {},
   "outputs": [
    {
     "data": {
      "text/plain": [
       "array([201204, 201301, 201302, 201303, 201304, 201401, 201402, 201403,\n",
       "       201404, 201501, 201502, 201503, 201504, 201601, 201602, 201603,\n",
       "       201604, 201701, 201702, 201703, 201704, 201801, 201802, 201803,\n",
       "       201804, 201901, 201902, 201903, 201904, 202001, 202002, 202003],\n",
       "      dtype=int64)"
      ]
     },
     "execution_count": 148,
     "metadata": {},
     "output_type": "execute_result"
    }
   ],
   "source": [
    "np.sort(SAVM_collated['year_quartert_3'].unique())"
   ]
  },
  {
   "cell_type": "code",
   "execution_count": 149,
   "metadata": {},
   "outputs": [],
   "source": [
    "# train_period = [201204, 201301, 201302, 201303, 201304, 201401, 201402, 201403,\n",
    "#        201404, 201501, 201502, 201503, 201504, 201601, 201602, 201603,\n",
    "#        201604, 201701, 201702, 201703, 201704, 201801, 201802, 201803]\n",
    "# val_period =  [201804, 201901, 201902, 201903]\n",
    "# test_period = [201904, 202001, 202002, 202003]"
   ]
  },
  {
   "cell_type": "code",
   "execution_count": 150,
   "metadata": {},
   "outputs": [],
   "source": [
    "train_period = [201204, 201301, 201302, 201303, 201304, 201401, 201402, 201403,\n",
    "       201404, 201501, 201502, 201503, 201504, 201601, 201602, 201603,\n",
    "       201604, 201701, 201702, 201703,201704, 201801,201802,201803,201804,201901,201902]\n",
    "val_period =  [201903,201904]\n",
    "test_period = [202001, 202002, 202003]"
   ]
  },
  {
   "cell_type": "code",
   "execution_count": 151,
   "metadata": {},
   "outputs": [],
   "source": [
    "SAVM_collated_copy = SAVM_collated.copy()"
   ]
  },
  {
   "cell_type": "code",
   "execution_count": 152,
   "metadata": {},
   "outputs": [],
   "source": [
    "#SAVM_collated= SAVM_collated_copy.copy()"
   ]
  },
  {
   "cell_type": "code",
   "execution_count": 153,
   "metadata": {},
   "outputs": [],
   "source": [
    "# SAVM_collated.to_csv('SAVM_collated.csv')"
   ]
  },
  {
   "cell_type": "code",
   "execution_count": 154,
   "metadata": {},
   "outputs": [],
   "source": [
    "droping = [i for i in SAVM_collated_copy.columns.tolist() if len(i.split('SAVM_GROUP_ID'))>1]"
   ]
  },
  {
   "cell_type": "code",
   "execution_count": 155,
   "metadata": {},
   "outputs": [],
   "source": [
    "SAVM_collated.drop(droping,axis=1,inplace=True)"
   ]
  },
  {
   "cell_type": "code",
   "execution_count": 156,
   "metadata": {},
   "outputs": [],
   "source": [
    "from sklearn.preprocessing import MinMaxScaler\n",
    "scaler = MinMaxScaler()\n",
    "SAVM_collated[SAVM_collated.columns.difference(['BE_Reco_Prod_t','year_quartert_3'])]=scaler.fit_transform(SAVM_collated[SAVM_collated.columns.difference(['BE_Reco_Prod_t','year_quartert_3'])])"
   ]
  },
  {
   "cell_type": "code",
   "execution_count": 157,
   "metadata": {},
   "outputs": [
    {
     "data": {
      "text/plain": [
       "0    2118\n",
       "1     164\n",
       "Name: BE_Reco_Prod_t, dtype: int64"
      ]
     },
     "execution_count": 157,
     "metadata": {},
     "output_type": "execute_result"
    }
   ],
   "source": [
    "SAVM_collated['BE_Reco_Prod_t'].value_counts()"
   ]
  },
  {
   "cell_type": "code",
   "execution_count": 158,
   "metadata": {},
   "outputs": [
    {
     "data": {
      "text/html": [
       "<div>\n",
       "<style scoped>\n",
       "    .dataframe tbody tr th:only-of-type {\n",
       "        vertical-align: middle;\n",
       "    }\n",
       "\n",
       "    .dataframe tbody tr th {\n",
       "        vertical-align: top;\n",
       "    }\n",
       "\n",
       "    .dataframe thead th {\n",
       "        text-align: right;\n",
       "    }\n",
       "</style>\n",
       "<table border=\"1\" class=\"dataframe\">\n",
       "  <thead>\n",
       "    <tr style=\"text-align: right;\">\n",
       "      <th></th>\n",
       "      <th>year_quartert_0</th>\n",
       "      <th>Vert_Education- Public/Privatet_0</th>\n",
       "      <th>Vert_Energy/Utilitiest_0</th>\n",
       "      <th>Vert_Financial Servicest_0</th>\n",
       "      <th>Vert_Governmentt_0</th>\n",
       "      <th>Vert_Health Caret_0</th>\n",
       "      <th>Vert_Hospitality/Hotels &amp; Leisuret_0</th>\n",
       "      <th>Vert_Manufacturingt_0</th>\n",
       "      <th>Vert_Media/Entertainmentt_0</th>\n",
       "      <th>Vert_Professional Servicest_0</th>\n",
       "      <th>...</th>\n",
       "      <th>BEval_SP Video Infrastructuret_2</th>\n",
       "      <th>BEval_SP Video Software and Solutionst_2</th>\n",
       "      <th>BEval_Securityt_2</th>\n",
       "      <th>BEval_Service Provider Routingt_2</th>\n",
       "      <th>BEval_Services ASS_L1t_2</th>\n",
       "      <th>BEval_Services TSS_L1t_2</th>\n",
       "      <th>BEval_UNKNOWNt_2</th>\n",
       "      <th>BEval_Wirelesst_2</th>\n",
       "      <th>BE_Reco_Prod_t</th>\n",
       "      <th>year_quartert_3</th>\n",
       "    </tr>\n",
       "  </thead>\n",
       "  <tbody>\n",
       "    <tr>\n",
       "      <td>0</td>\n",
       "      <td>0.426743</td>\n",
       "      <td>0.0</td>\n",
       "      <td>0.0</td>\n",
       "      <td>0.0</td>\n",
       "      <td>0.0</td>\n",
       "      <td>0.0</td>\n",
       "      <td>0.0</td>\n",
       "      <td>0.0</td>\n",
       "      <td>0.0</td>\n",
       "      <td>0.0</td>\n",
       "      <td>...</td>\n",
       "      <td>0.0</td>\n",
       "      <td>0.056494</td>\n",
       "      <td>0.004362</td>\n",
       "      <td>0.000018</td>\n",
       "      <td>0.722870</td>\n",
       "      <td>0.012081</td>\n",
       "      <td>0.010744</td>\n",
       "      <td>0.014762</td>\n",
       "      <td>0</td>\n",
       "      <td>201504</td>\n",
       "    </tr>\n",
       "    <tr>\n",
       "      <td>1</td>\n",
       "      <td>0.428165</td>\n",
       "      <td>0.0</td>\n",
       "      <td>0.0</td>\n",
       "      <td>0.0</td>\n",
       "      <td>0.0</td>\n",
       "      <td>0.0</td>\n",
       "      <td>0.0</td>\n",
       "      <td>0.0</td>\n",
       "      <td>0.0</td>\n",
       "      <td>0.0</td>\n",
       "      <td>...</td>\n",
       "      <td>0.0</td>\n",
       "      <td>0.056494</td>\n",
       "      <td>0.005722</td>\n",
       "      <td>0.000018</td>\n",
       "      <td>0.722344</td>\n",
       "      <td>0.046834</td>\n",
       "      <td>0.010744</td>\n",
       "      <td>0.067316</td>\n",
       "      <td>0</td>\n",
       "      <td>201601</td>\n",
       "    </tr>\n",
       "    <tr>\n",
       "      <td>2</td>\n",
       "      <td>0.429587</td>\n",
       "      <td>0.0</td>\n",
       "      <td>0.0</td>\n",
       "      <td>0.0</td>\n",
       "      <td>0.0</td>\n",
       "      <td>0.0</td>\n",
       "      <td>0.0</td>\n",
       "      <td>0.0</td>\n",
       "      <td>0.0</td>\n",
       "      <td>0.0</td>\n",
       "      <td>...</td>\n",
       "      <td>0.0</td>\n",
       "      <td>0.071505</td>\n",
       "      <td>0.005722</td>\n",
       "      <td>0.000023</td>\n",
       "      <td>0.722344</td>\n",
       "      <td>0.059052</td>\n",
       "      <td>0.010744</td>\n",
       "      <td>0.067702</td>\n",
       "      <td>0</td>\n",
       "      <td>201602</td>\n",
       "    </tr>\n",
       "    <tr>\n",
       "      <td>3</td>\n",
       "      <td>0.431010</td>\n",
       "      <td>0.0</td>\n",
       "      <td>0.0</td>\n",
       "      <td>0.0</td>\n",
       "      <td>0.0</td>\n",
       "      <td>0.0</td>\n",
       "      <td>0.0</td>\n",
       "      <td>0.0</td>\n",
       "      <td>0.0</td>\n",
       "      <td>0.0</td>\n",
       "      <td>...</td>\n",
       "      <td>0.0</td>\n",
       "      <td>0.056213</td>\n",
       "      <td>0.029572</td>\n",
       "      <td>0.000062</td>\n",
       "      <td>0.722850</td>\n",
       "      <td>0.060502</td>\n",
       "      <td>0.010744</td>\n",
       "      <td>0.083373</td>\n",
       "      <td>0</td>\n",
       "      <td>201603</td>\n",
       "    </tr>\n",
       "    <tr>\n",
       "      <td>4</td>\n",
       "      <td>0.568990</td>\n",
       "      <td>0.0</td>\n",
       "      <td>0.0</td>\n",
       "      <td>0.0</td>\n",
       "      <td>0.0</td>\n",
       "      <td>0.0</td>\n",
       "      <td>0.0</td>\n",
       "      <td>0.0</td>\n",
       "      <td>0.0</td>\n",
       "      <td>0.0</td>\n",
       "      <td>...</td>\n",
       "      <td>0.0</td>\n",
       "      <td>0.067025</td>\n",
       "      <td>0.029574</td>\n",
       "      <td>0.000076</td>\n",
       "      <td>0.722850</td>\n",
       "      <td>0.061242</td>\n",
       "      <td>0.010744</td>\n",
       "      <td>0.085344</td>\n",
       "      <td>0</td>\n",
       "      <td>201604</td>\n",
       "    </tr>\n",
       "  </tbody>\n",
       "</table>\n",
       "<p>5 rows × 212 columns</p>\n",
       "</div>"
      ],
      "text/plain": [
       "   year_quartert_0  Vert_Education- Public/Privatet_0  \\\n",
       "0         0.426743                                0.0   \n",
       "1         0.428165                                0.0   \n",
       "2         0.429587                                0.0   \n",
       "3         0.431010                                0.0   \n",
       "4         0.568990                                0.0   \n",
       "\n",
       "   Vert_Energy/Utilitiest_0  Vert_Financial Servicest_0  Vert_Governmentt_0  \\\n",
       "0                       0.0                         0.0                 0.0   \n",
       "1                       0.0                         0.0                 0.0   \n",
       "2                       0.0                         0.0                 0.0   \n",
       "3                       0.0                         0.0                 0.0   \n",
       "4                       0.0                         0.0                 0.0   \n",
       "\n",
       "   Vert_Health Caret_0  Vert_Hospitality/Hotels & Leisuret_0  \\\n",
       "0                  0.0                                   0.0   \n",
       "1                  0.0                                   0.0   \n",
       "2                  0.0                                   0.0   \n",
       "3                  0.0                                   0.0   \n",
       "4                  0.0                                   0.0   \n",
       "\n",
       "   Vert_Manufacturingt_0  Vert_Media/Entertainmentt_0  \\\n",
       "0                    0.0                          0.0   \n",
       "1                    0.0                          0.0   \n",
       "2                    0.0                          0.0   \n",
       "3                    0.0                          0.0   \n",
       "4                    0.0                          0.0   \n",
       "\n",
       "   Vert_Professional Servicest_0  ...  BEval_SP Video Infrastructuret_2  \\\n",
       "0                            0.0  ...                               0.0   \n",
       "1                            0.0  ...                               0.0   \n",
       "2                            0.0  ...                               0.0   \n",
       "3                            0.0  ...                               0.0   \n",
       "4                            0.0  ...                               0.0   \n",
       "\n",
       "   BEval_SP Video Software and Solutionst_2  BEval_Securityt_2  \\\n",
       "0                                  0.056494           0.004362   \n",
       "1                                  0.056494           0.005722   \n",
       "2                                  0.071505           0.005722   \n",
       "3                                  0.056213           0.029572   \n",
       "4                                  0.067025           0.029574   \n",
       "\n",
       "   BEval_Service Provider Routingt_2  BEval_Services ASS_L1t_2  \\\n",
       "0                           0.000018                  0.722870   \n",
       "1                           0.000018                  0.722344   \n",
       "2                           0.000023                  0.722344   \n",
       "3                           0.000062                  0.722850   \n",
       "4                           0.000076                  0.722850   \n",
       "\n",
       "   BEval_Services TSS_L1t_2  BEval_UNKNOWNt_2  BEval_Wirelesst_2  \\\n",
       "0                  0.012081          0.010744           0.014762   \n",
       "1                  0.046834          0.010744           0.067316   \n",
       "2                  0.059052          0.010744           0.067702   \n",
       "3                  0.060502          0.010744           0.083373   \n",
       "4                  0.061242          0.010744           0.085344   \n",
       "\n",
       "   BE_Reco_Prod_t  year_quartert_3  \n",
       "0               0           201504  \n",
       "1               0           201601  \n",
       "2               0           201602  \n",
       "3               0           201603  \n",
       "4               0           201604  \n",
       "\n",
       "[5 rows x 212 columns]"
      ]
     },
     "execution_count": 158,
     "metadata": {},
     "output_type": "execute_result"
    }
   ],
   "source": [
    "SAVM_collated.head()"
   ]
  },
  {
   "cell_type": "code",
   "execution_count": 159,
   "metadata": {},
   "outputs": [],
   "source": [
    "SAVM_collated.drop(['year_quartert_0','year_quartert_1','year_quartert_2'],axis=1,inplace=True)"
   ]
  },
  {
   "cell_type": "code",
   "execution_count": 160,
   "metadata": {},
   "outputs": [
    {
     "data": {
      "text/html": [
       "<div>\n",
       "<style scoped>\n",
       "    .dataframe tbody tr th:only-of-type {\n",
       "        vertical-align: middle;\n",
       "    }\n",
       "\n",
       "    .dataframe tbody tr th {\n",
       "        vertical-align: top;\n",
       "    }\n",
       "\n",
       "    .dataframe thead th {\n",
       "        text-align: right;\n",
       "    }\n",
       "</style>\n",
       "<table border=\"1\" class=\"dataframe\">\n",
       "  <thead>\n",
       "    <tr style=\"text-align: right;\">\n",
       "      <th></th>\n",
       "      <th>Vert_Education- Public/Privatet_0</th>\n",
       "      <th>Vert_Energy/Utilitiest_0</th>\n",
       "      <th>Vert_Financial Servicest_0</th>\n",
       "      <th>Vert_Governmentt_0</th>\n",
       "      <th>Vert_Health Caret_0</th>\n",
       "      <th>Vert_Hospitality/Hotels &amp; Leisuret_0</th>\n",
       "      <th>Vert_Manufacturingt_0</th>\n",
       "      <th>Vert_Media/Entertainmentt_0</th>\n",
       "      <th>Vert_Professional Servicest_0</th>\n",
       "      <th>Vert_Retailt_0</th>\n",
       "      <th>...</th>\n",
       "      <th>BEval_SP Video Infrastructuret_2</th>\n",
       "      <th>BEval_SP Video Software and Solutionst_2</th>\n",
       "      <th>BEval_Securityt_2</th>\n",
       "      <th>BEval_Service Provider Routingt_2</th>\n",
       "      <th>BEval_Services ASS_L1t_2</th>\n",
       "      <th>BEval_Services TSS_L1t_2</th>\n",
       "      <th>BEval_UNKNOWNt_2</th>\n",
       "      <th>BEval_Wirelesst_2</th>\n",
       "      <th>BE_Reco_Prod_t</th>\n",
       "      <th>year_quartert_3</th>\n",
       "    </tr>\n",
       "  </thead>\n",
       "  <tbody>\n",
       "    <tr>\n",
       "      <td>0</td>\n",
       "      <td>0.0</td>\n",
       "      <td>0.0</td>\n",
       "      <td>0.0</td>\n",
       "      <td>0.0</td>\n",
       "      <td>0.0</td>\n",
       "      <td>0.0</td>\n",
       "      <td>0.0</td>\n",
       "      <td>0.0</td>\n",
       "      <td>0.0</td>\n",
       "      <td>1.0</td>\n",
       "      <td>...</td>\n",
       "      <td>0.0</td>\n",
       "      <td>0.056494</td>\n",
       "      <td>0.004362</td>\n",
       "      <td>0.000018</td>\n",
       "      <td>0.722870</td>\n",
       "      <td>0.012081</td>\n",
       "      <td>0.010744</td>\n",
       "      <td>0.014762</td>\n",
       "      <td>0</td>\n",
       "      <td>201504</td>\n",
       "    </tr>\n",
       "    <tr>\n",
       "      <td>1</td>\n",
       "      <td>0.0</td>\n",
       "      <td>0.0</td>\n",
       "      <td>0.0</td>\n",
       "      <td>0.0</td>\n",
       "      <td>0.0</td>\n",
       "      <td>0.0</td>\n",
       "      <td>0.0</td>\n",
       "      <td>0.0</td>\n",
       "      <td>0.0</td>\n",
       "      <td>1.0</td>\n",
       "      <td>...</td>\n",
       "      <td>0.0</td>\n",
       "      <td>0.056494</td>\n",
       "      <td>0.005722</td>\n",
       "      <td>0.000018</td>\n",
       "      <td>0.722344</td>\n",
       "      <td>0.046834</td>\n",
       "      <td>0.010744</td>\n",
       "      <td>0.067316</td>\n",
       "      <td>0</td>\n",
       "      <td>201601</td>\n",
       "    </tr>\n",
       "    <tr>\n",
       "      <td>2</td>\n",
       "      <td>0.0</td>\n",
       "      <td>0.0</td>\n",
       "      <td>0.0</td>\n",
       "      <td>0.0</td>\n",
       "      <td>0.0</td>\n",
       "      <td>0.0</td>\n",
       "      <td>0.0</td>\n",
       "      <td>0.0</td>\n",
       "      <td>0.0</td>\n",
       "      <td>1.0</td>\n",
       "      <td>...</td>\n",
       "      <td>0.0</td>\n",
       "      <td>0.071505</td>\n",
       "      <td>0.005722</td>\n",
       "      <td>0.000023</td>\n",
       "      <td>0.722344</td>\n",
       "      <td>0.059052</td>\n",
       "      <td>0.010744</td>\n",
       "      <td>0.067702</td>\n",
       "      <td>0</td>\n",
       "      <td>201602</td>\n",
       "    </tr>\n",
       "    <tr>\n",
       "      <td>3</td>\n",
       "      <td>0.0</td>\n",
       "      <td>0.0</td>\n",
       "      <td>0.0</td>\n",
       "      <td>0.0</td>\n",
       "      <td>0.0</td>\n",
       "      <td>0.0</td>\n",
       "      <td>0.0</td>\n",
       "      <td>0.0</td>\n",
       "      <td>0.0</td>\n",
       "      <td>1.0</td>\n",
       "      <td>...</td>\n",
       "      <td>0.0</td>\n",
       "      <td>0.056213</td>\n",
       "      <td>0.029572</td>\n",
       "      <td>0.000062</td>\n",
       "      <td>0.722850</td>\n",
       "      <td>0.060502</td>\n",
       "      <td>0.010744</td>\n",
       "      <td>0.083373</td>\n",
       "      <td>0</td>\n",
       "      <td>201603</td>\n",
       "    </tr>\n",
       "    <tr>\n",
       "      <td>4</td>\n",
       "      <td>0.0</td>\n",
       "      <td>0.0</td>\n",
       "      <td>0.0</td>\n",
       "      <td>0.0</td>\n",
       "      <td>0.0</td>\n",
       "      <td>0.0</td>\n",
       "      <td>0.0</td>\n",
       "      <td>0.0</td>\n",
       "      <td>0.0</td>\n",
       "      <td>1.0</td>\n",
       "      <td>...</td>\n",
       "      <td>0.0</td>\n",
       "      <td>0.067025</td>\n",
       "      <td>0.029574</td>\n",
       "      <td>0.000076</td>\n",
       "      <td>0.722850</td>\n",
       "      <td>0.061242</td>\n",
       "      <td>0.010744</td>\n",
       "      <td>0.085344</td>\n",
       "      <td>0</td>\n",
       "      <td>201604</td>\n",
       "    </tr>\n",
       "  </tbody>\n",
       "</table>\n",
       "<p>5 rows × 209 columns</p>\n",
       "</div>"
      ],
      "text/plain": [
       "   Vert_Education- Public/Privatet_0  Vert_Energy/Utilitiest_0  \\\n",
       "0                                0.0                       0.0   \n",
       "1                                0.0                       0.0   \n",
       "2                                0.0                       0.0   \n",
       "3                                0.0                       0.0   \n",
       "4                                0.0                       0.0   \n",
       "\n",
       "   Vert_Financial Servicest_0  Vert_Governmentt_0  Vert_Health Caret_0  \\\n",
       "0                         0.0                 0.0                  0.0   \n",
       "1                         0.0                 0.0                  0.0   \n",
       "2                         0.0                 0.0                  0.0   \n",
       "3                         0.0                 0.0                  0.0   \n",
       "4                         0.0                 0.0                  0.0   \n",
       "\n",
       "   Vert_Hospitality/Hotels & Leisuret_0  Vert_Manufacturingt_0  \\\n",
       "0                                   0.0                    0.0   \n",
       "1                                   0.0                    0.0   \n",
       "2                                   0.0                    0.0   \n",
       "3                                   0.0                    0.0   \n",
       "4                                   0.0                    0.0   \n",
       "\n",
       "   Vert_Media/Entertainmentt_0  Vert_Professional Servicest_0  Vert_Retailt_0  \\\n",
       "0                          0.0                            0.0             1.0   \n",
       "1                          0.0                            0.0             1.0   \n",
       "2                          0.0                            0.0             1.0   \n",
       "3                          0.0                            0.0             1.0   \n",
       "4                          0.0                            0.0             1.0   \n",
       "\n",
       "   ...  BEval_SP Video Infrastructuret_2  \\\n",
       "0  ...                               0.0   \n",
       "1  ...                               0.0   \n",
       "2  ...                               0.0   \n",
       "3  ...                               0.0   \n",
       "4  ...                               0.0   \n",
       "\n",
       "   BEval_SP Video Software and Solutionst_2  BEval_Securityt_2  \\\n",
       "0                                  0.056494           0.004362   \n",
       "1                                  0.056494           0.005722   \n",
       "2                                  0.071505           0.005722   \n",
       "3                                  0.056213           0.029572   \n",
       "4                                  0.067025           0.029574   \n",
       "\n",
       "   BEval_Service Provider Routingt_2  BEval_Services ASS_L1t_2  \\\n",
       "0                           0.000018                  0.722870   \n",
       "1                           0.000018                  0.722344   \n",
       "2                           0.000023                  0.722344   \n",
       "3                           0.000062                  0.722850   \n",
       "4                           0.000076                  0.722850   \n",
       "\n",
       "   BEval_Services TSS_L1t_2  BEval_UNKNOWNt_2  BEval_Wirelesst_2  \\\n",
       "0                  0.012081          0.010744           0.014762   \n",
       "1                  0.046834          0.010744           0.067316   \n",
       "2                  0.059052          0.010744           0.067702   \n",
       "3                  0.060502          0.010744           0.083373   \n",
       "4                  0.061242          0.010744           0.085344   \n",
       "\n",
       "   BE_Reco_Prod_t  year_quartert_3  \n",
       "0               0           201504  \n",
       "1               0           201601  \n",
       "2               0           201602  \n",
       "3               0           201603  \n",
       "4               0           201604  \n",
       "\n",
       "[5 rows x 209 columns]"
      ]
     },
     "execution_count": 160,
     "metadata": {},
     "output_type": "execute_result"
    }
   ],
   "source": [
    "SAVM_collated.head()"
   ]
  },
  {
   "cell_type": "code",
   "execution_count": 161,
   "metadata": {},
   "outputs": [],
   "source": [
    "Train = SAVM_collated.loc[SAVM_collated.year_quartert_3.isin(train_period),:]\n",
    "Val=SAVM_collated.loc[SAVM_collated.year_quartert_3.isin(val_period),:]\n",
    "Test = SAVM_collated.loc[SAVM_collated.year_quartert_3.isin(test_period),:]"
   ]
  },
  {
   "cell_type": "code",
   "execution_count": 162,
   "metadata": {},
   "outputs": [
    {
     "data": {
      "text/plain": [
       "((2015, 209), (165, 209), (102, 209))"
      ]
     },
     "execution_count": 162,
     "metadata": {},
     "output_type": "execute_result"
    }
   ],
   "source": [
    "Train.shape,Val.shape,Test.shape"
   ]
  },
  {
   "cell_type": "code",
   "execution_count": 163,
   "metadata": {},
   "outputs": [],
   "source": [
    "Train.drop('year_quartert_3',axis=1,inplace=True)\n",
    "Val.drop('year_quartert_3',axis=1,inplace=True)\n",
    "Test.drop('year_quartert_3',axis=1,inplace=True)"
   ]
  },
  {
   "cell_type": "code",
   "execution_count": 164,
   "metadata": {},
   "outputs": [],
   "source": [
    "y_train = Train['BE_Reco_Prod_t']\n",
    "X_train = Train.drop('BE_Reco_Prod_t',axis=1)"
   ]
  },
  {
   "cell_type": "code",
   "execution_count": 165,
   "metadata": {},
   "outputs": [],
   "source": [
    "y_val = Val['BE_Reco_Prod_t']\n",
    "X_val = Val.drop('BE_Reco_Prod_t',axis=1)\n",
    "y_test = Test['BE_Reco_Prod_t']\n",
    "X_test = Test.drop('BE_Reco_Prod_t',axis=1)"
   ]
  },
  {
   "cell_type": "code",
   "execution_count": 166,
   "metadata": {},
   "outputs": [
    {
     "data": {
      "text/plain": [
       "((2015, 207), (165, 207), (102, 207), (2015,), (165,), (102,))"
      ]
     },
     "execution_count": 166,
     "metadata": {},
     "output_type": "execute_result"
    }
   ],
   "source": [
    "X_train.shape,X_val.shape,X_test.shape,y_train.shape,y_val.shape,y_test.shape"
   ]
  },
  {
   "cell_type": "code",
   "execution_count": 167,
   "metadata": {},
   "outputs": [
    {
     "name": "stdout",
     "output_type": "stream",
     "text": [
      "0    1942\n",
      "1      73\n",
      "Name: BE_Reco_Prod_t, dtype: int64\n",
      "0    127\n",
      "1     38\n",
      "Name: BE_Reco_Prod_t, dtype: int64\n",
      "1    53\n",
      "0    49\n",
      "Name: BE_Reco_Prod_t, dtype: int64\n"
     ]
    }
   ],
   "source": [
    "print(y_train.value_counts())\n",
    "print(y_val.value_counts())\n",
    "print(y_test.value_counts())"
   ]
  },
  {
   "cell_type": "code",
   "execution_count": 168,
   "metadata": {},
   "outputs": [
    {
     "data": {
      "text/plain": [
       "(0.036228287841191066, 0.23030303030303031, 0.5196078431372549)"
      ]
     },
     "execution_count": 168,
     "metadata": {},
     "output_type": "execute_result"
    }
   ],
   "source": [
    "y_train.mean(),y_val.mean(),y_test.mean()"
   ]
  },
  {
   "cell_type": "code",
   "execution_count": 169,
   "metadata": {},
   "outputs": [],
   "source": [
    "# X_train_100 = X_train.head(100)\n",
    "# X_train_100.to_csv('Train_EY_Colab.csv')"
   ]
  },
  {
   "cell_type": "code",
   "execution_count": 170,
   "metadata": {},
   "outputs": [
    {
     "name": "stderr",
     "output_type": "stream",
     "text": [
      "Using TensorFlow backend.\n"
     ]
    }
   ],
   "source": [
    "from collections import Counter\n",
    "warnings.filterwarnings(\"ignore\", category=UserWarning, module='bs4')\n",
    "import tensorflow as tf\n",
    "from keras.utils import to_categorical\n",
    "from tqdm import tqdm\n",
    "import random\n",
    "from sklearn.model_selection import train_test_split\n",
    "from keras.preprocessing import sequence\n",
    "from keras.preprocessing.text import Tokenizer\n",
    "from keras.layers import Dense,Dropout,Embedding,LSTM\n",
    "from keras.callbacks import EarlyStopping\n",
    "from keras.losses import categorical_crossentropy\n",
    "from keras.optimizers import Adam\n",
    "from keras.models import Sequential\n",
    "import warnings\n",
    "warnings.filterwarnings(\"ignore\")"
   ]
  },
  {
   "cell_type": "code",
   "execution_count": 171,
   "metadata": {},
   "outputs": [],
   "source": [
    "#keras.__version__"
   ]
  },
  {
   "cell_type": "code",
   "execution_count": 172,
   "metadata": {},
   "outputs": [],
   "source": [
    "import keras"
   ]
  },
  {
   "cell_type": "code",
   "execution_count": 173,
   "metadata": {},
   "outputs": [],
   "source": [
    "cols=X_train.values.shape[1]"
   ]
  },
  {
   "cell_type": "code",
   "execution_count": 174,
   "metadata": {},
   "outputs": [],
   "source": [
    "window_size=3"
   ]
  },
  {
   "cell_type": "code",
   "execution_count": 175,
   "metadata": {},
   "outputs": [],
   "source": [
    "step_ = int(cols/window_size)"
   ]
  },
  {
   "cell_type": "code",
   "execution_count": 176,
   "metadata": {},
   "outputs": [],
   "source": [
    "#Train_x,Train_y = Train_upsampled[x_].values.reshape((-1,window_size,step_)),Train_upsampled[[y]].values.reshape((Train_upsampled.shape[0],))\n",
    "Train_x,Train_y = X_train.values.reshape((-1,window_size,step_)),y_train.values.reshape((Train.shape[0],))\n",
    "Val_x,Val_y = X_val.values.reshape((-1,window_size,step_)),y_val.values.reshape((Val.shape[0],))\n",
    "Test_x,Test_y = X_test.values.reshape((-1,window_size,step_)),y_test.values.reshape((Test.shape[0],))"
   ]
  },
  {
   "cell_type": "code",
   "execution_count": 177,
   "metadata": {},
   "outputs": [
    {
     "data": {
      "text/plain": [
       "0.5196078431372549"
      ]
     },
     "execution_count": 177,
     "metadata": {},
     "output_type": "execute_result"
    }
   ],
   "source": [
    "Test_y.mean()"
   ]
  },
  {
   "cell_type": "code",
   "execution_count": 178,
   "metadata": {},
   "outputs": [
    {
     "name": "stdout",
     "output_type": "stream",
     "text": [
      "(2015, 3, 69) (2015,)\n",
      "(165, 3, 69) (165,)\n",
      "(102, 3, 69) (102,)\n"
     ]
    }
   ],
   "source": [
    "print(Train_x.shape,Train_y.shape)\n",
    "print(Val_x.shape,Val_y.shape)\n",
    "print(Test_x.shape,Test_y.shape)"
   ]
  },
  {
   "cell_type": "code",
   "execution_count": 179,
   "metadata": {},
   "outputs": [],
   "source": [
    "from keras.utils.np_utils import to_categorical"
   ]
  },
  {
   "cell_type": "code",
   "execution_count": 180,
   "metadata": {},
   "outputs": [],
   "source": [
    "y_train_1 = to_categorical(Train_y)\n",
    "y_val_1 = to_categorical(Val_y)\n",
    "y_test_1 = to_categorical(Test_y)"
   ]
  },
  {
   "cell_type": "code",
   "execution_count": 181,
   "metadata": {},
   "outputs": [],
   "source": [
    "from keras.regularizers import l2\n",
    "from keras.optimizers import SGD"
   ]
  },
  {
   "cell_type": "code",
   "execution_count": 182,
   "metadata": {},
   "outputs": [],
   "source": [
    "# class_weight={1: 1/(np.sum(Train_y) / len(Train_y)),0:1}"
   ]
  },
  {
   "cell_type": "code",
   "execution_count": 183,
   "metadata": {},
   "outputs": [],
   "source": [
    "class_weight={1:20,0: 1}"
   ]
  },
  {
   "cell_type": "code",
   "execution_count": 184,
   "metadata": {},
   "outputs": [
    {
     "data": {
      "text/plain": [
       "{1: 20, 0: 1}"
      ]
     },
     "execution_count": 184,
     "metadata": {},
     "output_type": "execute_result"
    }
   ],
   "source": [
    "class_weight"
   ]
  },
  {
   "cell_type": "code",
   "execution_count": 185,
   "metadata": {},
   "outputs": [],
   "source": [
    "neg=np.bincount(Train_y)[0]\n",
    "pos=np.bincount(Train_y)[1]"
   ]
  },
  {
   "cell_type": "code",
   "execution_count": 186,
   "metadata": {},
   "outputs": [],
   "source": [
    "initial_bias = np.log([pos/neg])"
   ]
  },
  {
   "cell_type": "code",
   "execution_count": 187,
   "metadata": {},
   "outputs": [],
   "source": [
    "model=[]"
   ]
  },
  {
   "cell_type": "code",
   "execution_count": 188,
   "metadata": {},
   "outputs": [
    {
     "name": "stdout",
     "output_type": "stream",
     "text": [
      "WARNING:tensorflow:From C:\\Users\\rsure\\AppData\\Local\\Continuum\\anaconda3\\lib\\site-packages\\tensorflow_core\\python\\ops\\resource_variable_ops.py:1630: calling BaseResourceVariable.__init__ (from tensorflow.python.ops.resource_variable_ops) with constraint is deprecated and will be removed in a future version.\n",
      "Instructions for updating:\n",
      "If using Keras pass *_constraint arguments to layers.\n",
      "Model: \"sequential_1\"\n",
      "_________________________________________________________________\n",
      "Layer (type)                 Output Shape              Param #   \n",
      "=================================================================\n",
      "lstm_1 (LSTM)                (None, 200)               216000    \n",
      "_________________________________________________________________\n",
      "dense_1 (Dense)              (None, 2)                 402       \n",
      "=================================================================\n",
      "Total params: 216,402\n",
      "Trainable params: 216,402\n",
      "Non-trainable params: 0\n",
      "_________________________________________________________________\n",
      "WARNING:tensorflow:From C:\\Users\\rsure\\AppData\\Local\\Continuum\\anaconda3\\lib\\site-packages\\keras\\backend\\tensorflow_backend.py:3172: where (from tensorflow.python.ops.array_ops) is deprecated and will be removed in a future version.\n",
      "Instructions for updating:\n",
      "Use tf.where in 2.0, which has the same broadcast rule as np.where\n"
     ]
    }
   ],
   "source": [
    "input_ = keras.initializers.TruncatedNormal(mean=0., stddev=1.)\n",
    "#output_bias = keras.initializers.Constant(initial_bias)\n",
    "embedding_size=30\n",
    "model=Sequential()\n",
    "model.add(LSTM(200, input_shape=(Train_x.shape[1], Train_x.shape[2]),activation='relu',kernel_initializer=input_,kernel_regularizer=l2(0.01)))\n",
    "#model.add(LSTM(200, input_shape=(Train_x.shape[1], Train_x.shape[2]),activation='relu'))\n",
    "#model.add(Dense(2, activation='softmax',bias_initializer=output_bias))\n",
    "model.add(Dense(2, activation='softmax'))\n",
    "model.summary()\n",
    "#opt = SGD(lr=0.001, momentum=0.9)\n",
    "model.compile(loss='categorical_crossentropy',optimizer='adamax',metrics=[keras.metrics.Precision(),keras.metrics.Recall()])"
   ]
  },
  {
   "cell_type": "code",
   "execution_count": 189,
   "metadata": {
    "scrolled": true
   },
   "outputs": [
    {
     "name": "stdout",
     "output_type": "stream",
     "text": [
      "WARNING:tensorflow:From C:\\Users\\rsure\\AppData\\Local\\Continuum\\anaconda3\\lib\\site-packages\\keras\\backend\\tensorflow_backend.py:422: The name tf.global_variables is deprecated. Please use tf.compat.v1.global_variables instead.\n",
      "\n",
      "Train on 2015 samples, validate on 165 samples\n",
      "Epoch 1/30\n",
      " - 0s - loss: 431.1705 - precision_1: 0.1757 - recall_1: 0.1757 - val_loss: 425.6658 - val_precision_1: 0.4848 - val_recall_1: 0.4848\n",
      "Epoch 2/30\n",
      " - 0s - loss: 426.4556 - precision_1: 0.4710 - recall_1: 0.4710 - val_loss: 422.7329 - val_precision_1: 0.4667 - val_recall_1: 0.4667\n",
      "Epoch 3/30\n",
      " - 0s - loss: 423.4028 - precision_1: 0.4784 - recall_1: 0.4784 - val_loss: 419.8237 - val_precision_1: 0.4909 - val_recall_1: 0.4909\n",
      "Epoch 4/30\n",
      " - 0s - loss: 420.3981 - precision_1: 0.5087 - recall_1: 0.5087 - val_loss: 416.9201 - val_precision_1: 0.5636 - val_recall_1: 0.5636\n",
      "Epoch 5/30\n",
      " - 0s - loss: 417.4336 - precision_1: 0.5702 - recall_1: 0.5702 - val_loss: 414.0463 - val_precision_1: 0.5455 - val_recall_1: 0.5455\n",
      "Epoch 6/30\n",
      " - 0s - loss: 414.5169 - precision_1: 0.6313 - recall_1: 0.6313 - val_loss: 411.2082 - val_precision_1: 0.5455 - val_recall_1: 0.5455\n",
      "Epoch 7/30\n",
      " - 0s - loss: 411.6252 - precision_1: 0.6675 - recall_1: 0.6675 - val_loss: 408.4027 - val_precision_1: 0.5394 - val_recall_1: 0.5394\n",
      "Epoch 8/30\n",
      " - 0s - loss: 408.7427 - precision_1: 0.6819 - recall_1: 0.6819 - val_loss: 405.6298 - val_precision_1: 0.5515 - val_recall_1: 0.5515\n",
      "Epoch 9/30\n",
      " - 0s - loss: 405.8768 - precision_1: 0.6824 - recall_1: 0.6824 - val_loss: 402.8832 - val_precision_1: 0.5576 - val_recall_1: 0.5576\n",
      "Epoch 10/30\n",
      " - 0s - loss: 403.0392 - precision_1: 0.6739 - recall_1: 0.6739 - val_loss: 400.1529 - val_precision_1: 0.5455 - val_recall_1: 0.5455\n",
      "Epoch 11/30\n",
      " - 0s - loss: 400.2312 - precision_1: 0.6794 - recall_1: 0.6794 - val_loss: 397.4296 - val_precision_1: 0.5394 - val_recall_1: 0.5394\n",
      "Epoch 12/30\n",
      " - 0s - loss: 397.4489 - precision_1: 0.6814 - recall_1: 0.6814 - val_loss: 394.7126 - val_precision_1: 0.5273 - val_recall_1: 0.5273\n",
      "Epoch 13/30\n",
      " - 0s - loss: 394.6889 - precision_1: 0.6958 - recall_1: 0.6958 - val_loss: 392.0063 - val_precision_1: 0.5152 - val_recall_1: 0.5152\n",
      "Epoch 14/30\n",
      " - 0s - loss: 391.9501 - precision_1: 0.7191 - recall_1: 0.7191 - val_loss: 389.3171 - val_precision_1: 0.5333 - val_recall_1: 0.5333\n",
      "Epoch 15/30\n",
      " - 0s - loss: 389.2313 - precision_1: 0.7350 - recall_1: 0.7350 - val_loss: 386.6481 - val_precision_1: 0.5394 - val_recall_1: 0.5394\n",
      "Epoch 16/30\n",
      " - 0s - loss: 386.5314 - precision_1: 0.7444 - recall_1: 0.7444 - val_loss: 383.9997 - val_precision_1: 0.5333 - val_recall_1: 0.5333\n",
      "Epoch 17/30\n",
      " - 0s - loss: 383.8507 - precision_1: 0.7563 - recall_1: 0.7563 - val_loss: 381.3689 - val_precision_1: 0.5273 - val_recall_1: 0.5273\n",
      "Epoch 18/30\n",
      " - 0s - loss: 381.1903 - precision_1: 0.7628 - recall_1: 0.7628 - val_loss: 378.7513 - val_precision_1: 0.5394 - val_recall_1: 0.5394\n",
      "Epoch 19/30\n",
      " - 0s - loss: 378.5510 - precision_1: 0.7772 - recall_1: 0.7772 - val_loss: 376.1466 - val_precision_1: 0.5455 - val_recall_1: 0.5455\n",
      "Epoch 20/30\n",
      " - 0s - loss: 375.9328 - precision_1: 0.7891 - recall_1: 0.7891 - val_loss: 373.5589 - val_precision_1: 0.5455 - val_recall_1: 0.5455\n",
      "Epoch 21/30\n",
      " - 0s - loss: 373.3351 - precision_1: 0.8065 - recall_1: 0.8065 - val_loss: 370.9939 - val_precision_1: 0.5515 - val_recall_1: 0.5515\n",
      "Epoch 22/30\n",
      " - 0s - loss: 370.7573 - precision_1: 0.8179 - recall_1: 0.8179 - val_loss: 368.4560 - val_precision_1: 0.5697 - val_recall_1: 0.5697\n",
      "Epoch 23/30\n",
      " - 0s - loss: 368.1988 - precision_1: 0.8228 - recall_1: 0.8228 - val_loss: 365.9424 - val_precision_1: 0.5758 - val_recall_1: 0.5758\n",
      "Epoch 24/30\n",
      " - 0s - loss: 365.6589 - precision_1: 0.8238 - recall_1: 0.8238 - val_loss: 363.4468 - val_precision_1: 0.5818 - val_recall_1: 0.5818\n",
      "Epoch 25/30\n",
      " - 0s - loss: 363.1378 - precision_1: 0.8293 - recall_1: 0.8293 - val_loss: 360.9661 - val_precision_1: 0.5879 - val_recall_1: 0.5879\n",
      "Epoch 26/30\n",
      " - 0s - loss: 360.6351 - precision_1: 0.8382 - recall_1: 0.8382 - val_loss: 358.4999 - val_precision_1: 0.5939 - val_recall_1: 0.5939\n",
      "Epoch 27/30\n",
      " - 0s - loss: 358.1503 - precision_1: 0.8506 - recall_1: 0.8506 - val_loss: 356.0544 - val_precision_1: 0.6061 - val_recall_1: 0.6061\n",
      "Epoch 28/30\n",
      " - 0s - loss: 355.6839 - precision_1: 0.8581 - recall_1: 0.8581 - val_loss: 353.6319 - val_precision_1: 0.6061 - val_recall_1: 0.6061\n",
      "Epoch 29/30\n",
      " - 0s - loss: 353.2352 - precision_1: 0.8655 - recall_1: 0.8655 - val_loss: 351.2296 - val_precision_1: 0.6061 - val_recall_1: 0.6061\n",
      "Epoch 30/30\n",
      " - 0s - loss: 350.8041 - precision_1: 0.8670 - recall_1: 0.8670 - val_loss: 348.8409 - val_precision_1: 0.6000 - val_recall_1: 0.6000\n"
     ]
    },
    {
     "data": {
      "text/plain": [
       "<keras.callbacks.callbacks.History at 0x2819540ad88>"
      ]
     },
     "execution_count": 189,
     "metadata": {},
     "output_type": "execute_result"
    }
   ],
   "source": [
    "model.fit(Train_x, y_train_1, epochs=30, batch_size=2000, validation_data=(Val_x, y_val_1),verbose=2,shuffle=False,class_weight=class_weight)"
   ]
  },
  {
   "cell_type": "code",
   "execution_count": 190,
   "metadata": {},
   "outputs": [],
   "source": [
    "y_pred=model.predict_classes(Test_x)"
   ]
  },
  {
   "cell_type": "code",
   "execution_count": 191,
   "metadata": {},
   "outputs": [
    {
     "name": "stdout",
     "output_type": "stream",
     "text": [
      "0.5098039215686274\n",
      "[[28 21]\n",
      " [29 24]]\n",
      "              precision    recall  f1-score   support\n",
      "\n",
      "           0       0.49      0.57      0.53        49\n",
      "           1       0.53      0.45      0.49        53\n",
      "\n",
      "    accuracy                           0.51       102\n",
      "   macro avg       0.51      0.51      0.51       102\n",
      "weighted avg       0.51      0.51      0.51       102\n",
      "\n"
     ]
    }
   ],
   "source": [
    "from sklearn.metrics import accuracy_score,confusion_matrix,classification_report\n",
    "print(accuracy_score(list(y_test), y_pred))\n",
    "print(confusion_matrix(y_test, y_pred))\n",
    "print(classification_report(Test_y, y_pred))"
   ]
  },
  {
   "cell_type": "code",
   "execution_count": 192,
   "metadata": {},
   "outputs": [
    {
     "data": {
      "text/plain": [
       "0.5196078431372549"
      ]
     },
     "execution_count": 192,
     "metadata": {},
     "output_type": "execute_result"
    }
   ],
   "source": [
    "Test_y.mean()"
   ]
  },
  {
   "cell_type": "code",
   "execution_count": 193,
   "metadata": {},
   "outputs": [
    {
     "data": {
      "text/plain": [
       "102"
      ]
     },
     "execution_count": 193,
     "metadata": {},
     "output_type": "execute_result"
    }
   ],
   "source": [
    "len(Test_y)"
   ]
  },
  {
   "cell_type": "code",
   "execution_count": 194,
   "metadata": {},
   "outputs": [
    {
     "data": {
      "text/plain": [
       "49"
      ]
     },
     "execution_count": 194,
     "metadata": {},
     "output_type": "execute_result"
    }
   ],
   "source": [
    "len(np.where(Test_y==0)[0])"
   ]
  },
  {
   "cell_type": "code",
   "execution_count": 195,
   "metadata": {},
   "outputs": [
    {
     "data": {
      "text/plain": [
       "53"
      ]
     },
     "execution_count": 195,
     "metadata": {},
     "output_type": "execute_result"
    }
   ],
   "source": [
    "len(np.where(Test_y==1)[0])"
   ]
  },
  {
   "cell_type": "code",
   "execution_count": 196,
   "metadata": {},
   "outputs": [
    {
     "data": {
      "text/plain": [
       "57"
      ]
     },
     "execution_count": 196,
     "metadata": {},
     "output_type": "execute_result"
    }
   ],
   "source": [
    "len(np.where(y_pred==0)[0])"
   ]
  },
  {
   "cell_type": "code",
   "execution_count": 197,
   "metadata": {},
   "outputs": [
    {
     "data": {
      "text/plain": [
       "45"
      ]
     },
     "execution_count": 197,
     "metadata": {},
     "output_type": "execute_result"
    }
   ],
   "source": [
    "len(np.where(y_pred==1)[0])"
   ]
  },
  {
   "cell_type": "code",
   "execution_count": 198,
   "metadata": {},
   "outputs": [
    {
     "data": {
      "text/plain": [
       "0.036228287841191066"
      ]
     },
     "execution_count": 198,
     "metadata": {},
     "output_type": "execute_result"
    }
   ],
   "source": [
    "Train_y.mean()"
   ]
  },
  {
   "cell_type": "code",
   "execution_count": 199,
   "metadata": {},
   "outputs": [
    {
     "data": {
      "text/plain": [
       "0.23030303030303031"
      ]
     },
     "execution_count": 199,
     "metadata": {},
     "output_type": "execute_result"
    }
   ],
   "source": [
    "Val_y.mean()"
   ]
  },
  {
   "cell_type": "code",
   "execution_count": 200,
   "metadata": {},
   "outputs": [],
   "source": [
    "from sklearn.metrics import precision_recall_curve"
   ]
  },
  {
   "cell_type": "code",
   "execution_count": 201,
   "metadata": {},
   "outputs": [],
   "source": [
    "from numpy import argmax"
   ]
  },
  {
   "cell_type": "code",
   "execution_count": 202,
   "metadata": {},
   "outputs": [],
   "source": [
    "import matplotlib.pyplot as plt"
   ]
  },
  {
   "cell_type": "code",
   "execution_count": 203,
   "metadata": {},
   "outputs": [],
   "source": [
    "# plt.hist(y_pred_test[1])"
   ]
  },
  {
   "cell_type": "code",
   "execution_count": 204,
   "metadata": {},
   "outputs": [],
   "source": [
    "# len(np.where(Test_y==y_pred_)[0])"
   ]
  },
  {
   "cell_type": "code",
   "execution_count": 205,
   "metadata": {},
   "outputs": [],
   "source": [
    "# df_Pred = pd.DataFrame({'Real':list(Test_y),'Pred':list(y_pred_)})"
   ]
  },
  {
   "cell_type": "code",
   "execution_count": 206,
   "metadata": {},
   "outputs": [],
   "source": [
    "#df_Pred.loc[df_Pred.Real==1,:].Pred.sum()"
   ]
  },
  {
   "cell_type": "code",
   "execution_count": 207,
   "metadata": {},
   "outputs": [
    {
     "data": {
      "text/plain": [
       "0.036228287841191066"
      ]
     },
     "execution_count": 207,
     "metadata": {},
     "output_type": "execute_result"
    }
   ],
   "source": [
    "Train_y.mean()"
   ]
  },
  {
   "cell_type": "code",
   "execution_count": 208,
   "metadata": {},
   "outputs": [],
   "source": [
    "y_pred_test=model.predict_proba(Test_x)"
   ]
  },
  {
   "cell_type": "code",
   "execution_count": 209,
   "metadata": {},
   "outputs": [
    {
     "data": {
      "text/plain": [
       "array([[1.19452104e-01, 8.80547881e-01],\n",
       "       [7.57044733e-01, 2.42955282e-01],\n",
       "       [8.27229559e-01, 1.72770500e-01],\n",
       "       [1.61620498e-01, 8.38379502e-01],\n",
       "       [4.68773484e-01, 5.31226456e-01],\n",
       "       [9.37657896e-03, 9.90623415e-01],\n",
       "       [6.37011588e-01, 3.62988383e-01],\n",
       "       [1.47863135e-01, 8.52136850e-01],\n",
       "       [6.50436655e-02, 9.34956372e-01],\n",
       "       [8.07297677e-02, 9.19270217e-01],\n",
       "       [1.81256905e-01, 8.18743110e-01],\n",
       "       [9.92745578e-01, 7.25439005e-03],\n",
       "       [1.20038837e-01, 8.79961133e-01],\n",
       "       [1.65765267e-02, 9.83423471e-01],\n",
       "       [1.52306892e-02, 9.84769344e-01],\n",
       "       [6.57210588e-01, 3.42789441e-01],\n",
       "       [2.45033324e-01, 7.54966617e-01],\n",
       "       [2.68187523e-01, 7.31812537e-01],\n",
       "       [6.80966496e-01, 3.19033504e-01],\n",
       "       [8.68708670e-01, 1.31291300e-01],\n",
       "       [8.92642319e-01, 1.07357666e-01],\n",
       "       [8.29790175e-01, 1.70209855e-01],\n",
       "       [4.85928804e-01, 5.14071226e-01],\n",
       "       [2.03254372e-01, 7.96745598e-01],\n",
       "       [5.36650956e-01, 4.63349044e-01],\n",
       "       [6.82069719e-01, 3.17930251e-01],\n",
       "       [9.70060900e-02, 9.02993858e-01],\n",
       "       [5.09204678e-02, 9.49079514e-01],\n",
       "       [6.66518584e-02, 9.33348119e-01],\n",
       "       [6.53603196e-01, 3.46396834e-01],\n",
       "       [9.88818467e-01, 1.11815520e-02],\n",
       "       [9.99755919e-01, 2.44099894e-04],\n",
       "       [8.91694665e-01, 1.08305335e-01],\n",
       "       [3.52206230e-01, 6.47793770e-01],\n",
       "       [3.76599222e-01, 6.23400748e-01],\n",
       "       [8.95017684e-02, 9.10498261e-01],\n",
       "       [4.52221960e-01, 5.47778010e-01],\n",
       "       [9.26889360e-01, 7.31106400e-02],\n",
       "       [9.73318636e-01, 2.66813189e-02],\n",
       "       [7.79682934e-01, 2.20317051e-01],\n",
       "       [9.72229600e-01, 2.77703702e-02],\n",
       "       [4.29577865e-02, 9.57042217e-01],\n",
       "       [9.95760262e-01, 4.23970446e-03],\n",
       "       [9.97859776e-01, 2.14025518e-03],\n",
       "       [1.24411739e-01, 8.75588238e-01],\n",
       "       [1.58167049e-01, 8.41832995e-01],\n",
       "       [4.70297515e-01, 5.29702485e-01],\n",
       "       [4.93155450e-01, 5.06844580e-01],\n",
       "       [2.95380056e-01, 7.04620004e-01],\n",
       "       [8.03654075e-01, 1.96345896e-01],\n",
       "       [9.20249999e-01, 7.97499493e-02],\n",
       "       [8.55977535e-01, 1.44022509e-01],\n",
       "       [9.79898930e-01, 2.01010332e-02],\n",
       "       [3.04145694e-01, 6.95854247e-01],\n",
       "       [4.43979681e-01, 5.56020379e-01],\n",
       "       [3.74405861e-01, 6.25594139e-01],\n",
       "       [3.72622162e-02, 9.62737799e-01],\n",
       "       [5.80955327e-01, 4.19044644e-01],\n",
       "       [1.41117677e-01, 8.58882308e-01],\n",
       "       [3.47795291e-03, 9.96522069e-01],\n",
       "       [8.40354621e-01, 1.59645379e-01],\n",
       "       [2.93403659e-02, 9.70659554e-01],\n",
       "       [4.47663888e-02, 9.55233574e-01],\n",
       "       [8.06288049e-03, 9.91937160e-01],\n",
       "       [5.15926396e-03, 9.94840801e-01],\n",
       "       [9.95758027e-02, 9.00424123e-01],\n",
       "       [8.61701835e-03, 9.91383016e-01],\n",
       "       [8.55674267e-01, 1.44325703e-01],\n",
       "       [6.95873976e-01, 3.04125965e-01],\n",
       "       [5.06746471e-01, 4.93253499e-01],\n",
       "       [1.36374652e-01, 8.63625348e-01],\n",
       "       [3.43706787e-01, 6.56293154e-01],\n",
       "       [2.75588661e-01, 7.24411368e-01],\n",
       "       [8.36288214e-01, 1.63711786e-01],\n",
       "       [9.62272227e-01, 3.77277620e-02],\n",
       "       [9.99636889e-01, 3.63071187e-04],\n",
       "       [9.96603727e-01, 3.39630246e-03],\n",
       "       [8.93212020e-01, 1.06787980e-01],\n",
       "       [9.65009749e-01, 3.49901989e-02],\n",
       "       [5.54786146e-01, 4.45213884e-01],\n",
       "       [6.87831223e-01, 3.12168777e-01],\n",
       "       [9.99899864e-01, 1.00109239e-04],\n",
       "       [9.99663353e-01, 3.36601544e-04],\n",
       "       [9.67802942e-01, 3.21970508e-02],\n",
       "       [9.03342068e-01, 9.66579244e-02],\n",
       "       [9.99311566e-01, 6.88484055e-04],\n",
       "       [1.17652841e-01, 8.82347167e-01],\n",
       "       [1.03272818e-01, 8.96727145e-01],\n",
       "       [9.13430452e-01, 8.65695328e-02],\n",
       "       [9.79692340e-01, 2.03076527e-02],\n",
       "       [9.89237368e-01, 1.07627008e-02],\n",
       "       [9.95632946e-01, 4.36704233e-03],\n",
       "       [9.98773038e-01, 1.22696150e-03],\n",
       "       [7.87628233e-01, 2.12371752e-01],\n",
       "       [8.21293473e-01, 1.78706452e-01],\n",
       "       [9.74417269e-01, 2.55826972e-02],\n",
       "       [5.36584079e-01, 4.63415861e-01],\n",
       "       [9.42659914e-01, 5.73401228e-02],\n",
       "       [8.62002969e-01, 1.37997046e-01],\n",
       "       [8.98859978e-01, 1.01140030e-01],\n",
       "       [8.07650268e-01, 1.92349702e-01],\n",
       "       [9.75432813e-01, 2.45672259e-02]], dtype=float32)"
      ]
     },
     "execution_count": 209,
     "metadata": {},
     "output_type": "execute_result"
    }
   ],
   "source": [
    "y_pred_test"
   ]
  },
  {
   "cell_type": "code",
   "execution_count": 210,
   "metadata": {},
   "outputs": [
    {
     "name": "stdout",
     "output_type": "stream",
     "text": [
      "              precision    recall  f1-score   support\n",
      "\n",
      "           0       0.49      0.57      0.53        49\n",
      "           1       0.53      0.45      0.49        53\n",
      "\n",
      "    accuracy                           0.51       102\n",
      "   macro avg       0.51      0.51      0.51       102\n",
      "weighted avg       0.51      0.51      0.51       102\n",
      "\n"
     ]
    }
   ],
   "source": [
    "#y_pred_prob = model.predict_proba(Train_x)\n",
    "#precision, recall, thresholds = precision_recall_curve(Train_y, y_pred_prob[:,1])\n",
    "#fscore = (2 * precision * recall) / (precision + recall)\n",
    "#ix = argmax(fscore)\n",
    "#t_max,f_max=thresholds[ix], fscore[ix]\n",
    "y_pred_test=model.predict_proba(Test_x)\n",
    "y_pred_ = np.where(y_pred_test[:,1]>0.5,1,0)\n",
    "print(classification_report(Test_y, y_pred_))"
   ]
  },
  {
   "cell_type": "code",
   "execution_count": 211,
   "metadata": {},
   "outputs": [
    {
     "name": "stdout",
     "output_type": "stream",
     "text": [
      "              precision    recall  f1-score   support\n",
      "\n",
      "           0       0.48      0.41      0.44        49\n",
      "           1       0.52      0.58      0.55        53\n",
      "\n",
      "    accuracy                           0.50       102\n",
      "   macro avg       0.50      0.50      0.49       102\n",
      "weighted avg       0.50      0.50      0.50       102\n",
      "\n"
     ]
    }
   ],
   "source": [
    "y_pred_ = np.where(y_pred_test[:,1]>0.2,1,0)\n",
    "print(classification_report(Test_y, y_pred_))"
   ]
  },
  {
   "cell_type": "code",
   "execution_count": 212,
   "metadata": {},
   "outputs": [
    {
     "data": {
      "text/plain": [
       "0.036228287841191066"
      ]
     },
     "execution_count": 212,
     "metadata": {},
     "output_type": "execute_result"
    }
   ],
   "source": [
    "Train_y.mean()"
   ]
  },
  {
   "cell_type": "code",
   "execution_count": 213,
   "metadata": {},
   "outputs": [
    {
     "data": {
      "text/plain": [
       "0.23030303030303031"
      ]
     },
     "execution_count": 213,
     "metadata": {},
     "output_type": "execute_result"
    }
   ],
   "source": [
    "Val_y.mean()"
   ]
  },
  {
   "cell_type": "code",
   "execution_count": 214,
   "metadata": {},
   "outputs": [
    {
     "data": {
      "text/plain": [
       "0.5196078431372549"
      ]
     },
     "execution_count": 214,
     "metadata": {},
     "output_type": "execute_result"
    }
   ],
   "source": [
    "Test_y.mean()"
   ]
  },
  {
   "cell_type": "code",
   "execution_count": 215,
   "metadata": {},
   "outputs": [
    {
     "data": {
      "text/plain": [
       "0.23030303030303031"
      ]
     },
     "execution_count": 215,
     "metadata": {},
     "output_type": "execute_result"
    }
   ],
   "source": [
    "Val_y.mean()"
   ]
  },
  {
   "cell_type": "code",
   "execution_count": 216,
   "metadata": {},
   "outputs": [
    {
     "data": {
      "text/plain": [
       "(165,)"
      ]
     },
     "execution_count": 216,
     "metadata": {},
     "output_type": "execute_result"
    }
   ],
   "source": [
    "Val_y.shape"
   ]
  },
  {
   "cell_type": "code",
   "execution_count": 217,
   "metadata": {},
   "outputs": [
    {
     "data": {
      "text/plain": [
       "0.5196078431372549"
      ]
     },
     "execution_count": 217,
     "metadata": {},
     "output_type": "execute_result"
    }
   ],
   "source": [
    "Test_y.mean()"
   ]
  },
  {
   "cell_type": "markdown",
   "metadata": {},
   "source": []
  },
  {
   "cell_type": "code",
   "execution_count": 218,
   "metadata": {},
   "outputs": [],
   "source": [
    "pkl_filename = \"DATACENTER_pickel.pkl\"\n",
    "with open(pkl_filename, 'wb') as file:\n",
    "        pickle.dump(model, file)"
   ]
  },
  {
   "cell_type": "code",
   "execution_count": 219,
   "metadata": {},
   "outputs": [],
   "source": [
    "model.save('datacenter_pickel.h5')"
   ]
  },
  {
   "cell_type": "code",
   "execution_count": 220,
   "metadata": {},
   "outputs": [],
   "source": [
    "Train.to_csv('Train_data_center.csv')"
   ]
  },
  {
   "cell_type": "code",
   "execution_count": 221,
   "metadata": {},
   "outputs": [],
   "source": [
    "def get_lift_Chart(Test_y,y_pred_test):\n",
    "    Prob_df = pd.DataFrame({'Bought':list(Test_y),'Prob':list(y_pred_test[:,1])})\n",
    "    Prob_df['decile'] = pd.qcut(Prob_df['Prob'],10,labels=['1','2','3','4','5','6','7','8','9','10'])\n",
    "    Prob_df['Not_Bought'] = 1-Prob_df['Bought']\n",
    "    df1 = pd.pivot_table(data=Prob_df,index=['decile'],values=['Bought','Not_Bought','Prob'],\n",
    "                     aggfunc={'Bought':[np.sum],\n",
    "                              'Not_Bought':[np.sum],\n",
    "                              'Prob' : [np.min,np.max]})\n",
    "    df1.columns = ['Bought_Count','Not_Bought_Count','max_score','min_score']\n",
    "    df1['Total_Cust'] = df1['Bought_Count']+df1['Not_Bought_Count']\n",
    "    df2 = df1.sort_values(by='min_score',ascending=False)\n",
    "    df2['Default_Rate'] = (df2['Bought_Count'] / df2['Total_Cust'])\n",
    "    default_sum = df2['Bought_Count'].sum()\n",
    "    non_default_sum = df2['Not_Bought_Count'].sum()\n",
    "    df2['Default %'] = (df2['Bought_Count']/default_sum).apply('{0:.2%}'.format)\n",
    "    df2['Non_Default %'] = (df2['Not_Bought_Count']/non_default_sum).apply('{0:.2%}'.format)\n",
    "    df2['Lift'] = df2['Default_Rate']/Prob_df.Bought.mean()\n",
    "    df2['Bought_cum_sum']= df2.Bought_Count.cumsum()\n",
    "    df2['Not_Bought_cum_sum']= df2.Not_Bought_Count.cumsum()\n",
    "    df2['Total_Cust_cum_sum']= df2.Total_Cust.cumsum()\n",
    "    df2['Cum_Default_Rate'] = df2['Bought_cum_sum']/df2['Total_Cust_cum_sum']\n",
    "    df2['Lift_Cum'] = df2['Cum_Default_Rate']/Prob_df.Bought.mean()\n",
    "    return(df2)"
   ]
  },
  {
   "cell_type": "code",
   "execution_count": 222,
   "metadata": {},
   "outputs": [],
   "source": [
    "lift_chart = get_lift_Chart(Test_y,y_pred_test)"
   ]
  },
  {
   "cell_type": "code",
   "execution_count": 223,
   "metadata": {},
   "outputs": [],
   "source": [
    "lift_chart['BE']='Data_Center'"
   ]
  },
  {
   "cell_type": "code",
   "execution_count": 224,
   "metadata": {},
   "outputs": [],
   "source": [
    "lift_chart.reset_index(inplace=True)"
   ]
  },
  {
   "cell_type": "code",
   "execution_count": 225,
   "metadata": {},
   "outputs": [],
   "source": [
    "lift_chart['Test_Mean']=Test_y.mean()"
   ]
  },
  {
   "cell_type": "code",
   "execution_count": 226,
   "metadata": {},
   "outputs": [
    {
     "data": {
      "text/html": [
       "<div>\n",
       "<style scoped>\n",
       "    .dataframe tbody tr th:only-of-type {\n",
       "        vertical-align: middle;\n",
       "    }\n",
       "\n",
       "    .dataframe tbody tr th {\n",
       "        vertical-align: top;\n",
       "    }\n",
       "\n",
       "    .dataframe thead th {\n",
       "        text-align: right;\n",
       "    }\n",
       "</style>\n",
       "<table border=\"1\" class=\"dataframe\">\n",
       "  <thead>\n",
       "    <tr style=\"text-align: right;\">\n",
       "      <th></th>\n",
       "      <th>decile</th>\n",
       "      <th>Bought_Count</th>\n",
       "      <th>Not_Bought_Count</th>\n",
       "      <th>max_score</th>\n",
       "      <th>min_score</th>\n",
       "      <th>Total_Cust</th>\n",
       "      <th>Default_Rate</th>\n",
       "      <th>Default %</th>\n",
       "      <th>Non_Default %</th>\n",
       "      <th>Lift</th>\n",
       "      <th>Bought_cum_sum</th>\n",
       "      <th>Not_Bought_cum_sum</th>\n",
       "      <th>Total_Cust_cum_sum</th>\n",
       "      <th>Cum_Default_Rate</th>\n",
       "      <th>Lift_Cum</th>\n",
       "      <th>BE</th>\n",
       "      <th>Test_Mean</th>\n",
       "    </tr>\n",
       "  </thead>\n",
       "  <tbody>\n",
       "    <tr>\n",
       "      <td>0</td>\n",
       "      <td>10</td>\n",
       "      <td>8</td>\n",
       "      <td>3</td>\n",
       "      <td>0.996522</td>\n",
       "      <td>0.955234</td>\n",
       "      <td>11</td>\n",
       "      <td>0.727273</td>\n",
       "      <td>15.09%</td>\n",
       "      <td>6.12%</td>\n",
       "      <td>1.399657</td>\n",
       "      <td>8</td>\n",
       "      <td>3</td>\n",
       "      <td>11</td>\n",
       "      <td>0.727273</td>\n",
       "      <td>1.399657</td>\n",
       "      <td>Data_Center</td>\n",
       "      <td>0.519608</td>\n",
       "    </tr>\n",
       "    <tr>\n",
       "      <td>1</td>\n",
       "      <td>9</td>\n",
       "      <td>4</td>\n",
       "      <td>6</td>\n",
       "      <td>0.949080</td>\n",
       "      <td>0.880548</td>\n",
       "      <td>10</td>\n",
       "      <td>0.400000</td>\n",
       "      <td>7.55%</td>\n",
       "      <td>12.24%</td>\n",
       "      <td>0.769811</td>\n",
       "      <td>12</td>\n",
       "      <td>9</td>\n",
       "      <td>21</td>\n",
       "      <td>0.571429</td>\n",
       "      <td>1.099730</td>\n",
       "      <td>Data_Center</td>\n",
       "      <td>0.519608</td>\n",
       "    </tr>\n",
       "    <tr>\n",
       "      <td>2</td>\n",
       "      <td>8</td>\n",
       "      <td>6</td>\n",
       "      <td>4</td>\n",
       "      <td>0.879961</td>\n",
       "      <td>0.754967</td>\n",
       "      <td>10</td>\n",
       "      <td>0.600000</td>\n",
       "      <td>11.32%</td>\n",
       "      <td>8.16%</td>\n",
       "      <td>1.154717</td>\n",
       "      <td>18</td>\n",
       "      <td>13</td>\n",
       "      <td>31</td>\n",
       "      <td>0.580645</td>\n",
       "      <td>1.117468</td>\n",
       "      <td>Data_Center</td>\n",
       "      <td>0.519608</td>\n",
       "    </tr>\n",
       "    <tr>\n",
       "      <td>3</td>\n",
       "      <td>7</td>\n",
       "      <td>5</td>\n",
       "      <td>5</td>\n",
       "      <td>0.731813</td>\n",
       "      <td>0.547778</td>\n",
       "      <td>10</td>\n",
       "      <td>0.500000</td>\n",
       "      <td>9.43%</td>\n",
       "      <td>10.20%</td>\n",
       "      <td>0.962264</td>\n",
       "      <td>23</td>\n",
       "      <td>18</td>\n",
       "      <td>41</td>\n",
       "      <td>0.560976</td>\n",
       "      <td>1.079613</td>\n",
       "      <td>Data_Center</td>\n",
       "      <td>0.519608</td>\n",
       "    </tr>\n",
       "    <tr>\n",
       "      <td>4</td>\n",
       "      <td>6</td>\n",
       "      <td>1</td>\n",
       "      <td>9</td>\n",
       "      <td>0.531226</td>\n",
       "      <td>0.362988</td>\n",
       "      <td>10</td>\n",
       "      <td>0.100000</td>\n",
       "      <td>1.89%</td>\n",
       "      <td>18.37%</td>\n",
       "      <td>0.192453</td>\n",
       "      <td>24</td>\n",
       "      <td>27</td>\n",
       "      <td>51</td>\n",
       "      <td>0.470588</td>\n",
       "      <td>0.905660</td>\n",
       "      <td>Data_Center</td>\n",
       "      <td>0.519608</td>\n",
       "    </tr>\n",
       "  </tbody>\n",
       "</table>\n",
       "</div>"
      ],
      "text/plain": [
       "  decile  Bought_Count  Not_Bought_Count  max_score  min_score  Total_Cust  \\\n",
       "0     10             8                 3   0.996522   0.955234          11   \n",
       "1      9             4                 6   0.949080   0.880548          10   \n",
       "2      8             6                 4   0.879961   0.754967          10   \n",
       "3      7             5                 5   0.731813   0.547778          10   \n",
       "4      6             1                 9   0.531226   0.362988          10   \n",
       "\n",
       "   Default_Rate Default % Non_Default %      Lift  Bought_cum_sum  \\\n",
       "0      0.727273    15.09%         6.12%  1.399657               8   \n",
       "1      0.400000     7.55%        12.24%  0.769811              12   \n",
       "2      0.600000    11.32%         8.16%  1.154717              18   \n",
       "3      0.500000     9.43%        10.20%  0.962264              23   \n",
       "4      0.100000     1.89%        18.37%  0.192453              24   \n",
       "\n",
       "   Not_Bought_cum_sum  Total_Cust_cum_sum  Cum_Default_Rate  Lift_Cum  \\\n",
       "0                   3                  11          0.727273  1.399657   \n",
       "1                   9                  21          0.571429  1.099730   \n",
       "2                  13                  31          0.580645  1.117468   \n",
       "3                  18                  41          0.560976  1.079613   \n",
       "4                  27                  51          0.470588  0.905660   \n",
       "\n",
       "            BE  Test_Mean  \n",
       "0  Data_Center   0.519608  \n",
       "1  Data_Center   0.519608  \n",
       "2  Data_Center   0.519608  \n",
       "3  Data_Center   0.519608  \n",
       "4  Data_Center   0.519608  "
      ]
     },
     "execution_count": 226,
     "metadata": {},
     "output_type": "execute_result"
    }
   ],
   "source": [
    "lift_chart.head()"
   ]
  },
  {
   "cell_type": "code",
   "execution_count": 227,
   "metadata": {},
   "outputs": [],
   "source": [
    "lift_chart.to_csv('DataCenter_lifts.csv')"
   ]
  },
  {
   "cell_type": "code",
   "execution_count": 228,
   "metadata": {},
   "outputs": [],
   "source": [
    "df_temp_final[['year','shifted_savm_count']].drop_duplicates().to_csv('datacenter_savm_count.csv')"
   ]
  },
  {
   "cell_type": "markdown",
   "metadata": {},
   "source": [
    "# SHAP"
   ]
  },
  {
   "cell_type": "code",
   "execution_count": 229,
   "metadata": {},
   "outputs": [],
   "source": [
    "a = 'DataCenter_Owned'"
   ]
  },
  {
   "cell_type": "code",
   "execution_count": 230,
   "metadata": {},
   "outputs": [],
   "source": [
    "import numpy as np\n",
    "import pandas as pd\n",
    "import os\n",
    "import warnings\n",
    "import re\n",
    "from collections import Counter\n",
    "warnings.filterwarnings(\"ignore\", category=UserWarning, module='bs4')\n",
    "import tensorflow as tf\n",
    "from keras.utils import to_categorical\n",
    "from tqdm import tqdm\n",
    "import random\n",
    "from sklearn.model_selection import train_test_split\n",
    "from keras.preprocessing import sequence\n",
    "from keras.preprocessing.text import Tokenizer\n",
    "from keras.layers import Dense,Dropout,Embedding,LSTM\n",
    "from keras.callbacks import EarlyStopping\n",
    "from keras.losses import categorical_crossentropy\n",
    "from keras.optimizers import Adam\n",
    "from keras.models import Sequential\n",
    "import warnings\n",
    "warnings.filterwarnings(\"ignore\")"
   ]
  },
  {
   "cell_type": "code",
   "execution_count": 231,
   "metadata": {},
   "outputs": [],
   "source": [
    "from numpy import asarray\n",
    "from numpy import save\n",
    "# define data\n",
    "#data = X_train\n",
    "# save to npy file\n",
    "save('Train_x_.npy', Train_x)\n",
    "save('Test_x_.npy', Test_x)\n",
    "#save('Train_y_'+a+'.npy', y_train)\n",
    "#save('Test_y_'+a+'.npy', y_test)"
   ]
  },
  {
   "cell_type": "code",
   "execution_count": 232,
   "metadata": {},
   "outputs": [
    {
     "name": "stdout",
     "output_type": "stream",
     "text": [
      "(102, 3, 69)\n",
      "(2015, 3, 69)\n"
     ]
    }
   ],
   "source": [
    "from numpy import load\n",
    "# load array\n",
    "X_test_ = load('Test_x_.npy')\n",
    "X_train_ = load('Train_x_.npy')\n",
    "X_test_ = np.float16(X_test_)\n",
    "X_train_ = np.float16(X_train_)\n",
    "# print the array\n",
    "print(X_test_.shape)\n",
    "print(X_train_.shape)"
   ]
  },
  {
   "cell_type": "code",
   "execution_count": 233,
   "metadata": {},
   "outputs": [],
   "source": [
    "import shap\n",
    "import pickle\n",
    "import numpy as np\n",
    "import pandas as pd\n",
    "import pickle"
   ]
  },
  {
   "cell_type": "code",
   "execution_count": 234,
   "metadata": {},
   "outputs": [
    {
     "name": "stdout",
     "output_type": "stream",
     "text": [
      "3522736\n"
     ]
    }
   ],
   "source": [
    "import platform, sys\n",
    "print(sys.getsizeof(X_test) + sys.getsizeof(X_train))"
   ]
  },
  {
   "cell_type": "code",
   "execution_count": 235,
   "metadata": {},
   "outputs": [],
   "source": [
    "SHAP_model = shap.DeepExplainer((model.layers[0].input, model.layers[-1].output),X_train_[:4000,:,:])"
   ]
  },
  {
   "cell_type": "code",
   "execution_count": 236,
   "metadata": {},
   "outputs": [],
   "source": [
    "shap_test = SHAP_model.shap_values(X_test_)"
   ]
  },
  {
   "cell_type": "code",
   "execution_count": 237,
   "metadata": {},
   "outputs": [],
   "source": [
    "shap_values = np.array(shap_test)\n",
    "shap_values=shap_values[1,:,:,:]\n",
    "shap_values = np.reshape(shap_values,(int(shap_values.shape[0]),int(shap_values.shape[1]),int(shap_values.shape[2])))\n",
    "Results_SHAP = np.sum(shap_values,axis=0)"
   ]
  },
  {
   "cell_type": "code",
   "execution_count": 238,
   "metadata": {},
   "outputs": [],
   "source": [
    "tr_columns = X_train.columns.tolist()\n",
    "tr_columns = pd.DataFrame(tr_columns,columns=['Features'])\n",
    "tr_columns = tr_columns[tr_columns['Features'].str.contains('_2')].reset_index(drop=True)\n",
    "tr_columns['Features']=tr_columns['Features'].str[:-3]\n",
    "tr_columns= tr_columns['Features'].tolist()"
   ]
  },
  {
   "cell_type": "code",
   "execution_count": 239,
   "metadata": {},
   "outputs": [],
   "source": [
    "rules_df = pd.DataFrame(Results_SHAP,columns=tr_columns)\n",
    "rules_df.index=['t_'+str(i) for i in range(3,0,-1)]\n",
    "rules_df_ = rules_df.T\n",
    "rules_df_.reset_index(inplace=True)\n",
    "rules_df_ = rules_df_.rename(columns={'index': 'Features'})\n",
    "Index_frame = ['t_3','t_2','t_1']"
   ]
  },
  {
   "cell_type": "code",
   "execution_count": 240,
   "metadata": {},
   "outputs": [],
   "source": [
    "All_values = []\n",
    "for i in Index_frame:\n",
    "    Positive_SHAP = rules_df_[['Features',i]]\n",
    "    Positive_SHAP['Time_Frame'] = i\n",
    "    Positive_SHAP.columns = ['Prod_label', 'SHAP_value','Time_Frame']\n",
    "    Positive_SHAP['Impact'] = np.where(Positive_SHAP['SHAP_value']<0.0,'Negative','Positive')\n",
    "    All_values.append(Positive_SHAP)"
   ]
  },
  {
   "cell_type": "code",
   "execution_count": 241,
   "metadata": {},
   "outputs": [],
   "source": [
    "Final_SHAP = pd.concat(All_values,axis=0)\n",
    "Vertical_SHAP = Final_SHAP[Final_SHAP['Prod_label'].isin (vr_columns)]\n",
    "BE_SHAP = Final_SHAP[Final_SHAP['Prod_label'].isin (be_columns)] "
   ]
  },
  {
   "cell_type": "code",
   "execution_count": 242,
   "metadata": {},
   "outputs": [],
   "source": [
    "Final_SHAP.to_csv(a+'_Total_SHAP_Vals.csv')\n",
    "BE_SHAP.to_csv(a+'_BE_SHAP_Vals.csv')\n",
    "Vertical_SHAP.to_csv(a+'_Vertical_SHAP_Vals.csv')"
   ]
  },
  {
   "cell_type": "code",
   "execution_count": null,
   "metadata": {},
   "outputs": [],
   "source": []
  }
 ],
 "metadata": {
  "kernelspec": {
   "display_name": "Python 3",
   "language": "python",
   "name": "python3"
  },
  "language_info": {
   "codemirror_mode": {
    "name": "ipython",
    "version": 3
   },
   "file_extension": ".py",
   "mimetype": "text/x-python",
   "name": "python",
   "nbconvert_exporter": "python",
   "pygments_lexer": "ipython3",
   "version": "3.7.4"
  }
 },
 "nbformat": 4,
 "nbformat_minor": 2
}
