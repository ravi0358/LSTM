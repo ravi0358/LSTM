{
 "cells": [
  {
   "cell_type": "code",
   "execution_count": 1,
   "metadata": {},
   "outputs": [],
   "source": [
    "import pickle\n",
    "import os\n",
    "import numpy as np\n",
    "import pandas as pd\n",
    "import re\n",
    "import operator\n",
    "from pandas.core.common import flatten\n",
    "import warnings\n",
    "warnings.filterwarnings(\"ignore\")\n",
    "from sklearn.preprocessing import MinMaxScaler\n",
    "#import pyhdb\n",
    "from time import ctime"
   ]
  },
  {
   "cell_type": "code",
   "execution_count": 2,
   "metadata": {},
   "outputs": [],
   "source": [
    "from datetime import datetime, timedelta\n",
    "from collections import OrderedDict"
   ]
  },
  {
   "cell_type": "code",
   "execution_count": 3,
   "metadata": {},
   "outputs": [],
   "source": [
    "from collections import Counter"
   ]
  },
  {
   "cell_type": "code",
   "execution_count": 4,
   "metadata": {},
   "outputs": [],
   "source": [
    "df = pd.read_csv('C:/Users/rsure/Python Notebooks/LSTM note books/EY/Data Extraction/EY_FINAL_1.csv')\n",
    "# df_2 = pd.read_csv('Query_Owned_COMM_IOT_Switching.csv')\n",
    "# df_3 = pd.read_csv('Query_Owned_PUBLIC_SECTOR_IOT_Switching.csv')\n",
    "# df_4 = pd.read_csv('Query_Owned_SMALL_IOT_Switching.csv')\n",
    "# df_5 = pd.read_csv('Query_Owned_SERVICEPROVIDER_AND_OTHER_IOT_Switching.csv')"
   ]
  },
  {
   "cell_type": "code",
   "execution_count": 5,
   "metadata": {},
   "outputs": [
    {
     "data": {
      "text/plain": [
       "(1943087, 20)"
      ]
     },
     "execution_count": 5,
     "metadata": {},
     "output_type": "execute_result"
    }
   ],
   "source": [
    "df.shape"
   ]
  },
  {
   "cell_type": "code",
   "execution_count": 6,
   "metadata": {},
   "outputs": [
    {
     "data": {
      "text/plain": [
       "20204"
      ]
     },
     "execution_count": 6,
     "metadata": {},
     "output_type": "execute_result"
    }
   ],
   "source": [
    "df['FISCAL_QUARTER_ID'].max()"
   ]
  },
  {
   "cell_type": "code",
   "execution_count": 7,
   "metadata": {},
   "outputs": [],
   "source": [
    "quarters =[20204]"
   ]
  },
  {
   "cell_type": "code",
   "execution_count": 8,
   "metadata": {},
   "outputs": [],
   "source": [
    "df = df[~df['FISCAL_QUARTER_ID'].isin(quarters)]"
   ]
  },
  {
   "cell_type": "code",
   "execution_count": 9,
   "metadata": {},
   "outputs": [
    {
     "data": {
      "text/plain": [
       "(1870031, 20)"
      ]
     },
     "execution_count": 9,
     "metadata": {},
     "output_type": "execute_result"
    }
   ],
   "source": [
    "df.shape"
   ]
  },
  {
   "cell_type": "code",
   "execution_count": 10,
   "metadata": {},
   "outputs": [
    {
     "data": {
      "text/plain": [
       "count    1.870031e+06\n",
       "mean     6.919797e-02\n",
       "std      1.082836e-01\n",
       "min      0.000000e+00\n",
       "25%      0.000000e+00\n",
       "50%      0.000000e+00\n",
       "75%      8.333300e-02\n",
       "max      1.000000e+00\n",
       "Name: ACTIVE_3YEARS, dtype: float64"
      ]
     },
     "execution_count": 10,
     "metadata": {},
     "output_type": "execute_result"
    }
   ],
   "source": [
    "df['ACTIVE_3YEARS'].describe()"
   ]
  },
  {
   "cell_type": "code",
   "execution_count": 11,
   "metadata": {},
   "outputs": [],
   "source": [
    "df.drop(['Unnamed: 0'],axis=1,inplace=True)"
   ]
  },
  {
   "cell_type": "code",
   "execution_count": 12,
   "metadata": {},
   "outputs": [
    {
     "data": {
      "text/plain": [
       "(1870031, 19)"
      ]
     },
     "execution_count": 12,
     "metadata": {},
     "output_type": "execute_result"
    }
   ],
   "source": [
    "df.shape"
   ]
  },
  {
   "cell_type": "code",
   "execution_count": 13,
   "metadata": {},
   "outputs": [],
   "source": [
    "verts_train = df['SAVM_VERTICAL_MARKET_SEGMENT'].unique().tolist()\n",
    "bes_train = df['BUSINESS_ENTITY'].unique().tolist()\n",
    "scms_train = df['SAVM_SCMS_NAME'].unique().tolist()"
   ]
  },
  {
   "cell_type": "code",
   "execution_count": 14,
   "metadata": {},
   "outputs": [
    {
     "data": {
      "text/plain": [
       "20010"
      ]
     },
     "execution_count": 14,
     "metadata": {},
     "output_type": "execute_result"
    }
   ],
   "source": [
    "df['SAVM_GROUP_ID'].nunique()"
   ]
  },
  {
   "cell_type": "markdown",
   "metadata": {},
   "source": [
    "Create Collab Revenue Feature "
   ]
  },
  {
   "cell_type": "code",
   "execution_count": 15,
   "metadata": {},
   "outputs": [
    {
     "data": {
      "text/plain": [
       "count    1.870031e+06\n",
       "mean     3.244493e+00\n",
       "std      4.957895e+00\n",
       "min      1.000000e+00\n",
       "25%      1.000000e+00\n",
       "50%      2.000000e+00\n",
       "75%      3.000000e+00\n",
       "max      2.160000e+02\n",
       "Name: SITES, dtype: float64"
      ]
     },
     "execution_count": 15,
     "metadata": {},
     "output_type": "execute_result"
    }
   ],
   "source": [
    "df.SITES.describe()"
   ]
  },
  {
   "cell_type": "code",
   "execution_count": 16,
   "metadata": {},
   "outputs": [
    {
     "data": {
      "text/html": [
       "<div>\n",
       "<style scoped>\n",
       "    .dataframe tbody tr th:only-of-type {\n",
       "        vertical-align: middle;\n",
       "    }\n",
       "\n",
       "    .dataframe tbody tr th {\n",
       "        vertical-align: top;\n",
       "    }\n",
       "\n",
       "    .dataframe thead th {\n",
       "        text-align: right;\n",
       "    }\n",
       "</style>\n",
       "<table border=\"1\" class=\"dataframe\">\n",
       "  <thead>\n",
       "    <tr style=\"text-align: right;\">\n",
       "      <th></th>\n",
       "      <th>SAVM_GROUP_ID</th>\n",
       "      <th>SAVM_SCMS_NAME</th>\n",
       "      <th>SAVM_VERTICAL_MARKET_SEGMENT</th>\n",
       "      <th>BUSINESS_ENTITY</th>\n",
       "      <th>FISCAL_QUARTER_ID</th>\n",
       "      <th>ACTUAL_BOOKINGS</th>\n",
       "      <th>LIST_PRICE</th>\n",
       "      <th>QUANTITY</th>\n",
       "      <th>EY_FLAG</th>\n",
       "      <th>TENURE</th>\n",
       "      <th>PENETRATION</th>\n",
       "      <th>CUMM_BOOK_SAVM</th>\n",
       "      <th>CUMM_BOOK_SAVM_ARC</th>\n",
       "      <th>AVG_REVENUE_VERT</th>\n",
       "      <th>DISCOUNT</th>\n",
       "      <th>AVG_QUR_BOOKINGS</th>\n",
       "      <th>SITES</th>\n",
       "      <th>ACTIVE_3YEARS</th>\n",
       "      <th>BOUGHT_EY_BEFORE</th>\n",
       "    </tr>\n",
       "  </thead>\n",
       "  <tbody>\n",
       "    <tr>\n",
       "      <td>0</td>\n",
       "      <td>203686542</td>\n",
       "      <td>COMMERCIAL</td>\n",
       "      <td>Manufacturing</td>\n",
       "      <td>Computing Systems</td>\n",
       "      <td>20154</td>\n",
       "      <td>0</td>\n",
       "      <td>0</td>\n",
       "      <td>0</td>\n",
       "      <td>0</td>\n",
       "      <td>3</td>\n",
       "      <td>8</td>\n",
       "      <td>344409</td>\n",
       "      <td>0</td>\n",
       "      <td>401701</td>\n",
       "      <td>0.0</td>\n",
       "      <td>0</td>\n",
       "      <td>1</td>\n",
       "      <td>0.0</td>\n",
       "      <td>0</td>\n",
       "    </tr>\n",
       "    <tr>\n",
       "      <td>1</td>\n",
       "      <td>203686542</td>\n",
       "      <td>COMMERCIAL</td>\n",
       "      <td>Manufacturing</td>\n",
       "      <td>Other</td>\n",
       "      <td>20154</td>\n",
       "      <td>0</td>\n",
       "      <td>0</td>\n",
       "      <td>0</td>\n",
       "      <td>0</td>\n",
       "      <td>3</td>\n",
       "      <td>8</td>\n",
       "      <td>685288</td>\n",
       "      <td>0</td>\n",
       "      <td>401701</td>\n",
       "      <td>0.0</td>\n",
       "      <td>0</td>\n",
       "      <td>1</td>\n",
       "      <td>0.0</td>\n",
       "      <td>0</td>\n",
       "    </tr>\n",
       "    <tr>\n",
       "      <td>2</td>\n",
       "      <td>203686542</td>\n",
       "      <td>COMMERCIAL</td>\n",
       "      <td>Manufacturing</td>\n",
       "      <td>Other</td>\n",
       "      <td>20162</td>\n",
       "      <td>0</td>\n",
       "      <td>0</td>\n",
       "      <td>0</td>\n",
       "      <td>0</td>\n",
       "      <td>5</td>\n",
       "      <td>11</td>\n",
       "      <td>685288</td>\n",
       "      <td>0</td>\n",
       "      <td>302453</td>\n",
       "      <td>0.0</td>\n",
       "      <td>0</td>\n",
       "      <td>1</td>\n",
       "      <td>0.0</td>\n",
       "      <td>0</td>\n",
       "    </tr>\n",
       "    <tr>\n",
       "      <td>3</td>\n",
       "      <td>203686542</td>\n",
       "      <td>COMMERCIAL</td>\n",
       "      <td>Manufacturing</td>\n",
       "      <td>Services ASS_L1</td>\n",
       "      <td>20154</td>\n",
       "      <td>0</td>\n",
       "      <td>0</td>\n",
       "      <td>0</td>\n",
       "      <td>0</td>\n",
       "      <td>3</td>\n",
       "      <td>8</td>\n",
       "      <td>706082</td>\n",
       "      <td>0</td>\n",
       "      <td>401701</td>\n",
       "      <td>0.0</td>\n",
       "      <td>0</td>\n",
       "      <td>1</td>\n",
       "      <td>0.0</td>\n",
       "      <td>0</td>\n",
       "    </tr>\n",
       "    <tr>\n",
       "      <td>4</td>\n",
       "      <td>203687728</td>\n",
       "      <td>COMMERCIAL</td>\n",
       "      <td>Manufacturing</td>\n",
       "      <td>Data Center Networking</td>\n",
       "      <td>20141</td>\n",
       "      <td>0</td>\n",
       "      <td>0</td>\n",
       "      <td>0</td>\n",
       "      <td>0</td>\n",
       "      <td>0</td>\n",
       "      <td>0</td>\n",
       "      <td>180321</td>\n",
       "      <td>0</td>\n",
       "      <td>72389</td>\n",
       "      <td>0.0</td>\n",
       "      <td>0</td>\n",
       "      <td>1</td>\n",
       "      <td>0.0</td>\n",
       "      <td>0</td>\n",
       "    </tr>\n",
       "  </tbody>\n",
       "</table>\n",
       "</div>"
      ],
      "text/plain": [
       "   SAVM_GROUP_ID SAVM_SCMS_NAME SAVM_VERTICAL_MARKET_SEGMENT  \\\n",
       "0      203686542     COMMERCIAL                Manufacturing   \n",
       "1      203686542     COMMERCIAL                Manufacturing   \n",
       "2      203686542     COMMERCIAL                Manufacturing   \n",
       "3      203686542     COMMERCIAL                Manufacturing   \n",
       "4      203687728     COMMERCIAL                Manufacturing   \n",
       "\n",
       "          BUSINESS_ENTITY  FISCAL_QUARTER_ID  ACTUAL_BOOKINGS  LIST_PRICE  \\\n",
       "0       Computing Systems              20154                0           0   \n",
       "1                   Other              20154                0           0   \n",
       "2                   Other              20162                0           0   \n",
       "3         Services ASS_L1              20154                0           0   \n",
       "4  Data Center Networking              20141                0           0   \n",
       "\n",
       "   QUANTITY  EY_FLAG  TENURE  PENETRATION  CUMM_BOOK_SAVM  CUMM_BOOK_SAVM_ARC  \\\n",
       "0         0        0       3            8          344409                   0   \n",
       "1         0        0       3            8          685288                   0   \n",
       "2         0        0       5           11          685288                   0   \n",
       "3         0        0       3            8          706082                   0   \n",
       "4         0        0       0            0          180321                   0   \n",
       "\n",
       "   AVG_REVENUE_VERT  DISCOUNT  AVG_QUR_BOOKINGS  SITES  ACTIVE_3YEARS  \\\n",
       "0            401701       0.0                 0      1            0.0   \n",
       "1            401701       0.0                 0      1            0.0   \n",
       "2            302453       0.0                 0      1            0.0   \n",
       "3            401701       0.0                 0      1            0.0   \n",
       "4             72389       0.0                 0      1            0.0   \n",
       "\n",
       "   BOUGHT_EY_BEFORE  \n",
       "0                 0  \n",
       "1                 0  \n",
       "2                 0  \n",
       "3                 0  \n",
       "4                 0  "
      ]
     },
     "execution_count": 16,
     "metadata": {},
     "output_type": "execute_result"
    }
   ],
   "source": [
    "df.head()"
   ]
  },
  {
   "cell_type": "code",
   "execution_count": 17,
   "metadata": {},
   "outputs": [
    {
     "data": {
      "text/plain": [
       "array(['Computing Systems', 'Other', 'Services ASS_L1',\n",
       "       'Data Center Networking', 'Enterprise Switching',\n",
       "       'Service Provider Routing', 'Collaboration', 'IOT', 'Wireless',\n",
       "       'Security', 'Enterprise Routing', 'Services TSS_L1', 'Meraki',\n",
       "       'UNKNOWN', nan, 'SP Video Software and Solutions',\n",
       "       'Monitoring and Analytics', 'SP Video Infrastructure'],\n",
       "      dtype=object)"
      ]
     },
     "execution_count": 17,
     "metadata": {},
     "output_type": "execute_result"
    }
   ],
   "source": [
    "df['BUSINESS_ENTITY'].unique()"
   ]
  },
  {
   "cell_type": "code",
   "execution_count": 18,
   "metadata": {},
   "outputs": [],
   "source": [
    "df_allrev_gb = df.groupby(['SAVM_GROUP_ID','FISCAL_QUARTER_ID'])['ACTUAL_BOOKINGS'].sum().reset_index()"
   ]
  },
  {
   "cell_type": "code",
   "execution_count": 19,
   "metadata": {},
   "outputs": [],
   "source": [
    "df_colrev_gb = df[(df['BUSINESS_ENTITY']=='Computing Systems')| (df['BUSINESS_ENTITY']=='Data Center Networking')].groupby(['SAVM_GROUP_ID','FISCAL_QUARTER_ID'])['ACTUAL_BOOKINGS'].sum().reset_index()"
   ]
  },
  {
   "cell_type": "code",
   "execution_count": 20,
   "metadata": {},
   "outputs": [],
   "source": [
    "df_colrev_gb.rename({'ACTUAL_BOOKINGS':'ACTUAL_BOOKINGS_COL'},axis=1,inplace=True)"
   ]
  },
  {
   "cell_type": "code",
   "execution_count": 21,
   "metadata": {},
   "outputs": [],
   "source": [
    "df_colper = pd.merge(df_allrev_gb,df_colrev_gb,on=['SAVM_GROUP_ID','FISCAL_QUARTER_ID'])"
   ]
  },
  {
   "cell_type": "code",
   "execution_count": 22,
   "metadata": {},
   "outputs": [],
   "source": [
    "df_colper['DataCenterRevenue'] = df_colper['ACTUAL_BOOKINGS_COL']/df_colper['ACTUAL_BOOKINGS']"
   ]
  },
  {
   "cell_type": "code",
   "execution_count": 23,
   "metadata": {},
   "outputs": [],
   "source": [
    "df_colper.drop(['ACTUAL_BOOKINGS','ACTUAL_BOOKINGS_COL'],axis=1,inplace=True)"
   ]
  },
  {
   "cell_type": "code",
   "execution_count": 24,
   "metadata": {},
   "outputs": [],
   "source": [
    "df = df.merge(df_colper,how='left',on=['SAVM_GROUP_ID','FISCAL_QUARTER_ID'])"
   ]
  },
  {
   "cell_type": "code",
   "execution_count": 25,
   "metadata": {},
   "outputs": [
    {
     "data": {
      "text/html": [
       "<div>\n",
       "<style scoped>\n",
       "    .dataframe tbody tr th:only-of-type {\n",
       "        vertical-align: middle;\n",
       "    }\n",
       "\n",
       "    .dataframe tbody tr th {\n",
       "        vertical-align: top;\n",
       "    }\n",
       "\n",
       "    .dataframe thead th {\n",
       "        text-align: right;\n",
       "    }\n",
       "</style>\n",
       "<table border=\"1\" class=\"dataframe\">\n",
       "  <thead>\n",
       "    <tr style=\"text-align: right;\">\n",
       "      <th></th>\n",
       "      <th>SAVM_GROUP_ID</th>\n",
       "      <th>SAVM_SCMS_NAME</th>\n",
       "      <th>SAVM_VERTICAL_MARKET_SEGMENT</th>\n",
       "      <th>BUSINESS_ENTITY</th>\n",
       "      <th>FISCAL_QUARTER_ID</th>\n",
       "      <th>ACTUAL_BOOKINGS</th>\n",
       "      <th>LIST_PRICE</th>\n",
       "      <th>QUANTITY</th>\n",
       "      <th>EY_FLAG</th>\n",
       "      <th>TENURE</th>\n",
       "      <th>PENETRATION</th>\n",
       "      <th>CUMM_BOOK_SAVM</th>\n",
       "      <th>CUMM_BOOK_SAVM_ARC</th>\n",
       "      <th>AVG_REVENUE_VERT</th>\n",
       "      <th>DISCOUNT</th>\n",
       "      <th>AVG_QUR_BOOKINGS</th>\n",
       "      <th>SITES</th>\n",
       "      <th>ACTIVE_3YEARS</th>\n",
       "      <th>BOUGHT_EY_BEFORE</th>\n",
       "      <th>DataCenterRevenue</th>\n",
       "    </tr>\n",
       "  </thead>\n",
       "  <tbody>\n",
       "    <tr>\n",
       "      <td>0</td>\n",
       "      <td>203686542</td>\n",
       "      <td>COMMERCIAL</td>\n",
       "      <td>Manufacturing</td>\n",
       "      <td>Computing Systems</td>\n",
       "      <td>20154</td>\n",
       "      <td>0</td>\n",
       "      <td>0</td>\n",
       "      <td>0</td>\n",
       "      <td>0</td>\n",
       "      <td>3</td>\n",
       "      <td>8</td>\n",
       "      <td>344409</td>\n",
       "      <td>0</td>\n",
       "      <td>401701</td>\n",
       "      <td>0.0</td>\n",
       "      <td>0</td>\n",
       "      <td>1</td>\n",
       "      <td>0.0</td>\n",
       "      <td>0</td>\n",
       "      <td>0.0</td>\n",
       "    </tr>\n",
       "    <tr>\n",
       "      <td>1</td>\n",
       "      <td>203686542</td>\n",
       "      <td>COMMERCIAL</td>\n",
       "      <td>Manufacturing</td>\n",
       "      <td>Other</td>\n",
       "      <td>20154</td>\n",
       "      <td>0</td>\n",
       "      <td>0</td>\n",
       "      <td>0</td>\n",
       "      <td>0</td>\n",
       "      <td>3</td>\n",
       "      <td>8</td>\n",
       "      <td>685288</td>\n",
       "      <td>0</td>\n",
       "      <td>401701</td>\n",
       "      <td>0.0</td>\n",
       "      <td>0</td>\n",
       "      <td>1</td>\n",
       "      <td>0.0</td>\n",
       "      <td>0</td>\n",
       "      <td>0.0</td>\n",
       "    </tr>\n",
       "    <tr>\n",
       "      <td>2</td>\n",
       "      <td>203686542</td>\n",
       "      <td>COMMERCIAL</td>\n",
       "      <td>Manufacturing</td>\n",
       "      <td>Other</td>\n",
       "      <td>20162</td>\n",
       "      <td>0</td>\n",
       "      <td>0</td>\n",
       "      <td>0</td>\n",
       "      <td>0</td>\n",
       "      <td>5</td>\n",
       "      <td>11</td>\n",
       "      <td>685288</td>\n",
       "      <td>0</td>\n",
       "      <td>302453</td>\n",
       "      <td>0.0</td>\n",
       "      <td>0</td>\n",
       "      <td>1</td>\n",
       "      <td>0.0</td>\n",
       "      <td>0</td>\n",
       "      <td>NaN</td>\n",
       "    </tr>\n",
       "    <tr>\n",
       "      <td>3</td>\n",
       "      <td>203686542</td>\n",
       "      <td>COMMERCIAL</td>\n",
       "      <td>Manufacturing</td>\n",
       "      <td>Services ASS_L1</td>\n",
       "      <td>20154</td>\n",
       "      <td>0</td>\n",
       "      <td>0</td>\n",
       "      <td>0</td>\n",
       "      <td>0</td>\n",
       "      <td>3</td>\n",
       "      <td>8</td>\n",
       "      <td>706082</td>\n",
       "      <td>0</td>\n",
       "      <td>401701</td>\n",
       "      <td>0.0</td>\n",
       "      <td>0</td>\n",
       "      <td>1</td>\n",
       "      <td>0.0</td>\n",
       "      <td>0</td>\n",
       "      <td>0.0</td>\n",
       "    </tr>\n",
       "    <tr>\n",
       "      <td>4</td>\n",
       "      <td>203687728</td>\n",
       "      <td>COMMERCIAL</td>\n",
       "      <td>Manufacturing</td>\n",
       "      <td>Data Center Networking</td>\n",
       "      <td>20141</td>\n",
       "      <td>0</td>\n",
       "      <td>0</td>\n",
       "      <td>0</td>\n",
       "      <td>0</td>\n",
       "      <td>0</td>\n",
       "      <td>0</td>\n",
       "      <td>180321</td>\n",
       "      <td>0</td>\n",
       "      <td>72389</td>\n",
       "      <td>0.0</td>\n",
       "      <td>0</td>\n",
       "      <td>1</td>\n",
       "      <td>0.0</td>\n",
       "      <td>0</td>\n",
       "      <td>0.0</td>\n",
       "    </tr>\n",
       "  </tbody>\n",
       "</table>\n",
       "</div>"
      ],
      "text/plain": [
       "   SAVM_GROUP_ID SAVM_SCMS_NAME SAVM_VERTICAL_MARKET_SEGMENT  \\\n",
       "0      203686542     COMMERCIAL                Manufacturing   \n",
       "1      203686542     COMMERCIAL                Manufacturing   \n",
       "2      203686542     COMMERCIAL                Manufacturing   \n",
       "3      203686542     COMMERCIAL                Manufacturing   \n",
       "4      203687728     COMMERCIAL                Manufacturing   \n",
       "\n",
       "          BUSINESS_ENTITY  FISCAL_QUARTER_ID  ACTUAL_BOOKINGS  LIST_PRICE  \\\n",
       "0       Computing Systems              20154                0           0   \n",
       "1                   Other              20154                0           0   \n",
       "2                   Other              20162                0           0   \n",
       "3         Services ASS_L1              20154                0           0   \n",
       "4  Data Center Networking              20141                0           0   \n",
       "\n",
       "   QUANTITY  EY_FLAG  TENURE  PENETRATION  CUMM_BOOK_SAVM  CUMM_BOOK_SAVM_ARC  \\\n",
       "0         0        0       3            8          344409                   0   \n",
       "1         0        0       3            8          685288                   0   \n",
       "2         0        0       5           11          685288                   0   \n",
       "3         0        0       3            8          706082                   0   \n",
       "4         0        0       0            0          180321                   0   \n",
       "\n",
       "   AVG_REVENUE_VERT  DISCOUNT  AVG_QUR_BOOKINGS  SITES  ACTIVE_3YEARS  \\\n",
       "0            401701       0.0                 0      1            0.0   \n",
       "1            401701       0.0                 0      1            0.0   \n",
       "2            302453       0.0                 0      1            0.0   \n",
       "3            401701       0.0                 0      1            0.0   \n",
       "4             72389       0.0                 0      1            0.0   \n",
       "\n",
       "   BOUGHT_EY_BEFORE  DataCenterRevenue  \n",
       "0                 0                0.0  \n",
       "1                 0                0.0  \n",
       "2                 0                NaN  \n",
       "3                 0                0.0  \n",
       "4                 0                0.0  "
      ]
     },
     "execution_count": 25,
     "metadata": {},
     "output_type": "execute_result"
    }
   ],
   "source": [
    "df.head()"
   ]
  },
  {
   "cell_type": "code",
   "execution_count": 26,
   "metadata": {},
   "outputs": [],
   "source": [
    "df['DataCenterRevenue'].fillna(0,inplace=True)"
   ]
  },
  {
   "cell_type": "markdown",
   "metadata": {},
   "source": [
    "End Feature creation"
   ]
  },
  {
   "cell_type": "code",
   "execution_count": 27,
   "metadata": {},
   "outputs": [
    {
     "data": {
      "text/plain": [
       "Collaboration               33205\n",
       "Services TSS_L1             12179\n",
       "Security                     3490\n",
       "Wireless                     1358\n",
       "Enterprise Routing           1311\n",
       "Enterprise Switching          912\n",
       "Data Center Networking        348\n",
       "IOT                           185\n",
       "Other                         176\n",
       "Computing Systems             158\n",
       "Services ASS_L1               146\n",
       "UNKNOWN                       120\n",
       "Monitoring and Analytics      113\n",
       "Service Provider Routing       62\n",
       "Meraki                         42\n",
       "Name: BUSINESS_ENTITY, dtype: int64"
      ]
     },
     "execution_count": 27,
     "metadata": {},
     "output_type": "execute_result"
    }
   ],
   "source": [
    "df[df['EY_FLAG']==1]['BUSINESS_ENTITY'].value_counts()"
   ]
  },
  {
   "cell_type": "code",
   "execution_count": 28,
   "metadata": {},
   "outputs": [],
   "source": [
    "savm_colab = df[((df['BUSINESS_ENTITY']=='Computing Systems') | (df['BUSINESS_ENTITY']=='Data Center Networking'))&(df['EY_FLAG']==1)]['SAVM_GROUP_ID'].tolist()"
   ]
  },
  {
   "cell_type": "code",
   "execution_count": 29,
   "metadata": {},
   "outputs": [
    {
     "data": {
      "text/plain": [
       "171"
      ]
     },
     "execution_count": 29,
     "metadata": {},
     "output_type": "execute_result"
    }
   ],
   "source": [
    "len(Counter(savm_colab).keys())"
   ]
  },
  {
   "cell_type": "code",
   "execution_count": 30,
   "metadata": {},
   "outputs": [
    {
     "data": {
      "text/plain": [
       "171"
      ]
     },
     "execution_count": 30,
     "metadata": {},
     "output_type": "execute_result"
    }
   ],
   "source": [
    "df.loc[df.SAVM_GROUP_ID.isin(savm_colab)].SAVM_GROUP_ID.nunique()"
   ]
  },
  {
   "cell_type": "code",
   "execution_count": 31,
   "metadata": {},
   "outputs": [],
   "source": [
    "df_1 = df[~df.SAVM_GROUP_ID.isin(savm_colab)]"
   ]
  },
  {
   "cell_type": "code",
   "execution_count": 32,
   "metadata": {},
   "outputs": [
    {
     "data": {
      "text/plain": [
       "Collaboration               32748\n",
       "Services TSS_L1             11529\n",
       "Security                     3135\n",
       "Wireless                     1073\n",
       "Enterprise Routing           1065\n",
       "Enterprise Switching          645\n",
       "IOT                            92\n",
       "Monitoring and Analytics       92\n",
       "Services ASS_L1                55\n",
       "Other                          54\n",
       "UNKNOWN                        46\n",
       "Meraki                         39\n",
       "Name: BUSINESS_ENTITY, dtype: int64"
      ]
     },
     "execution_count": 32,
     "metadata": {},
     "output_type": "execute_result"
    }
   ],
   "source": [
    "df_1[df_1['EY_FLAG']==1]['BUSINESS_ENTITY'].value_counts()"
   ]
  },
  {
   "cell_type": "code",
   "execution_count": 33,
   "metadata": {},
   "outputs": [
    {
     "data": {
      "text/plain": [
       "(1838211, 20)"
      ]
     },
     "execution_count": 33,
     "metadata": {},
     "output_type": "execute_result"
    }
   ],
   "source": [
    "df_1.shape"
   ]
  },
  {
   "cell_type": "code",
   "execution_count": 34,
   "metadata": {},
   "outputs": [
    {
     "data": {
      "text/html": [
       "<div>\n",
       "<style scoped>\n",
       "    .dataframe tbody tr th:only-of-type {\n",
       "        vertical-align: middle;\n",
       "    }\n",
       "\n",
       "    .dataframe tbody tr th {\n",
       "        vertical-align: top;\n",
       "    }\n",
       "\n",
       "    .dataframe thead th {\n",
       "        text-align: right;\n",
       "    }\n",
       "</style>\n",
       "<table border=\"1\" class=\"dataframe\">\n",
       "  <thead>\n",
       "    <tr style=\"text-align: right;\">\n",
       "      <th></th>\n",
       "      <th>SAVM_GROUP_ID</th>\n",
       "      <th>SAVM_SCMS_NAME</th>\n",
       "      <th>SAVM_VERTICAL_MARKET_SEGMENT</th>\n",
       "      <th>BUSINESS_ENTITY</th>\n",
       "      <th>FISCAL_QUARTER_ID</th>\n",
       "      <th>ACTUAL_BOOKINGS</th>\n",
       "      <th>LIST_PRICE</th>\n",
       "      <th>QUANTITY</th>\n",
       "      <th>EY_FLAG</th>\n",
       "      <th>TENURE</th>\n",
       "      <th>PENETRATION</th>\n",
       "      <th>CUMM_BOOK_SAVM</th>\n",
       "      <th>CUMM_BOOK_SAVM_ARC</th>\n",
       "      <th>AVG_REVENUE_VERT</th>\n",
       "      <th>DISCOUNT</th>\n",
       "      <th>AVG_QUR_BOOKINGS</th>\n",
       "      <th>SITES</th>\n",
       "      <th>ACTIVE_3YEARS</th>\n",
       "      <th>BOUGHT_EY_BEFORE</th>\n",
       "      <th>DataCenterRevenue</th>\n",
       "    </tr>\n",
       "  </thead>\n",
       "  <tbody>\n",
       "    <tr>\n",
       "      <td>0</td>\n",
       "      <td>203686542</td>\n",
       "      <td>COMMERCIAL</td>\n",
       "      <td>Manufacturing</td>\n",
       "      <td>Computing Systems</td>\n",
       "      <td>20154</td>\n",
       "      <td>0</td>\n",
       "      <td>0</td>\n",
       "      <td>0</td>\n",
       "      <td>0</td>\n",
       "      <td>3</td>\n",
       "      <td>8</td>\n",
       "      <td>344409</td>\n",
       "      <td>0</td>\n",
       "      <td>401701</td>\n",
       "      <td>0.0</td>\n",
       "      <td>0</td>\n",
       "      <td>1</td>\n",
       "      <td>0.0</td>\n",
       "      <td>0</td>\n",
       "      <td>0.0</td>\n",
       "    </tr>\n",
       "    <tr>\n",
       "      <td>1</td>\n",
       "      <td>203686542</td>\n",
       "      <td>COMMERCIAL</td>\n",
       "      <td>Manufacturing</td>\n",
       "      <td>Other</td>\n",
       "      <td>20154</td>\n",
       "      <td>0</td>\n",
       "      <td>0</td>\n",
       "      <td>0</td>\n",
       "      <td>0</td>\n",
       "      <td>3</td>\n",
       "      <td>8</td>\n",
       "      <td>685288</td>\n",
       "      <td>0</td>\n",
       "      <td>401701</td>\n",
       "      <td>0.0</td>\n",
       "      <td>0</td>\n",
       "      <td>1</td>\n",
       "      <td>0.0</td>\n",
       "      <td>0</td>\n",
       "      <td>0.0</td>\n",
       "    </tr>\n",
       "    <tr>\n",
       "      <td>2</td>\n",
       "      <td>203686542</td>\n",
       "      <td>COMMERCIAL</td>\n",
       "      <td>Manufacturing</td>\n",
       "      <td>Other</td>\n",
       "      <td>20162</td>\n",
       "      <td>0</td>\n",
       "      <td>0</td>\n",
       "      <td>0</td>\n",
       "      <td>0</td>\n",
       "      <td>5</td>\n",
       "      <td>11</td>\n",
       "      <td>685288</td>\n",
       "      <td>0</td>\n",
       "      <td>302453</td>\n",
       "      <td>0.0</td>\n",
       "      <td>0</td>\n",
       "      <td>1</td>\n",
       "      <td>0.0</td>\n",
       "      <td>0</td>\n",
       "      <td>0.0</td>\n",
       "    </tr>\n",
       "    <tr>\n",
       "      <td>3</td>\n",
       "      <td>203686542</td>\n",
       "      <td>COMMERCIAL</td>\n",
       "      <td>Manufacturing</td>\n",
       "      <td>Services ASS_L1</td>\n",
       "      <td>20154</td>\n",
       "      <td>0</td>\n",
       "      <td>0</td>\n",
       "      <td>0</td>\n",
       "      <td>0</td>\n",
       "      <td>3</td>\n",
       "      <td>8</td>\n",
       "      <td>706082</td>\n",
       "      <td>0</td>\n",
       "      <td>401701</td>\n",
       "      <td>0.0</td>\n",
       "      <td>0</td>\n",
       "      <td>1</td>\n",
       "      <td>0.0</td>\n",
       "      <td>0</td>\n",
       "      <td>0.0</td>\n",
       "    </tr>\n",
       "    <tr>\n",
       "      <td>4</td>\n",
       "      <td>203687728</td>\n",
       "      <td>COMMERCIAL</td>\n",
       "      <td>Manufacturing</td>\n",
       "      <td>Data Center Networking</td>\n",
       "      <td>20141</td>\n",
       "      <td>0</td>\n",
       "      <td>0</td>\n",
       "      <td>0</td>\n",
       "      <td>0</td>\n",
       "      <td>0</td>\n",
       "      <td>0</td>\n",
       "      <td>180321</td>\n",
       "      <td>0</td>\n",
       "      <td>72389</td>\n",
       "      <td>0.0</td>\n",
       "      <td>0</td>\n",
       "      <td>1</td>\n",
       "      <td>0.0</td>\n",
       "      <td>0</td>\n",
       "      <td>0.0</td>\n",
       "    </tr>\n",
       "  </tbody>\n",
       "</table>\n",
       "</div>"
      ],
      "text/plain": [
       "   SAVM_GROUP_ID SAVM_SCMS_NAME SAVM_VERTICAL_MARKET_SEGMENT  \\\n",
       "0      203686542     COMMERCIAL                Manufacturing   \n",
       "1      203686542     COMMERCIAL                Manufacturing   \n",
       "2      203686542     COMMERCIAL                Manufacturing   \n",
       "3      203686542     COMMERCIAL                Manufacturing   \n",
       "4      203687728     COMMERCIAL                Manufacturing   \n",
       "\n",
       "          BUSINESS_ENTITY  FISCAL_QUARTER_ID  ACTUAL_BOOKINGS  LIST_PRICE  \\\n",
       "0       Computing Systems              20154                0           0   \n",
       "1                   Other              20154                0           0   \n",
       "2                   Other              20162                0           0   \n",
       "3         Services ASS_L1              20154                0           0   \n",
       "4  Data Center Networking              20141                0           0   \n",
       "\n",
       "   QUANTITY  EY_FLAG  TENURE  PENETRATION  CUMM_BOOK_SAVM  CUMM_BOOK_SAVM_ARC  \\\n",
       "0         0        0       3            8          344409                   0   \n",
       "1         0        0       3            8          685288                   0   \n",
       "2         0        0       5           11          685288                   0   \n",
       "3         0        0       3            8          706082                   0   \n",
       "4         0        0       0            0          180321                   0   \n",
       "\n",
       "   AVG_REVENUE_VERT  DISCOUNT  AVG_QUR_BOOKINGS  SITES  ACTIVE_3YEARS  \\\n",
       "0            401701       0.0                 0      1            0.0   \n",
       "1            401701       0.0                 0      1            0.0   \n",
       "2            302453       0.0                 0      1            0.0   \n",
       "3            401701       0.0                 0      1            0.0   \n",
       "4             72389       0.0                 0      1            0.0   \n",
       "\n",
       "   BOUGHT_EY_BEFORE  DataCenterRevenue  \n",
       "0                 0                0.0  \n",
       "1                 0                0.0  \n",
       "2                 0                0.0  \n",
       "3                 0                0.0  \n",
       "4                 0                0.0  "
      ]
     },
     "execution_count": 34,
     "metadata": {},
     "output_type": "execute_result"
    }
   ],
   "source": [
    "df_1.head()"
   ]
  },
  {
   "cell_type": "code",
   "execution_count": 35,
   "metadata": {},
   "outputs": [
    {
     "data": {
      "text/plain": [
       "(0, 20)"
      ]
     },
     "execution_count": 35,
     "metadata": {},
     "output_type": "execute_result"
    }
   ],
   "source": [
    "df_1[((df_1['BUSINESS_ENTITY']=='Computing Systems') | (df_1['BUSINESS_ENTITY']=='Data Center Networking')) & (df_1['EY_FLAG']==1)].shape"
   ]
  },
  {
   "cell_type": "code",
   "execution_count": 36,
   "metadata": {},
   "outputs": [],
   "source": [
    "df_1['BUSINESS_ENTITY'] = np.where ( ((df_1['BUSINESS_ENTITY']=='Computing Systems') | (df_1['BUSINESS_ENTITY']=='Data Center Networking')) & (df_1['EY_FLAG']==1),'Reco_Prod',df_1['BUSINESS_ENTITY'])"
   ]
  },
  {
   "cell_type": "code",
   "execution_count": 37,
   "metadata": {},
   "outputs": [
    {
     "data": {
      "text/plain": [
       "(0, 20)"
      ]
     },
     "execution_count": 37,
     "metadata": {},
     "output_type": "execute_result"
    }
   ],
   "source": [
    "df_1[(df_1['BUSINESS_ENTITY']=='Reco_Prod')].shape"
   ]
  },
  {
   "cell_type": "code",
   "execution_count": 38,
   "metadata": {},
   "outputs": [
    {
     "data": {
      "text/plain": [
       "19839"
      ]
     },
     "execution_count": 38,
     "metadata": {},
     "output_type": "execute_result"
    }
   ],
   "source": [
    "df_1.SAVM_GROUP_ID.nunique()"
   ]
  },
  {
   "cell_type": "code",
   "execution_count": null,
   "metadata": {},
   "outputs": [],
   "source": [
    "# df_1.drop(['ARCHITECTURE_BE'],axis=1,inplace=True)"
   ]
  },
  {
   "cell_type": "code",
   "execution_count": 39,
   "metadata": {},
   "outputs": [],
   "source": [
    "def generate_security_revenue(row):\n",
    "    if (row['BUSINESS_ENTITY'] == 'Computing Systems') | (row['BUSINESS_ENTITY'] == 'Data Center Networking') | (row['BUSINESS_ENTITY'] == 'Reco_Prod'):\n",
    "        return row['ACTUAL_BOOKINGS']\n",
    "    else :\n",
    "        return 0"
   ]
  },
  {
   "cell_type": "code",
   "execution_count": null,
   "metadata": {},
   "outputs": [],
   "source": [
    "# df_1['Colab_Revenue']=df_1.apply (lambda row: generate_security_revenue(row), axis=1)"
   ]
  },
  {
   "cell_type": "code",
   "execution_count": 40,
   "metadata": {},
   "outputs": [],
   "source": [
    "def generate_cumilative_features(df_temp):\n",
    "    df_temp['DataCenter_Revenue']=df_temp.apply (lambda row: generate_security_revenue(row), axis=1)\n",
    "    df_temp_1=pd.DataFrame(df_temp.groupby(['SAVM_GROUP_ID','FISCAL_QUARTER_ID'])['DataCenter_Revenue'].sum()).reset_index()\n",
    "    df_temp_1['DataCenter_Revenue_cumulative']=df_temp_1['DataCenter_Revenue'].cumsum()\n",
    "    df_temp_1['Year']=df_temp_1['FISCAL_QUARTER_ID'].astype(str).str[:4]\n",
    "    df_temp_2=pd.DataFrame(df_temp_1.groupby('Year')['DataCenter_Revenue'].sum()).reset_index()\n",
    "    df_temp_2.columns=['Year','DataCenter_Revenue_cumulative_last_year']\n",
    "    df_temp_2['DataCenter_Revenue_cumulative_last_year']=df_temp_2['DataCenter_Revenue_cumulative_last_year'].shift(1)\n",
    "    df_temp_3=df_temp_1.merge(df_temp_2,on='Year',how='left')\n",
    "    df_temp_3.drop(['DataCenter_Revenue','Year'],axis=1,inplace=True)\n",
    "    df_temp_3['DataCenter_Revenue_cumulative_last_year'].fillna(0,inplace=True)\n",
    "    df_final=df_temp.merge(df_temp_3,on=['SAVM_GROUP_ID','FISCAL_QUARTER_ID'],how='left')\n",
    "    df_final.drop('DataCenter_Revenue',axis=1,inplace=True)\n",
    "    return df_final"
   ]
  },
  {
   "cell_type": "code",
   "execution_count": null,
   "metadata": {},
   "outputs": [],
   "source": [
    "# df_temp_1=pd.DataFrame(df_1.groupby(['SAVM_GROUP_ID','FISCAL_QUARTER_ID'])['Security_Revenue'].sum()).reset_index()\n",
    "# df_temp_1['Security_Revenue_cumulative']=df_temp_1['Security_Revenue'].cumsum()\n",
    "# df_temp_1['Year']=df_temp_1['FISCAL_QUARTER_ID'].astype(str).str[:4]\n",
    "# df_temp_2=pd.DataFrame(df_temp_1.groupby('Year')['Security_Revenue'].sum()).reset_index()\n",
    "# df_temp_2.columns=['Year','Security_Revenue_cumulative_last_year']\n",
    "# df_temp_2['Security_Revenue_cumulative_last_year']=df_temp_2['Security_Revenue_cumulative_last_year'].shift(1)\n",
    "# df_temp_3=df_temp_1.merge(df_temp_2,on='Year',how='left')\n",
    "# df_temp_3.drop(['Security_Revenue','Year'],axis=1,inplace=True)\n",
    "# df_temp_3['Security_Revenue_cumulative_last_year'].fillna(0,inplace=True)\n",
    "# df_1=df_1.merge(df_temp_3,on=['SAVM_GROUP_ID','FISCAL_QUARTER_ID'],how='left')"
   ]
  },
  {
   "cell_type": "code",
   "execution_count": null,
   "metadata": {},
   "outputs": [],
   "source": [
    "# df_1.drop('Security_Revenue',axis=1,inplace=True)"
   ]
  },
  {
   "cell_type": "code",
   "execution_count": 42,
   "metadata": {},
   "outputs": [],
   "source": [
    "df_revised_new=df_1.groupby('SAVM_GROUP_ID').apply(lambda x: generate_cumilative_features(x))"
   ]
  },
  {
   "cell_type": "code",
   "execution_count": 43,
   "metadata": {},
   "outputs": [
    {
     "data": {
      "text/plain": [
       "(1838211, 22)"
      ]
     },
     "execution_count": 43,
     "metadata": {},
     "output_type": "execute_result"
    }
   ],
   "source": [
    "df_revised_new.shape"
   ]
  },
  {
   "cell_type": "code",
   "execution_count": 44,
   "metadata": {},
   "outputs": [],
   "source": [
    "# df_revised.shape"
   ]
  },
  {
   "cell_type": "code",
   "execution_count": 45,
   "metadata": {},
   "outputs": [],
   "source": [
    "df_1=df_revised_new"
   ]
  },
  {
   "cell_type": "code",
   "execution_count": 46,
   "metadata": {},
   "outputs": [
    {
     "data": {
      "text/html": [
       "<div>\n",
       "<style scoped>\n",
       "    .dataframe tbody tr th:only-of-type {\n",
       "        vertical-align: middle;\n",
       "    }\n",
       "\n",
       "    .dataframe tbody tr th {\n",
       "        vertical-align: top;\n",
       "    }\n",
       "\n",
       "    .dataframe thead th {\n",
       "        text-align: right;\n",
       "    }\n",
       "</style>\n",
       "<table border=\"1\" class=\"dataframe\">\n",
       "  <thead>\n",
       "    <tr style=\"text-align: right;\">\n",
       "      <th></th>\n",
       "      <th></th>\n",
       "      <th>SAVM_GROUP_ID</th>\n",
       "      <th>SAVM_SCMS_NAME</th>\n",
       "      <th>SAVM_VERTICAL_MARKET_SEGMENT</th>\n",
       "      <th>BUSINESS_ENTITY</th>\n",
       "      <th>FISCAL_QUARTER_ID</th>\n",
       "      <th>ACTUAL_BOOKINGS</th>\n",
       "      <th>LIST_PRICE</th>\n",
       "      <th>QUANTITY</th>\n",
       "      <th>EY_FLAG</th>\n",
       "      <th>TENURE</th>\n",
       "      <th>...</th>\n",
       "      <th>CUMM_BOOK_SAVM_ARC</th>\n",
       "      <th>AVG_REVENUE_VERT</th>\n",
       "      <th>DISCOUNT</th>\n",
       "      <th>AVG_QUR_BOOKINGS</th>\n",
       "      <th>SITES</th>\n",
       "      <th>ACTIVE_3YEARS</th>\n",
       "      <th>BOUGHT_EY_BEFORE</th>\n",
       "      <th>DataCenterRevenue</th>\n",
       "      <th>DataCenter_Revenue_cumulative</th>\n",
       "      <th>DataCenter_Revenue_cumulative_last_year</th>\n",
       "    </tr>\n",
       "    <tr>\n",
       "      <th>SAVM_GROUP_ID</th>\n",
       "      <th></th>\n",
       "      <th></th>\n",
       "      <th></th>\n",
       "      <th></th>\n",
       "      <th></th>\n",
       "      <th></th>\n",
       "      <th></th>\n",
       "      <th></th>\n",
       "      <th></th>\n",
       "      <th></th>\n",
       "      <th></th>\n",
       "      <th></th>\n",
       "      <th></th>\n",
       "      <th></th>\n",
       "      <th></th>\n",
       "      <th></th>\n",
       "      <th></th>\n",
       "      <th></th>\n",
       "      <th></th>\n",
       "      <th></th>\n",
       "      <th></th>\n",
       "      <th></th>\n",
       "    </tr>\n",
       "  </thead>\n",
       "  <tbody>\n",
       "    <tr>\n",
       "      <td rowspan=\"5\" valign=\"top\">203684844</td>\n",
       "      <td>0</td>\n",
       "      <td>203684844</td>\n",
       "      <td>COMMERCIAL</td>\n",
       "      <td>Energy/Utilities</td>\n",
       "      <td>Collaboration</td>\n",
       "      <td>20181</td>\n",
       "      <td>0</td>\n",
       "      <td>0</td>\n",
       "      <td>0</td>\n",
       "      <td>0</td>\n",
       "      <td>12</td>\n",
       "      <td>...</td>\n",
       "      <td>1079996</td>\n",
       "      <td>396564</td>\n",
       "      <td>0.0</td>\n",
       "      <td>0</td>\n",
       "      <td>1</td>\n",
       "      <td>0.083333</td>\n",
       "      <td>1</td>\n",
       "      <td>0.0</td>\n",
       "      <td>123196</td>\n",
       "      <td>354.0</td>\n",
       "    </tr>\n",
       "    <tr>\n",
       "      <td>1</td>\n",
       "      <td>203684844</td>\n",
       "      <td>COMMERCIAL</td>\n",
       "      <td>Energy/Utilities</td>\n",
       "      <td>Enterprise Switching</td>\n",
       "      <td>20203</td>\n",
       "      <td>2805</td>\n",
       "      <td>0</td>\n",
       "      <td>1</td>\n",
       "      <td>0</td>\n",
       "      <td>22</td>\n",
       "      <td>...</td>\n",
       "      <td>707504</td>\n",
       "      <td>52470</td>\n",
       "      <td>-2805.0</td>\n",
       "      <td>128</td>\n",
       "      <td>1</td>\n",
       "      <td>0.166666</td>\n",
       "      <td>0</td>\n",
       "      <td>0.0</td>\n",
       "      <td>1862232</td>\n",
       "      <td>240222.0</td>\n",
       "    </tr>\n",
       "    <tr>\n",
       "      <td>2</td>\n",
       "      <td>203684844</td>\n",
       "      <td>COMMERCIAL</td>\n",
       "      <td>Energy/Utilities</td>\n",
       "      <td>Enterprise Routing</td>\n",
       "      <td>20181</td>\n",
       "      <td>6290</td>\n",
       "      <td>0</td>\n",
       "      <td>10</td>\n",
       "      <td>0</td>\n",
       "      <td>12</td>\n",
       "      <td>...</td>\n",
       "      <td>144345</td>\n",
       "      <td>396564</td>\n",
       "      <td>-6290.0</td>\n",
       "      <td>524</td>\n",
       "      <td>1</td>\n",
       "      <td>0.083333</td>\n",
       "      <td>0</td>\n",
       "      <td>0.0</td>\n",
       "      <td>123196</td>\n",
       "      <td>354.0</td>\n",
       "    </tr>\n",
       "    <tr>\n",
       "      <td>3</td>\n",
       "      <td>203684844</td>\n",
       "      <td>COMMERCIAL</td>\n",
       "      <td>Energy/Utilities</td>\n",
       "      <td>Enterprise Switching</td>\n",
       "      <td>20181</td>\n",
       "      <td>12664</td>\n",
       "      <td>0</td>\n",
       "      <td>6</td>\n",
       "      <td>0</td>\n",
       "      <td>12</td>\n",
       "      <td>...</td>\n",
       "      <td>325926</td>\n",
       "      <td>396564</td>\n",
       "      <td>-12664.0</td>\n",
       "      <td>1055</td>\n",
       "      <td>1</td>\n",
       "      <td>0.083333</td>\n",
       "      <td>0</td>\n",
       "      <td>0.0</td>\n",
       "      <td>123196</td>\n",
       "      <td>354.0</td>\n",
       "    </tr>\n",
       "    <tr>\n",
       "      <td>4</td>\n",
       "      <td>203684844</td>\n",
       "      <td>COMMERCIAL</td>\n",
       "      <td>Energy/Utilities</td>\n",
       "      <td>IOT</td>\n",
       "      <td>20181</td>\n",
       "      <td>44870</td>\n",
       "      <td>0</td>\n",
       "      <td>41</td>\n",
       "      <td>0</td>\n",
       "      <td>12</td>\n",
       "      <td>...</td>\n",
       "      <td>589003</td>\n",
       "      <td>396564</td>\n",
       "      <td>-44870.0</td>\n",
       "      <td>3739</td>\n",
       "      <td>1</td>\n",
       "      <td>0.083333</td>\n",
       "      <td>0</td>\n",
       "      <td>0.0</td>\n",
       "      <td>123196</td>\n",
       "      <td>354.0</td>\n",
       "    </tr>\n",
       "  </tbody>\n",
       "</table>\n",
       "<p>5 rows × 22 columns</p>\n",
       "</div>"
      ],
      "text/plain": [
       "                 SAVM_GROUP_ID SAVM_SCMS_NAME SAVM_VERTICAL_MARKET_SEGMENT  \\\n",
       "SAVM_GROUP_ID                                                                \n",
       "203684844     0      203684844     COMMERCIAL             Energy/Utilities   \n",
       "              1      203684844     COMMERCIAL             Energy/Utilities   \n",
       "              2      203684844     COMMERCIAL             Energy/Utilities   \n",
       "              3      203684844     COMMERCIAL             Energy/Utilities   \n",
       "              4      203684844     COMMERCIAL             Energy/Utilities   \n",
       "\n",
       "                      BUSINESS_ENTITY  FISCAL_QUARTER_ID  ACTUAL_BOOKINGS  \\\n",
       "SAVM_GROUP_ID                                                               \n",
       "203684844     0         Collaboration              20181                0   \n",
       "              1  Enterprise Switching              20203             2805   \n",
       "              2    Enterprise Routing              20181             6290   \n",
       "              3  Enterprise Switching              20181            12664   \n",
       "              4                   IOT              20181            44870   \n",
       "\n",
       "                 LIST_PRICE  QUANTITY  EY_FLAG  TENURE  ...  \\\n",
       "SAVM_GROUP_ID                                           ...   \n",
       "203684844     0           0         0        0      12  ...   \n",
       "              1           0         1        0      22  ...   \n",
       "              2           0        10        0      12  ...   \n",
       "              3           0         6        0      12  ...   \n",
       "              4           0        41        0      12  ...   \n",
       "\n",
       "                 CUMM_BOOK_SAVM_ARC  AVG_REVENUE_VERT  DISCOUNT  \\\n",
       "SAVM_GROUP_ID                                                     \n",
       "203684844     0             1079996            396564       0.0   \n",
       "              1              707504             52470   -2805.0   \n",
       "              2              144345            396564   -6290.0   \n",
       "              3              325926            396564  -12664.0   \n",
       "              4              589003            396564  -44870.0   \n",
       "\n",
       "                 AVG_QUR_BOOKINGS  SITES  ACTIVE_3YEARS  BOUGHT_EY_BEFORE  \\\n",
       "SAVM_GROUP_ID                                                               \n",
       "203684844     0                 0      1       0.083333                 1   \n",
       "              1               128      1       0.166666                 0   \n",
       "              2               524      1       0.083333                 0   \n",
       "              3              1055      1       0.083333                 0   \n",
       "              4              3739      1       0.083333                 0   \n",
       "\n",
       "                 DataCenterRevenue  DataCenter_Revenue_cumulative  \\\n",
       "SAVM_GROUP_ID                                                       \n",
       "203684844     0                0.0                         123196   \n",
       "              1                0.0                        1862232   \n",
       "              2                0.0                         123196   \n",
       "              3                0.0                         123196   \n",
       "              4                0.0                         123196   \n",
       "\n",
       "                 DataCenter_Revenue_cumulative_last_year  \n",
       "SAVM_GROUP_ID                                             \n",
       "203684844     0                                    354.0  \n",
       "              1                                 240222.0  \n",
       "              2                                    354.0  \n",
       "              3                                    354.0  \n",
       "              4                                    354.0  \n",
       "\n",
       "[5 rows x 22 columns]"
      ]
     },
     "execution_count": 46,
     "metadata": {},
     "output_type": "execute_result"
    }
   ],
   "source": [
    "df_1.head()"
   ]
  },
  {
   "cell_type": "code",
   "execution_count": 47,
   "metadata": {},
   "outputs": [],
   "source": [
    "df_1.drop(['SAVM_GROUP_ID'],axis=1,inplace=True)"
   ]
  },
  {
   "cell_type": "code",
   "execution_count": 48,
   "metadata": {},
   "outputs": [],
   "source": [
    "df_1.reset_index(inplace=True)"
   ]
  },
  {
   "cell_type": "code",
   "execution_count": 49,
   "metadata": {},
   "outputs": [],
   "source": [
    " df_1.drop('level_1',axis=1,inplace=True)"
   ]
  },
  {
   "cell_type": "code",
   "execution_count": 50,
   "metadata": {},
   "outputs": [
    {
     "data": {
      "text/plain": [
       "['SAVM_GROUP_ID',\n",
       " 'SAVM_SCMS_NAME',\n",
       " 'SAVM_VERTICAL_MARKET_SEGMENT',\n",
       " 'BUSINESS_ENTITY',\n",
       " 'FISCAL_QUARTER_ID',\n",
       " 'ACTUAL_BOOKINGS',\n",
       " 'LIST_PRICE',\n",
       " 'QUANTITY',\n",
       " 'EY_FLAG',\n",
       " 'TENURE',\n",
       " 'PENETRATION',\n",
       " 'CUMM_BOOK_SAVM',\n",
       " 'CUMM_BOOK_SAVM_ARC',\n",
       " 'AVG_REVENUE_VERT',\n",
       " 'DISCOUNT',\n",
       " 'AVG_QUR_BOOKINGS',\n",
       " 'SITES',\n",
       " 'ACTIVE_3YEARS',\n",
       " 'BOUGHT_EY_BEFORE',\n",
       " 'DataCenterRevenue',\n",
       " 'DataCenter_Revenue_cumulative',\n",
       " 'DataCenter_Revenue_cumulative_last_year']"
      ]
     },
     "execution_count": 50,
     "metadata": {},
     "output_type": "execute_result"
    }
   ],
   "source": [
    "df_1.columns.tolist()"
   ]
  },
  {
   "cell_type": "code",
   "execution_count": 51,
   "metadata": {},
   "outputs": [],
   "source": [
    "# df_1.loc[df_1.LIST_PRICE==0,'DISCOUNT']=0"
   ]
  },
  {
   "cell_type": "code",
   "execution_count": 52,
   "metadata": {},
   "outputs": [
    {
     "data": {
      "text/plain": [
       "19839"
      ]
     },
     "execution_count": 52,
     "metadata": {},
     "output_type": "execute_result"
    }
   ],
   "source": [
    "df_1.SAVM_GROUP_ID.nunique()"
   ]
  },
  {
   "cell_type": "code",
   "execution_count": 53,
   "metadata": {},
   "outputs": [],
   "source": [
    "df_DataCenter_First = pd.DataFrame(df_1.loc[(df_1.BUSINESS_ENTITY=='Computing Systems')| (df_1.BUSINESS_ENTITY=='Data Center Networking') | (df_1.BUSINESS_ENTITY=='Reco_Prod'),:].groupby(['SAVM_GROUP_ID'])['TENURE'].min())"
   ]
  },
  {
   "cell_type": "code",
   "execution_count": null,
   "metadata": {},
   "outputs": [],
   "source": [
    "#df_Security_First.SAVM_GROUP_ID.nunique()"
   ]
  },
  {
   "cell_type": "code",
   "execution_count": 54,
   "metadata": {},
   "outputs": [],
   "source": [
    "df_DataCenter_First.reset_index(drop=False,inplace=True)"
   ]
  },
  {
   "cell_type": "code",
   "execution_count": 55,
   "metadata": {},
   "outputs": [],
   "source": [
    "df_DataCenter_First.columns = ['SAVM_GROUP_ID','DataCenter_TENURE']"
   ]
  },
  {
   "cell_type": "code",
   "execution_count": 56,
   "metadata": {},
   "outputs": [
    {
     "data": {
      "text/plain": [
       "17534"
      ]
     },
     "execution_count": 56,
     "metadata": {},
     "output_type": "execute_result"
    }
   ],
   "source": [
    "df_DataCenter_First.SAVM_GROUP_ID.nunique()"
   ]
  },
  {
   "cell_type": "code",
   "execution_count": 57,
   "metadata": {},
   "outputs": [
    {
     "data": {
      "text/plain": [
       "(1838211, 22)"
      ]
     },
     "execution_count": 57,
     "metadata": {},
     "output_type": "execute_result"
    }
   ],
   "source": [
    "df_1.shape"
   ]
  },
  {
   "cell_type": "code",
   "execution_count": 59,
   "metadata": {},
   "outputs": [],
   "source": [
    "df_1 = df_1.merge(df_DataCenter_First,on='SAVM_GROUP_ID',how='left')"
   ]
  },
  {
   "cell_type": "code",
   "execution_count": 60,
   "metadata": {},
   "outputs": [],
   "source": [
    "df_1['DataCenter_TENURE'] = df_1['TENURE'] - df_1['DataCenter_TENURE']"
   ]
  },
  {
   "cell_type": "code",
   "execution_count": 62,
   "metadata": {},
   "outputs": [],
   "source": [
    "df_1.loc[df_1.DataCenter_TENURE<=0,'DataCenter_TENURE'] = 0"
   ]
  },
  {
   "cell_type": "code",
   "execution_count": 65,
   "metadata": {},
   "outputs": [],
   "source": [
    "df_1.loc[df_1.DataCenter_TENURE.isnull(),'DataCenter_TENURE']=0"
   ]
  },
  {
   "cell_type": "code",
   "execution_count": 66,
   "metadata": {},
   "outputs": [
    {
     "data": {
      "text/plain": [
       "19839"
      ]
     },
     "execution_count": 66,
     "metadata": {},
     "output_type": "execute_result"
    }
   ],
   "source": [
    "df_1['SAVM_GROUP_ID'].nunique()"
   ]
  },
  {
   "cell_type": "code",
   "execution_count": 67,
   "metadata": {},
   "outputs": [],
   "source": [
    "verts_val = df_1['SAVM_VERTICAL_MARKET_SEGMENT'].unique().tolist()\n",
    "bes_val = df_1['BUSINESS_ENTITY'].unique().tolist()\n",
    "scms_val = df_1['SAVM_SCMS_NAME'].unique().tolist()"
   ]
  },
  {
   "cell_type": "code",
   "execution_count": 68,
   "metadata": {},
   "outputs": [
    {
     "data": {
      "text/plain": [
       "[]"
      ]
     },
     "execution_count": 68,
     "metadata": {},
     "output_type": "execute_result"
    }
   ],
   "source": [
    "[i for i in verts_train if i not in verts_val]"
   ]
  },
  {
   "cell_type": "code",
   "execution_count": 69,
   "metadata": {},
   "outputs": [
    {
     "data": {
      "text/plain": [
       "[]"
      ]
     },
     "execution_count": 69,
     "metadata": {},
     "output_type": "execute_result"
    }
   ],
   "source": [
    "[i for i in bes_train if i not in bes_val]"
   ]
  },
  {
   "cell_type": "code",
   "execution_count": 70,
   "metadata": {},
   "outputs": [
    {
     "data": {
      "text/plain": [
       "[]"
      ]
     },
     "execution_count": 70,
     "metadata": {},
     "output_type": "execute_result"
    }
   ],
   "source": [
    "[i for i in scms_train if i not in scms_val]"
   ]
  },
  {
   "cell_type": "code",
   "execution_count": 71,
   "metadata": {},
   "outputs": [
    {
     "data": {
      "text/plain": [
       "Index(['SAVM_GROUP_ID', 'SAVM_SCMS_NAME', 'SAVM_VERTICAL_MARKET_SEGMENT',\n",
       "       'BUSINESS_ENTITY', 'FISCAL_QUARTER_ID', 'ACTUAL_BOOKINGS', 'LIST_PRICE',\n",
       "       'QUANTITY', 'EY_FLAG', 'TENURE', 'PENETRATION', 'CUMM_BOOK_SAVM',\n",
       "       'CUMM_BOOK_SAVM_ARC', 'AVG_REVENUE_VERT', 'DISCOUNT',\n",
       "       'AVG_QUR_BOOKINGS', 'SITES', 'ACTIVE_3YEARS', 'BOUGHT_EY_BEFORE',\n",
       "       'DataCenterRevenue', 'DataCenter_Revenue_cumulative',\n",
       "       'DataCenter_Revenue_cumulative_last_year', 'DataCenter_TENURE'],\n",
       "      dtype='object')"
      ]
     },
     "execution_count": 71,
     "metadata": {},
     "output_type": "execute_result"
    }
   ],
   "source": [
    "df_1.columns"
   ]
  },
  {
   "cell_type": "code",
   "execution_count": 72,
   "metadata": {},
   "outputs": [],
   "source": [
    "df_1.columns=['SAVM_GROUP_ID', 'SAVM_SCMS_NAME',\n",
    "       'SAVM_VERTICAL_MARKET_SEGMENT', 'BUSINESS_ENTITY', 'FISCAL_QUARTER_ID',\n",
    "       'ACTUAL_BOOKINGS', 'LIST_PRICE', 'QUANTITY', 'EY_FLAG', 'TENURE',\n",
    "       'PENETRATION', 'CUMM_BOOK_SAVM', 'CUMM_BOOK_SAVM_ARC',\n",
    "       'AVG_REVENUE_VERT', 'DISCOUNT', 'AVG_QUR_BOOKINGS', 'SITES',\n",
    "       'ACTIVE_3YEARS', 'BOUGHT_EY_BEFORE', 'DataCenterRevenue', 'DataCenter_Revenue_cumulative',\n",
    "       'DataCenter_Revenue_cumulative_last_year', 'DataCenter_TENURE']"
   ]
  },
  {
   "cell_type": "code",
   "execution_count": 73,
   "metadata": {},
   "outputs": [],
   "source": [
    "cat_columns = ['SAVM_VERTICAL_MARKET_SEGMENT','BUSINESS_ENTITY','SAVM_SCMS_NAME']\n",
    "int_columns = ['SAVM_GROUP_ID', 'FISCAL_QUARTER_ID','ACTUAL_BOOKINGS','QUANTITY','TENURE','PENETRATION','CUMM_BOOK_SAVM',\n",
    "               'CUMM_BOOK_SAVM_ARC','AVG_REVENUE_VERT','DISCOUNT',\n",
    "       'AVG_QUR_BOOKINGS', 'SITES', 'ACTIVE_3YEARS', 'BOUGHT_EY_BEFORE',\n",
    "       'DataCenterRevenue', 'DataCenter_Revenue_cumulative',\n",
    "       'DataCenter_Revenue_cumulative_last_year', 'DataCenter_TENURE']"
   ]
  },
  {
   "cell_type": "code",
   "execution_count": 74,
   "metadata": {},
   "outputs": [],
   "source": [
    "for column in df_1[cat_columns]:\n",
    "    df_1[column].fillna(df_1[column].mode()[0], inplace=True)"
   ]
  },
  {
   "cell_type": "code",
   "execution_count": 75,
   "metadata": {},
   "outputs": [],
   "source": [
    "for column in df_1[int_columns]:\n",
    "    df_1[column].fillna(df_1[column].median(), inplace=True)"
   ]
  },
  {
   "cell_type": "code",
   "execution_count": 76,
   "metadata": {},
   "outputs": [
    {
     "data": {
      "text/plain": [
       "SAVM_GROUP_ID                              0\n",
       "SAVM_SCMS_NAME                             0\n",
       "SAVM_VERTICAL_MARKET_SEGMENT               0\n",
       "BUSINESS_ENTITY                            0\n",
       "FISCAL_QUARTER_ID                          0\n",
       "ACTUAL_BOOKINGS                            0\n",
       "LIST_PRICE                                 0\n",
       "QUANTITY                                   0\n",
       "EY_FLAG                                    0\n",
       "TENURE                                     0\n",
       "PENETRATION                                0\n",
       "CUMM_BOOK_SAVM                             0\n",
       "CUMM_BOOK_SAVM_ARC                         0\n",
       "AVG_REVENUE_VERT                           0\n",
       "DISCOUNT                                   0\n",
       "AVG_QUR_BOOKINGS                           0\n",
       "SITES                                      0\n",
       "ACTIVE_3YEARS                              0\n",
       "BOUGHT_EY_BEFORE                           0\n",
       "DataCenterRevenue                          0\n",
       "DataCenter_Revenue_cumulative              0\n",
       "DataCenter_Revenue_cumulative_last_year    0\n",
       "DataCenter_TENURE                          0\n",
       "dtype: int64"
      ]
     },
     "execution_count": 76,
     "metadata": {},
     "output_type": "execute_result"
    }
   ],
   "source": [
    "df_1.isnull().sum()"
   ]
  },
  {
   "cell_type": "code",
   "execution_count": 77,
   "metadata": {},
   "outputs": [
    {
     "data": {
      "text/plain": [
       "array([20121, 20122, 20123, 20124, 20131, 20132, 20133, 20134, 20141,\n",
       "       20142, 20143, 20144, 20151, 20152, 20153, 20154, 20161, 20162,\n",
       "       20163, 20164, 20171, 20172, 20173, 20174, 20181, 20182, 20183,\n",
       "       20184, 20191, 20192, 20193, 20194, 20201, 20202, 20203],\n",
       "      dtype=int64)"
      ]
     },
     "execution_count": 77,
     "metadata": {},
     "output_type": "execute_result"
    }
   ],
   "source": [
    "np.sort(df_1['FISCAL_QUARTER_ID'].unique())"
   ]
  },
  {
   "cell_type": "code",
   "execution_count": 78,
   "metadata": {},
   "outputs": [],
   "source": [
    "#df_1.drop('SAVM_SCMS_NAME',axis=1,inplace=True)"
   ]
  },
  {
   "cell_type": "code",
   "execution_count": 79,
   "metadata": {},
   "outputs": [],
   "source": [
    "#df_1.head()"
   ]
  },
  {
   "cell_type": "code",
   "execution_count": 80,
   "metadata": {},
   "outputs": [],
   "source": [
    "df_1['FISCAL_QUARTER_ID'] = df_1['FISCAL_QUARTER_ID'].astype(str)\n",
    "df_1['DT'] = df_1['FISCAL_QUARTER_ID'].str[0:4] +str(0)+df_1['FISCAL_QUARTER_ID'].str[4] \n",
    "df_1['DT'] = df_1['DT'].astype(int)\n",
    "del df_1['FISCAL_QUARTER_ID']\n",
    "df_1['year_quarter'] = df_1['DT']\n",
    "del df_1['DT']"
   ]
  },
  {
   "cell_type": "code",
   "execution_count": 81,
   "metadata": {},
   "outputs": [],
   "source": [
    "df_2 = df_1[['SAVM_GROUP_ID','year_quarter','BUSINESS_ENTITY','CUMM_BOOK_SAVM_ARC']]"
   ]
  },
  {
   "cell_type": "code",
   "execution_count": 82,
   "metadata": {},
   "outputs": [],
   "source": [
    "df_temp=pd.DataFrame(df_1.loc[df_1.BUSINESS_ENTITY=='Reco_Prod'].groupby('year_quarter')['SAVM_GROUP_ID'].nunique()).reset_index()"
   ]
  },
  {
   "cell_type": "code",
   "execution_count": 83,
   "metadata": {},
   "outputs": [],
   "source": [
    "df_temp.columns=['year_quarter','SAVM_count']"
   ]
  },
  {
   "cell_type": "code",
   "execution_count": 84,
   "metadata": {},
   "outputs": [],
   "source": [
    "df_temp['year']=df_temp['year_quarter'].astype('str').str[:4]"
   ]
  },
  {
   "cell_type": "code",
   "execution_count": 85,
   "metadata": {},
   "outputs": [],
   "source": [
    "df_temp_1=pd.DataFrame(df_temp.groupby('year')['SAVM_count'].sum()).reset_index()"
   ]
  },
  {
   "cell_type": "code",
   "execution_count": 86,
   "metadata": {},
   "outputs": [],
   "source": [
    "df_temp_1['shifted_savm_count']=df_temp_1['SAVM_count'].shift(1)"
   ]
  },
  {
   "cell_type": "code",
   "execution_count": 87,
   "metadata": {},
   "outputs": [],
   "source": [
    "df_temp_final=df_temp.merge(df_temp_1,on='year',how='left')"
   ]
  },
  {
   "cell_type": "code",
   "execution_count": 89,
   "metadata": {},
   "outputs": [],
   "source": [
    "df_temp_final= pd.read_csv('datacenter_savm_count.csv')"
   ]
  },
  {
   "cell_type": "code",
   "execution_count": null,
   "metadata": {},
   "outputs": [],
   "source": []
  },
  {
   "cell_type": "code",
   "execution_count": 90,
   "metadata": {},
   "outputs": [],
   "source": [
    "df_temp_final.fillna(0,inplace=True)"
   ]
  },
  {
   "cell_type": "code",
   "execution_count": 91,
   "metadata": {},
   "outputs": [],
   "source": [
    "df_temp_final.drop('Unnamed: 0',inplace=True,axis=1)"
   ]
  },
  {
   "cell_type": "code",
   "execution_count": 92,
   "metadata": {},
   "outputs": [
    {
     "data": {
      "text/html": [
       "<div>\n",
       "<style scoped>\n",
       "    .dataframe tbody tr th:only-of-type {\n",
       "        vertical-align: middle;\n",
       "    }\n",
       "\n",
       "    .dataframe tbody tr th {\n",
       "        vertical-align: top;\n",
       "    }\n",
       "\n",
       "    .dataframe thead th {\n",
       "        text-align: right;\n",
       "    }\n",
       "</style>\n",
       "<table border=\"1\" class=\"dataframe\">\n",
       "  <thead>\n",
       "    <tr style=\"text-align: right;\">\n",
       "      <th></th>\n",
       "      <th>year</th>\n",
       "      <th>shifted_savm_count</th>\n",
       "    </tr>\n",
       "  </thead>\n",
       "  <tbody>\n",
       "    <tr>\n",
       "      <td>0</td>\n",
       "      <td>2015</td>\n",
       "      <td>0.0</td>\n",
       "    </tr>\n",
       "    <tr>\n",
       "      <td>1</td>\n",
       "      <td>2016</td>\n",
       "      <td>2.0</td>\n",
       "    </tr>\n",
       "    <tr>\n",
       "      <td>2</td>\n",
       "      <td>2017</td>\n",
       "      <td>7.0</td>\n",
       "    </tr>\n",
       "    <tr>\n",
       "      <td>3</td>\n",
       "      <td>2018</td>\n",
       "      <td>21.0</td>\n",
       "    </tr>\n",
       "    <tr>\n",
       "      <td>4</td>\n",
       "      <td>2019</td>\n",
       "      <td>28.0</td>\n",
       "    </tr>\n",
       "    <tr>\n",
       "      <td>5</td>\n",
       "      <td>2020</td>\n",
       "      <td>57.0</td>\n",
       "    </tr>\n",
       "  </tbody>\n",
       "</table>\n",
       "</div>"
      ],
      "text/plain": [
       "   year  shifted_savm_count\n",
       "0  2015                 0.0\n",
       "1  2016                 2.0\n",
       "2  2017                 7.0\n",
       "3  2018                21.0\n",
       "4  2019                28.0\n",
       "5  2020                57.0"
      ]
     },
     "execution_count": 92,
     "metadata": {},
     "output_type": "execute_result"
    }
   ],
   "source": [
    "df_temp_final"
   ]
  },
  {
   "cell_type": "code",
   "execution_count": 93,
   "metadata": {},
   "outputs": [],
   "source": [
    "df_temp_final.columns = ['Year','shifted_savm_count']"
   ]
  },
  {
   "cell_type": "code",
   "execution_count": 94,
   "metadata": {},
   "outputs": [
    {
     "data": {
      "text/plain": [
       "Year                    int64\n",
       "shifted_savm_count    float64\n",
       "dtype: object"
      ]
     },
     "execution_count": 94,
     "metadata": {},
     "output_type": "execute_result"
    }
   ],
   "source": [
    "df_temp_final.dtypes"
   ]
  },
  {
   "cell_type": "code",
   "execution_count": 95,
   "metadata": {},
   "outputs": [],
   "source": [
    "df_1['Year'] = df_1['year_quarter'].apply(lambda x:str(x)[:4]).astype(int)"
   ]
  },
  {
   "cell_type": "code",
   "execution_count": 96,
   "metadata": {},
   "outputs": [],
   "source": [
    "# df_1.drop('shifted_savm_count',axis=1,inplace=True)"
   ]
  },
  {
   "cell_type": "code",
   "execution_count": 97,
   "metadata": {},
   "outputs": [
    {
     "data": {
      "text/html": [
       "<div>\n",
       "<style scoped>\n",
       "    .dataframe tbody tr th:only-of-type {\n",
       "        vertical-align: middle;\n",
       "    }\n",
       "\n",
       "    .dataframe tbody tr th {\n",
       "        vertical-align: top;\n",
       "    }\n",
       "\n",
       "    .dataframe thead th {\n",
       "        text-align: right;\n",
       "    }\n",
       "</style>\n",
       "<table border=\"1\" class=\"dataframe\">\n",
       "  <thead>\n",
       "    <tr style=\"text-align: right;\">\n",
       "      <th></th>\n",
       "      <th>SAVM_GROUP_ID</th>\n",
       "      <th>SAVM_SCMS_NAME</th>\n",
       "      <th>SAVM_VERTICAL_MARKET_SEGMENT</th>\n",
       "      <th>BUSINESS_ENTITY</th>\n",
       "      <th>ACTUAL_BOOKINGS</th>\n",
       "      <th>LIST_PRICE</th>\n",
       "      <th>QUANTITY</th>\n",
       "      <th>EY_FLAG</th>\n",
       "      <th>TENURE</th>\n",
       "      <th>PENETRATION</th>\n",
       "      <th>...</th>\n",
       "      <th>AVG_QUR_BOOKINGS</th>\n",
       "      <th>SITES</th>\n",
       "      <th>ACTIVE_3YEARS</th>\n",
       "      <th>BOUGHT_EY_BEFORE</th>\n",
       "      <th>DataCenterRevenue</th>\n",
       "      <th>DataCenter_Revenue_cumulative</th>\n",
       "      <th>DataCenter_Revenue_cumulative_last_year</th>\n",
       "      <th>DataCenter_TENURE</th>\n",
       "      <th>year_quarter</th>\n",
       "      <th>Year</th>\n",
       "    </tr>\n",
       "  </thead>\n",
       "  <tbody>\n",
       "    <tr>\n",
       "      <td>0</td>\n",
       "      <td>203684844</td>\n",
       "      <td>COMMERCIAL</td>\n",
       "      <td>Energy/Utilities</td>\n",
       "      <td>Collaboration</td>\n",
       "      <td>0</td>\n",
       "      <td>0</td>\n",
       "      <td>0</td>\n",
       "      <td>0</td>\n",
       "      <td>12</td>\n",
       "      <td>12</td>\n",
       "      <td>...</td>\n",
       "      <td>0</td>\n",
       "      <td>1</td>\n",
       "      <td>0.083333</td>\n",
       "      <td>1</td>\n",
       "      <td>0.000000</td>\n",
       "      <td>123196</td>\n",
       "      <td>354.0</td>\n",
       "      <td>12.0</td>\n",
       "      <td>201801</td>\n",
       "      <td>2018</td>\n",
       "    </tr>\n",
       "    <tr>\n",
       "      <td>1</td>\n",
       "      <td>203684844</td>\n",
       "      <td>COMMERCIAL</td>\n",
       "      <td>Energy/Utilities</td>\n",
       "      <td>Enterprise Switching</td>\n",
       "      <td>2805</td>\n",
       "      <td>0</td>\n",
       "      <td>1</td>\n",
       "      <td>0</td>\n",
       "      <td>22</td>\n",
       "      <td>12</td>\n",
       "      <td>...</td>\n",
       "      <td>128</td>\n",
       "      <td>1</td>\n",
       "      <td>0.166666</td>\n",
       "      <td>0</td>\n",
       "      <td>0.000000</td>\n",
       "      <td>1862232</td>\n",
       "      <td>240222.0</td>\n",
       "      <td>22.0</td>\n",
       "      <td>202003</td>\n",
       "      <td>2020</td>\n",
       "    </tr>\n",
       "    <tr>\n",
       "      <td>2</td>\n",
       "      <td>203684844</td>\n",
       "      <td>COMMERCIAL</td>\n",
       "      <td>Energy/Utilities</td>\n",
       "      <td>Enterprise Routing</td>\n",
       "      <td>6290</td>\n",
       "      <td>0</td>\n",
       "      <td>10</td>\n",
       "      <td>0</td>\n",
       "      <td>12</td>\n",
       "      <td>12</td>\n",
       "      <td>...</td>\n",
       "      <td>524</td>\n",
       "      <td>1</td>\n",
       "      <td>0.083333</td>\n",
       "      <td>0</td>\n",
       "      <td>0.000000</td>\n",
       "      <td>123196</td>\n",
       "      <td>354.0</td>\n",
       "      <td>12.0</td>\n",
       "      <td>201801</td>\n",
       "      <td>2018</td>\n",
       "    </tr>\n",
       "    <tr>\n",
       "      <td>3</td>\n",
       "      <td>203684844</td>\n",
       "      <td>COMMERCIAL</td>\n",
       "      <td>Energy/Utilities</td>\n",
       "      <td>Enterprise Switching</td>\n",
       "      <td>12664</td>\n",
       "      <td>0</td>\n",
       "      <td>6</td>\n",
       "      <td>0</td>\n",
       "      <td>12</td>\n",
       "      <td>12</td>\n",
       "      <td>...</td>\n",
       "      <td>1055</td>\n",
       "      <td>1</td>\n",
       "      <td>0.083333</td>\n",
       "      <td>0</td>\n",
       "      <td>0.000000</td>\n",
       "      <td>123196</td>\n",
       "      <td>354.0</td>\n",
       "      <td>12.0</td>\n",
       "      <td>201801</td>\n",
       "      <td>2018</td>\n",
       "    </tr>\n",
       "    <tr>\n",
       "      <td>4</td>\n",
       "      <td>203684844</td>\n",
       "      <td>COMMERCIAL</td>\n",
       "      <td>Energy/Utilities</td>\n",
       "      <td>IOT</td>\n",
       "      <td>44870</td>\n",
       "      <td>0</td>\n",
       "      <td>41</td>\n",
       "      <td>0</td>\n",
       "      <td>12</td>\n",
       "      <td>12</td>\n",
       "      <td>...</td>\n",
       "      <td>3739</td>\n",
       "      <td>1</td>\n",
       "      <td>0.083333</td>\n",
       "      <td>0</td>\n",
       "      <td>0.000000</td>\n",
       "      <td>123196</td>\n",
       "      <td>354.0</td>\n",
       "      <td>12.0</td>\n",
       "      <td>201801</td>\n",
       "      <td>2018</td>\n",
       "    </tr>\n",
       "    <tr>\n",
       "      <td>...</td>\n",
       "      <td>...</td>\n",
       "      <td>...</td>\n",
       "      <td>...</td>\n",
       "      <td>...</td>\n",
       "      <td>...</td>\n",
       "      <td>...</td>\n",
       "      <td>...</td>\n",
       "      <td>...</td>\n",
       "      <td>...</td>\n",
       "      <td>...</td>\n",
       "      <td>...</td>\n",
       "      <td>...</td>\n",
       "      <td>...</td>\n",
       "      <td>...</td>\n",
       "      <td>...</td>\n",
       "      <td>...</td>\n",
       "      <td>...</td>\n",
       "      <td>...</td>\n",
       "      <td>...</td>\n",
       "      <td>...</td>\n",
       "      <td>...</td>\n",
       "    </tr>\n",
       "    <tr>\n",
       "      <td>1838206</td>\n",
       "      <td>283606818</td>\n",
       "      <td>PUBLIC SECTOR</td>\n",
       "      <td>Unknown</td>\n",
       "      <td>Service Provider Routing</td>\n",
       "      <td>45878</td>\n",
       "      <td>281908</td>\n",
       "      <td>195</td>\n",
       "      <td>0</td>\n",
       "      <td>0</td>\n",
       "      <td>0</td>\n",
       "      <td>...</td>\n",
       "      <td>45878</td>\n",
       "      <td>3</td>\n",
       "      <td>0.083333</td>\n",
       "      <td>0</td>\n",
       "      <td>0.248127</td>\n",
       "      <td>264548</td>\n",
       "      <td>0.0</td>\n",
       "      <td>0.0</td>\n",
       "      <td>202003</td>\n",
       "      <td>2020</td>\n",
       "    </tr>\n",
       "    <tr>\n",
       "      <td>1838207</td>\n",
       "      <td>283606864</td>\n",
       "      <td>PUBLIC SECTOR</td>\n",
       "      <td>Education- Public/Private</td>\n",
       "      <td>Collaboration</td>\n",
       "      <td>4956</td>\n",
       "      <td>0</td>\n",
       "      <td>4</td>\n",
       "      <td>1</td>\n",
       "      <td>0</td>\n",
       "      <td>0</td>\n",
       "      <td>...</td>\n",
       "      <td>4956</td>\n",
       "      <td>1</td>\n",
       "      <td>0.083333</td>\n",
       "      <td>0</td>\n",
       "      <td>0.000000</td>\n",
       "      <td>0</td>\n",
       "      <td>0.0</td>\n",
       "      <td>0.0</td>\n",
       "      <td>202003</td>\n",
       "      <td>2020</td>\n",
       "    </tr>\n",
       "    <tr>\n",
       "      <td>1838208</td>\n",
       "      <td>283619180</td>\n",
       "      <td>SMALL</td>\n",
       "      <td>Unknown</td>\n",
       "      <td>Collaboration</td>\n",
       "      <td>5379</td>\n",
       "      <td>8535</td>\n",
       "      <td>43831</td>\n",
       "      <td>1</td>\n",
       "      <td>0</td>\n",
       "      <td>0</td>\n",
       "      <td>...</td>\n",
       "      <td>5379</td>\n",
       "      <td>1</td>\n",
       "      <td>0.083333</td>\n",
       "      <td>0</td>\n",
       "      <td>0.000000</td>\n",
       "      <td>0</td>\n",
       "      <td>0.0</td>\n",
       "      <td>0.0</td>\n",
       "      <td>202003</td>\n",
       "      <td>2020</td>\n",
       "    </tr>\n",
       "    <tr>\n",
       "      <td>1838209</td>\n",
       "      <td>283619180</td>\n",
       "      <td>SMALL</td>\n",
       "      <td>Unknown</td>\n",
       "      <td>Services ASS_L1</td>\n",
       "      <td>242</td>\n",
       "      <td>384</td>\n",
       "      <td>1</td>\n",
       "      <td>0</td>\n",
       "      <td>0</td>\n",
       "      <td>0</td>\n",
       "      <td>...</td>\n",
       "      <td>242</td>\n",
       "      <td>1</td>\n",
       "      <td>0.083333</td>\n",
       "      <td>0</td>\n",
       "      <td>0.000000</td>\n",
       "      <td>0</td>\n",
       "      <td>0.0</td>\n",
       "      <td>0.0</td>\n",
       "      <td>202003</td>\n",
       "      <td>2020</td>\n",
       "    </tr>\n",
       "    <tr>\n",
       "      <td>1838210</td>\n",
       "      <td>283619180</td>\n",
       "      <td>SMALL</td>\n",
       "      <td>Unknown</td>\n",
       "      <td>Services TSS_L1</td>\n",
       "      <td>565</td>\n",
       "      <td>896</td>\n",
       "      <td>1</td>\n",
       "      <td>0</td>\n",
       "      <td>0</td>\n",
       "      <td>0</td>\n",
       "      <td>...</td>\n",
       "      <td>565</td>\n",
       "      <td>1</td>\n",
       "      <td>0.083333</td>\n",
       "      <td>0</td>\n",
       "      <td>0.000000</td>\n",
       "      <td>0</td>\n",
       "      <td>0.0</td>\n",
       "      <td>0.0</td>\n",
       "      <td>202003</td>\n",
       "      <td>2020</td>\n",
       "    </tr>\n",
       "  </tbody>\n",
       "</table>\n",
       "<p>1838211 rows × 24 columns</p>\n",
       "</div>"
      ],
      "text/plain": [
       "         SAVM_GROUP_ID SAVM_SCMS_NAME SAVM_VERTICAL_MARKET_SEGMENT  \\\n",
       "0            203684844     COMMERCIAL             Energy/Utilities   \n",
       "1            203684844     COMMERCIAL             Energy/Utilities   \n",
       "2            203684844     COMMERCIAL             Energy/Utilities   \n",
       "3            203684844     COMMERCIAL             Energy/Utilities   \n",
       "4            203684844     COMMERCIAL             Energy/Utilities   \n",
       "...                ...            ...                          ...   \n",
       "1838206      283606818  PUBLIC SECTOR                      Unknown   \n",
       "1838207      283606864  PUBLIC SECTOR    Education- Public/Private   \n",
       "1838208      283619180          SMALL                      Unknown   \n",
       "1838209      283619180          SMALL                      Unknown   \n",
       "1838210      283619180          SMALL                      Unknown   \n",
       "\n",
       "                  BUSINESS_ENTITY  ACTUAL_BOOKINGS  LIST_PRICE  QUANTITY  \\\n",
       "0                   Collaboration                0           0         0   \n",
       "1            Enterprise Switching             2805           0         1   \n",
       "2              Enterprise Routing             6290           0        10   \n",
       "3            Enterprise Switching            12664           0         6   \n",
       "4                             IOT            44870           0        41   \n",
       "...                           ...              ...         ...       ...   \n",
       "1838206  Service Provider Routing            45878      281908       195   \n",
       "1838207             Collaboration             4956           0         4   \n",
       "1838208             Collaboration             5379        8535     43831   \n",
       "1838209           Services ASS_L1              242         384         1   \n",
       "1838210           Services TSS_L1              565         896         1   \n",
       "\n",
       "         EY_FLAG  TENURE  PENETRATION  ...  AVG_QUR_BOOKINGS  SITES  \\\n",
       "0              0      12           12  ...                 0      1   \n",
       "1              0      22           12  ...               128      1   \n",
       "2              0      12           12  ...               524      1   \n",
       "3              0      12           12  ...              1055      1   \n",
       "4              0      12           12  ...              3739      1   \n",
       "...          ...     ...          ...  ...               ...    ...   \n",
       "1838206        0       0            0  ...             45878      3   \n",
       "1838207        1       0            0  ...              4956      1   \n",
       "1838208        1       0            0  ...              5379      1   \n",
       "1838209        0       0            0  ...               242      1   \n",
       "1838210        0       0            0  ...               565      1   \n",
       "\n",
       "         ACTIVE_3YEARS  BOUGHT_EY_BEFORE  DataCenterRevenue  \\\n",
       "0             0.083333                 1           0.000000   \n",
       "1             0.166666                 0           0.000000   \n",
       "2             0.083333                 0           0.000000   \n",
       "3             0.083333                 0           0.000000   \n",
       "4             0.083333                 0           0.000000   \n",
       "...                ...               ...                ...   \n",
       "1838206       0.083333                 0           0.248127   \n",
       "1838207       0.083333                 0           0.000000   \n",
       "1838208       0.083333                 0           0.000000   \n",
       "1838209       0.083333                 0           0.000000   \n",
       "1838210       0.083333                 0           0.000000   \n",
       "\n",
       "         DataCenter_Revenue_cumulative  \\\n",
       "0                               123196   \n",
       "1                              1862232   \n",
       "2                               123196   \n",
       "3                               123196   \n",
       "4                               123196   \n",
       "...                                ...   \n",
       "1838206                         264548   \n",
       "1838207                              0   \n",
       "1838208                              0   \n",
       "1838209                              0   \n",
       "1838210                              0   \n",
       "\n",
       "         DataCenter_Revenue_cumulative_last_year  DataCenter_TENURE  \\\n",
       "0                                          354.0               12.0   \n",
       "1                                       240222.0               22.0   \n",
       "2                                          354.0               12.0   \n",
       "3                                          354.0               12.0   \n",
       "4                                          354.0               12.0   \n",
       "...                                          ...                ...   \n",
       "1838206                                      0.0                0.0   \n",
       "1838207                                      0.0                0.0   \n",
       "1838208                                      0.0                0.0   \n",
       "1838209                                      0.0                0.0   \n",
       "1838210                                      0.0                0.0   \n",
       "\n",
       "         year_quarter  Year  \n",
       "0              201801  2018  \n",
       "1              202003  2020  \n",
       "2              201801  2018  \n",
       "3              201801  2018  \n",
       "4              201801  2018  \n",
       "...               ...   ...  \n",
       "1838206        202003  2020  \n",
       "1838207        202003  2020  \n",
       "1838208        202003  2020  \n",
       "1838209        202003  2020  \n",
       "1838210        202003  2020  \n",
       "\n",
       "[1838211 rows x 24 columns]"
      ]
     },
     "execution_count": 97,
     "metadata": {},
     "output_type": "execute_result"
    }
   ],
   "source": [
    "df_1"
   ]
  },
  {
   "cell_type": "code",
   "execution_count": 98,
   "metadata": {},
   "outputs": [],
   "source": [
    "df_1_final=df_1.merge(df_temp_final,on='Year',how='left')"
   ]
  },
  {
   "cell_type": "code",
   "execution_count": 99,
   "metadata": {},
   "outputs": [
    {
     "data": {
      "text/html": [
       "<div>\n",
       "<style scoped>\n",
       "    .dataframe tbody tr th:only-of-type {\n",
       "        vertical-align: middle;\n",
       "    }\n",
       "\n",
       "    .dataframe tbody tr th {\n",
       "        vertical-align: top;\n",
       "    }\n",
       "\n",
       "    .dataframe thead th {\n",
       "        text-align: right;\n",
       "    }\n",
       "</style>\n",
       "<table border=\"1\" class=\"dataframe\">\n",
       "  <thead>\n",
       "    <tr style=\"text-align: right;\">\n",
       "      <th></th>\n",
       "      <th>SAVM_GROUP_ID</th>\n",
       "      <th>SAVM_SCMS_NAME</th>\n",
       "      <th>SAVM_VERTICAL_MARKET_SEGMENT</th>\n",
       "      <th>BUSINESS_ENTITY</th>\n",
       "      <th>ACTUAL_BOOKINGS</th>\n",
       "      <th>LIST_PRICE</th>\n",
       "      <th>QUANTITY</th>\n",
       "      <th>EY_FLAG</th>\n",
       "      <th>TENURE</th>\n",
       "      <th>PENETRATION</th>\n",
       "      <th>...</th>\n",
       "      <th>SITES</th>\n",
       "      <th>ACTIVE_3YEARS</th>\n",
       "      <th>BOUGHT_EY_BEFORE</th>\n",
       "      <th>DataCenterRevenue</th>\n",
       "      <th>DataCenter_Revenue_cumulative</th>\n",
       "      <th>DataCenter_Revenue_cumulative_last_year</th>\n",
       "      <th>DataCenter_TENURE</th>\n",
       "      <th>year_quarter</th>\n",
       "      <th>Year</th>\n",
       "      <th>shifted_savm_count</th>\n",
       "    </tr>\n",
       "  </thead>\n",
       "  <tbody>\n",
       "    <tr>\n",
       "      <td>0</td>\n",
       "      <td>203684844</td>\n",
       "      <td>COMMERCIAL</td>\n",
       "      <td>Energy/Utilities</td>\n",
       "      <td>Collaboration</td>\n",
       "      <td>0</td>\n",
       "      <td>0</td>\n",
       "      <td>0</td>\n",
       "      <td>0</td>\n",
       "      <td>12</td>\n",
       "      <td>12</td>\n",
       "      <td>...</td>\n",
       "      <td>1</td>\n",
       "      <td>0.083333</td>\n",
       "      <td>1</td>\n",
       "      <td>0.0</td>\n",
       "      <td>123196</td>\n",
       "      <td>354.0</td>\n",
       "      <td>12.0</td>\n",
       "      <td>201801</td>\n",
       "      <td>2018</td>\n",
       "      <td>21.0</td>\n",
       "    </tr>\n",
       "    <tr>\n",
       "      <td>1</td>\n",
       "      <td>203684844</td>\n",
       "      <td>COMMERCIAL</td>\n",
       "      <td>Energy/Utilities</td>\n",
       "      <td>Enterprise Switching</td>\n",
       "      <td>2805</td>\n",
       "      <td>0</td>\n",
       "      <td>1</td>\n",
       "      <td>0</td>\n",
       "      <td>22</td>\n",
       "      <td>12</td>\n",
       "      <td>...</td>\n",
       "      <td>1</td>\n",
       "      <td>0.166666</td>\n",
       "      <td>0</td>\n",
       "      <td>0.0</td>\n",
       "      <td>1862232</td>\n",
       "      <td>240222.0</td>\n",
       "      <td>22.0</td>\n",
       "      <td>202003</td>\n",
       "      <td>2020</td>\n",
       "      <td>57.0</td>\n",
       "    </tr>\n",
       "    <tr>\n",
       "      <td>2</td>\n",
       "      <td>203684844</td>\n",
       "      <td>COMMERCIAL</td>\n",
       "      <td>Energy/Utilities</td>\n",
       "      <td>Enterprise Routing</td>\n",
       "      <td>6290</td>\n",
       "      <td>0</td>\n",
       "      <td>10</td>\n",
       "      <td>0</td>\n",
       "      <td>12</td>\n",
       "      <td>12</td>\n",
       "      <td>...</td>\n",
       "      <td>1</td>\n",
       "      <td>0.083333</td>\n",
       "      <td>0</td>\n",
       "      <td>0.0</td>\n",
       "      <td>123196</td>\n",
       "      <td>354.0</td>\n",
       "      <td>12.0</td>\n",
       "      <td>201801</td>\n",
       "      <td>2018</td>\n",
       "      <td>21.0</td>\n",
       "    </tr>\n",
       "    <tr>\n",
       "      <td>3</td>\n",
       "      <td>203684844</td>\n",
       "      <td>COMMERCIAL</td>\n",
       "      <td>Energy/Utilities</td>\n",
       "      <td>Enterprise Switching</td>\n",
       "      <td>12664</td>\n",
       "      <td>0</td>\n",
       "      <td>6</td>\n",
       "      <td>0</td>\n",
       "      <td>12</td>\n",
       "      <td>12</td>\n",
       "      <td>...</td>\n",
       "      <td>1</td>\n",
       "      <td>0.083333</td>\n",
       "      <td>0</td>\n",
       "      <td>0.0</td>\n",
       "      <td>123196</td>\n",
       "      <td>354.0</td>\n",
       "      <td>12.0</td>\n",
       "      <td>201801</td>\n",
       "      <td>2018</td>\n",
       "      <td>21.0</td>\n",
       "    </tr>\n",
       "    <tr>\n",
       "      <td>4</td>\n",
       "      <td>203684844</td>\n",
       "      <td>COMMERCIAL</td>\n",
       "      <td>Energy/Utilities</td>\n",
       "      <td>IOT</td>\n",
       "      <td>44870</td>\n",
       "      <td>0</td>\n",
       "      <td>41</td>\n",
       "      <td>0</td>\n",
       "      <td>12</td>\n",
       "      <td>12</td>\n",
       "      <td>...</td>\n",
       "      <td>1</td>\n",
       "      <td>0.083333</td>\n",
       "      <td>0</td>\n",
       "      <td>0.0</td>\n",
       "      <td>123196</td>\n",
       "      <td>354.0</td>\n",
       "      <td>12.0</td>\n",
       "      <td>201801</td>\n",
       "      <td>2018</td>\n",
       "      <td>21.0</td>\n",
       "    </tr>\n",
       "  </tbody>\n",
       "</table>\n",
       "<p>5 rows × 25 columns</p>\n",
       "</div>"
      ],
      "text/plain": [
       "   SAVM_GROUP_ID SAVM_SCMS_NAME SAVM_VERTICAL_MARKET_SEGMENT  \\\n",
       "0      203684844     COMMERCIAL             Energy/Utilities   \n",
       "1      203684844     COMMERCIAL             Energy/Utilities   \n",
       "2      203684844     COMMERCIAL             Energy/Utilities   \n",
       "3      203684844     COMMERCIAL             Energy/Utilities   \n",
       "4      203684844     COMMERCIAL             Energy/Utilities   \n",
       "\n",
       "        BUSINESS_ENTITY  ACTUAL_BOOKINGS  LIST_PRICE  QUANTITY  EY_FLAG  \\\n",
       "0         Collaboration                0           0         0        0   \n",
       "1  Enterprise Switching             2805           0         1        0   \n",
       "2    Enterprise Routing             6290           0        10        0   \n",
       "3  Enterprise Switching            12664           0         6        0   \n",
       "4                   IOT            44870           0        41        0   \n",
       "\n",
       "   TENURE  PENETRATION  ...  SITES  ACTIVE_3YEARS  BOUGHT_EY_BEFORE  \\\n",
       "0      12           12  ...      1       0.083333                 1   \n",
       "1      22           12  ...      1       0.166666                 0   \n",
       "2      12           12  ...      1       0.083333                 0   \n",
       "3      12           12  ...      1       0.083333                 0   \n",
       "4      12           12  ...      1       0.083333                 0   \n",
       "\n",
       "   DataCenterRevenue  DataCenter_Revenue_cumulative  \\\n",
       "0                0.0                         123196   \n",
       "1                0.0                        1862232   \n",
       "2                0.0                         123196   \n",
       "3                0.0                         123196   \n",
       "4                0.0                         123196   \n",
       "\n",
       "   DataCenter_Revenue_cumulative_last_year  DataCenter_TENURE  year_quarter  \\\n",
       "0                                    354.0               12.0        201801   \n",
       "1                                 240222.0               22.0        202003   \n",
       "2                                    354.0               12.0        201801   \n",
       "3                                    354.0               12.0        201801   \n",
       "4                                    354.0               12.0        201801   \n",
       "\n",
       "   Year  shifted_savm_count  \n",
       "0  2018                21.0  \n",
       "1  2020                57.0  \n",
       "2  2018                21.0  \n",
       "3  2018                21.0  \n",
       "4  2018                21.0  \n",
       "\n",
       "[5 rows x 25 columns]"
      ]
     },
     "execution_count": 99,
     "metadata": {},
     "output_type": "execute_result"
    }
   ],
   "source": [
    "df_1_final.head()"
   ]
  },
  {
   "cell_type": "code",
   "execution_count": 100,
   "metadata": {},
   "outputs": [],
   "source": [
    "df_1_final['shifted_savm_count'].fillna(0,inplace=True)"
   ]
  },
  {
   "cell_type": "code",
   "execution_count": 101,
   "metadata": {},
   "outputs": [],
   "source": [
    "df_1=df_1_final"
   ]
  },
  {
   "cell_type": "code",
   "execution_count": 102,
   "metadata": {},
   "outputs": [
    {
     "data": {
      "text/html": [
       "<div>\n",
       "<style scoped>\n",
       "    .dataframe tbody tr th:only-of-type {\n",
       "        vertical-align: middle;\n",
       "    }\n",
       "\n",
       "    .dataframe tbody tr th {\n",
       "        vertical-align: top;\n",
       "    }\n",
       "\n",
       "    .dataframe thead th {\n",
       "        text-align: right;\n",
       "    }\n",
       "</style>\n",
       "<table border=\"1\" class=\"dataframe\">\n",
       "  <thead>\n",
       "    <tr style=\"text-align: right;\">\n",
       "      <th></th>\n",
       "      <th>SAVM_GROUP_ID</th>\n",
       "      <th>SAVM_SCMS_NAME</th>\n",
       "      <th>SAVM_VERTICAL_MARKET_SEGMENT</th>\n",
       "      <th>BUSINESS_ENTITY</th>\n",
       "      <th>ACTUAL_BOOKINGS</th>\n",
       "      <th>LIST_PRICE</th>\n",
       "      <th>QUANTITY</th>\n",
       "      <th>EY_FLAG</th>\n",
       "      <th>TENURE</th>\n",
       "      <th>PENETRATION</th>\n",
       "      <th>...</th>\n",
       "      <th>SITES</th>\n",
       "      <th>ACTIVE_3YEARS</th>\n",
       "      <th>BOUGHT_EY_BEFORE</th>\n",
       "      <th>DataCenterRevenue</th>\n",
       "      <th>DataCenter_Revenue_cumulative</th>\n",
       "      <th>DataCenter_Revenue_cumulative_last_year</th>\n",
       "      <th>DataCenter_TENURE</th>\n",
       "      <th>year_quarter</th>\n",
       "      <th>Year</th>\n",
       "      <th>shifted_savm_count</th>\n",
       "    </tr>\n",
       "  </thead>\n",
       "  <tbody>\n",
       "    <tr>\n",
       "      <td>0</td>\n",
       "      <td>203684844</td>\n",
       "      <td>COMMERCIAL</td>\n",
       "      <td>Energy/Utilities</td>\n",
       "      <td>Collaboration</td>\n",
       "      <td>0</td>\n",
       "      <td>0</td>\n",
       "      <td>0</td>\n",
       "      <td>0</td>\n",
       "      <td>12</td>\n",
       "      <td>12</td>\n",
       "      <td>...</td>\n",
       "      <td>1</td>\n",
       "      <td>0.083333</td>\n",
       "      <td>1</td>\n",
       "      <td>0.0</td>\n",
       "      <td>123196</td>\n",
       "      <td>354.0</td>\n",
       "      <td>12.0</td>\n",
       "      <td>201801</td>\n",
       "      <td>2018</td>\n",
       "      <td>21.0</td>\n",
       "    </tr>\n",
       "    <tr>\n",
       "      <td>1</td>\n",
       "      <td>203684844</td>\n",
       "      <td>COMMERCIAL</td>\n",
       "      <td>Energy/Utilities</td>\n",
       "      <td>Enterprise Switching</td>\n",
       "      <td>2805</td>\n",
       "      <td>0</td>\n",
       "      <td>1</td>\n",
       "      <td>0</td>\n",
       "      <td>22</td>\n",
       "      <td>12</td>\n",
       "      <td>...</td>\n",
       "      <td>1</td>\n",
       "      <td>0.166666</td>\n",
       "      <td>0</td>\n",
       "      <td>0.0</td>\n",
       "      <td>1862232</td>\n",
       "      <td>240222.0</td>\n",
       "      <td>22.0</td>\n",
       "      <td>202003</td>\n",
       "      <td>2020</td>\n",
       "      <td>57.0</td>\n",
       "    </tr>\n",
       "    <tr>\n",
       "      <td>2</td>\n",
       "      <td>203684844</td>\n",
       "      <td>COMMERCIAL</td>\n",
       "      <td>Energy/Utilities</td>\n",
       "      <td>Enterprise Routing</td>\n",
       "      <td>6290</td>\n",
       "      <td>0</td>\n",
       "      <td>10</td>\n",
       "      <td>0</td>\n",
       "      <td>12</td>\n",
       "      <td>12</td>\n",
       "      <td>...</td>\n",
       "      <td>1</td>\n",
       "      <td>0.083333</td>\n",
       "      <td>0</td>\n",
       "      <td>0.0</td>\n",
       "      <td>123196</td>\n",
       "      <td>354.0</td>\n",
       "      <td>12.0</td>\n",
       "      <td>201801</td>\n",
       "      <td>2018</td>\n",
       "      <td>21.0</td>\n",
       "    </tr>\n",
       "    <tr>\n",
       "      <td>3</td>\n",
       "      <td>203684844</td>\n",
       "      <td>COMMERCIAL</td>\n",
       "      <td>Energy/Utilities</td>\n",
       "      <td>Enterprise Switching</td>\n",
       "      <td>12664</td>\n",
       "      <td>0</td>\n",
       "      <td>6</td>\n",
       "      <td>0</td>\n",
       "      <td>12</td>\n",
       "      <td>12</td>\n",
       "      <td>...</td>\n",
       "      <td>1</td>\n",
       "      <td>0.083333</td>\n",
       "      <td>0</td>\n",
       "      <td>0.0</td>\n",
       "      <td>123196</td>\n",
       "      <td>354.0</td>\n",
       "      <td>12.0</td>\n",
       "      <td>201801</td>\n",
       "      <td>2018</td>\n",
       "      <td>21.0</td>\n",
       "    </tr>\n",
       "    <tr>\n",
       "      <td>4</td>\n",
       "      <td>203684844</td>\n",
       "      <td>COMMERCIAL</td>\n",
       "      <td>Energy/Utilities</td>\n",
       "      <td>IOT</td>\n",
       "      <td>44870</td>\n",
       "      <td>0</td>\n",
       "      <td>41</td>\n",
       "      <td>0</td>\n",
       "      <td>12</td>\n",
       "      <td>12</td>\n",
       "      <td>...</td>\n",
       "      <td>1</td>\n",
       "      <td>0.083333</td>\n",
       "      <td>0</td>\n",
       "      <td>0.0</td>\n",
       "      <td>123196</td>\n",
       "      <td>354.0</td>\n",
       "      <td>12.0</td>\n",
       "      <td>201801</td>\n",
       "      <td>2018</td>\n",
       "      <td>21.0</td>\n",
       "    </tr>\n",
       "  </tbody>\n",
       "</table>\n",
       "<p>5 rows × 25 columns</p>\n",
       "</div>"
      ],
      "text/plain": [
       "   SAVM_GROUP_ID SAVM_SCMS_NAME SAVM_VERTICAL_MARKET_SEGMENT  \\\n",
       "0      203684844     COMMERCIAL             Energy/Utilities   \n",
       "1      203684844     COMMERCIAL             Energy/Utilities   \n",
       "2      203684844     COMMERCIAL             Energy/Utilities   \n",
       "3      203684844     COMMERCIAL             Energy/Utilities   \n",
       "4      203684844     COMMERCIAL             Energy/Utilities   \n",
       "\n",
       "        BUSINESS_ENTITY  ACTUAL_BOOKINGS  LIST_PRICE  QUANTITY  EY_FLAG  \\\n",
       "0         Collaboration                0           0         0        0   \n",
       "1  Enterprise Switching             2805           0         1        0   \n",
       "2    Enterprise Routing             6290           0        10        0   \n",
       "3  Enterprise Switching            12664           0         6        0   \n",
       "4                   IOT            44870           0        41        0   \n",
       "\n",
       "   TENURE  PENETRATION  ...  SITES  ACTIVE_3YEARS  BOUGHT_EY_BEFORE  \\\n",
       "0      12           12  ...      1       0.083333                 1   \n",
       "1      22           12  ...      1       0.166666                 0   \n",
       "2      12           12  ...      1       0.083333                 0   \n",
       "3      12           12  ...      1       0.083333                 0   \n",
       "4      12           12  ...      1       0.083333                 0   \n",
       "\n",
       "   DataCenterRevenue  DataCenter_Revenue_cumulative  \\\n",
       "0                0.0                         123196   \n",
       "1                0.0                        1862232   \n",
       "2                0.0                         123196   \n",
       "3                0.0                         123196   \n",
       "4                0.0                         123196   \n",
       "\n",
       "   DataCenter_Revenue_cumulative_last_year  DataCenter_TENURE  year_quarter  \\\n",
       "0                                    354.0               12.0        201801   \n",
       "1                                 240222.0               22.0        202003   \n",
       "2                                    354.0               12.0        201801   \n",
       "3                                    354.0               12.0        201801   \n",
       "4                                    354.0               12.0        201801   \n",
       "\n",
       "   Year  shifted_savm_count  \n",
       "0  2018                21.0  \n",
       "1  2020                57.0  \n",
       "2  2018                21.0  \n",
       "3  2018                21.0  \n",
       "4  2018                21.0  \n",
       "\n",
       "[5 rows x 25 columns]"
      ]
     },
     "execution_count": 102,
     "metadata": {},
     "output_type": "execute_result"
    }
   ],
   "source": [
    "df_1.head()"
   ]
  },
  {
   "cell_type": "code",
   "execution_count": 103,
   "metadata": {},
   "outputs": [],
   "source": [
    "df_dummified=pd.get_dummies(df_1,prefix=['Vert','BE','Seg'],columns=['SAVM_VERTICAL_MARKET_SEGMENT','BUSINESS_ENTITY','SAVM_SCMS_NAME'])"
   ]
  },
  {
   "cell_type": "code",
   "execution_count": 104,
   "metadata": {},
   "outputs": [
    {
     "data": {
      "text/plain": [
       "(1838211, 60)"
      ]
     },
     "execution_count": 104,
     "metadata": {},
     "output_type": "execute_result"
    }
   ],
   "source": [
    "df_dummified.shape"
   ]
  },
  {
   "cell_type": "code",
   "execution_count": 105,
   "metadata": {},
   "outputs": [
    {
     "data": {
      "text/plain": [
       "array([201801, 202003, 201602, 201904, 201804, 201502, 201504, 201902,\n",
       "       201803, 201604, 201901, 202001, 201702, 201802, 201703, 201704,\n",
       "       201903, 202002, 201603, 201701, 201601, 201501, 201503, 201402,\n",
       "       201404, 201401, 201403, 201303, 201304, 201301, 201302, 201204,\n",
       "       201203, 201202, 201201], dtype=int64)"
      ]
     },
     "execution_count": 105,
     "metadata": {},
     "output_type": "execute_result"
    }
   ],
   "source": [
    "df_dummified['year_quarter'].unique()"
   ]
  },
  {
   "cell_type": "code",
   "execution_count": 106,
   "metadata": {},
   "outputs": [
    {
     "data": {
      "text/html": [
       "<div>\n",
       "<style scoped>\n",
       "    .dataframe tbody tr th:only-of-type {\n",
       "        vertical-align: middle;\n",
       "    }\n",
       "\n",
       "    .dataframe tbody tr th {\n",
       "        vertical-align: top;\n",
       "    }\n",
       "\n",
       "    .dataframe thead th {\n",
       "        text-align: right;\n",
       "    }\n",
       "</style>\n",
       "<table border=\"1\" class=\"dataframe\">\n",
       "  <thead>\n",
       "    <tr style=\"text-align: right;\">\n",
       "      <th></th>\n",
       "      <th>SAVM_GROUP_ID</th>\n",
       "      <th>ACTUAL_BOOKINGS</th>\n",
       "      <th>LIST_PRICE</th>\n",
       "      <th>QUANTITY</th>\n",
       "      <th>EY_FLAG</th>\n",
       "      <th>TENURE</th>\n",
       "      <th>PENETRATION</th>\n",
       "      <th>CUMM_BOOK_SAVM</th>\n",
       "      <th>CUMM_BOOK_SAVM_ARC</th>\n",
       "      <th>AVG_REVENUE_VERT</th>\n",
       "      <th>...</th>\n",
       "      <th>BE_Services ASS_L1</th>\n",
       "      <th>BE_Services TSS_L1</th>\n",
       "      <th>BE_UNKNOWN</th>\n",
       "      <th>BE_Wireless</th>\n",
       "      <th>Seg_COMMERCIAL</th>\n",
       "      <th>Seg_ENTERPRISE</th>\n",
       "      <th>Seg_OTHER</th>\n",
       "      <th>Seg_PUBLIC SECTOR</th>\n",
       "      <th>Seg_SERVICE PROVIDER</th>\n",
       "      <th>Seg_SMALL</th>\n",
       "    </tr>\n",
       "  </thead>\n",
       "  <tbody>\n",
       "    <tr>\n",
       "      <td>0</td>\n",
       "      <td>203684844</td>\n",
       "      <td>0</td>\n",
       "      <td>0</td>\n",
       "      <td>0</td>\n",
       "      <td>0</td>\n",
       "      <td>12</td>\n",
       "      <td>12</td>\n",
       "      <td>1079996</td>\n",
       "      <td>1079996</td>\n",
       "      <td>396564</td>\n",
       "      <td>...</td>\n",
       "      <td>0</td>\n",
       "      <td>0</td>\n",
       "      <td>0</td>\n",
       "      <td>0</td>\n",
       "      <td>1</td>\n",
       "      <td>0</td>\n",
       "      <td>0</td>\n",
       "      <td>0</td>\n",
       "      <td>0</td>\n",
       "      <td>0</td>\n",
       "    </tr>\n",
       "    <tr>\n",
       "      <td>1</td>\n",
       "      <td>203684844</td>\n",
       "      <td>2805</td>\n",
       "      <td>0</td>\n",
       "      <td>1</td>\n",
       "      <td>0</td>\n",
       "      <td>22</td>\n",
       "      <td>12</td>\n",
       "      <td>4751712</td>\n",
       "      <td>707504</td>\n",
       "      <td>52470</td>\n",
       "      <td>...</td>\n",
       "      <td>0</td>\n",
       "      <td>0</td>\n",
       "      <td>0</td>\n",
       "      <td>0</td>\n",
       "      <td>1</td>\n",
       "      <td>0</td>\n",
       "      <td>0</td>\n",
       "      <td>0</td>\n",
       "      <td>0</td>\n",
       "      <td>0</td>\n",
       "    </tr>\n",
       "    <tr>\n",
       "      <td>2</td>\n",
       "      <td>203684844</td>\n",
       "      <td>6290</td>\n",
       "      <td>0</td>\n",
       "      <td>10</td>\n",
       "      <td>0</td>\n",
       "      <td>12</td>\n",
       "      <td>12</td>\n",
       "      <td>3882047</td>\n",
       "      <td>144345</td>\n",
       "      <td>396564</td>\n",
       "      <td>...</td>\n",
       "      <td>0</td>\n",
       "      <td>0</td>\n",
       "      <td>0</td>\n",
       "      <td>0</td>\n",
       "      <td>1</td>\n",
       "      <td>0</td>\n",
       "      <td>0</td>\n",
       "      <td>0</td>\n",
       "      <td>0</td>\n",
       "      <td>0</td>\n",
       "    </tr>\n",
       "    <tr>\n",
       "      <td>3</td>\n",
       "      <td>203684844</td>\n",
       "      <td>12664</td>\n",
       "      <td>0</td>\n",
       "      <td>6</td>\n",
       "      <td>0</td>\n",
       "      <td>12</td>\n",
       "      <td>12</td>\n",
       "      <td>4370134</td>\n",
       "      <td>325926</td>\n",
       "      <td>396564</td>\n",
       "      <td>...</td>\n",
       "      <td>0</td>\n",
       "      <td>0</td>\n",
       "      <td>0</td>\n",
       "      <td>0</td>\n",
       "      <td>1</td>\n",
       "      <td>0</td>\n",
       "      <td>0</td>\n",
       "      <td>0</td>\n",
       "      <td>0</td>\n",
       "      <td>0</td>\n",
       "    </tr>\n",
       "    <tr>\n",
       "      <td>4</td>\n",
       "      <td>203684844</td>\n",
       "      <td>44870</td>\n",
       "      <td>0</td>\n",
       "      <td>41</td>\n",
       "      <td>0</td>\n",
       "      <td>12</td>\n",
       "      <td>12</td>\n",
       "      <td>5413926</td>\n",
       "      <td>589003</td>\n",
       "      <td>396564</td>\n",
       "      <td>...</td>\n",
       "      <td>0</td>\n",
       "      <td>0</td>\n",
       "      <td>0</td>\n",
       "      <td>0</td>\n",
       "      <td>1</td>\n",
       "      <td>0</td>\n",
       "      <td>0</td>\n",
       "      <td>0</td>\n",
       "      <td>0</td>\n",
       "      <td>0</td>\n",
       "    </tr>\n",
       "  </tbody>\n",
       "</table>\n",
       "<p>5 rows × 60 columns</p>\n",
       "</div>"
      ],
      "text/plain": [
       "   SAVM_GROUP_ID  ACTUAL_BOOKINGS  LIST_PRICE  QUANTITY  EY_FLAG  TENURE  \\\n",
       "0      203684844                0           0         0        0      12   \n",
       "1      203684844             2805           0         1        0      22   \n",
       "2      203684844             6290           0        10        0      12   \n",
       "3      203684844            12664           0         6        0      12   \n",
       "4      203684844            44870           0        41        0      12   \n",
       "\n",
       "   PENETRATION  CUMM_BOOK_SAVM  CUMM_BOOK_SAVM_ARC  AVG_REVENUE_VERT  ...  \\\n",
       "0           12         1079996             1079996            396564  ...   \n",
       "1           12         4751712              707504             52470  ...   \n",
       "2           12         3882047              144345            396564  ...   \n",
       "3           12         4370134              325926            396564  ...   \n",
       "4           12         5413926              589003            396564  ...   \n",
       "\n",
       "   BE_Services ASS_L1  BE_Services TSS_L1  BE_UNKNOWN  BE_Wireless  \\\n",
       "0                   0                   0           0            0   \n",
       "1                   0                   0           0            0   \n",
       "2                   0                   0           0            0   \n",
       "3                   0                   0           0            0   \n",
       "4                   0                   0           0            0   \n",
       "\n",
       "   Seg_COMMERCIAL  Seg_ENTERPRISE  Seg_OTHER  Seg_PUBLIC SECTOR  \\\n",
       "0               1               0          0                  0   \n",
       "1               1               0          0                  0   \n",
       "2               1               0          0                  0   \n",
       "3               1               0          0                  0   \n",
       "4               1               0          0                  0   \n",
       "\n",
       "   Seg_SERVICE PROVIDER  Seg_SMALL  \n",
       "0                     0          0  \n",
       "1                     0          0  \n",
       "2                     0          0  \n",
       "3                     0          0  \n",
       "4                     0          0  \n",
       "\n",
       "[5 rows x 60 columns]"
      ]
     },
     "execution_count": 106,
     "metadata": {},
     "output_type": "execute_result"
    }
   ],
   "source": [
    "df_dummified.head()"
   ]
  },
  {
   "cell_type": "code",
   "execution_count": 107,
   "metadata": {},
   "outputs": [
    {
     "data": {
      "text/plain": [
       "(1838211, 60)"
      ]
     },
     "execution_count": 107,
     "metadata": {},
     "output_type": "execute_result"
    }
   ],
   "source": [
    "df_dummified.shape"
   ]
  },
  {
   "cell_type": "code",
   "execution_count": 108,
   "metadata": {},
   "outputs": [
    {
     "data": {
      "text/plain": [
       "['SAVM_GROUP_ID',\n",
       " 'ACTUAL_BOOKINGS',\n",
       " 'LIST_PRICE',\n",
       " 'QUANTITY',\n",
       " 'EY_FLAG',\n",
       " 'TENURE',\n",
       " 'PENETRATION',\n",
       " 'CUMM_BOOK_SAVM',\n",
       " 'CUMM_BOOK_SAVM_ARC',\n",
       " 'AVG_REVENUE_VERT',\n",
       " 'DISCOUNT',\n",
       " 'AVG_QUR_BOOKINGS',\n",
       " 'SITES',\n",
       " 'ACTIVE_3YEARS',\n",
       " 'BOUGHT_EY_BEFORE',\n",
       " 'DataCenterRevenue',\n",
       " 'DataCenter_Revenue_cumulative',\n",
       " 'DataCenter_Revenue_cumulative_last_year',\n",
       " 'DataCenter_TENURE',\n",
       " 'year_quarter',\n",
       " 'Year',\n",
       " 'shifted_savm_count',\n",
       " 'Vert_Education- Public/Private',\n",
       " 'Vert_Energy/Utilities',\n",
       " 'Vert_Financial Services',\n",
       " 'Vert_Government',\n",
       " 'Vert_Health Care',\n",
       " 'Vert_Hospitality/Hotels & Leisure',\n",
       " 'Vert_Manufacturing',\n",
       " 'Vert_Media/Entertainment',\n",
       " 'Vert_Professional Services',\n",
       " 'Vert_Retail',\n",
       " 'Vert_Service Provider',\n",
       " 'Vert_Technical Services',\n",
       " 'Vert_Transportation',\n",
       " 'Vert_Unknown',\n",
       " 'Vert_Wholesale/Distribution',\n",
       " 'BE_Collaboration',\n",
       " 'BE_Computing Systems',\n",
       " 'BE_Data Center Networking',\n",
       " 'BE_Enterprise Routing',\n",
       " 'BE_Enterprise Switching',\n",
       " 'BE_IOT',\n",
       " 'BE_Meraki',\n",
       " 'BE_Monitoring and Analytics',\n",
       " 'BE_Other',\n",
       " 'BE_SP Video Infrastructure',\n",
       " 'BE_SP Video Software and Solutions',\n",
       " 'BE_Security',\n",
       " 'BE_Service Provider Routing',\n",
       " 'BE_Services ASS_L1',\n",
       " 'BE_Services TSS_L1',\n",
       " 'BE_UNKNOWN',\n",
       " 'BE_Wireless',\n",
       " 'Seg_COMMERCIAL',\n",
       " 'Seg_ENTERPRISE',\n",
       " 'Seg_OTHER',\n",
       " 'Seg_PUBLIC SECTOR',\n",
       " 'Seg_SERVICE PROVIDER',\n",
       " 'Seg_SMALL']"
      ]
     },
     "execution_count": 108,
     "metadata": {},
     "output_type": "execute_result"
    }
   ],
   "source": [
    "df_dummified.columns.tolist()"
   ]
  },
  {
   "cell_type": "code",
   "execution_count": 109,
   "metadata": {},
   "outputs": [],
   "source": [
    "df_dummified.drop('Seg_OTHER',axis=1,inplace=True)"
   ]
  },
  {
   "cell_type": "code",
   "execution_count": 110,
   "metadata": {},
   "outputs": [],
   "source": [
    "df_dummified['Seg_SERVICE PROVIDER'] = df_dummified['Seg_SERVICE PROVIDER'] | df_dummified['Seg_SMALL']"
   ]
  },
  {
   "cell_type": "code",
   "execution_count": 111,
   "metadata": {},
   "outputs": [],
   "source": [
    "#df_dummified.columns.tolist()"
   ]
  },
  {
   "cell_type": "code",
   "execution_count": 116,
   "metadata": {},
   "outputs": [],
   "source": [
    "#pl_columns=[col for col in df_dummified if col.startswith('Prod_')]\n",
    "#pl_columns = ['Prod_Reco_Prod']\n",
    "vr_columns=[col for col in df_dummified if col.startswith('Vert_')]\n",
    "be_columns=[col for col in df_dummified if col.startswith('BE_')]\n",
    "scms_columns=[col for col in df_dummified if col.startswith('Seg_')]\n",
    "numerical_columns =  ['TENURE','PENETRATION','CUMM_BOOK_SAVM','AVG_REVENUE_VERT',\n",
    "                     'DISCOUNT',\n",
    "                      'DataCenter_TENURE','AVG_QUR_BOOKINGS', 'SITES', 'ACTIVE_3YEARS', 'BOUGHT_EY_BEFORE','DataCenterRevenue', 'DataCenter_Revenue_cumulative',\n",
    "       'DataCenter_Revenue_cumulative_last_year','shifted_savm_count']\n",
    "sum_cols = ['ACTUAL_BOOKINGS','QUANTITY']"
   ]
  },
  {
   "cell_type": "code",
   "execution_count": 113,
   "metadata": {},
   "outputs": [],
   "source": [
    "df_temp_1=df_dummified.groupby(['SAVM_GROUP_ID','year_quarter'])[vr_columns].apply(lambda x : x.astype(int).sum())"
   ]
  },
  {
   "cell_type": "code",
   "execution_count": 114,
   "metadata": {},
   "outputs": [],
   "source": [
    "for column in df_temp_1.columns:\n",
    "    df_temp_1[column]= np.where(df_temp_1[column]>0,1,0)"
   ]
  },
  {
   "cell_type": "code",
   "execution_count": 115,
   "metadata": {},
   "outputs": [],
   "source": [
    "df_temp_2=df_dummified.groupby(['SAVM_GROUP_ID','year_quarter'])[be_columns].apply(lambda x : x.astype(int).sum())"
   ]
  },
  {
   "cell_type": "code",
   "execution_count": 117,
   "metadata": {},
   "outputs": [],
   "source": [
    "for column in df_temp_2.columns:\n",
    "    df_temp_2[column]= np.where(df_temp_2[column]>0,1,0)"
   ]
  },
  {
   "cell_type": "code",
   "execution_count": 118,
   "metadata": {},
   "outputs": [],
   "source": [
    "df_temp_3 =  df_dummified.groupby(['SAVM_GROUP_ID','year_quarter'])[numerical_columns].max()\n",
    "df_temp_4 =  df_dummified.groupby(['SAVM_GROUP_ID','year_quarter'])[sum_cols].sum()\n",
    "df_temp_5=df_dummified.groupby(['SAVM_GROUP_ID','year_quarter'])[scms_columns].apply(lambda x : x.astype(int).sum())"
   ]
  },
  {
   "cell_type": "code",
   "execution_count": 119,
   "metadata": {},
   "outputs": [],
   "source": [
    "for column in df_temp_5.columns:\n",
    "    df_temp_5[column]= np.where(df_temp_5[column]>0,1,0)"
   ]
  },
  {
   "cell_type": "code",
   "execution_count": 120,
   "metadata": {},
   "outputs": [],
   "source": [
    "df_aggregated=pd.concat([df_temp_1,df_temp_2,df_temp_3,df_temp_4,df_temp_5],axis=1)"
   ]
  },
  {
   "cell_type": "code",
   "execution_count": 121,
   "metadata": {},
   "outputs": [
    {
     "data": {
      "text/html": [
       "<div>\n",
       "<style scoped>\n",
       "    .dataframe tbody tr th:only-of-type {\n",
       "        vertical-align: middle;\n",
       "    }\n",
       "\n",
       "    .dataframe tbody tr th {\n",
       "        vertical-align: top;\n",
       "    }\n",
       "\n",
       "    .dataframe thead th {\n",
       "        text-align: right;\n",
       "    }\n",
       "</style>\n",
       "<table border=\"1\" class=\"dataframe\">\n",
       "  <thead>\n",
       "    <tr style=\"text-align: right;\">\n",
       "      <th></th>\n",
       "      <th></th>\n",
       "      <th>Vert_Education- Public/Private</th>\n",
       "      <th>Vert_Energy/Utilities</th>\n",
       "      <th>Vert_Financial Services</th>\n",
       "      <th>Vert_Government</th>\n",
       "      <th>Vert_Health Care</th>\n",
       "      <th>Vert_Hospitality/Hotels &amp; Leisure</th>\n",
       "      <th>Vert_Manufacturing</th>\n",
       "      <th>Vert_Media/Entertainment</th>\n",
       "      <th>Vert_Professional Services</th>\n",
       "      <th>Vert_Retail</th>\n",
       "      <th>...</th>\n",
       "      <th>DataCenter_Revenue_cumulative</th>\n",
       "      <th>DataCenter_Revenue_cumulative_last_year</th>\n",
       "      <th>shifted_savm_count</th>\n",
       "      <th>ACTUAL_BOOKINGS</th>\n",
       "      <th>QUANTITY</th>\n",
       "      <th>Seg_COMMERCIAL</th>\n",
       "      <th>Seg_ENTERPRISE</th>\n",
       "      <th>Seg_PUBLIC SECTOR</th>\n",
       "      <th>Seg_SERVICE PROVIDER</th>\n",
       "      <th>Seg_SMALL</th>\n",
       "    </tr>\n",
       "    <tr>\n",
       "      <th>SAVM_GROUP_ID</th>\n",
       "      <th>year_quarter</th>\n",
       "      <th></th>\n",
       "      <th></th>\n",
       "      <th></th>\n",
       "      <th></th>\n",
       "      <th></th>\n",
       "      <th></th>\n",
       "      <th></th>\n",
       "      <th></th>\n",
       "      <th></th>\n",
       "      <th></th>\n",
       "      <th></th>\n",
       "      <th></th>\n",
       "      <th></th>\n",
       "      <th></th>\n",
       "      <th></th>\n",
       "      <th></th>\n",
       "      <th></th>\n",
       "      <th></th>\n",
       "      <th></th>\n",
       "      <th></th>\n",
       "      <th></th>\n",
       "    </tr>\n",
       "  </thead>\n",
       "  <tbody>\n",
       "    <tr>\n",
       "      <td rowspan=\"5\" valign=\"top\">203684844</td>\n",
       "      <td>201501</td>\n",
       "      <td>0</td>\n",
       "      <td>1</td>\n",
       "      <td>0</td>\n",
       "      <td>0</td>\n",
       "      <td>0</td>\n",
       "      <td>0</td>\n",
       "      <td>0</td>\n",
       "      <td>0</td>\n",
       "      <td>0</td>\n",
       "      <td>0</td>\n",
       "      <td>...</td>\n",
       "      <td>38090</td>\n",
       "      <td>0.0</td>\n",
       "      <td>0.0</td>\n",
       "      <td>755696</td>\n",
       "      <td>7375</td>\n",
       "      <td>1</td>\n",
       "      <td>0</td>\n",
       "      <td>0</td>\n",
       "      <td>0</td>\n",
       "      <td>0</td>\n",
       "    </tr>\n",
       "    <tr>\n",
       "      <td>201502</td>\n",
       "      <td>0</td>\n",
       "      <td>1</td>\n",
       "      <td>0</td>\n",
       "      <td>0</td>\n",
       "      <td>0</td>\n",
       "      <td>0</td>\n",
       "      <td>0</td>\n",
       "      <td>0</td>\n",
       "      <td>0</td>\n",
       "      <td>0</td>\n",
       "      <td>...</td>\n",
       "      <td>55237</td>\n",
       "      <td>0.0</td>\n",
       "      <td>0.0</td>\n",
       "      <td>80904</td>\n",
       "      <td>208</td>\n",
       "      <td>1</td>\n",
       "      <td>0</td>\n",
       "      <td>0</td>\n",
       "      <td>0</td>\n",
       "      <td>0</td>\n",
       "    </tr>\n",
       "    <tr>\n",
       "      <td>201503</td>\n",
       "      <td>0</td>\n",
       "      <td>1</td>\n",
       "      <td>0</td>\n",
       "      <td>0</td>\n",
       "      <td>0</td>\n",
       "      <td>0</td>\n",
       "      <td>0</td>\n",
       "      <td>0</td>\n",
       "      <td>0</td>\n",
       "      <td>0</td>\n",
       "      <td>...</td>\n",
       "      <td>55838</td>\n",
       "      <td>0.0</td>\n",
       "      <td>0.0</td>\n",
       "      <td>42182</td>\n",
       "      <td>181</td>\n",
       "      <td>1</td>\n",
       "      <td>0</td>\n",
       "      <td>0</td>\n",
       "      <td>0</td>\n",
       "      <td>0</td>\n",
       "    </tr>\n",
       "    <tr>\n",
       "      <td>201504</td>\n",
       "      <td>0</td>\n",
       "      <td>1</td>\n",
       "      <td>0</td>\n",
       "      <td>0</td>\n",
       "      <td>0</td>\n",
       "      <td>0</td>\n",
       "      <td>0</td>\n",
       "      <td>0</td>\n",
       "      <td>0</td>\n",
       "      <td>0</td>\n",
       "      <td>...</td>\n",
       "      <td>94746</td>\n",
       "      <td>0.0</td>\n",
       "      <td>0.0</td>\n",
       "      <td>91929</td>\n",
       "      <td>398</td>\n",
       "      <td>1</td>\n",
       "      <td>0</td>\n",
       "      <td>0</td>\n",
       "      <td>0</td>\n",
       "      <td>0</td>\n",
       "    </tr>\n",
       "    <tr>\n",
       "      <td>201601</td>\n",
       "      <td>0</td>\n",
       "      <td>1</td>\n",
       "      <td>0</td>\n",
       "      <td>0</td>\n",
       "      <td>0</td>\n",
       "      <td>0</td>\n",
       "      <td>0</td>\n",
       "      <td>0</td>\n",
       "      <td>0</td>\n",
       "      <td>0</td>\n",
       "      <td>...</td>\n",
       "      <td>98957</td>\n",
       "      <td>94746.0</td>\n",
       "      <td>2.0</td>\n",
       "      <td>381727</td>\n",
       "      <td>387361</td>\n",
       "      <td>1</td>\n",
       "      <td>0</td>\n",
       "      <td>0</td>\n",
       "      <td>0</td>\n",
       "      <td>0</td>\n",
       "    </tr>\n",
       "  </tbody>\n",
       "</table>\n",
       "<p>5 rows × 53 columns</p>\n",
       "</div>"
      ],
      "text/plain": [
       "                            Vert_Education- Public/Private  \\\n",
       "SAVM_GROUP_ID year_quarter                                   \n",
       "203684844     201501                                     0   \n",
       "              201502                                     0   \n",
       "              201503                                     0   \n",
       "              201504                                     0   \n",
       "              201601                                     0   \n",
       "\n",
       "                            Vert_Energy/Utilities  Vert_Financial Services  \\\n",
       "SAVM_GROUP_ID year_quarter                                                   \n",
       "203684844     201501                            1                        0   \n",
       "              201502                            1                        0   \n",
       "              201503                            1                        0   \n",
       "              201504                            1                        0   \n",
       "              201601                            1                        0   \n",
       "\n",
       "                            Vert_Government  Vert_Health Care  \\\n",
       "SAVM_GROUP_ID year_quarter                                      \n",
       "203684844     201501                      0                 0   \n",
       "              201502                      0                 0   \n",
       "              201503                      0                 0   \n",
       "              201504                      0                 0   \n",
       "              201601                      0                 0   \n",
       "\n",
       "                            Vert_Hospitality/Hotels & Leisure  \\\n",
       "SAVM_GROUP_ID year_quarter                                      \n",
       "203684844     201501                                        0   \n",
       "              201502                                        0   \n",
       "              201503                                        0   \n",
       "              201504                                        0   \n",
       "              201601                                        0   \n",
       "\n",
       "                            Vert_Manufacturing  Vert_Media/Entertainment  \\\n",
       "SAVM_GROUP_ID year_quarter                                                 \n",
       "203684844     201501                         0                         0   \n",
       "              201502                         0                         0   \n",
       "              201503                         0                         0   \n",
       "              201504                         0                         0   \n",
       "              201601                         0                         0   \n",
       "\n",
       "                            Vert_Professional Services  Vert_Retail  ...  \\\n",
       "SAVM_GROUP_ID year_quarter                                           ...   \n",
       "203684844     201501                                 0            0  ...   \n",
       "              201502                                 0            0  ...   \n",
       "              201503                                 0            0  ...   \n",
       "              201504                                 0            0  ...   \n",
       "              201601                                 0            0  ...   \n",
       "\n",
       "                            DataCenter_Revenue_cumulative  \\\n",
       "SAVM_GROUP_ID year_quarter                                  \n",
       "203684844     201501                                38090   \n",
       "              201502                                55237   \n",
       "              201503                                55838   \n",
       "              201504                                94746   \n",
       "              201601                                98957   \n",
       "\n",
       "                            DataCenter_Revenue_cumulative_last_year  \\\n",
       "SAVM_GROUP_ID year_quarter                                            \n",
       "203684844     201501                                            0.0   \n",
       "              201502                                            0.0   \n",
       "              201503                                            0.0   \n",
       "              201504                                            0.0   \n",
       "              201601                                        94746.0   \n",
       "\n",
       "                            shifted_savm_count  ACTUAL_BOOKINGS  QUANTITY  \\\n",
       "SAVM_GROUP_ID year_quarter                                                  \n",
       "203684844     201501                       0.0           755696      7375   \n",
       "              201502                       0.0            80904       208   \n",
       "              201503                       0.0            42182       181   \n",
       "              201504                       0.0            91929       398   \n",
       "              201601                       2.0           381727    387361   \n",
       "\n",
       "                            Seg_COMMERCIAL  Seg_ENTERPRISE  Seg_PUBLIC SECTOR  \\\n",
       "SAVM_GROUP_ID year_quarter                                                      \n",
       "203684844     201501                     1               0                  0   \n",
       "              201502                     1               0                  0   \n",
       "              201503                     1               0                  0   \n",
       "              201504                     1               0                  0   \n",
       "              201601                     1               0                  0   \n",
       "\n",
       "                            Seg_SERVICE PROVIDER  Seg_SMALL  \n",
       "SAVM_GROUP_ID year_quarter                                   \n",
       "203684844     201501                           0          0  \n",
       "              201502                           0          0  \n",
       "              201503                           0          0  \n",
       "              201504                           0          0  \n",
       "              201601                           0          0  \n",
       "\n",
       "[5 rows x 53 columns]"
      ]
     },
     "execution_count": 121,
     "metadata": {},
     "output_type": "execute_result"
    }
   ],
   "source": [
    "df_aggregated.head()"
   ]
  },
  {
   "cell_type": "code",
   "execution_count": 122,
   "metadata": {},
   "outputs": [],
   "source": [
    "df_aggregated.reset_index(inplace=True)"
   ]
  },
  {
   "cell_type": "code",
   "execution_count": 123,
   "metadata": {},
   "outputs": [
    {
     "data": {
      "text/html": [
       "<div>\n",
       "<style scoped>\n",
       "    .dataframe tbody tr th:only-of-type {\n",
       "        vertical-align: middle;\n",
       "    }\n",
       "\n",
       "    .dataframe tbody tr th {\n",
       "        vertical-align: top;\n",
       "    }\n",
       "\n",
       "    .dataframe thead th {\n",
       "        text-align: right;\n",
       "    }\n",
       "</style>\n",
       "<table border=\"1\" class=\"dataframe\">\n",
       "  <thead>\n",
       "    <tr style=\"text-align: right;\">\n",
       "      <th></th>\n",
       "      <th>SAVM_GROUP_ID</th>\n",
       "      <th>year_quarter</th>\n",
       "      <th>Vert_Education- Public/Private</th>\n",
       "      <th>Vert_Energy/Utilities</th>\n",
       "      <th>Vert_Financial Services</th>\n",
       "      <th>Vert_Government</th>\n",
       "      <th>Vert_Health Care</th>\n",
       "      <th>Vert_Hospitality/Hotels &amp; Leisure</th>\n",
       "      <th>Vert_Manufacturing</th>\n",
       "      <th>Vert_Media/Entertainment</th>\n",
       "      <th>...</th>\n",
       "      <th>DataCenter_Revenue_cumulative</th>\n",
       "      <th>DataCenter_Revenue_cumulative_last_year</th>\n",
       "      <th>shifted_savm_count</th>\n",
       "      <th>ACTUAL_BOOKINGS</th>\n",
       "      <th>QUANTITY</th>\n",
       "      <th>Seg_COMMERCIAL</th>\n",
       "      <th>Seg_ENTERPRISE</th>\n",
       "      <th>Seg_PUBLIC SECTOR</th>\n",
       "      <th>Seg_SERVICE PROVIDER</th>\n",
       "      <th>Seg_SMALL</th>\n",
       "    </tr>\n",
       "  </thead>\n",
       "  <tbody>\n",
       "    <tr>\n",
       "      <td>0</td>\n",
       "      <td>203684844</td>\n",
       "      <td>201501</td>\n",
       "      <td>0</td>\n",
       "      <td>1</td>\n",
       "      <td>0</td>\n",
       "      <td>0</td>\n",
       "      <td>0</td>\n",
       "      <td>0</td>\n",
       "      <td>0</td>\n",
       "      <td>0</td>\n",
       "      <td>...</td>\n",
       "      <td>38090</td>\n",
       "      <td>0.0</td>\n",
       "      <td>0.0</td>\n",
       "      <td>755696</td>\n",
       "      <td>7375</td>\n",
       "      <td>1</td>\n",
       "      <td>0</td>\n",
       "      <td>0</td>\n",
       "      <td>0</td>\n",
       "      <td>0</td>\n",
       "    </tr>\n",
       "    <tr>\n",
       "      <td>1</td>\n",
       "      <td>203684844</td>\n",
       "      <td>201502</td>\n",
       "      <td>0</td>\n",
       "      <td>1</td>\n",
       "      <td>0</td>\n",
       "      <td>0</td>\n",
       "      <td>0</td>\n",
       "      <td>0</td>\n",
       "      <td>0</td>\n",
       "      <td>0</td>\n",
       "      <td>...</td>\n",
       "      <td>55237</td>\n",
       "      <td>0.0</td>\n",
       "      <td>0.0</td>\n",
       "      <td>80904</td>\n",
       "      <td>208</td>\n",
       "      <td>1</td>\n",
       "      <td>0</td>\n",
       "      <td>0</td>\n",
       "      <td>0</td>\n",
       "      <td>0</td>\n",
       "    </tr>\n",
       "    <tr>\n",
       "      <td>2</td>\n",
       "      <td>203684844</td>\n",
       "      <td>201503</td>\n",
       "      <td>0</td>\n",
       "      <td>1</td>\n",
       "      <td>0</td>\n",
       "      <td>0</td>\n",
       "      <td>0</td>\n",
       "      <td>0</td>\n",
       "      <td>0</td>\n",
       "      <td>0</td>\n",
       "      <td>...</td>\n",
       "      <td>55838</td>\n",
       "      <td>0.0</td>\n",
       "      <td>0.0</td>\n",
       "      <td>42182</td>\n",
       "      <td>181</td>\n",
       "      <td>1</td>\n",
       "      <td>0</td>\n",
       "      <td>0</td>\n",
       "      <td>0</td>\n",
       "      <td>0</td>\n",
       "    </tr>\n",
       "    <tr>\n",
       "      <td>3</td>\n",
       "      <td>203684844</td>\n",
       "      <td>201504</td>\n",
       "      <td>0</td>\n",
       "      <td>1</td>\n",
       "      <td>0</td>\n",
       "      <td>0</td>\n",
       "      <td>0</td>\n",
       "      <td>0</td>\n",
       "      <td>0</td>\n",
       "      <td>0</td>\n",
       "      <td>...</td>\n",
       "      <td>94746</td>\n",
       "      <td>0.0</td>\n",
       "      <td>0.0</td>\n",
       "      <td>91929</td>\n",
       "      <td>398</td>\n",
       "      <td>1</td>\n",
       "      <td>0</td>\n",
       "      <td>0</td>\n",
       "      <td>0</td>\n",
       "      <td>0</td>\n",
       "    </tr>\n",
       "    <tr>\n",
       "      <td>4</td>\n",
       "      <td>203684844</td>\n",
       "      <td>201601</td>\n",
       "      <td>0</td>\n",
       "      <td>1</td>\n",
       "      <td>0</td>\n",
       "      <td>0</td>\n",
       "      <td>0</td>\n",
       "      <td>0</td>\n",
       "      <td>0</td>\n",
       "      <td>0</td>\n",
       "      <td>...</td>\n",
       "      <td>98957</td>\n",
       "      <td>94746.0</td>\n",
       "      <td>2.0</td>\n",
       "      <td>381727</td>\n",
       "      <td>387361</td>\n",
       "      <td>1</td>\n",
       "      <td>0</td>\n",
       "      <td>0</td>\n",
       "      <td>0</td>\n",
       "      <td>0</td>\n",
       "    </tr>\n",
       "  </tbody>\n",
       "</table>\n",
       "<p>5 rows × 55 columns</p>\n",
       "</div>"
      ],
      "text/plain": [
       "   SAVM_GROUP_ID  year_quarter  Vert_Education- Public/Private  \\\n",
       "0      203684844        201501                               0   \n",
       "1      203684844        201502                               0   \n",
       "2      203684844        201503                               0   \n",
       "3      203684844        201504                               0   \n",
       "4      203684844        201601                               0   \n",
       "\n",
       "   Vert_Energy/Utilities  Vert_Financial Services  Vert_Government  \\\n",
       "0                      1                        0                0   \n",
       "1                      1                        0                0   \n",
       "2                      1                        0                0   \n",
       "3                      1                        0                0   \n",
       "4                      1                        0                0   \n",
       "\n",
       "   Vert_Health Care  Vert_Hospitality/Hotels & Leisure  Vert_Manufacturing  \\\n",
       "0                 0                                  0                   0   \n",
       "1                 0                                  0                   0   \n",
       "2                 0                                  0                   0   \n",
       "3                 0                                  0                   0   \n",
       "4                 0                                  0                   0   \n",
       "\n",
       "   Vert_Media/Entertainment  ...  DataCenter_Revenue_cumulative  \\\n",
       "0                         0  ...                          38090   \n",
       "1                         0  ...                          55237   \n",
       "2                         0  ...                          55838   \n",
       "3                         0  ...                          94746   \n",
       "4                         0  ...                          98957   \n",
       "\n",
       "   DataCenter_Revenue_cumulative_last_year  shifted_savm_count  \\\n",
       "0                                      0.0                 0.0   \n",
       "1                                      0.0                 0.0   \n",
       "2                                      0.0                 0.0   \n",
       "3                                      0.0                 0.0   \n",
       "4                                  94746.0                 2.0   \n",
       "\n",
       "   ACTUAL_BOOKINGS  QUANTITY  Seg_COMMERCIAL  Seg_ENTERPRISE  \\\n",
       "0           755696      7375               1               0   \n",
       "1            80904       208               1               0   \n",
       "2            42182       181               1               0   \n",
       "3            91929       398               1               0   \n",
       "4           381727    387361               1               0   \n",
       "\n",
       "   Seg_PUBLIC SECTOR  Seg_SERVICE PROVIDER  Seg_SMALL  \n",
       "0                  0                     0          0  \n",
       "1                  0                     0          0  \n",
       "2                  0                     0          0  \n",
       "3                  0                     0          0  \n",
       "4                  0                     0          0  \n",
       "\n",
       "[5 rows x 55 columns]"
      ]
     },
     "execution_count": 123,
     "metadata": {},
     "output_type": "execute_result"
    }
   ],
   "source": [
    "df_aggregated.head()"
   ]
  },
  {
   "cell_type": "code",
   "execution_count": 124,
   "metadata": {},
   "outputs": [
    {
     "data": {
      "text/plain": [
       "(338930, 55)"
      ]
     },
     "execution_count": 124,
     "metadata": {},
     "output_type": "execute_result"
    }
   ],
   "source": [
    "df_aggregated.shape"
   ]
  },
  {
   "cell_type": "code",
   "execution_count": 125,
   "metadata": {},
   "outputs": [
    {
     "data": {
      "text/plain": [
       "19839"
      ]
     },
     "execution_count": 125,
     "metadata": {},
     "output_type": "execute_result"
    }
   ],
   "source": [
    "df_aggregated.SAVM_GROUP_ID.nunique()"
   ]
  },
  {
   "cell_type": "code",
   "execution_count": 126,
   "metadata": {},
   "outputs": [
    {
     "data": {
      "text/html": [
       "<div>\n",
       "<style scoped>\n",
       "    .dataframe tbody tr th:only-of-type {\n",
       "        vertical-align: middle;\n",
       "    }\n",
       "\n",
       "    .dataframe tbody tr th {\n",
       "        vertical-align: top;\n",
       "    }\n",
       "\n",
       "    .dataframe thead th {\n",
       "        text-align: right;\n",
       "    }\n",
       "</style>\n",
       "<table border=\"1\" class=\"dataframe\">\n",
       "  <thead>\n",
       "    <tr style=\"text-align: right;\">\n",
       "      <th></th>\n",
       "      <th>SAVM_GROUP_ID</th>\n",
       "      <th>year_quarter</th>\n",
       "      <th>BUSINESS_ENTITY</th>\n",
       "      <th>CUMM_BOOK_SAVM_ARC</th>\n",
       "    </tr>\n",
       "  </thead>\n",
       "  <tbody>\n",
       "    <tr>\n",
       "      <td>0</td>\n",
       "      <td>203684844</td>\n",
       "      <td>201801</td>\n",
       "      <td>Collaboration</td>\n",
       "      <td>1079996</td>\n",
       "    </tr>\n",
       "    <tr>\n",
       "      <td>1</td>\n",
       "      <td>203684844</td>\n",
       "      <td>202003</td>\n",
       "      <td>Enterprise Switching</td>\n",
       "      <td>707504</td>\n",
       "    </tr>\n",
       "    <tr>\n",
       "      <td>2</td>\n",
       "      <td>203684844</td>\n",
       "      <td>201801</td>\n",
       "      <td>Enterprise Routing</td>\n",
       "      <td>144345</td>\n",
       "    </tr>\n",
       "    <tr>\n",
       "      <td>3</td>\n",
       "      <td>203684844</td>\n",
       "      <td>201801</td>\n",
       "      <td>Enterprise Switching</td>\n",
       "      <td>325926</td>\n",
       "    </tr>\n",
       "    <tr>\n",
       "      <td>4</td>\n",
       "      <td>203684844</td>\n",
       "      <td>201801</td>\n",
       "      <td>IOT</td>\n",
       "      <td>589003</td>\n",
       "    </tr>\n",
       "  </tbody>\n",
       "</table>\n",
       "</div>"
      ],
      "text/plain": [
       "   SAVM_GROUP_ID  year_quarter       BUSINESS_ENTITY  CUMM_BOOK_SAVM_ARC\n",
       "0      203684844        201801         Collaboration             1079996\n",
       "1      203684844        202003  Enterprise Switching              707504\n",
       "2      203684844        201801    Enterprise Routing              144345\n",
       "3      203684844        201801  Enterprise Switching              325926\n",
       "4      203684844        201801                   IOT              589003"
      ]
     },
     "execution_count": 126,
     "metadata": {},
     "output_type": "execute_result"
    }
   ],
   "source": [
    "df_2.head()"
   ]
  },
  {
   "cell_type": "code",
   "execution_count": 127,
   "metadata": {},
   "outputs": [],
   "source": [
    "df2_pivot = df_2.pivot_table(values='CUMM_BOOK_SAVM_ARC',index=['SAVM_GROUP_ID', 'year_quarter'],\n",
    "                 columns='BUSINESS_ENTITY',aggfunc=np.max).add_prefix('BEval_').reset_index()"
   ]
  },
  {
   "cell_type": "code",
   "execution_count": 128,
   "metadata": {},
   "outputs": [],
   "source": [
    "df2_pivot.fillna(0,inplace=True)"
   ]
  },
  {
   "cell_type": "code",
   "execution_count": 129,
   "metadata": {},
   "outputs": [
    {
     "data": {
      "text/html": [
       "<div>\n",
       "<style scoped>\n",
       "    .dataframe tbody tr th:only-of-type {\n",
       "        vertical-align: middle;\n",
       "    }\n",
       "\n",
       "    .dataframe tbody tr th {\n",
       "        vertical-align: top;\n",
       "    }\n",
       "\n",
       "    .dataframe thead th {\n",
       "        text-align: right;\n",
       "    }\n",
       "</style>\n",
       "<table border=\"1\" class=\"dataframe\">\n",
       "  <thead>\n",
       "    <tr style=\"text-align: right;\">\n",
       "      <th>BUSINESS_ENTITY</th>\n",
       "      <th>SAVM_GROUP_ID</th>\n",
       "      <th>year_quarter</th>\n",
       "      <th>BEval_Collaboration</th>\n",
       "      <th>BEval_Computing Systems</th>\n",
       "      <th>BEval_Data Center Networking</th>\n",
       "      <th>BEval_Enterprise Routing</th>\n",
       "      <th>BEval_Enterprise Switching</th>\n",
       "      <th>BEval_IOT</th>\n",
       "      <th>BEval_Meraki</th>\n",
       "      <th>BEval_Monitoring and Analytics</th>\n",
       "      <th>BEval_Other</th>\n",
       "      <th>BEval_SP Video Infrastructure</th>\n",
       "      <th>BEval_SP Video Software and Solutions</th>\n",
       "      <th>BEval_Security</th>\n",
       "      <th>BEval_Service Provider Routing</th>\n",
       "      <th>BEval_Services ASS_L1</th>\n",
       "      <th>BEval_Services TSS_L1</th>\n",
       "      <th>BEval_UNKNOWN</th>\n",
       "      <th>BEval_Wireless</th>\n",
       "    </tr>\n",
       "  </thead>\n",
       "  <tbody>\n",
       "    <tr>\n",
       "      <td>0</td>\n",
       "      <td>203684844</td>\n",
       "      <td>201501</td>\n",
       "      <td>119334.0</td>\n",
       "      <td>0.0</td>\n",
       "      <td>38090.0</td>\n",
       "      <td>25311.0</td>\n",
       "      <td>189854.0</td>\n",
       "      <td>75843.0</td>\n",
       "      <td>0.0</td>\n",
       "      <td>0.0</td>\n",
       "      <td>0.0</td>\n",
       "      <td>0.0</td>\n",
       "      <td>0.0</td>\n",
       "      <td>95778.0</td>\n",
       "      <td>6156.0</td>\n",
       "      <td>0.0</td>\n",
       "      <td>194914.0</td>\n",
       "      <td>0.0</td>\n",
       "      <td>10661.0</td>\n",
       "    </tr>\n",
       "    <tr>\n",
       "      <td>1</td>\n",
       "      <td>203684844</td>\n",
       "      <td>201502</td>\n",
       "      <td>128078.0</td>\n",
       "      <td>0.0</td>\n",
       "      <td>55266.0</td>\n",
       "      <td>30152.0</td>\n",
       "      <td>202279.0</td>\n",
       "      <td>92918.0</td>\n",
       "      <td>0.0</td>\n",
       "      <td>0.0</td>\n",
       "      <td>0.0</td>\n",
       "      <td>0.0</td>\n",
       "      <td>0.0</td>\n",
       "      <td>115130.0</td>\n",
       "      <td>7989.0</td>\n",
       "      <td>0.0</td>\n",
       "      <td>196743.0</td>\n",
       "      <td>0.0</td>\n",
       "      <td>10546.0</td>\n",
       "    </tr>\n",
       "    <tr>\n",
       "      <td>2</td>\n",
       "      <td>203684844</td>\n",
       "      <td>201503</td>\n",
       "      <td>130596.0</td>\n",
       "      <td>0.0</td>\n",
       "      <td>55838.0</td>\n",
       "      <td>34719.0</td>\n",
       "      <td>208203.0</td>\n",
       "      <td>119178.0</td>\n",
       "      <td>0.0</td>\n",
       "      <td>0.0</td>\n",
       "      <td>0.0</td>\n",
       "      <td>0.0</td>\n",
       "      <td>0.0</td>\n",
       "      <td>0.0</td>\n",
       "      <td>9015.0</td>\n",
       "      <td>0.0</td>\n",
       "      <td>195766.0</td>\n",
       "      <td>0.0</td>\n",
       "      <td>0.0</td>\n",
       "    </tr>\n",
       "    <tr>\n",
       "      <td>3</td>\n",
       "      <td>203684844</td>\n",
       "      <td>201504</td>\n",
       "      <td>139812.0</td>\n",
       "      <td>0.0</td>\n",
       "      <td>94746.0</td>\n",
       "      <td>41119.0</td>\n",
       "      <td>212030.0</td>\n",
       "      <td>151230.0</td>\n",
       "      <td>0.0</td>\n",
       "      <td>0.0</td>\n",
       "      <td>0.0</td>\n",
       "      <td>0.0</td>\n",
       "      <td>0.0</td>\n",
       "      <td>115106.0</td>\n",
       "      <td>9699.0</td>\n",
       "      <td>0.0</td>\n",
       "      <td>196425.0</td>\n",
       "      <td>0.0</td>\n",
       "      <td>0.0</td>\n",
       "    </tr>\n",
       "    <tr>\n",
       "      <td>4</td>\n",
       "      <td>203684844</td>\n",
       "      <td>201601</td>\n",
       "      <td>216952.0</td>\n",
       "      <td>0.0</td>\n",
       "      <td>98957.0</td>\n",
       "      <td>48927.0</td>\n",
       "      <td>227896.0</td>\n",
       "      <td>190260.0</td>\n",
       "      <td>0.0</td>\n",
       "      <td>0.0</td>\n",
       "      <td>640.0</td>\n",
       "      <td>0.0</td>\n",
       "      <td>0.0</td>\n",
       "      <td>0.0</td>\n",
       "      <td>12337.0</td>\n",
       "      <td>0.0</td>\n",
       "      <td>384767.0</td>\n",
       "      <td>921.0</td>\n",
       "      <td>55731.0</td>\n",
       "    </tr>\n",
       "  </tbody>\n",
       "</table>\n",
       "</div>"
      ],
      "text/plain": [
       "BUSINESS_ENTITY  SAVM_GROUP_ID  year_quarter  BEval_Collaboration  \\\n",
       "0                    203684844        201501             119334.0   \n",
       "1                    203684844        201502             128078.0   \n",
       "2                    203684844        201503             130596.0   \n",
       "3                    203684844        201504             139812.0   \n",
       "4                    203684844        201601             216952.0   \n",
       "\n",
       "BUSINESS_ENTITY  BEval_Computing Systems  BEval_Data Center Networking  \\\n",
       "0                                    0.0                       38090.0   \n",
       "1                                    0.0                       55266.0   \n",
       "2                                    0.0                       55838.0   \n",
       "3                                    0.0                       94746.0   \n",
       "4                                    0.0                       98957.0   \n",
       "\n",
       "BUSINESS_ENTITY  BEval_Enterprise Routing  BEval_Enterprise Switching  \\\n",
       "0                                 25311.0                    189854.0   \n",
       "1                                 30152.0                    202279.0   \n",
       "2                                 34719.0                    208203.0   \n",
       "3                                 41119.0                    212030.0   \n",
       "4                                 48927.0                    227896.0   \n",
       "\n",
       "BUSINESS_ENTITY  BEval_IOT  BEval_Meraki  BEval_Monitoring and Analytics  \\\n",
       "0                  75843.0           0.0                             0.0   \n",
       "1                  92918.0           0.0                             0.0   \n",
       "2                 119178.0           0.0                             0.0   \n",
       "3                 151230.0           0.0                             0.0   \n",
       "4                 190260.0           0.0                             0.0   \n",
       "\n",
       "BUSINESS_ENTITY  BEval_Other  BEval_SP Video Infrastructure  \\\n",
       "0                        0.0                            0.0   \n",
       "1                        0.0                            0.0   \n",
       "2                        0.0                            0.0   \n",
       "3                        0.0                            0.0   \n",
       "4                      640.0                            0.0   \n",
       "\n",
       "BUSINESS_ENTITY  BEval_SP Video Software and Solutions  BEval_Security  \\\n",
       "0                                                  0.0         95778.0   \n",
       "1                                                  0.0        115130.0   \n",
       "2                                                  0.0             0.0   \n",
       "3                                                  0.0        115106.0   \n",
       "4                                                  0.0             0.0   \n",
       "\n",
       "BUSINESS_ENTITY  BEval_Service Provider Routing  BEval_Services ASS_L1  \\\n",
       "0                                        6156.0                    0.0   \n",
       "1                                        7989.0                    0.0   \n",
       "2                                        9015.0                    0.0   \n",
       "3                                        9699.0                    0.0   \n",
       "4                                       12337.0                    0.0   \n",
       "\n",
       "BUSINESS_ENTITY  BEval_Services TSS_L1  BEval_UNKNOWN  BEval_Wireless  \n",
       "0                             194914.0            0.0         10661.0  \n",
       "1                             196743.0            0.0         10546.0  \n",
       "2                             195766.0            0.0             0.0  \n",
       "3                             196425.0            0.0             0.0  \n",
       "4                             384767.0          921.0         55731.0  "
      ]
     },
     "execution_count": 129,
     "metadata": {},
     "output_type": "execute_result"
    }
   ],
   "source": [
    "df2_pivot.head()"
   ]
  },
  {
   "cell_type": "code",
   "execution_count": 130,
   "metadata": {},
   "outputs": [
    {
     "data": {
      "text/plain": [
       "(338930, 19)"
      ]
     },
     "execution_count": 130,
     "metadata": {},
     "output_type": "execute_result"
    }
   ],
   "source": [
    "df2_pivot.shape"
   ]
  },
  {
   "cell_type": "code",
   "execution_count": 131,
   "metadata": {},
   "outputs": [],
   "source": [
    "df_aggregated_1 = pd.merge(df_aggregated,df2_pivot,on=['SAVM_GROUP_ID','year_quarter'])"
   ]
  },
  {
   "cell_type": "code",
   "execution_count": 132,
   "metadata": {},
   "outputs": [
    {
     "data": {
      "text/plain": [
       "['SAVM_GROUP_ID',\n",
       " 'year_quarter',\n",
       " 'Vert_Education- Public/Private',\n",
       " 'Vert_Energy/Utilities',\n",
       " 'Vert_Financial Services',\n",
       " 'Vert_Government',\n",
       " 'Vert_Health Care',\n",
       " 'Vert_Hospitality/Hotels & Leisure',\n",
       " 'Vert_Manufacturing',\n",
       " 'Vert_Media/Entertainment',\n",
       " 'Vert_Professional Services',\n",
       " 'Vert_Retail',\n",
       " 'Vert_Service Provider',\n",
       " 'Vert_Technical Services',\n",
       " 'Vert_Transportation',\n",
       " 'Vert_Unknown',\n",
       " 'Vert_Wholesale/Distribution',\n",
       " 'BE_Collaboration',\n",
       " 'BE_Computing Systems',\n",
       " 'BE_Data Center Networking',\n",
       " 'BE_Enterprise Routing',\n",
       " 'BE_Enterprise Switching',\n",
       " 'BE_IOT',\n",
       " 'BE_Meraki',\n",
       " 'BE_Monitoring and Analytics',\n",
       " 'BE_Other',\n",
       " 'BE_SP Video Infrastructure',\n",
       " 'BE_SP Video Software and Solutions',\n",
       " 'BE_Security',\n",
       " 'BE_Service Provider Routing',\n",
       " 'BE_Services ASS_L1',\n",
       " 'BE_Services TSS_L1',\n",
       " 'BE_UNKNOWN',\n",
       " 'BE_Wireless',\n",
       " 'TENURE',\n",
       " 'PENETRATION',\n",
       " 'CUMM_BOOK_SAVM',\n",
       " 'AVG_REVENUE_VERT',\n",
       " 'DISCOUNT',\n",
       " 'DataCenter_TENURE',\n",
       " 'AVG_QUR_BOOKINGS',\n",
       " 'SITES',\n",
       " 'ACTIVE_3YEARS',\n",
       " 'BOUGHT_EY_BEFORE',\n",
       " 'DataCenterRevenue',\n",
       " 'DataCenter_Revenue_cumulative',\n",
       " 'DataCenter_Revenue_cumulative_last_year',\n",
       " 'shifted_savm_count',\n",
       " 'ACTUAL_BOOKINGS',\n",
       " 'QUANTITY',\n",
       " 'Seg_COMMERCIAL',\n",
       " 'Seg_ENTERPRISE',\n",
       " 'Seg_PUBLIC SECTOR',\n",
       " 'Seg_SERVICE PROVIDER',\n",
       " 'Seg_SMALL',\n",
       " 'BEval_Collaboration',\n",
       " 'BEval_Computing Systems',\n",
       " 'BEval_Data Center Networking',\n",
       " 'BEval_Enterprise Routing',\n",
       " 'BEval_Enterprise Switching',\n",
       " 'BEval_IOT',\n",
       " 'BEval_Meraki',\n",
       " 'BEval_Monitoring and Analytics',\n",
       " 'BEval_Other',\n",
       " 'BEval_SP Video Infrastructure',\n",
       " 'BEval_SP Video Software and Solutions',\n",
       " 'BEval_Security',\n",
       " 'BEval_Service Provider Routing',\n",
       " 'BEval_Services ASS_L1',\n",
       " 'BEval_Services TSS_L1',\n",
       " 'BEval_UNKNOWN',\n",
       " 'BEval_Wireless']"
      ]
     },
     "execution_count": 132,
     "metadata": {},
     "output_type": "execute_result"
    }
   ],
   "source": [
    "df_aggregated_1.columns.tolist()"
   ]
  },
  {
   "cell_type": "code",
   "execution_count": 133,
   "metadata": {},
   "outputs": [],
   "source": [
    "#df_aggregated_1.drop('BEval_Reco_Prod',axis=1,inplace=True)"
   ]
  },
  {
   "cell_type": "code",
   "execution_count": 134,
   "metadata": {},
   "outputs": [
    {
     "data": {
      "text/html": [
       "<div>\n",
       "<style scoped>\n",
       "    .dataframe tbody tr th:only-of-type {\n",
       "        vertical-align: middle;\n",
       "    }\n",
       "\n",
       "    .dataframe tbody tr th {\n",
       "        vertical-align: top;\n",
       "    }\n",
       "\n",
       "    .dataframe thead th {\n",
       "        text-align: right;\n",
       "    }\n",
       "</style>\n",
       "<table border=\"1\" class=\"dataframe\">\n",
       "  <thead>\n",
       "    <tr style=\"text-align: right;\">\n",
       "      <th></th>\n",
       "      <th>SAVM_GROUP_ID</th>\n",
       "      <th>year_quarter</th>\n",
       "      <th>Vert_Education- Public/Private</th>\n",
       "      <th>Vert_Energy/Utilities</th>\n",
       "      <th>Vert_Financial Services</th>\n",
       "      <th>Vert_Government</th>\n",
       "      <th>Vert_Health Care</th>\n",
       "      <th>Vert_Hospitality/Hotels &amp; Leisure</th>\n",
       "      <th>Vert_Manufacturing</th>\n",
       "      <th>Vert_Media/Entertainment</th>\n",
       "      <th>...</th>\n",
       "      <th>BEval_Monitoring and Analytics</th>\n",
       "      <th>BEval_Other</th>\n",
       "      <th>BEval_SP Video Infrastructure</th>\n",
       "      <th>BEval_SP Video Software and Solutions</th>\n",
       "      <th>BEval_Security</th>\n",
       "      <th>BEval_Service Provider Routing</th>\n",
       "      <th>BEval_Services ASS_L1</th>\n",
       "      <th>BEval_Services TSS_L1</th>\n",
       "      <th>BEval_UNKNOWN</th>\n",
       "      <th>BEval_Wireless</th>\n",
       "    </tr>\n",
       "  </thead>\n",
       "  <tbody>\n",
       "    <tr>\n",
       "      <td>0</td>\n",
       "      <td>203684844</td>\n",
       "      <td>201501</td>\n",
       "      <td>0</td>\n",
       "      <td>1</td>\n",
       "      <td>0</td>\n",
       "      <td>0</td>\n",
       "      <td>0</td>\n",
       "      <td>0</td>\n",
       "      <td>0</td>\n",
       "      <td>0</td>\n",
       "      <td>...</td>\n",
       "      <td>0.0</td>\n",
       "      <td>0.0</td>\n",
       "      <td>0.0</td>\n",
       "      <td>0.0</td>\n",
       "      <td>95778.0</td>\n",
       "      <td>6156.0</td>\n",
       "      <td>0.0</td>\n",
       "      <td>194914.0</td>\n",
       "      <td>0.0</td>\n",
       "      <td>10661.0</td>\n",
       "    </tr>\n",
       "    <tr>\n",
       "      <td>1</td>\n",
       "      <td>203684844</td>\n",
       "      <td>201502</td>\n",
       "      <td>0</td>\n",
       "      <td>1</td>\n",
       "      <td>0</td>\n",
       "      <td>0</td>\n",
       "      <td>0</td>\n",
       "      <td>0</td>\n",
       "      <td>0</td>\n",
       "      <td>0</td>\n",
       "      <td>...</td>\n",
       "      <td>0.0</td>\n",
       "      <td>0.0</td>\n",
       "      <td>0.0</td>\n",
       "      <td>0.0</td>\n",
       "      <td>115130.0</td>\n",
       "      <td>7989.0</td>\n",
       "      <td>0.0</td>\n",
       "      <td>196743.0</td>\n",
       "      <td>0.0</td>\n",
       "      <td>10546.0</td>\n",
       "    </tr>\n",
       "    <tr>\n",
       "      <td>2</td>\n",
       "      <td>203684844</td>\n",
       "      <td>201503</td>\n",
       "      <td>0</td>\n",
       "      <td>1</td>\n",
       "      <td>0</td>\n",
       "      <td>0</td>\n",
       "      <td>0</td>\n",
       "      <td>0</td>\n",
       "      <td>0</td>\n",
       "      <td>0</td>\n",
       "      <td>...</td>\n",
       "      <td>0.0</td>\n",
       "      <td>0.0</td>\n",
       "      <td>0.0</td>\n",
       "      <td>0.0</td>\n",
       "      <td>0.0</td>\n",
       "      <td>9015.0</td>\n",
       "      <td>0.0</td>\n",
       "      <td>195766.0</td>\n",
       "      <td>0.0</td>\n",
       "      <td>0.0</td>\n",
       "    </tr>\n",
       "    <tr>\n",
       "      <td>3</td>\n",
       "      <td>203684844</td>\n",
       "      <td>201504</td>\n",
       "      <td>0</td>\n",
       "      <td>1</td>\n",
       "      <td>0</td>\n",
       "      <td>0</td>\n",
       "      <td>0</td>\n",
       "      <td>0</td>\n",
       "      <td>0</td>\n",
       "      <td>0</td>\n",
       "      <td>...</td>\n",
       "      <td>0.0</td>\n",
       "      <td>0.0</td>\n",
       "      <td>0.0</td>\n",
       "      <td>0.0</td>\n",
       "      <td>115106.0</td>\n",
       "      <td>9699.0</td>\n",
       "      <td>0.0</td>\n",
       "      <td>196425.0</td>\n",
       "      <td>0.0</td>\n",
       "      <td>0.0</td>\n",
       "    </tr>\n",
       "    <tr>\n",
       "      <td>4</td>\n",
       "      <td>203684844</td>\n",
       "      <td>201601</td>\n",
       "      <td>0</td>\n",
       "      <td>1</td>\n",
       "      <td>0</td>\n",
       "      <td>0</td>\n",
       "      <td>0</td>\n",
       "      <td>0</td>\n",
       "      <td>0</td>\n",
       "      <td>0</td>\n",
       "      <td>...</td>\n",
       "      <td>0.0</td>\n",
       "      <td>640.0</td>\n",
       "      <td>0.0</td>\n",
       "      <td>0.0</td>\n",
       "      <td>0.0</td>\n",
       "      <td>12337.0</td>\n",
       "      <td>0.0</td>\n",
       "      <td>384767.0</td>\n",
       "      <td>921.0</td>\n",
       "      <td>55731.0</td>\n",
       "    </tr>\n",
       "  </tbody>\n",
       "</table>\n",
       "<p>5 rows × 72 columns</p>\n",
       "</div>"
      ],
      "text/plain": [
       "   SAVM_GROUP_ID  year_quarter  Vert_Education- Public/Private  \\\n",
       "0      203684844        201501                               0   \n",
       "1      203684844        201502                               0   \n",
       "2      203684844        201503                               0   \n",
       "3      203684844        201504                               0   \n",
       "4      203684844        201601                               0   \n",
       "\n",
       "   Vert_Energy/Utilities  Vert_Financial Services  Vert_Government  \\\n",
       "0                      1                        0                0   \n",
       "1                      1                        0                0   \n",
       "2                      1                        0                0   \n",
       "3                      1                        0                0   \n",
       "4                      1                        0                0   \n",
       "\n",
       "   Vert_Health Care  Vert_Hospitality/Hotels & Leisure  Vert_Manufacturing  \\\n",
       "0                 0                                  0                   0   \n",
       "1                 0                                  0                   0   \n",
       "2                 0                                  0                   0   \n",
       "3                 0                                  0                   0   \n",
       "4                 0                                  0                   0   \n",
       "\n",
       "   Vert_Media/Entertainment  ...  BEval_Monitoring and Analytics  BEval_Other  \\\n",
       "0                         0  ...                             0.0          0.0   \n",
       "1                         0  ...                             0.0          0.0   \n",
       "2                         0  ...                             0.0          0.0   \n",
       "3                         0  ...                             0.0          0.0   \n",
       "4                         0  ...                             0.0        640.0   \n",
       "\n",
       "   BEval_SP Video Infrastructure  BEval_SP Video Software and Solutions  \\\n",
       "0                            0.0                                    0.0   \n",
       "1                            0.0                                    0.0   \n",
       "2                            0.0                                    0.0   \n",
       "3                            0.0                                    0.0   \n",
       "4                            0.0                                    0.0   \n",
       "\n",
       "   BEval_Security  BEval_Service Provider Routing  BEval_Services ASS_L1  \\\n",
       "0         95778.0                          6156.0                    0.0   \n",
       "1        115130.0                          7989.0                    0.0   \n",
       "2             0.0                          9015.0                    0.0   \n",
       "3        115106.0                          9699.0                    0.0   \n",
       "4             0.0                         12337.0                    0.0   \n",
       "\n",
       "   BEval_Services TSS_L1  BEval_UNKNOWN  BEval_Wireless  \n",
       "0               194914.0            0.0         10661.0  \n",
       "1               196743.0            0.0         10546.0  \n",
       "2               195766.0            0.0             0.0  \n",
       "3               196425.0            0.0             0.0  \n",
       "4               384767.0          921.0         55731.0  \n",
       "\n",
       "[5 rows x 72 columns]"
      ]
     },
     "execution_count": 134,
     "metadata": {},
     "output_type": "execute_result"
    }
   ],
   "source": [
    "df_aggregated_1.head()\n"
   ]
  },
  {
   "cell_type": "code",
   "execution_count": 135,
   "metadata": {},
   "outputs": [],
   "source": [
    "df_aggregated_final=df_aggregated_1.groupby(['SAVM_GROUP_ID']).apply(lambda x: x.sort_values('year_quarter',ascending=True))"
   ]
  },
  {
   "cell_type": "code",
   "execution_count": 136,
   "metadata": {},
   "outputs": [],
   "source": [
    "df_aggregated_final.reset_index(inplace=True,drop=True)"
   ]
  },
  {
   "cell_type": "code",
   "execution_count": 137,
   "metadata": {},
   "outputs": [
    {
     "data": {
      "text/plain": [
       "(338930, 72)"
      ]
     },
     "execution_count": 137,
     "metadata": {},
     "output_type": "execute_result"
    }
   ],
   "source": [
    "df_aggregated_final.shape"
   ]
  },
  {
   "cell_type": "code",
   "execution_count": 138,
   "metadata": {},
   "outputs": [],
   "source": [
    "def insert_rows(data):\n",
    "    a = data.year_quarter.unique()\n",
    "    b = data.SAVM_GROUP_ID.unique()\n",
    "    dt1 = pd.MultiIndex.from_product([b,a ]).to_frame(index=False, name=['SAVM_GROUP_ID','year_quarter'])\n",
    "    dt2 = dt1.merge(data.groupby('SAVM_GROUP_ID').agg({'year_quarter':'min'}).reset_index(),how = 'left',on='SAVM_GROUP_ID')\n",
    "    dt3 = dt2[dt2.year_quarter_x >=dt2.year_quarter_y][['SAVM_GROUP_ID','year_quarter_x']]\n",
    "    dt4 = dt3.merge(data.groupby('SAVM_GROUP_ID').agg({'year_quarter':'max'}).reset_index(),how = 'left',on='SAVM_GROUP_ID')\n",
    "    dt5 = dt4[dt4.year_quarter_x <=dt4.year_quarter][['SAVM_GROUP_ID','year_quarter_x']]\n",
    "    dt5.columns = ['SAVM_GROUP_ID','year_quarter']\n",
    "    dt = dt5.merge(data,how='left',on=['SAVM_GROUP_ID','year_quarter'])\n",
    "    dt = dt.sort_values(['SAVM_GROUP_ID','year_quarter'], axis = 0, ascending = True) \n",
    "    dt = dt.fillna(0)\n",
    "    return dt"
   ]
  },
  {
   "cell_type": "code",
   "execution_count": 139,
   "metadata": {},
   "outputs": [],
   "source": [
    "df_aggregated_inserted = insert_rows(df_aggregated_final)"
   ]
  },
  {
   "cell_type": "code",
   "execution_count": 140,
   "metadata": {},
   "outputs": [],
   "source": [
    "#df_aggregated_inserted.SAV"
   ]
  },
  {
   "cell_type": "code",
   "execution_count": 141,
   "metadata": {},
   "outputs": [],
   "source": [
    "#df_aggregated_inserted.drop('SAVM_GROUP_ID',axis=1,inplace=True)"
   ]
  },
  {
   "cell_type": "code",
   "execution_count": 142,
   "metadata": {},
   "outputs": [
    {
     "data": {
      "text/plain": [
       "(386005, 72)"
      ]
     },
     "execution_count": 142,
     "metadata": {},
     "output_type": "execute_result"
    }
   ],
   "source": [
    "df_aggregated_inserted.shape"
   ]
  },
  {
   "cell_type": "code",
   "execution_count": 143,
   "metadata": {},
   "outputs": [
    {
     "data": {
      "text/plain": [
       "19839"
      ]
     },
     "execution_count": 143,
     "metadata": {},
     "output_type": "execute_result"
    }
   ],
   "source": [
    "df_aggregated_inserted.SAVM_GROUP_ID.nunique()"
   ]
  },
  {
   "cell_type": "code",
   "execution_count": 144,
   "metadata": {},
   "outputs": [],
   "source": [
    "# df_aggregated_inserted.reset_index(inplace=True)"
   ]
  },
  {
   "cell_type": "code",
   "execution_count": 145,
   "metadata": {},
   "outputs": [
    {
     "data": {
      "text/html": [
       "<div>\n",
       "<style scoped>\n",
       "    .dataframe tbody tr th:only-of-type {\n",
       "        vertical-align: middle;\n",
       "    }\n",
       "\n",
       "    .dataframe tbody tr th {\n",
       "        vertical-align: top;\n",
       "    }\n",
       "\n",
       "    .dataframe thead th {\n",
       "        text-align: right;\n",
       "    }\n",
       "</style>\n",
       "<table border=\"1\" class=\"dataframe\">\n",
       "  <thead>\n",
       "    <tr style=\"text-align: right;\">\n",
       "      <th></th>\n",
       "      <th>SAVM_GROUP_ID</th>\n",
       "      <th>year_quarter</th>\n",
       "      <th>Vert_Education- Public/Private</th>\n",
       "      <th>Vert_Energy/Utilities</th>\n",
       "      <th>Vert_Financial Services</th>\n",
       "      <th>Vert_Government</th>\n",
       "      <th>Vert_Health Care</th>\n",
       "      <th>Vert_Hospitality/Hotels &amp; Leisure</th>\n",
       "      <th>Vert_Manufacturing</th>\n",
       "      <th>Vert_Media/Entertainment</th>\n",
       "      <th>...</th>\n",
       "      <th>BEval_Monitoring and Analytics</th>\n",
       "      <th>BEval_Other</th>\n",
       "      <th>BEval_SP Video Infrastructure</th>\n",
       "      <th>BEval_SP Video Software and Solutions</th>\n",
       "      <th>BEval_Security</th>\n",
       "      <th>BEval_Service Provider Routing</th>\n",
       "      <th>BEval_Services ASS_L1</th>\n",
       "      <th>BEval_Services TSS_L1</th>\n",
       "      <th>BEval_UNKNOWN</th>\n",
       "      <th>BEval_Wireless</th>\n",
       "    </tr>\n",
       "  </thead>\n",
       "  <tbody>\n",
       "    <tr>\n",
       "      <td>0</td>\n",
       "      <td>203684844</td>\n",
       "      <td>201501</td>\n",
       "      <td>0.0</td>\n",
       "      <td>1.0</td>\n",
       "      <td>0.0</td>\n",
       "      <td>0.0</td>\n",
       "      <td>0.0</td>\n",
       "      <td>0.0</td>\n",
       "      <td>0.0</td>\n",
       "      <td>0.0</td>\n",
       "      <td>...</td>\n",
       "      <td>0.0</td>\n",
       "      <td>0.0</td>\n",
       "      <td>0.0</td>\n",
       "      <td>0.0</td>\n",
       "      <td>95778.0</td>\n",
       "      <td>6156.0</td>\n",
       "      <td>0.0</td>\n",
       "      <td>194914.0</td>\n",
       "      <td>0.0</td>\n",
       "      <td>10661.0</td>\n",
       "    </tr>\n",
       "    <tr>\n",
       "      <td>1</td>\n",
       "      <td>203684844</td>\n",
       "      <td>201502</td>\n",
       "      <td>0.0</td>\n",
       "      <td>1.0</td>\n",
       "      <td>0.0</td>\n",
       "      <td>0.0</td>\n",
       "      <td>0.0</td>\n",
       "      <td>0.0</td>\n",
       "      <td>0.0</td>\n",
       "      <td>0.0</td>\n",
       "      <td>...</td>\n",
       "      <td>0.0</td>\n",
       "      <td>0.0</td>\n",
       "      <td>0.0</td>\n",
       "      <td>0.0</td>\n",
       "      <td>115130.0</td>\n",
       "      <td>7989.0</td>\n",
       "      <td>0.0</td>\n",
       "      <td>196743.0</td>\n",
       "      <td>0.0</td>\n",
       "      <td>10546.0</td>\n",
       "    </tr>\n",
       "    <tr>\n",
       "      <td>2</td>\n",
       "      <td>203684844</td>\n",
       "      <td>201503</td>\n",
       "      <td>0.0</td>\n",
       "      <td>1.0</td>\n",
       "      <td>0.0</td>\n",
       "      <td>0.0</td>\n",
       "      <td>0.0</td>\n",
       "      <td>0.0</td>\n",
       "      <td>0.0</td>\n",
       "      <td>0.0</td>\n",
       "      <td>...</td>\n",
       "      <td>0.0</td>\n",
       "      <td>0.0</td>\n",
       "      <td>0.0</td>\n",
       "      <td>0.0</td>\n",
       "      <td>0.0</td>\n",
       "      <td>9015.0</td>\n",
       "      <td>0.0</td>\n",
       "      <td>195766.0</td>\n",
       "      <td>0.0</td>\n",
       "      <td>0.0</td>\n",
       "    </tr>\n",
       "    <tr>\n",
       "      <td>3</td>\n",
       "      <td>203684844</td>\n",
       "      <td>201504</td>\n",
       "      <td>0.0</td>\n",
       "      <td>1.0</td>\n",
       "      <td>0.0</td>\n",
       "      <td>0.0</td>\n",
       "      <td>0.0</td>\n",
       "      <td>0.0</td>\n",
       "      <td>0.0</td>\n",
       "      <td>0.0</td>\n",
       "      <td>...</td>\n",
       "      <td>0.0</td>\n",
       "      <td>0.0</td>\n",
       "      <td>0.0</td>\n",
       "      <td>0.0</td>\n",
       "      <td>115106.0</td>\n",
       "      <td>9699.0</td>\n",
       "      <td>0.0</td>\n",
       "      <td>196425.0</td>\n",
       "      <td>0.0</td>\n",
       "      <td>0.0</td>\n",
       "    </tr>\n",
       "    <tr>\n",
       "      <td>4</td>\n",
       "      <td>203684844</td>\n",
       "      <td>201601</td>\n",
       "      <td>0.0</td>\n",
       "      <td>1.0</td>\n",
       "      <td>0.0</td>\n",
       "      <td>0.0</td>\n",
       "      <td>0.0</td>\n",
       "      <td>0.0</td>\n",
       "      <td>0.0</td>\n",
       "      <td>0.0</td>\n",
       "      <td>...</td>\n",
       "      <td>0.0</td>\n",
       "      <td>640.0</td>\n",
       "      <td>0.0</td>\n",
       "      <td>0.0</td>\n",
       "      <td>0.0</td>\n",
       "      <td>12337.0</td>\n",
       "      <td>0.0</td>\n",
       "      <td>384767.0</td>\n",
       "      <td>921.0</td>\n",
       "      <td>55731.0</td>\n",
       "    </tr>\n",
       "  </tbody>\n",
       "</table>\n",
       "<p>5 rows × 72 columns</p>\n",
       "</div>"
      ],
      "text/plain": [
       "   SAVM_GROUP_ID  year_quarter  Vert_Education- Public/Private  \\\n",
       "0      203684844        201501                             0.0   \n",
       "1      203684844        201502                             0.0   \n",
       "2      203684844        201503                             0.0   \n",
       "3      203684844        201504                             0.0   \n",
       "4      203684844        201601                             0.0   \n",
       "\n",
       "   Vert_Energy/Utilities  Vert_Financial Services  Vert_Government  \\\n",
       "0                    1.0                      0.0              0.0   \n",
       "1                    1.0                      0.0              0.0   \n",
       "2                    1.0                      0.0              0.0   \n",
       "3                    1.0                      0.0              0.0   \n",
       "4                    1.0                      0.0              0.0   \n",
       "\n",
       "   Vert_Health Care  Vert_Hospitality/Hotels & Leisure  Vert_Manufacturing  \\\n",
       "0               0.0                                0.0                 0.0   \n",
       "1               0.0                                0.0                 0.0   \n",
       "2               0.0                                0.0                 0.0   \n",
       "3               0.0                                0.0                 0.0   \n",
       "4               0.0                                0.0                 0.0   \n",
       "\n",
       "   Vert_Media/Entertainment  ...  BEval_Monitoring and Analytics  BEval_Other  \\\n",
       "0                       0.0  ...                             0.0          0.0   \n",
       "1                       0.0  ...                             0.0          0.0   \n",
       "2                       0.0  ...                             0.0          0.0   \n",
       "3                       0.0  ...                             0.0          0.0   \n",
       "4                       0.0  ...                             0.0        640.0   \n",
       "\n",
       "   BEval_SP Video Infrastructure  BEval_SP Video Software and Solutions  \\\n",
       "0                            0.0                                    0.0   \n",
       "1                            0.0                                    0.0   \n",
       "2                            0.0                                    0.0   \n",
       "3                            0.0                                    0.0   \n",
       "4                            0.0                                    0.0   \n",
       "\n",
       "   BEval_Security  BEval_Service Provider Routing  BEval_Services ASS_L1  \\\n",
       "0         95778.0                          6156.0                    0.0   \n",
       "1        115130.0                          7989.0                    0.0   \n",
       "2             0.0                          9015.0                    0.0   \n",
       "3        115106.0                          9699.0                    0.0   \n",
       "4             0.0                         12337.0                    0.0   \n",
       "\n",
       "   BEval_Services TSS_L1  BEval_UNKNOWN  BEval_Wireless  \n",
       "0               194914.0            0.0         10661.0  \n",
       "1               196743.0            0.0         10546.0  \n",
       "2               195766.0            0.0             0.0  \n",
       "3               196425.0            0.0             0.0  \n",
       "4               384767.0          921.0         55731.0  \n",
       "\n",
       "[5 rows x 72 columns]"
      ]
     },
     "execution_count": 145,
     "metadata": {},
     "output_type": "execute_result"
    }
   ],
   "source": [
    "df_aggregated_inserted.head()"
   ]
  },
  {
   "cell_type": "code",
   "execution_count": 146,
   "metadata": {},
   "outputs": [],
   "source": [
    "df_aggregated_inserted['BE_Reco_Prod']= 0"
   ]
  },
  {
   "cell_type": "code",
   "execution_count": 147,
   "metadata": {},
   "outputs": [],
   "source": [
    "beval_columns=[col for col in df_aggregated_inserted if col.startswith('BEval_')]"
   ]
  },
  {
   "cell_type": "code",
   "execution_count": 148,
   "metadata": {},
   "outputs": [],
   "source": [
    "# df_aggregated_inserted.columns.tolist()"
   ]
  },
  {
   "cell_type": "code",
   "execution_count": 149,
   "metadata": {},
   "outputs": [],
   "source": [
    "df_aggregated_inserted['Rank_'] = df_aggregated_inserted.groupby(['SAVM_GROUP_ID'])['year_quarter'].rank(method='dense',ascending = False)"
   ]
  },
  {
   "cell_type": "code",
   "execution_count": 150,
   "metadata": {},
   "outputs": [],
   "source": [
    "df_aggregated_inserted = df_aggregated_inserted.loc[df_aggregated_inserted.Rank_<=3,:]"
   ]
  },
  {
   "cell_type": "code",
   "execution_count": 151,
   "metadata": {},
   "outputs": [],
   "source": [
    "df_aggregated_inserted.drop('Rank_',axis=1,inplace=True)"
   ]
  },
  {
   "cell_type": "code",
   "execution_count": 153,
   "metadata": {},
   "outputs": [],
   "source": [
    "train_columns = pd.read_csv('Train_data_center.csv')"
   ]
  },
  {
   "cell_type": "code",
   "execution_count": 154,
   "metadata": {},
   "outputs": [
    {
     "data": {
      "text/plain": [
       "Index(['Unnamed: 0', 'Vert_Education- Public/Privatet_0',\n",
       "       'Vert_Energy/Utilitiest_0', 'Vert_Financial Servicest_0',\n",
       "       'Vert_Governmentt_0', 'Vert_Health Caret_0',\n",
       "       'Vert_Hospitality/Hotels & Leisuret_0', 'Vert_Manufacturingt_0',\n",
       "       'Vert_Media/Entertainmentt_0', 'Vert_Professional Servicest_0',\n",
       "       ...\n",
       "       'BEval_Othert_2', 'BEval_SP Video Infrastructuret_2',\n",
       "       'BEval_SP Video Software and Solutionst_2', 'BEval_Securityt_2',\n",
       "       'BEval_Service Provider Routingt_2', 'BEval_Services ASS_L1t_2',\n",
       "       'BEval_Services TSS_L1t_2', 'BEval_UNKNOWNt_2', 'BEval_Wirelesst_2',\n",
       "       'BE_Reco_Prod_t'],\n",
       "      dtype='object', length=209)"
      ]
     },
     "execution_count": 154,
     "metadata": {},
     "output_type": "execute_result"
    }
   ],
   "source": [
    "train_columns.columns"
   ]
  },
  {
   "cell_type": "code",
   "execution_count": 155,
   "metadata": {},
   "outputs": [],
   "source": [
    "del train_columns['Unnamed: 0']\n",
    "tr_columns = train_columns.columns.tolist()\n",
    "tr_columns = pd.DataFrame(tr_columns,columns=['Features'])\n",
    "tr_columns = tr_columns[tr_columns['Features'].str.contains('_2')].reset_index(drop=True)\n",
    "tr_columns['Features']=tr_columns['Features'].str[:-3]\n"
   ]
  },
  {
   "cell_type": "code",
   "execution_count": 156,
   "metadata": {},
   "outputs": [],
   "source": [
    "tr_columns= tr_columns['Features'].tolist()\n",
    "tr_columns.insert(0,'SAVM_GROUP_ID')\n",
    "tr_columns.insert(1,'year_quarter')\n",
    "len(tr_columns)\n",
    "l_prev = tr_columns\n"
   ]
  },
  {
   "cell_type": "code",
   "execution_count": 157,
   "metadata": {},
   "outputs": [],
   "source": [
    "# prev not there and now it is there:\n",
    "cols = [col for col in df_aggregated_inserted.columns if col not in l_prev]\n",
    "df_aggregated_inserted.drop(cols,axis=1,inplace=True)"
   ]
  },
  {
   "cell_type": "code",
   "execution_count": 158,
   "metadata": {},
   "outputs": [],
   "source": [
    "#prev it is there and now it is not there:\n",
    "cols = [col for col in l_prev if col not in df_aggregated_inserted]\n",
    "for col in cols:\n",
    "    df_aggregated_inserted[col] = 0"
   ]
  },
  {
   "cell_type": "code",
   "execution_count": 159,
   "metadata": {},
   "outputs": [],
   "source": [
    "#ordering the dataframe\n",
    "df_aggregated_inserted=df_aggregated_inserted[l_prev]\n"
   ]
  },
  {
   "cell_type": "code",
   "execution_count": 160,
   "metadata": {},
   "outputs": [
    {
     "data": {
      "text/html": [
       "<div>\n",
       "<style scoped>\n",
       "    .dataframe tbody tr th:only-of-type {\n",
       "        vertical-align: middle;\n",
       "    }\n",
       "\n",
       "    .dataframe tbody tr th {\n",
       "        vertical-align: top;\n",
       "    }\n",
       "\n",
       "    .dataframe thead th {\n",
       "        text-align: right;\n",
       "    }\n",
       "</style>\n",
       "<table border=\"1\" class=\"dataframe\">\n",
       "  <thead>\n",
       "    <tr style=\"text-align: right;\">\n",
       "      <th></th>\n",
       "      <th>SAVM_GROUP_ID</th>\n",
       "      <th>year_quarter</th>\n",
       "      <th>Vert_Education- Public/Private</th>\n",
       "      <th>Vert_Energy/Utilities</th>\n",
       "      <th>Vert_Financial Services</th>\n",
       "      <th>Vert_Government</th>\n",
       "      <th>Vert_Health Care</th>\n",
       "      <th>Vert_Hospitality/Hotels &amp; Leisure</th>\n",
       "      <th>Vert_Manufacturing</th>\n",
       "      <th>Vert_Media/Entertainment</th>\n",
       "      <th>...</th>\n",
       "      <th>BEval_Monitoring and Analytics</th>\n",
       "      <th>BEval_Other</th>\n",
       "      <th>BEval_SP Video Infrastructure</th>\n",
       "      <th>BEval_SP Video Software and Solutions</th>\n",
       "      <th>BEval_Security</th>\n",
       "      <th>BEval_Service Provider Routing</th>\n",
       "      <th>BEval_Services ASS_L1</th>\n",
       "      <th>BEval_Services TSS_L1</th>\n",
       "      <th>BEval_UNKNOWN</th>\n",
       "      <th>BEval_Wireless</th>\n",
       "    </tr>\n",
       "  </thead>\n",
       "  <tbody>\n",
       "    <tr>\n",
       "      <td>20</td>\n",
       "      <td>203684844</td>\n",
       "      <td>202001</td>\n",
       "      <td>0.0</td>\n",
       "      <td>1.0</td>\n",
       "      <td>0.0</td>\n",
       "      <td>0.0</td>\n",
       "      <td>0.0</td>\n",
       "      <td>0.0</td>\n",
       "      <td>0.0</td>\n",
       "      <td>0.0</td>\n",
       "      <td>...</td>\n",
       "      <td>0.0</td>\n",
       "      <td>2120.0</td>\n",
       "      <td>0.0</td>\n",
       "      <td>0.0</td>\n",
       "      <td>0.0</td>\n",
       "      <td>51492.0</td>\n",
       "      <td>0.0</td>\n",
       "      <td>1636538.0</td>\n",
       "      <td>0.0</td>\n",
       "      <td>0.0</td>\n",
       "    </tr>\n",
       "    <tr>\n",
       "      <td>21</td>\n",
       "      <td>203684844</td>\n",
       "      <td>202002</td>\n",
       "      <td>0.0</td>\n",
       "      <td>1.0</td>\n",
       "      <td>0.0</td>\n",
       "      <td>0.0</td>\n",
       "      <td>0.0</td>\n",
       "      <td>0.0</td>\n",
       "      <td>0.0</td>\n",
       "      <td>0.0</td>\n",
       "      <td>...</td>\n",
       "      <td>0.0</td>\n",
       "      <td>0.0</td>\n",
       "      <td>0.0</td>\n",
       "      <td>0.0</td>\n",
       "      <td>358049.0</td>\n",
       "      <td>51677.0</td>\n",
       "      <td>0.0</td>\n",
       "      <td>1718495.0</td>\n",
       "      <td>0.0</td>\n",
       "      <td>99936.0</td>\n",
       "    </tr>\n",
       "    <tr>\n",
       "      <td>22</td>\n",
       "      <td>203684844</td>\n",
       "      <td>202003</td>\n",
       "      <td>0.0</td>\n",
       "      <td>1.0</td>\n",
       "      <td>0.0</td>\n",
       "      <td>0.0</td>\n",
       "      <td>0.0</td>\n",
       "      <td>0.0</td>\n",
       "      <td>0.0</td>\n",
       "      <td>0.0</td>\n",
       "      <td>...</td>\n",
       "      <td>0.0</td>\n",
       "      <td>0.0</td>\n",
       "      <td>0.0</td>\n",
       "      <td>0.0</td>\n",
       "      <td>0.0</td>\n",
       "      <td>0.0</td>\n",
       "      <td>0.0</td>\n",
       "      <td>1757043.0</td>\n",
       "      <td>0.0</td>\n",
       "      <td>0.0</td>\n",
       "    </tr>\n",
       "    <tr>\n",
       "      <td>43</td>\n",
       "      <td>203684845</td>\n",
       "      <td>202001</td>\n",
       "      <td>0.0</td>\n",
       "      <td>0.0</td>\n",
       "      <td>0.0</td>\n",
       "      <td>0.0</td>\n",
       "      <td>1.0</td>\n",
       "      <td>0.0</td>\n",
       "      <td>0.0</td>\n",
       "      <td>0.0</td>\n",
       "      <td>...</td>\n",
       "      <td>0.0</td>\n",
       "      <td>0.0</td>\n",
       "      <td>0.0</td>\n",
       "      <td>0.0</td>\n",
       "      <td>125234.0</td>\n",
       "      <td>61565.0</td>\n",
       "      <td>0.0</td>\n",
       "      <td>4692604.0</td>\n",
       "      <td>0.0</td>\n",
       "      <td>3140511.0</td>\n",
       "    </tr>\n",
       "    <tr>\n",
       "      <td>44</td>\n",
       "      <td>203684845</td>\n",
       "      <td>202002</td>\n",
       "      <td>0.0</td>\n",
       "      <td>0.0</td>\n",
       "      <td>0.0</td>\n",
       "      <td>0.0</td>\n",
       "      <td>1.0</td>\n",
       "      <td>0.0</td>\n",
       "      <td>0.0</td>\n",
       "      <td>0.0</td>\n",
       "      <td>...</td>\n",
       "      <td>0.0</td>\n",
       "      <td>0.0</td>\n",
       "      <td>0.0</td>\n",
       "      <td>0.0</td>\n",
       "      <td>125234.0</td>\n",
       "      <td>0.0</td>\n",
       "      <td>0.0</td>\n",
       "      <td>4729292.0</td>\n",
       "      <td>0.0</td>\n",
       "      <td>3140511.0</td>\n",
       "    </tr>\n",
       "  </tbody>\n",
       "</table>\n",
       "<p>5 rows × 71 columns</p>\n",
       "</div>"
      ],
      "text/plain": [
       "    SAVM_GROUP_ID  year_quarter  Vert_Education- Public/Private  \\\n",
       "20      203684844        202001                             0.0   \n",
       "21      203684844        202002                             0.0   \n",
       "22      203684844        202003                             0.0   \n",
       "43      203684845        202001                             0.0   \n",
       "44      203684845        202002                             0.0   \n",
       "\n",
       "    Vert_Energy/Utilities  Vert_Financial Services  Vert_Government  \\\n",
       "20                    1.0                      0.0              0.0   \n",
       "21                    1.0                      0.0              0.0   \n",
       "22                    1.0                      0.0              0.0   \n",
       "43                    0.0                      0.0              0.0   \n",
       "44                    0.0                      0.0              0.0   \n",
       "\n",
       "    Vert_Health Care  Vert_Hospitality/Hotels & Leisure  Vert_Manufacturing  \\\n",
       "20               0.0                                0.0                 0.0   \n",
       "21               0.0                                0.0                 0.0   \n",
       "22               0.0                                0.0                 0.0   \n",
       "43               1.0                                0.0                 0.0   \n",
       "44               1.0                                0.0                 0.0   \n",
       "\n",
       "    Vert_Media/Entertainment  ...  BEval_Monitoring and Analytics  \\\n",
       "20                       0.0  ...                             0.0   \n",
       "21                       0.0  ...                             0.0   \n",
       "22                       0.0  ...                             0.0   \n",
       "43                       0.0  ...                             0.0   \n",
       "44                       0.0  ...                             0.0   \n",
       "\n",
       "    BEval_Other  BEval_SP Video Infrastructure  \\\n",
       "20       2120.0                            0.0   \n",
       "21          0.0                            0.0   \n",
       "22          0.0                            0.0   \n",
       "43          0.0                            0.0   \n",
       "44          0.0                            0.0   \n",
       "\n",
       "    BEval_SP Video Software and Solutions  BEval_Security  \\\n",
       "20                                    0.0             0.0   \n",
       "21                                    0.0        358049.0   \n",
       "22                                    0.0             0.0   \n",
       "43                                    0.0        125234.0   \n",
       "44                                    0.0        125234.0   \n",
       "\n",
       "    BEval_Service Provider Routing  BEval_Services ASS_L1  \\\n",
       "20                         51492.0                    0.0   \n",
       "21                         51677.0                    0.0   \n",
       "22                             0.0                    0.0   \n",
       "43                         61565.0                    0.0   \n",
       "44                             0.0                    0.0   \n",
       "\n",
       "    BEval_Services TSS_L1  BEval_UNKNOWN  BEval_Wireless  \n",
       "20              1636538.0            0.0             0.0  \n",
       "21              1718495.0            0.0         99936.0  \n",
       "22              1757043.0            0.0             0.0  \n",
       "43              4692604.0            0.0       3140511.0  \n",
       "44              4729292.0            0.0       3140511.0  \n",
       "\n",
       "[5 rows x 71 columns]"
      ]
     },
     "execution_count": 160,
     "metadata": {},
     "output_type": "execute_result"
    }
   ],
   "source": [
    "df_aggregated_inserted.head()"
   ]
  },
  {
   "cell_type": "code",
   "execution_count": 161,
   "metadata": {},
   "outputs": [
    {
     "data": {
      "text/plain": [
       "['SAVM_GROUP_ID',\n",
       " 'year_quarter',\n",
       " 'Vert_Education- Public/Private',\n",
       " 'Vert_Energy/Utilities',\n",
       " 'Vert_Financial Services',\n",
       " 'Vert_Government',\n",
       " 'Vert_Health Care',\n",
       " 'Vert_Hospitality/Hotels & Leisure',\n",
       " 'Vert_Manufacturing',\n",
       " 'Vert_Media/Entertainment',\n",
       " 'Vert_Professional Services',\n",
       " 'Vert_Retail',\n",
       " 'Vert_Service Provider',\n",
       " 'Vert_Technical Services',\n",
       " 'Vert_Transportation',\n",
       " 'Vert_Unknown',\n",
       " 'Vert_Wholesale/Distribution',\n",
       " 'BE_Collaboration',\n",
       " 'BE_Computing Systems',\n",
       " 'BE_Data Center Networking',\n",
       " 'BE_Enterprise Routing',\n",
       " 'BE_Enterprise Switching',\n",
       " 'BE_IOT',\n",
       " 'BE_Meraki',\n",
       " 'BE_Monitoring and Analytics',\n",
       " 'BE_Other',\n",
       " 'BE_SP Video Infrastructure',\n",
       " 'BE_SP Video Software and Solutions',\n",
       " 'BE_Security',\n",
       " 'BE_Service Provider Routing',\n",
       " 'BE_Services ASS_L1',\n",
       " 'BE_Services TSS_L1',\n",
       " 'BE_UNKNOWN',\n",
       " 'BE_Wireless',\n",
       " 'TENURE',\n",
       " 'PENETRATION',\n",
       " 'CUMM_BOOK_SAVM',\n",
       " 'AVG_REVENUE_VERT',\n",
       " 'DISCOUNT',\n",
       " 'AVG_QUR_BOOKINGS',\n",
       " 'SITES',\n",
       " 'ACTIVE_3YEARS',\n",
       " 'BOUGHT_EY_BEFORE',\n",
       " 'DataCenterRevenue',\n",
       " 'DataCenter_Revenue_cumulative',\n",
       " 'DataCenter_Revenue_cumulative_last_year',\n",
       " 'DataCenter_TENURE',\n",
       " 'shifted_savm_count',\n",
       " 'ACTUAL_BOOKINGS',\n",
       " 'QUANTITY',\n",
       " 'Seg_COMMERCIAL',\n",
       " 'Seg_ENTERPRISE',\n",
       " 'Seg_PUBLIC SECTOR',\n",
       " 'Seg_SERVICE PROVIDER',\n",
       " 'BEval_Collaboration',\n",
       " 'BEval_Computing Systems',\n",
       " 'BEval_Data Center Networking',\n",
       " 'BEval_Enterprise Routing',\n",
       " 'BEval_Enterprise Switching',\n",
       " 'BEval_IOT',\n",
       " 'BEval_Meraki',\n",
       " 'BEval_Monitoring and Analytics',\n",
       " 'BEval_Other',\n",
       " 'BEval_SP Video Infrastructure',\n",
       " 'BEval_SP Video Software and Solutions',\n",
       " 'BEval_Security',\n",
       " 'BEval_Service Provider Routing',\n",
       " 'BEval_Services ASS_L1',\n",
       " 'BEval_Services TSS_L1',\n",
       " 'BEval_UNKNOWN',\n",
       " 'BEval_Wireless']"
      ]
     },
     "execution_count": 161,
     "metadata": {},
     "output_type": "execute_result"
    }
   ],
   "source": [
    "df_aggregated_inserted.columns.tolist()"
   ]
  },
  {
   "cell_type": "code",
   "execution_count": 162,
   "metadata": {},
   "outputs": [],
   "source": [
    "#df_aggregated_inserted.to_csv('df_aggregated_inserted_SERVICEPROVIDER_Switching.csv')"
   ]
  },
  {
   "cell_type": "code",
   "execution_count": 163,
   "metadata": {},
   "outputs": [
    {
     "data": {
      "text/plain": [
       "(59126, 71)"
      ]
     },
     "execution_count": 163,
     "metadata": {},
     "output_type": "execute_result"
    }
   ],
   "source": [
    "df_aggregated_inserted.shape"
   ]
  },
  {
   "cell_type": "code",
   "execution_count": 164,
   "metadata": {},
   "outputs": [],
   "source": [
    "before = df_aggregated_inserted['SAVM_GROUP_ID'].unique().tolist()"
   ]
  },
  {
   "cell_type": "code",
   "execution_count": 165,
   "metadata": {},
   "outputs": [
    {
     "name": "stdout",
     "output_type": "stream",
     "text": [
      "completed 1000\n",
      "completed 2000\n",
      "completed 3000\n",
      "completed 4000\n",
      "completed 5000\n",
      "completed 6000\n",
      "completed 7000\n",
      "completed 8000\n",
      "completed 9000\n",
      "completed 10000\n",
      "completed 11000\n",
      "completed 12000\n",
      "completed 13000\n",
      "completed 14000\n",
      "completed 15000\n",
      "completed 16000\n",
      "completed 17000\n",
      "completed 18000\n",
      "completed 19000\n"
     ]
    }
   ],
   "source": [
    "prod = 'BE_Reco_Prod'\n",
    "x = [i for i in df_aggregated_inserted.columns.tolist() if i!='BE_Reco_Prod']\n",
    "SAVM_Final = []\n",
    "iloop=0\n",
    "window_size = 3\n",
    "for i in df_aggregated_inserted.SAVM_GROUP_ID.unique():\n",
    "    savm_list = []\n",
    "    Test_Df = df_aggregated_inserted.loc[df_aggregated_inserted.SAVM_GROUP_ID==i,:]\n",
    "    for j in range(0,window_size+1):\n",
    "        if(j<window_size):\n",
    "            df_shift = Test_Df[x].shift(-j)\n",
    "            df_shift.columns = [k+'t_'+str(j) for k in df_shift.columns]\n",
    "            savm_list.append(df_shift)\n",
    "#        if(j == window_size):\n",
    "#            Shifted_Df = Test_Df[[prod]].shift(-j)\n",
    "#            Shifted_Df.columns = ['Prod_Reco_Prod_t']\n",
    "#            savm_list.append(Shifted_Df)\n",
    "    iloop+=1\n",
    "    if(np.divmod(iloop,1000)[1]==0):\n",
    "        print('completed '+str(iloop))\n",
    "    df_IE2K = pd.concat(savm_list,axis=1)\n",
    "    df_IE2K.dropna(inplace=True,axis=0)\n",
    "    SAVM_Final.append(df_IE2K)"
   ]
  },
  {
   "cell_type": "code",
   "execution_count": 166,
   "metadata": {},
   "outputs": [
    {
     "data": {
      "text/plain": [
       "19839"
      ]
     },
     "execution_count": 166,
     "metadata": {},
     "output_type": "execute_result"
    }
   ],
   "source": [
    "len(SAVM_Final)"
   ]
  },
  {
   "cell_type": "code",
   "execution_count": 167,
   "metadata": {},
   "outputs": [],
   "source": [
    "Final_Data = pd.concat(SAVM_Final,axis=0)\n",
    "SAVM_collated =  Final_Data"
   ]
  },
  {
   "cell_type": "code",
   "execution_count": 168,
   "metadata": {},
   "outputs": [],
   "source": [
    "#Final_Data = pd.concat(SAVM_Final,axis=0)\n",
    "SAVM_collated_1 =  Final_Data"
   ]
  },
  {
   "cell_type": "code",
   "execution_count": 169,
   "metadata": {},
   "outputs": [
    {
     "data": {
      "text/plain": [
       "(19583, 213)"
      ]
     },
     "execution_count": 169,
     "metadata": {},
     "output_type": "execute_result"
    }
   ],
   "source": [
    "SAVM_collated.shape"
   ]
  },
  {
   "cell_type": "code",
   "execution_count": 170,
   "metadata": {},
   "outputs": [
    {
     "data": {
      "text/html": [
       "<div>\n",
       "<style scoped>\n",
       "    .dataframe tbody tr th:only-of-type {\n",
       "        vertical-align: middle;\n",
       "    }\n",
       "\n",
       "    .dataframe tbody tr th {\n",
       "        vertical-align: top;\n",
       "    }\n",
       "\n",
       "    .dataframe thead th {\n",
       "        text-align: right;\n",
       "    }\n",
       "</style>\n",
       "<table border=\"1\" class=\"dataframe\">\n",
       "  <thead>\n",
       "    <tr style=\"text-align: right;\">\n",
       "      <th></th>\n",
       "      <th>SAVM_GROUP_IDt_0</th>\n",
       "      <th>year_quartert_0</th>\n",
       "      <th>Vert_Education- Public/Privatet_0</th>\n",
       "      <th>Vert_Energy/Utilitiest_0</th>\n",
       "      <th>Vert_Financial Servicest_0</th>\n",
       "      <th>Vert_Governmentt_0</th>\n",
       "      <th>Vert_Health Caret_0</th>\n",
       "      <th>Vert_Hospitality/Hotels &amp; Leisuret_0</th>\n",
       "      <th>Vert_Manufacturingt_0</th>\n",
       "      <th>Vert_Media/Entertainmentt_0</th>\n",
       "      <th>...</th>\n",
       "      <th>BEval_Monitoring and Analyticst_2</th>\n",
       "      <th>BEval_Othert_2</th>\n",
       "      <th>BEval_SP Video Infrastructuret_2</th>\n",
       "      <th>BEval_SP Video Software and Solutionst_2</th>\n",
       "      <th>BEval_Securityt_2</th>\n",
       "      <th>BEval_Service Provider Routingt_2</th>\n",
       "      <th>BEval_Services ASS_L1t_2</th>\n",
       "      <th>BEval_Services TSS_L1t_2</th>\n",
       "      <th>BEval_UNKNOWNt_2</th>\n",
       "      <th>BEval_Wirelesst_2</th>\n",
       "    </tr>\n",
       "  </thead>\n",
       "  <tbody>\n",
       "    <tr>\n",
       "      <td>20</td>\n",
       "      <td>203684844</td>\n",
       "      <td>202001</td>\n",
       "      <td>0.0</td>\n",
       "      <td>1.0</td>\n",
       "      <td>0.0</td>\n",
       "      <td>0.0</td>\n",
       "      <td>0.0</td>\n",
       "      <td>0.0</td>\n",
       "      <td>0.0</td>\n",
       "      <td>0.0</td>\n",
       "      <td>...</td>\n",
       "      <td>0.0</td>\n",
       "      <td>0.0</td>\n",
       "      <td>0.0</td>\n",
       "      <td>0.0</td>\n",
       "      <td>0.0</td>\n",
       "      <td>0.0</td>\n",
       "      <td>0.0</td>\n",
       "      <td>1757043.0</td>\n",
       "      <td>0.0</td>\n",
       "      <td>0.0</td>\n",
       "    </tr>\n",
       "    <tr>\n",
       "      <td>43</td>\n",
       "      <td>203684845</td>\n",
       "      <td>202001</td>\n",
       "      <td>0.0</td>\n",
       "      <td>0.0</td>\n",
       "      <td>0.0</td>\n",
       "      <td>0.0</td>\n",
       "      <td>1.0</td>\n",
       "      <td>0.0</td>\n",
       "      <td>0.0</td>\n",
       "      <td>0.0</td>\n",
       "      <td>...</td>\n",
       "      <td>0.0</td>\n",
       "      <td>0.0</td>\n",
       "      <td>0.0</td>\n",
       "      <td>0.0</td>\n",
       "      <td>125234.0</td>\n",
       "      <td>0.0</td>\n",
       "      <td>0.0</td>\n",
       "      <td>4716984.0</td>\n",
       "      <td>0.0</td>\n",
       "      <td>0.0</td>\n",
       "    </tr>\n",
       "    <tr>\n",
       "      <td>66</td>\n",
       "      <td>203684846</td>\n",
       "      <td>202001</td>\n",
       "      <td>0.0</td>\n",
       "      <td>0.0</td>\n",
       "      <td>0.0</td>\n",
       "      <td>0.0</td>\n",
       "      <td>0.0</td>\n",
       "      <td>0.0</td>\n",
       "      <td>0.0</td>\n",
       "      <td>0.0</td>\n",
       "      <td>...</td>\n",
       "      <td>0.0</td>\n",
       "      <td>0.0</td>\n",
       "      <td>0.0</td>\n",
       "      <td>0.0</td>\n",
       "      <td>3487492.0</td>\n",
       "      <td>74587.0</td>\n",
       "      <td>0.0</td>\n",
       "      <td>3357083.0</td>\n",
       "      <td>0.0</td>\n",
       "      <td>2918853.0</td>\n",
       "    </tr>\n",
       "    <tr>\n",
       "      <td>89</td>\n",
       "      <td>203684847</td>\n",
       "      <td>202001</td>\n",
       "      <td>0.0</td>\n",
       "      <td>0.0</td>\n",
       "      <td>0.0</td>\n",
       "      <td>0.0</td>\n",
       "      <td>0.0</td>\n",
       "      <td>0.0</td>\n",
       "      <td>0.0</td>\n",
       "      <td>0.0</td>\n",
       "      <td>...</td>\n",
       "      <td>0.0</td>\n",
       "      <td>0.0</td>\n",
       "      <td>0.0</td>\n",
       "      <td>0.0</td>\n",
       "      <td>566474.0</td>\n",
       "      <td>202898.0</td>\n",
       "      <td>714740.0</td>\n",
       "      <td>5852036.0</td>\n",
       "      <td>0.0</td>\n",
       "      <td>0.0</td>\n",
       "    </tr>\n",
       "    <tr>\n",
       "      <td>112</td>\n",
       "      <td>203684848</td>\n",
       "      <td>202001</td>\n",
       "      <td>0.0</td>\n",
       "      <td>1.0</td>\n",
       "      <td>0.0</td>\n",
       "      <td>0.0</td>\n",
       "      <td>0.0</td>\n",
       "      <td>0.0</td>\n",
       "      <td>0.0</td>\n",
       "      <td>0.0</td>\n",
       "      <td>...</td>\n",
       "      <td>0.0</td>\n",
       "      <td>0.0</td>\n",
       "      <td>0.0</td>\n",
       "      <td>0.0</td>\n",
       "      <td>0.0</td>\n",
       "      <td>208842.0</td>\n",
       "      <td>0.0</td>\n",
       "      <td>6126419.0</td>\n",
       "      <td>0.0</td>\n",
       "      <td>1033090.0</td>\n",
       "    </tr>\n",
       "    <tr>\n",
       "      <td>...</td>\n",
       "      <td>...</td>\n",
       "      <td>...</td>\n",
       "      <td>...</td>\n",
       "      <td>...</td>\n",
       "      <td>...</td>\n",
       "      <td>...</td>\n",
       "      <td>...</td>\n",
       "      <td>...</td>\n",
       "      <td>...</td>\n",
       "      <td>...</td>\n",
       "      <td>...</td>\n",
       "      <td>...</td>\n",
       "      <td>...</td>\n",
       "      <td>...</td>\n",
       "      <td>...</td>\n",
       "      <td>...</td>\n",
       "      <td>...</td>\n",
       "      <td>...</td>\n",
       "      <td>...</td>\n",
       "      <td>...</td>\n",
       "      <td>...</td>\n",
       "    </tr>\n",
       "    <tr>\n",
       "      <td>385939</td>\n",
       "      <td>283552869</td>\n",
       "      <td>202001</td>\n",
       "      <td>0.0</td>\n",
       "      <td>0.0</td>\n",
       "      <td>0.0</td>\n",
       "      <td>0.0</td>\n",
       "      <td>0.0</td>\n",
       "      <td>0.0</td>\n",
       "      <td>0.0</td>\n",
       "      <td>0.0</td>\n",
       "      <td>...</td>\n",
       "      <td>0.0</td>\n",
       "      <td>0.0</td>\n",
       "      <td>0.0</td>\n",
       "      <td>0.0</td>\n",
       "      <td>405701.0</td>\n",
       "      <td>0.0</td>\n",
       "      <td>0.0</td>\n",
       "      <td>90102.0</td>\n",
       "      <td>0.0</td>\n",
       "      <td>0.0</td>\n",
       "    </tr>\n",
       "    <tr>\n",
       "      <td>385944</td>\n",
       "      <td>283555510</td>\n",
       "      <td>202001</td>\n",
       "      <td>0.0</td>\n",
       "      <td>0.0</td>\n",
       "      <td>0.0</td>\n",
       "      <td>0.0</td>\n",
       "      <td>0.0</td>\n",
       "      <td>0.0</td>\n",
       "      <td>0.0</td>\n",
       "      <td>0.0</td>\n",
       "      <td>...</td>\n",
       "      <td>0.0</td>\n",
       "      <td>45.0</td>\n",
       "      <td>0.0</td>\n",
       "      <td>0.0</td>\n",
       "      <td>64140.0</td>\n",
       "      <td>16260.0</td>\n",
       "      <td>0.0</td>\n",
       "      <td>326593.0</td>\n",
       "      <td>0.0</td>\n",
       "      <td>50117.0</td>\n",
       "    </tr>\n",
       "    <tr>\n",
       "      <td>385948</td>\n",
       "      <td>283558004</td>\n",
       "      <td>202001</td>\n",
       "      <td>0.0</td>\n",
       "      <td>0.0</td>\n",
       "      <td>0.0</td>\n",
       "      <td>0.0</td>\n",
       "      <td>0.0</td>\n",
       "      <td>0.0</td>\n",
       "      <td>0.0</td>\n",
       "      <td>0.0</td>\n",
       "      <td>...</td>\n",
       "      <td>0.0</td>\n",
       "      <td>0.0</td>\n",
       "      <td>0.0</td>\n",
       "      <td>0.0</td>\n",
       "      <td>97935.0</td>\n",
       "      <td>2998765.0</td>\n",
       "      <td>0.0</td>\n",
       "      <td>1639848.0</td>\n",
       "      <td>0.0</td>\n",
       "      <td>70.0</td>\n",
       "    </tr>\n",
       "    <tr>\n",
       "      <td>385955</td>\n",
       "      <td>283558033</td>\n",
       "      <td>202001</td>\n",
       "      <td>0.0</td>\n",
       "      <td>0.0</td>\n",
       "      <td>0.0</td>\n",
       "      <td>0.0</td>\n",
       "      <td>0.0</td>\n",
       "      <td>0.0</td>\n",
       "      <td>0.0</td>\n",
       "      <td>0.0</td>\n",
       "      <td>...</td>\n",
       "      <td>0.0</td>\n",
       "      <td>0.0</td>\n",
       "      <td>0.0</td>\n",
       "      <td>0.0</td>\n",
       "      <td>6902.0</td>\n",
       "      <td>89.0</td>\n",
       "      <td>0.0</td>\n",
       "      <td>8046.0</td>\n",
       "      <td>0.0</td>\n",
       "      <td>0.0</td>\n",
       "    </tr>\n",
       "    <tr>\n",
       "      <td>385962</td>\n",
       "      <td>283571625</td>\n",
       "      <td>202001</td>\n",
       "      <td>0.0</td>\n",
       "      <td>0.0</td>\n",
       "      <td>0.0</td>\n",
       "      <td>0.0</td>\n",
       "      <td>0.0</td>\n",
       "      <td>0.0</td>\n",
       "      <td>0.0</td>\n",
       "      <td>1.0</td>\n",
       "      <td>...</td>\n",
       "      <td>0.0</td>\n",
       "      <td>0.0</td>\n",
       "      <td>0.0</td>\n",
       "      <td>0.0</td>\n",
       "      <td>0.0</td>\n",
       "      <td>387.0</td>\n",
       "      <td>0.0</td>\n",
       "      <td>0.0</td>\n",
       "      <td>0.0</td>\n",
       "      <td>0.0</td>\n",
       "    </tr>\n",
       "  </tbody>\n",
       "</table>\n",
       "<p>19583 rows × 213 columns</p>\n",
       "</div>"
      ],
      "text/plain": [
       "        SAVM_GROUP_IDt_0  year_quartert_0  Vert_Education- Public/Privatet_0  \\\n",
       "20             203684844           202001                                0.0   \n",
       "43             203684845           202001                                0.0   \n",
       "66             203684846           202001                                0.0   \n",
       "89             203684847           202001                                0.0   \n",
       "112            203684848           202001                                0.0   \n",
       "...                  ...              ...                                ...   \n",
       "385939         283552869           202001                                0.0   \n",
       "385944         283555510           202001                                0.0   \n",
       "385948         283558004           202001                                0.0   \n",
       "385955         283558033           202001                                0.0   \n",
       "385962         283571625           202001                                0.0   \n",
       "\n",
       "        Vert_Energy/Utilitiest_0  Vert_Financial Servicest_0  \\\n",
       "20                           1.0                         0.0   \n",
       "43                           0.0                         0.0   \n",
       "66                           0.0                         0.0   \n",
       "89                           0.0                         0.0   \n",
       "112                          1.0                         0.0   \n",
       "...                          ...                         ...   \n",
       "385939                       0.0                         0.0   \n",
       "385944                       0.0                         0.0   \n",
       "385948                       0.0                         0.0   \n",
       "385955                       0.0                         0.0   \n",
       "385962                       0.0                         0.0   \n",
       "\n",
       "        Vert_Governmentt_0  Vert_Health Caret_0  \\\n",
       "20                     0.0                  0.0   \n",
       "43                     0.0                  1.0   \n",
       "66                     0.0                  0.0   \n",
       "89                     0.0                  0.0   \n",
       "112                    0.0                  0.0   \n",
       "...                    ...                  ...   \n",
       "385939                 0.0                  0.0   \n",
       "385944                 0.0                  0.0   \n",
       "385948                 0.0                  0.0   \n",
       "385955                 0.0                  0.0   \n",
       "385962                 0.0                  0.0   \n",
       "\n",
       "        Vert_Hospitality/Hotels & Leisuret_0  Vert_Manufacturingt_0  \\\n",
       "20                                       0.0                    0.0   \n",
       "43                                       0.0                    0.0   \n",
       "66                                       0.0                    0.0   \n",
       "89                                       0.0                    0.0   \n",
       "112                                      0.0                    0.0   \n",
       "...                                      ...                    ...   \n",
       "385939                                   0.0                    0.0   \n",
       "385944                                   0.0                    0.0   \n",
       "385948                                   0.0                    0.0   \n",
       "385955                                   0.0                    0.0   \n",
       "385962                                   0.0                    0.0   \n",
       "\n",
       "        Vert_Media/Entertainmentt_0  ...  BEval_Monitoring and Analyticst_2  \\\n",
       "20                              0.0  ...                                0.0   \n",
       "43                              0.0  ...                                0.0   \n",
       "66                              0.0  ...                                0.0   \n",
       "89                              0.0  ...                                0.0   \n",
       "112                             0.0  ...                                0.0   \n",
       "...                             ...  ...                                ...   \n",
       "385939                          0.0  ...                                0.0   \n",
       "385944                          0.0  ...                                0.0   \n",
       "385948                          0.0  ...                                0.0   \n",
       "385955                          0.0  ...                                0.0   \n",
       "385962                          1.0  ...                                0.0   \n",
       "\n",
       "        BEval_Othert_2  BEval_SP Video Infrastructuret_2  \\\n",
       "20                 0.0                               0.0   \n",
       "43                 0.0                               0.0   \n",
       "66                 0.0                               0.0   \n",
       "89                 0.0                               0.0   \n",
       "112                0.0                               0.0   \n",
       "...                ...                               ...   \n",
       "385939             0.0                               0.0   \n",
       "385944            45.0                               0.0   \n",
       "385948             0.0                               0.0   \n",
       "385955             0.0                               0.0   \n",
       "385962             0.0                               0.0   \n",
       "\n",
       "        BEval_SP Video Software and Solutionst_2  BEval_Securityt_2  \\\n",
       "20                                           0.0                0.0   \n",
       "43                                           0.0           125234.0   \n",
       "66                                           0.0          3487492.0   \n",
       "89                                           0.0           566474.0   \n",
       "112                                          0.0                0.0   \n",
       "...                                          ...                ...   \n",
       "385939                                       0.0           405701.0   \n",
       "385944                                       0.0            64140.0   \n",
       "385948                                       0.0            97935.0   \n",
       "385955                                       0.0             6902.0   \n",
       "385962                                       0.0                0.0   \n",
       "\n",
       "        BEval_Service Provider Routingt_2  BEval_Services ASS_L1t_2  \\\n",
       "20                                    0.0                       0.0   \n",
       "43                                    0.0                       0.0   \n",
       "66                                74587.0                       0.0   \n",
       "89                               202898.0                  714740.0   \n",
       "112                              208842.0                       0.0   \n",
       "...                                   ...                       ...   \n",
       "385939                                0.0                       0.0   \n",
       "385944                            16260.0                       0.0   \n",
       "385948                          2998765.0                       0.0   \n",
       "385955                               89.0                       0.0   \n",
       "385962                              387.0                       0.0   \n",
       "\n",
       "        BEval_Services TSS_L1t_2  BEval_UNKNOWNt_2  BEval_Wirelesst_2  \n",
       "20                     1757043.0               0.0                0.0  \n",
       "43                     4716984.0               0.0                0.0  \n",
       "66                     3357083.0               0.0          2918853.0  \n",
       "89                     5852036.0               0.0                0.0  \n",
       "112                    6126419.0               0.0          1033090.0  \n",
       "...                          ...               ...                ...  \n",
       "385939                   90102.0               0.0                0.0  \n",
       "385944                  326593.0               0.0            50117.0  \n",
       "385948                 1639848.0               0.0               70.0  \n",
       "385955                    8046.0               0.0                0.0  \n",
       "385962                       0.0               0.0                0.0  \n",
       "\n",
       "[19583 rows x 213 columns]"
      ]
     },
     "execution_count": 170,
     "metadata": {},
     "output_type": "execute_result"
    }
   ],
   "source": [
    "SAVM_collated"
   ]
  },
  {
   "cell_type": "code",
   "execution_count": 171,
   "metadata": {},
   "outputs": [
    {
     "data": {
      "text/plain": [
       "19583"
      ]
     },
     "execution_count": 171,
     "metadata": {},
     "output_type": "execute_result"
    }
   ],
   "source": [
    "SAVM_collated.SAVM_GROUP_IDt_0.nunique()"
   ]
  },
  {
   "cell_type": "code",
   "execution_count": 172,
   "metadata": {},
   "outputs": [],
   "source": [
    "SAVM_collated.replace([np.inf, -np.inf], np.nan,inplace=True)"
   ]
  },
  {
   "cell_type": "code",
   "execution_count": 173,
   "metadata": {},
   "outputs": [],
   "source": [
    "SAVM_collated.fillna(0,inplace=True)"
   ]
  },
  {
   "cell_type": "code",
   "execution_count": 174,
   "metadata": {},
   "outputs": [],
   "source": [
    "#beval_columns=[col for col in df_aggregated_inserted if col.startswith('BEval_')]"
   ]
  },
  {
   "cell_type": "code",
   "execution_count": 175,
   "metadata": {},
   "outputs": [],
   "source": [
    "beval_columns_1=[col for col in SAVM_collated if col.startswith('BEval_')]\n",
    "vr_columns_1=[col for col in SAVM_collated if col.startswith('Vert_')]\n",
    "be_columns_1=[col for col in SAVM_collated if col.startswith('BE_')]\n"
   ]
  },
  {
   "cell_type": "code",
   "execution_count": 176,
   "metadata": {},
   "outputs": [],
   "source": [
    "SAVM_collated[vr_columns_1]=SAVM_collated[vr_columns_1].astype(int)\n",
    "SAVM_collated[be_columns_1]=SAVM_collated[be_columns_1].astype(int)\n",
    "SAVM_collated[beval_columns_1]=SAVM_collated[beval_columns_1].astype(int)"
   ]
  },
  {
   "cell_type": "code",
   "execution_count": 177,
   "metadata": {},
   "outputs": [],
   "source": [
    "#SAVM_collated = SAVM_collated.astype(int)"
   ]
  },
  {
   "cell_type": "code",
   "execution_count": 178,
   "metadata": {},
   "outputs": [
    {
     "name": "stdout",
     "output_type": "stream",
     "text": [
      "<class 'pandas.core.frame.DataFrame'>\n",
      "Int64Index: 19583 entries, 20 to 385962\n",
      "Columns: 213 entries, SAVM_GROUP_IDt_0 to BEval_Wirelesst_2\n",
      "dtypes: float64(64), int32(147), int64(2)\n",
      "memory usage: 21.0 MB\n"
     ]
    }
   ],
   "source": [
    "SAVM_collated.info()"
   ]
  },
  {
   "cell_type": "code",
   "execution_count": 179,
   "metadata": {},
   "outputs": [],
   "source": [
    "# SAVM_collated.to_csv('SAVM_collated_revised_Security.csv')"
   ]
  },
  {
   "cell_type": "code",
   "execution_count": 180,
   "metadata": {},
   "outputs": [],
   "source": [
    "# SAVM_collated=pd.read_csv('SAVM_collated_revised_Security.csv')"
   ]
  },
  {
   "cell_type": "code",
   "execution_count": 181,
   "metadata": {},
   "outputs": [
    {
     "data": {
      "text/html": [
       "<div>\n",
       "<style scoped>\n",
       "    .dataframe tbody tr th:only-of-type {\n",
       "        vertical-align: middle;\n",
       "    }\n",
       "\n",
       "    .dataframe tbody tr th {\n",
       "        vertical-align: top;\n",
       "    }\n",
       "\n",
       "    .dataframe thead th {\n",
       "        text-align: right;\n",
       "    }\n",
       "</style>\n",
       "<table border=\"1\" class=\"dataframe\">\n",
       "  <thead>\n",
       "    <tr style=\"text-align: right;\">\n",
       "      <th></th>\n",
       "      <th>SAVM_GROUP_IDt_0</th>\n",
       "      <th>year_quartert_0</th>\n",
       "      <th>Vert_Education- Public/Privatet_0</th>\n",
       "      <th>Vert_Energy/Utilitiest_0</th>\n",
       "      <th>Vert_Financial Servicest_0</th>\n",
       "      <th>Vert_Governmentt_0</th>\n",
       "      <th>Vert_Health Caret_0</th>\n",
       "      <th>Vert_Hospitality/Hotels &amp; Leisuret_0</th>\n",
       "      <th>Vert_Manufacturingt_0</th>\n",
       "      <th>Vert_Media/Entertainmentt_0</th>\n",
       "      <th>...</th>\n",
       "      <th>BEval_Monitoring and Analyticst_2</th>\n",
       "      <th>BEval_Othert_2</th>\n",
       "      <th>BEval_SP Video Infrastructuret_2</th>\n",
       "      <th>BEval_SP Video Software and Solutionst_2</th>\n",
       "      <th>BEval_Securityt_2</th>\n",
       "      <th>BEval_Service Provider Routingt_2</th>\n",
       "      <th>BEval_Services ASS_L1t_2</th>\n",
       "      <th>BEval_Services TSS_L1t_2</th>\n",
       "      <th>BEval_UNKNOWNt_2</th>\n",
       "      <th>BEval_Wirelesst_2</th>\n",
       "    </tr>\n",
       "  </thead>\n",
       "  <tbody>\n",
       "    <tr>\n",
       "      <td>20</td>\n",
       "      <td>203684844</td>\n",
       "      <td>202001</td>\n",
       "      <td>0</td>\n",
       "      <td>1</td>\n",
       "      <td>0</td>\n",
       "      <td>0</td>\n",
       "      <td>0</td>\n",
       "      <td>0</td>\n",
       "      <td>0</td>\n",
       "      <td>0</td>\n",
       "      <td>...</td>\n",
       "      <td>0</td>\n",
       "      <td>0</td>\n",
       "      <td>0</td>\n",
       "      <td>0</td>\n",
       "      <td>0</td>\n",
       "      <td>0</td>\n",
       "      <td>0</td>\n",
       "      <td>1757043</td>\n",
       "      <td>0</td>\n",
       "      <td>0</td>\n",
       "    </tr>\n",
       "    <tr>\n",
       "      <td>43</td>\n",
       "      <td>203684845</td>\n",
       "      <td>202001</td>\n",
       "      <td>0</td>\n",
       "      <td>0</td>\n",
       "      <td>0</td>\n",
       "      <td>0</td>\n",
       "      <td>1</td>\n",
       "      <td>0</td>\n",
       "      <td>0</td>\n",
       "      <td>0</td>\n",
       "      <td>...</td>\n",
       "      <td>0</td>\n",
       "      <td>0</td>\n",
       "      <td>0</td>\n",
       "      <td>0</td>\n",
       "      <td>125234</td>\n",
       "      <td>0</td>\n",
       "      <td>0</td>\n",
       "      <td>4716984</td>\n",
       "      <td>0</td>\n",
       "      <td>0</td>\n",
       "    </tr>\n",
       "    <tr>\n",
       "      <td>66</td>\n",
       "      <td>203684846</td>\n",
       "      <td>202001</td>\n",
       "      <td>0</td>\n",
       "      <td>0</td>\n",
       "      <td>0</td>\n",
       "      <td>0</td>\n",
       "      <td>0</td>\n",
       "      <td>0</td>\n",
       "      <td>0</td>\n",
       "      <td>0</td>\n",
       "      <td>...</td>\n",
       "      <td>0</td>\n",
       "      <td>0</td>\n",
       "      <td>0</td>\n",
       "      <td>0</td>\n",
       "      <td>3487492</td>\n",
       "      <td>74587</td>\n",
       "      <td>0</td>\n",
       "      <td>3357083</td>\n",
       "      <td>0</td>\n",
       "      <td>2918853</td>\n",
       "    </tr>\n",
       "    <tr>\n",
       "      <td>89</td>\n",
       "      <td>203684847</td>\n",
       "      <td>202001</td>\n",
       "      <td>0</td>\n",
       "      <td>0</td>\n",
       "      <td>0</td>\n",
       "      <td>0</td>\n",
       "      <td>0</td>\n",
       "      <td>0</td>\n",
       "      <td>0</td>\n",
       "      <td>0</td>\n",
       "      <td>...</td>\n",
       "      <td>0</td>\n",
       "      <td>0</td>\n",
       "      <td>0</td>\n",
       "      <td>0</td>\n",
       "      <td>566474</td>\n",
       "      <td>202898</td>\n",
       "      <td>714740</td>\n",
       "      <td>5852036</td>\n",
       "      <td>0</td>\n",
       "      <td>0</td>\n",
       "    </tr>\n",
       "    <tr>\n",
       "      <td>112</td>\n",
       "      <td>203684848</td>\n",
       "      <td>202001</td>\n",
       "      <td>0</td>\n",
       "      <td>1</td>\n",
       "      <td>0</td>\n",
       "      <td>0</td>\n",
       "      <td>0</td>\n",
       "      <td>0</td>\n",
       "      <td>0</td>\n",
       "      <td>0</td>\n",
       "      <td>...</td>\n",
       "      <td>0</td>\n",
       "      <td>0</td>\n",
       "      <td>0</td>\n",
       "      <td>0</td>\n",
       "      <td>0</td>\n",
       "      <td>208842</td>\n",
       "      <td>0</td>\n",
       "      <td>6126419</td>\n",
       "      <td>0</td>\n",
       "      <td>1033090</td>\n",
       "    </tr>\n",
       "  </tbody>\n",
       "</table>\n",
       "<p>5 rows × 213 columns</p>\n",
       "</div>"
      ],
      "text/plain": [
       "     SAVM_GROUP_IDt_0  year_quartert_0  Vert_Education- Public/Privatet_0  \\\n",
       "20          203684844           202001                                  0   \n",
       "43          203684845           202001                                  0   \n",
       "66          203684846           202001                                  0   \n",
       "89          203684847           202001                                  0   \n",
       "112         203684848           202001                                  0   \n",
       "\n",
       "     Vert_Energy/Utilitiest_0  Vert_Financial Servicest_0  Vert_Governmentt_0  \\\n",
       "20                          1                           0                   0   \n",
       "43                          0                           0                   0   \n",
       "66                          0                           0                   0   \n",
       "89                          0                           0                   0   \n",
       "112                         1                           0                   0   \n",
       "\n",
       "     Vert_Health Caret_0  Vert_Hospitality/Hotels & Leisuret_0  \\\n",
       "20                     0                                     0   \n",
       "43                     1                                     0   \n",
       "66                     0                                     0   \n",
       "89                     0                                     0   \n",
       "112                    0                                     0   \n",
       "\n",
       "     Vert_Manufacturingt_0  Vert_Media/Entertainmentt_0  ...  \\\n",
       "20                       0                            0  ...   \n",
       "43                       0                            0  ...   \n",
       "66                       0                            0  ...   \n",
       "89                       0                            0  ...   \n",
       "112                      0                            0  ...   \n",
       "\n",
       "     BEval_Monitoring and Analyticst_2  BEval_Othert_2  \\\n",
       "20                                   0               0   \n",
       "43                                   0               0   \n",
       "66                                   0               0   \n",
       "89                                   0               0   \n",
       "112                                  0               0   \n",
       "\n",
       "     BEval_SP Video Infrastructuret_2  \\\n",
       "20                                  0   \n",
       "43                                  0   \n",
       "66                                  0   \n",
       "89                                  0   \n",
       "112                                 0   \n",
       "\n",
       "     BEval_SP Video Software and Solutionst_2  BEval_Securityt_2  \\\n",
       "20                                          0                  0   \n",
       "43                                          0             125234   \n",
       "66                                          0            3487492   \n",
       "89                                          0             566474   \n",
       "112                                         0                  0   \n",
       "\n",
       "     BEval_Service Provider Routingt_2  BEval_Services ASS_L1t_2  \\\n",
       "20                                   0                         0   \n",
       "43                                   0                         0   \n",
       "66                               74587                         0   \n",
       "89                              202898                    714740   \n",
       "112                             208842                         0   \n",
       "\n",
       "     BEval_Services TSS_L1t_2  BEval_UNKNOWNt_2  BEval_Wirelesst_2  \n",
       "20                    1757043                 0                  0  \n",
       "43                    4716984                 0                  0  \n",
       "66                    3357083                 0            2918853  \n",
       "89                    5852036                 0                  0  \n",
       "112                   6126419                 0            1033090  \n",
       "\n",
       "[5 rows x 213 columns]"
      ]
     },
     "execution_count": 181,
     "metadata": {},
     "output_type": "execute_result"
    }
   ],
   "source": [
    "SAVM_collated.head()"
   ]
  },
  {
   "cell_type": "code",
   "execution_count": 182,
   "metadata": {},
   "outputs": [],
   "source": [
    "train_columns = pd.read_csv('Train_data_center.csv')"
   ]
  },
  {
   "cell_type": "code",
   "execution_count": 183,
   "metadata": {},
   "outputs": [
    {
     "data": {
      "text/plain": [
       "['SAVM_GROUP_IDt_0',\n",
       " 'year_quartert_0',\n",
       " 'SAVM_GROUP_IDt_1',\n",
       " 'year_quartert_1',\n",
       " 'SAVM_GROUP_IDt_2',\n",
       " 'year_quartert_2']"
      ]
     },
     "execution_count": 183,
     "metadata": {},
     "output_type": "execute_result"
    }
   ],
   "source": [
    "[i for i in SAVM_collated_1.columns.tolist() if  i not in train_columns.columns.tolist() ]"
   ]
  },
  {
   "cell_type": "code",
   "execution_count": 184,
   "metadata": {},
   "outputs": [
    {
     "data": {
      "text/plain": [
       "['Unnamed: 0', 'BE_Reco_Prod_t']"
      ]
     },
     "execution_count": 184,
     "metadata": {},
     "output_type": "execute_result"
    }
   ],
   "source": [
    "[i for i in train_columns.columns.tolist()  if  i not in SAVM_collated_1.columns.tolist()]"
   ]
  },
  {
   "cell_type": "code",
   "execution_count": 185,
   "metadata": {},
   "outputs": [
    {
     "data": {
      "text/plain": [
       "71.0"
      ]
     },
     "execution_count": 185,
     "metadata": {},
     "output_type": "execute_result"
    }
   ],
   "source": [
    "SAVM_collated_1.shape[1]/3"
   ]
  },
  {
   "cell_type": "code",
   "execution_count": 186,
   "metadata": {},
   "outputs": [
    {
     "data": {
      "text/plain": [
       "69.0"
      ]
     },
     "execution_count": 186,
     "metadata": {},
     "output_type": "execute_result"
    }
   ],
   "source": [
    "(train_columns.shape[1]-2)/3"
   ]
  },
  {
   "cell_type": "code",
   "execution_count": 187,
   "metadata": {},
   "outputs": [
    {
     "data": {
      "text/plain": [
       "['SAVM_GROUP_IDt_0',\n",
       " 'year_quartert_0',\n",
       " 'SAVM_GROUP_IDt_1',\n",
       " 'year_quartert_1',\n",
       " 'SAVM_GROUP_IDt_2',\n",
       " 'year_quartert_2']"
      ]
     },
     "execution_count": 187,
     "metadata": {},
     "output_type": "execute_result"
    }
   ],
   "source": [
    "[i for i in SAVM_collated_1.columns.tolist() if i not in train_columns.columns.tolist() ]"
   ]
  },
  {
   "cell_type": "code",
   "execution_count": 188,
   "metadata": {},
   "outputs": [
    {
     "data": {
      "text/plain": [
       "213"
      ]
     },
     "execution_count": 188,
     "metadata": {},
     "output_type": "execute_result"
    }
   ],
   "source": [
    "SAVM_collated_1.shape[1]"
   ]
  },
  {
   "cell_type": "code",
   "execution_count": 189,
   "metadata": {},
   "outputs": [],
   "source": [
    "SAVM_collated_copy = SAVM_collated.copy()"
   ]
  },
  {
   "cell_type": "code",
   "execution_count": 190,
   "metadata": {},
   "outputs": [],
   "source": [
    "# SAVM_collated.to_csv('SAVM_collated.csv')"
   ]
  },
  {
   "cell_type": "code",
   "execution_count": 191,
   "metadata": {},
   "outputs": [],
   "source": [
    "droping = [i for i in SAVM_collated_copy.columns.tolist() if len(i.split('SAVM_GROUP_ID'))>1]"
   ]
  },
  {
   "cell_type": "code",
   "execution_count": 192,
   "metadata": {},
   "outputs": [],
   "source": [
    "droping.extend([i for i in SAVM_collated_copy.columns.tolist() if len(i.split('year_quarter'))>1])"
   ]
  },
  {
   "cell_type": "code",
   "execution_count": 193,
   "metadata": {},
   "outputs": [],
   "source": [
    "SAVM_collated.drop(droping,axis=1,inplace=True)"
   ]
  },
  {
   "cell_type": "code",
   "execution_count": 194,
   "metadata": {
    "scrolled": true
   },
   "outputs": [],
   "source": [
    "SAVM_collated_copy.drop(droping,axis=1,inplace=True)"
   ]
  },
  {
   "cell_type": "code",
   "execution_count": 195,
   "metadata": {},
   "outputs": [],
   "source": [
    "from sklearn.preprocessing import MinMaxScaler\n",
    "scaler = MinMaxScaler()\n",
    "SAVM_collated=scaler.fit_transform(SAVM_collated)"
   ]
  },
  {
   "cell_type": "code",
   "execution_count": 196,
   "metadata": {},
   "outputs": [],
   "source": [
    "# Train = SAVM_collated.loc[SAVM_collated.year_quartert_5.isin(train_period),:]\n",
    "# Val=SAVM_collated.loc[SAVM_collated.year_quartert_5.isin(val_period),:]\n",
    "# Test = SAVM_collated.loc[SAVM_collated.year_quartert_5.isin(test_period),:]"
   ]
  },
  {
   "cell_type": "code",
   "execution_count": 197,
   "metadata": {},
   "outputs": [
    {
     "data": {
      "text/plain": [
       "(19583, 207)"
      ]
     },
     "execution_count": 197,
     "metadata": {},
     "output_type": "execute_result"
    }
   ],
   "source": [
    "SAVM_collated.shape"
   ]
  },
  {
   "cell_type": "code",
   "execution_count": 198,
   "metadata": {},
   "outputs": [
    {
     "name": "stderr",
     "output_type": "stream",
     "text": [
      "Using TensorFlow backend.\n"
     ]
    }
   ],
   "source": [
    "from collections import Counter\n",
    "warnings.filterwarnings(\"ignore\", category=UserWarning, module='bs4')\n",
    "import tensorflow as tf\n",
    "from keras.utils import to_categorical\n",
    "from tqdm import tqdm\n",
    "import random\n",
    "from sklearn.model_selection import train_test_split\n",
    "from keras.preprocessing import sequence\n",
    "from keras.preprocessing.text import Tokenizer\n",
    "from keras.layers import Dense,Dropout,Embedding,LSTM\n",
    "from keras.callbacks import EarlyStopping\n",
    "from keras.losses import categorical_crossentropy\n",
    "from keras.optimizers import Adam\n",
    "from keras.models import Sequential\n",
    "import warnings\n",
    "warnings.filterwarnings(\"ignore\")"
   ]
  },
  {
   "cell_type": "code",
   "execution_count": 199,
   "metadata": {},
   "outputs": [],
   "source": [
    "import keras"
   ]
  },
  {
   "cell_type": "code",
   "execution_count": 201,
   "metadata": {},
   "outputs": [],
   "source": [
    "dependencies = {'binary_precision': keras.metrics.Precision(), 'binary_recall':keras.metrics.Recall()}\n",
    "model = tf.keras.models.load_model(\"datacenter_pickel.h5\",custom_objects=dependencies)"
   ]
  },
  {
   "cell_type": "code",
   "execution_count": 202,
   "metadata": {},
   "outputs": [
    {
     "data": {
      "text/plain": [
       "(19583, 207)"
      ]
     },
     "execution_count": 202,
     "metadata": {},
     "output_type": "execute_result"
    }
   ],
   "source": [
    "SAVM_collated.shape"
   ]
  },
  {
   "cell_type": "code",
   "execution_count": 203,
   "metadata": {},
   "outputs": [],
   "source": [
    "cols=SAVM_collated.shape[1]"
   ]
  },
  {
   "cell_type": "code",
   "execution_count": 204,
   "metadata": {},
   "outputs": [],
   "source": [
    "window_size=3"
   ]
  },
  {
   "cell_type": "code",
   "execution_count": 205,
   "metadata": {},
   "outputs": [],
   "source": [
    "step_ = int(cols/window_size)"
   ]
  },
  {
   "cell_type": "code",
   "execution_count": 206,
   "metadata": {},
   "outputs": [],
   "source": [
    "#Train_x,Train_y = Train_upsampled[x_].values.reshape((-1,window_size,step_)),Train_upsampled[[y]].values.reshape((Train_upsampled.shape[0],))\n",
    "Train_x= SAVM_collated.reshape((-1,window_size,step_))\n"
   ]
  },
  {
   "cell_type": "code",
   "execution_count": 207,
   "metadata": {},
   "outputs": [
    {
     "data": {
      "text/plain": [
       "(19583, 3, 69)"
      ]
     },
     "execution_count": 207,
     "metadata": {},
     "output_type": "execute_result"
    }
   ],
   "source": [
    "Train_x.shape"
   ]
  },
  {
   "cell_type": "code",
   "execution_count": 208,
   "metadata": {},
   "outputs": [],
   "source": [
    "from keras.utils.np_utils import to_categorical"
   ]
  },
  {
   "cell_type": "code",
   "execution_count": 209,
   "metadata": {},
   "outputs": [],
   "source": [
    "from keras.regularizers import l2\n",
    "from keras.optimizers import SGD"
   ]
  },
  {
   "cell_type": "code",
   "execution_count": 210,
   "metadata": {},
   "outputs": [],
   "source": [
    "df_Train = pd.DataFrame({'Train':list(train_columns.columns.tolist())})\n",
    "df_Score = pd.DataFrame({'Score':list(SAVM_collated_copy.columns.tolist())})"
   ]
  },
  {
   "cell_type": "code",
   "execution_count": 211,
   "metadata": {},
   "outputs": [],
   "source": [
    "merged = df_Score.merge(df_Train,left_on='Score',right_on='Train',how='left')"
   ]
  },
  {
   "cell_type": "code",
   "execution_count": 212,
   "metadata": {},
   "outputs": [],
   "source": [
    "merged =df_Train.merge( df_Score,left_on='Train',right_on='Score',how='left')"
   ]
  },
  {
   "cell_type": "code",
   "execution_count": 213,
   "metadata": {},
   "outputs": [],
   "source": [
    "merged['Flag']=np.where(merged.Score==merged.Train,0,1)"
   ]
  },
  {
   "cell_type": "code",
   "execution_count": 214,
   "metadata": {},
   "outputs": [
    {
     "data": {
      "text/html": [
       "<div>\n",
       "<style scoped>\n",
       "    .dataframe tbody tr th:only-of-type {\n",
       "        vertical-align: middle;\n",
       "    }\n",
       "\n",
       "    .dataframe tbody tr th {\n",
       "        vertical-align: top;\n",
       "    }\n",
       "\n",
       "    .dataframe thead th {\n",
       "        text-align: right;\n",
       "    }\n",
       "</style>\n",
       "<table border=\"1\" class=\"dataframe\">\n",
       "  <thead>\n",
       "    <tr style=\"text-align: right;\">\n",
       "      <th></th>\n",
       "      <th>Train</th>\n",
       "      <th>Score</th>\n",
       "      <th>Flag</th>\n",
       "    </tr>\n",
       "  </thead>\n",
       "  <tbody>\n",
       "    <tr>\n",
       "      <td>0</td>\n",
       "      <td>Unnamed: 0</td>\n",
       "      <td>NaN</td>\n",
       "      <td>1</td>\n",
       "    </tr>\n",
       "    <tr>\n",
       "      <td>208</td>\n",
       "      <td>BE_Reco_Prod_t</td>\n",
       "      <td>NaN</td>\n",
       "      <td>1</td>\n",
       "    </tr>\n",
       "  </tbody>\n",
       "</table>\n",
       "</div>"
      ],
      "text/plain": [
       "              Train Score  Flag\n",
       "0        Unnamed: 0   NaN     1\n",
       "208  BE_Reco_Prod_t   NaN     1"
      ]
     },
     "execution_count": 214,
     "metadata": {},
     "output_type": "execute_result"
    }
   ],
   "source": [
    "merged.loc[merged.Flag==1,:]"
   ]
  },
  {
   "cell_type": "code",
   "execution_count": 215,
   "metadata": {},
   "outputs": [],
   "source": [
    "df_Analysis = pd.DataFrame(merged.groupby(['Score'])['Train'].count())"
   ]
  },
  {
   "cell_type": "code",
   "execution_count": 216,
   "metadata": {},
   "outputs": [
    {
     "data": {
      "text/html": [
       "<div>\n",
       "<style scoped>\n",
       "    .dataframe tbody tr th:only-of-type {\n",
       "        vertical-align: middle;\n",
       "    }\n",
       "\n",
       "    .dataframe tbody tr th {\n",
       "        vertical-align: top;\n",
       "    }\n",
       "\n",
       "    .dataframe thead th {\n",
       "        text-align: right;\n",
       "    }\n",
       "</style>\n",
       "<table border=\"1\" class=\"dataframe\">\n",
       "  <thead>\n",
       "    <tr style=\"text-align: right;\">\n",
       "      <th></th>\n",
       "      <th>Train</th>\n",
       "    </tr>\n",
       "    <tr>\n",
       "      <th>Score</th>\n",
       "      <th></th>\n",
       "    </tr>\n",
       "  </thead>\n",
       "  <tbody>\n",
       "  </tbody>\n",
       "</table>\n",
       "</div>"
      ],
      "text/plain": [
       "Empty DataFrame\n",
       "Columns: [Train]\n",
       "Index: []"
      ]
     },
     "execution_count": 216,
     "metadata": {},
     "output_type": "execute_result"
    }
   ],
   "source": [
    "df_Analysis.loc[df_Analysis.Train>1,:]"
   ]
  },
  {
   "cell_type": "code",
   "execution_count": 217,
   "metadata": {},
   "outputs": [],
   "source": [
    "# import pickle\n",
    "# pkl_filename = \"Security_pickel.pkl\"\n",
    "# #Load from file\n",
    "# with open(pkl_filename, 'rb') as file:\n",
    "#     model = pickle.load(file)"
   ]
  },
  {
   "cell_type": "code",
   "execution_count": 218,
   "metadata": {},
   "outputs": [],
   "source": [
    "y_pred=model.predict_classes(Train_x)"
   ]
  },
  {
   "cell_type": "code",
   "execution_count": 219,
   "metadata": {},
   "outputs": [
    {
     "data": {
      "text/plain": [
       "19583"
      ]
     },
     "execution_count": 219,
     "metadata": {},
     "output_type": "execute_result"
    }
   ],
   "source": [
    "len(y_pred)"
   ]
  },
  {
   "cell_type": "code",
   "execution_count": 220,
   "metadata": {},
   "outputs": [],
   "source": [
    "Pred_Prob = model.predict_proba(Train_x)"
   ]
  },
  {
   "cell_type": "code",
   "execution_count": 221,
   "metadata": {},
   "outputs": [],
   "source": [
    "import matplotlib.pyplot as plt"
   ]
  },
  {
   "cell_type": "code",
   "execution_count": 222,
   "metadata": {},
   "outputs": [
    {
     "data": {
      "text/plain": [
       "([array([2721., 1167.,  896.,  750.,  770.,  869., 1065., 1410., 2084.,\n",
       "         7851.]),\n",
       "  array([7851., 2084., 1410., 1065.,  869.,  770.,  750.,  896., 1167.,\n",
       "         2721.])],\n",
       " array([7.8390636e-09, 1.0000001e-01, 2.0000000e-01, 3.0000001e-01,\n",
       "        4.0000001e-01, 5.0000000e-01, 6.0000002e-01, 6.9999999e-01,\n",
       "        8.0000001e-01, 8.9999998e-01, 1.0000000e+00], dtype=float32),\n",
       " <a list of 2 Lists of Patches objects>)"
      ]
     },
     "execution_count": 222,
     "metadata": {},
     "output_type": "execute_result"
    },
    {
     "data": {
      "image/png": "[encoded data removed]",
      "text/plain": [
       "<Figure size 432x288 with 1 Axes>"
      ]
     },
     "metadata": {
      "needs_background": "light"
     },
     "output_type": "display_data"
    }
   ],
   "source": [
    "plt.hist(Pred_Prob)"
   ]
  },
  {
   "cell_type": "code",
   "execution_count": 223,
   "metadata": {},
   "outputs": [
    {
     "data": {
      "text/plain": [
       "array([ 96.,  97.,  98.,  99., 100.])"
      ]
     },
     "execution_count": 223,
     "metadata": {},
     "output_type": "execute_result"
    }
   ],
   "source": [
    "np.linspace(96,100,5)"
   ]
  },
  {
   "cell_type": "code",
   "execution_count": 224,
   "metadata": {},
   "outputs": [
    {
     "data": {
      "text/plain": [
       "450.0"
      ]
     },
     "execution_count": 224,
     "metadata": {},
     "output_type": "execute_result"
    }
   ],
   "source": [
    "15000*.03"
   ]
  },
  {
   "cell_type": "code",
   "execution_count": 225,
   "metadata": {},
   "outputs": [
    {
     "data": {
      "text/plain": [
       "array([0.98295228, 0.98692463, 0.99093077, 0.9950192 , 0.99934548])"
      ]
     },
     "execution_count": 225,
     "metadata": {},
     "output_type": "execute_result"
    }
   ],
   "source": [
    "np.percentile(Pred_Prob[:,1],np.linspace(96,100,5))"
   ]
  },
  {
   "cell_type": "code",
   "execution_count": 226,
   "metadata": {},
   "outputs": [
    {
     "data": {
      "text/html": [
       "<div>\n",
       "<style scoped>\n",
       "    .dataframe tbody tr th:only-of-type {\n",
       "        vertical-align: middle;\n",
       "    }\n",
       "\n",
       "    .dataframe tbody tr th {\n",
       "        vertical-align: top;\n",
       "    }\n",
       "\n",
       "    .dataframe thead th {\n",
       "        text-align: right;\n",
       "    }\n",
       "</style>\n",
       "<table border=\"1\" class=\"dataframe\">\n",
       "  <thead>\n",
       "    <tr style=\"text-align: right;\">\n",
       "      <th></th>\n",
       "      <th>perc</th>\n",
       "      <th>Value</th>\n",
       "    </tr>\n",
       "  </thead>\n",
       "  <tbody>\n",
       "    <tr>\n",
       "      <td>0</td>\n",
       "      <td>0.0</td>\n",
       "      <td>7.839064e-09</td>\n",
       "    </tr>\n",
       "    <tr>\n",
       "      <td>1</td>\n",
       "      <td>5.0</td>\n",
       "      <td>4.529093e-04</td>\n",
       "    </tr>\n",
       "    <tr>\n",
       "      <td>2</td>\n",
       "      <td>10.0</td>\n",
       "      <td>1.912404e-03</td>\n",
       "    </tr>\n",
       "    <tr>\n",
       "      <td>3</td>\n",
       "      <td>15.0</td>\n",
       "      <td>4.881016e-03</td>\n",
       "    </tr>\n",
       "    <tr>\n",
       "      <td>4</td>\n",
       "      <td>20.0</td>\n",
       "      <td>1.026997e-02</td>\n",
       "    </tr>\n",
       "    <tr>\n",
       "      <td>5</td>\n",
       "      <td>25.0</td>\n",
       "      <td>1.936055e-02</td>\n",
       "    </tr>\n",
       "    <tr>\n",
       "      <td>6</td>\n",
       "      <td>30.0</td>\n",
       "      <td>3.537151e-02</td>\n",
       "    </tr>\n",
       "    <tr>\n",
       "      <td>7</td>\n",
       "      <td>35.0</td>\n",
       "      <td>6.197591e-02</td>\n",
       "    </tr>\n",
       "    <tr>\n",
       "      <td>8</td>\n",
       "      <td>40.0</td>\n",
       "      <td>9.900438e-02</td>\n",
       "    </tr>\n",
       "    <tr>\n",
       "      <td>9</td>\n",
       "      <td>45.0</td>\n",
       "      <td>1.428039e-01</td>\n",
       "    </tr>\n",
       "    <tr>\n",
       "      <td>10</td>\n",
       "      <td>50.0</td>\n",
       "      <td>1.920508e-01</td>\n",
       "    </tr>\n",
       "    <tr>\n",
       "      <td>11</td>\n",
       "      <td>55.0</td>\n",
       "      <td>2.552809e-01</td>\n",
       "    </tr>\n",
       "    <tr>\n",
       "      <td>12</td>\n",
       "      <td>60.0</td>\n",
       "      <td>3.348976e-01</td>\n",
       "    </tr>\n",
       "    <tr>\n",
       "      <td>13</td>\n",
       "      <td>65.0</td>\n",
       "      <td>4.369199e-01</td>\n",
       "    </tr>\n",
       "    <tr>\n",
       "      <td>14</td>\n",
       "      <td>70.0</td>\n",
       "      <td>5.560139e-01</td>\n",
       "    </tr>\n",
       "    <tr>\n",
       "      <td>15</td>\n",
       "      <td>75.0</td>\n",
       "      <td>6.863939e-01</td>\n",
       "    </tr>\n",
       "    <tr>\n",
       "      <td>16</td>\n",
       "      <td>80.0</td>\n",
       "      <td>7.960975e-01</td>\n",
       "    </tr>\n",
       "    <tr>\n",
       "      <td>17</td>\n",
       "      <td>85.0</td>\n",
       "      <td>8.850225e-01</td>\n",
       "    </tr>\n",
       "    <tr>\n",
       "      <td>18</td>\n",
       "      <td>90.0</td>\n",
       "      <td>9.416483e-01</td>\n",
       "    </tr>\n",
       "    <tr>\n",
       "      <td>19</td>\n",
       "      <td>95.0</td>\n",
       "      <td>9.779741e-01</td>\n",
       "    </tr>\n",
       "    <tr>\n",
       "      <td>20</td>\n",
       "      <td>100.0</td>\n",
       "      <td>9.993455e-01</td>\n",
       "    </tr>\n",
       "  </tbody>\n",
       "</table>\n",
       "</div>"
      ],
      "text/plain": [
       "     perc         Value\n",
       "0     0.0  7.839064e-09\n",
       "1     5.0  4.529093e-04\n",
       "2    10.0  1.912404e-03\n",
       "3    15.0  4.881016e-03\n",
       "4    20.0  1.026997e-02\n",
       "5    25.0  1.936055e-02\n",
       "6    30.0  3.537151e-02\n",
       "7    35.0  6.197591e-02\n",
       "8    40.0  9.900438e-02\n",
       "9    45.0  1.428039e-01\n",
       "10   50.0  1.920508e-01\n",
       "11   55.0  2.552809e-01\n",
       "12   60.0  3.348976e-01\n",
       "13   65.0  4.369199e-01\n",
       "14   70.0  5.560139e-01\n",
       "15   75.0  6.863939e-01\n",
       "16   80.0  7.960975e-01\n",
       "17   85.0  8.850225e-01\n",
       "18   90.0  9.416483e-01\n",
       "19   95.0  9.779741e-01\n",
       "20  100.0  9.993455e-01"
      ]
     },
     "execution_count": 226,
     "metadata": {},
     "output_type": "execute_result"
    }
   ],
   "source": [
    "pd.DataFrame({'perc':list(np.linspace(0,100,21)),'Value':np.percentile(Pred_Prob[:,1],np.linspace(0,100,21))})"
   ]
  },
  {
   "cell_type": "code",
   "execution_count": 227,
   "metadata": {},
   "outputs": [],
   "source": [
    "df_temp=pd.DataFrame(df_aggregated_inserted.groupby('SAVM_GROUP_ID')['year_quarter'].max())\n",
    "df_temp.reset_index(inplace=True)"
   ]
  },
  {
   "cell_type": "code",
   "execution_count": 228,
   "metadata": {},
   "outputs": [],
   "source": [
    "df_temp_2=df_aggregated_inserted.merge(df_temp,how='inner',on=['SAVM_GROUP_ID','year_quarter'])"
   ]
  },
  {
   "cell_type": "code",
   "execution_count": 229,
   "metadata": {},
   "outputs": [],
   "source": [
    "df_temp_2['Predictions'] = pd.DataFrame(y_pred)"
   ]
  },
  {
   "cell_type": "code",
   "execution_count": 230,
   "metadata": {},
   "outputs": [
    {
     "data": {
      "text/plain": [
       "0.0    13279\n",
       "1.0     6304\n",
       "Name: Predictions, dtype: int64"
      ]
     },
     "execution_count": 230,
     "metadata": {},
     "output_type": "execute_result"
    }
   ],
   "source": [
    "df_temp_2['Predictions'].value_counts()"
   ]
  },
  {
   "cell_type": "code",
   "execution_count": 231,
   "metadata": {},
   "outputs": [
    {
     "data": {
      "text/plain": [
       "array([0.03756938, 0.45341128, 0.75018823, ..., 0.05536629, 0.6316826 ,\n",
       "       0.00279734], dtype=float32)"
      ]
     },
     "execution_count": 231,
     "metadata": {},
     "output_type": "execute_result"
    }
   ],
   "source": [
    "Pred_Prob[:,1]"
   ]
  },
  {
   "cell_type": "code",
   "execution_count": 232,
   "metadata": {},
   "outputs": [],
   "source": [
    "df_temp_2['Prob'] = pd.DataFrame(Pred_Prob[:,1]*100)"
   ]
  },
  {
   "cell_type": "code",
   "execution_count": 233,
   "metadata": {},
   "outputs": [
    {
     "data": {
      "text/plain": [
       "(16616, 73)"
      ]
     },
     "execution_count": 233,
     "metadata": {},
     "output_type": "execute_result"
    }
   ],
   "source": [
    "df_temp_2[df_temp_2['Prob']>0.5].shape"
   ]
  },
  {
   "cell_type": "code",
   "execution_count": 234,
   "metadata": {},
   "outputs": [
    {
     "data": {
      "text/plain": [
       "256"
      ]
     },
     "execution_count": 234,
     "metadata": {},
     "output_type": "execute_result"
    }
   ],
   "source": [
    "df_temp_2['Predictions'].isnull().sum()"
   ]
  },
  {
   "cell_type": "code",
   "execution_count": 235,
   "metadata": {},
   "outputs": [],
   "source": [
    "df_temp_2.dropna(inplace=True)"
   ]
  },
  {
   "cell_type": "code",
   "execution_count": 236,
   "metadata": {},
   "outputs": [
    {
     "data": {
      "text/plain": [
       "(19583, 73)"
      ]
     },
     "execution_count": 236,
     "metadata": {},
     "output_type": "execute_result"
    }
   ],
   "source": [
    "df_temp_2.shape"
   ]
  },
  {
   "cell_type": "code",
   "execution_count": 237,
   "metadata": {},
   "outputs": [
    {
     "data": {
      "text/html": [
       "<div>\n",
       "<style scoped>\n",
       "    .dataframe tbody tr th:only-of-type {\n",
       "        vertical-align: middle;\n",
       "    }\n",
       "\n",
       "    .dataframe tbody tr th {\n",
       "        vertical-align: top;\n",
       "    }\n",
       "\n",
       "    .dataframe thead th {\n",
       "        text-align: right;\n",
       "    }\n",
       "</style>\n",
       "<table border=\"1\" class=\"dataframe\">\n",
       "  <thead>\n",
       "    <tr style=\"text-align: right;\">\n",
       "      <th></th>\n",
       "      <th>SAVM_GROUP_ID</th>\n",
       "      <th>year_quarter</th>\n",
       "      <th>Vert_Education- Public/Private</th>\n",
       "      <th>Vert_Energy/Utilities</th>\n",
       "      <th>Vert_Financial Services</th>\n",
       "      <th>Vert_Government</th>\n",
       "      <th>Vert_Health Care</th>\n",
       "      <th>Vert_Hospitality/Hotels &amp; Leisure</th>\n",
       "      <th>Vert_Manufacturing</th>\n",
       "      <th>Vert_Media/Entertainment</th>\n",
       "      <th>...</th>\n",
       "      <th>BEval_SP Video Infrastructure</th>\n",
       "      <th>BEval_SP Video Software and Solutions</th>\n",
       "      <th>BEval_Security</th>\n",
       "      <th>BEval_Service Provider Routing</th>\n",
       "      <th>BEval_Services ASS_L1</th>\n",
       "      <th>BEval_Services TSS_L1</th>\n",
       "      <th>BEval_UNKNOWN</th>\n",
       "      <th>BEval_Wireless</th>\n",
       "      <th>Predictions</th>\n",
       "      <th>Prob</th>\n",
       "    </tr>\n",
       "  </thead>\n",
       "  <tbody>\n",
       "    <tr>\n",
       "      <td>0</td>\n",
       "      <td>203684844</td>\n",
       "      <td>202003</td>\n",
       "      <td>0.0</td>\n",
       "      <td>1.0</td>\n",
       "      <td>0.0</td>\n",
       "      <td>0.0</td>\n",
       "      <td>0.0</td>\n",
       "      <td>0.0</td>\n",
       "      <td>0.0</td>\n",
       "      <td>0.0</td>\n",
       "      <td>...</td>\n",
       "      <td>0.0</td>\n",
       "      <td>0.0</td>\n",
       "      <td>0.0</td>\n",
       "      <td>0.0</td>\n",
       "      <td>0.0</td>\n",
       "      <td>1757043.0</td>\n",
       "      <td>0.0</td>\n",
       "      <td>0.0</td>\n",
       "      <td>0.0</td>\n",
       "      <td>3.756938</td>\n",
       "    </tr>\n",
       "    <tr>\n",
       "      <td>1</td>\n",
       "      <td>203684845</td>\n",
       "      <td>202003</td>\n",
       "      <td>0.0</td>\n",
       "      <td>0.0</td>\n",
       "      <td>0.0</td>\n",
       "      <td>0.0</td>\n",
       "      <td>1.0</td>\n",
       "      <td>0.0</td>\n",
       "      <td>0.0</td>\n",
       "      <td>0.0</td>\n",
       "      <td>...</td>\n",
       "      <td>0.0</td>\n",
       "      <td>0.0</td>\n",
       "      <td>125234.0</td>\n",
       "      <td>0.0</td>\n",
       "      <td>0.0</td>\n",
       "      <td>4716984.0</td>\n",
       "      <td>0.0</td>\n",
       "      <td>0.0</td>\n",
       "      <td>0.0</td>\n",
       "      <td>45.341129</td>\n",
       "    </tr>\n",
       "    <tr>\n",
       "      <td>2</td>\n",
       "      <td>203684846</td>\n",
       "      <td>202003</td>\n",
       "      <td>0.0</td>\n",
       "      <td>0.0</td>\n",
       "      <td>0.0</td>\n",
       "      <td>0.0</td>\n",
       "      <td>0.0</td>\n",
       "      <td>0.0</td>\n",
       "      <td>0.0</td>\n",
       "      <td>0.0</td>\n",
       "      <td>...</td>\n",
       "      <td>0.0</td>\n",
       "      <td>0.0</td>\n",
       "      <td>3487492.0</td>\n",
       "      <td>74587.0</td>\n",
       "      <td>0.0</td>\n",
       "      <td>3357083.0</td>\n",
       "      <td>0.0</td>\n",
       "      <td>2918853.0</td>\n",
       "      <td>1.0</td>\n",
       "      <td>75.018822</td>\n",
       "    </tr>\n",
       "    <tr>\n",
       "      <td>3</td>\n",
       "      <td>203684847</td>\n",
       "      <td>202003</td>\n",
       "      <td>0.0</td>\n",
       "      <td>0.0</td>\n",
       "      <td>0.0</td>\n",
       "      <td>0.0</td>\n",
       "      <td>0.0</td>\n",
       "      <td>0.0</td>\n",
       "      <td>0.0</td>\n",
       "      <td>0.0</td>\n",
       "      <td>...</td>\n",
       "      <td>0.0</td>\n",
       "      <td>0.0</td>\n",
       "      <td>566474.0</td>\n",
       "      <td>202898.0</td>\n",
       "      <td>714740.0</td>\n",
       "      <td>5852036.0</td>\n",
       "      <td>0.0</td>\n",
       "      <td>0.0</td>\n",
       "      <td>0.0</td>\n",
       "      <td>6.094367</td>\n",
       "    </tr>\n",
       "    <tr>\n",
       "      <td>4</td>\n",
       "      <td>203684848</td>\n",
       "      <td>202003</td>\n",
       "      <td>0.0</td>\n",
       "      <td>1.0</td>\n",
       "      <td>0.0</td>\n",
       "      <td>0.0</td>\n",
       "      <td>0.0</td>\n",
       "      <td>0.0</td>\n",
       "      <td>0.0</td>\n",
       "      <td>0.0</td>\n",
       "      <td>...</td>\n",
       "      <td>0.0</td>\n",
       "      <td>0.0</td>\n",
       "      <td>0.0</td>\n",
       "      <td>208842.0</td>\n",
       "      <td>0.0</td>\n",
       "      <td>6126419.0</td>\n",
       "      <td>0.0</td>\n",
       "      <td>1033090.0</td>\n",
       "      <td>0.0</td>\n",
       "      <td>22.581158</td>\n",
       "    </tr>\n",
       "    <tr>\n",
       "      <td>...</td>\n",
       "      <td>...</td>\n",
       "      <td>...</td>\n",
       "      <td>...</td>\n",
       "      <td>...</td>\n",
       "      <td>...</td>\n",
       "      <td>...</td>\n",
       "      <td>...</td>\n",
       "      <td>...</td>\n",
       "      <td>...</td>\n",
       "      <td>...</td>\n",
       "      <td>...</td>\n",
       "      <td>...</td>\n",
       "      <td>...</td>\n",
       "      <td>...</td>\n",
       "      <td>...</td>\n",
       "      <td>...</td>\n",
       "      <td>...</td>\n",
       "      <td>...</td>\n",
       "      <td>...</td>\n",
       "      <td>...</td>\n",
       "      <td>...</td>\n",
       "    </tr>\n",
       "    <tr>\n",
       "      <td>19578</td>\n",
       "      <td>283471757</td>\n",
       "      <td>202003</td>\n",
       "      <td>0.0</td>\n",
       "      <td>0.0</td>\n",
       "      <td>0.0</td>\n",
       "      <td>0.0</td>\n",
       "      <td>0.0</td>\n",
       "      <td>0.0</td>\n",
       "      <td>0.0</td>\n",
       "      <td>0.0</td>\n",
       "      <td>...</td>\n",
       "      <td>0.0</td>\n",
       "      <td>0.0</td>\n",
       "      <td>0.0</td>\n",
       "      <td>0.0</td>\n",
       "      <td>198795.0</td>\n",
       "      <td>880280.0</td>\n",
       "      <td>0.0</td>\n",
       "      <td>118254.0</td>\n",
       "      <td>0.0</td>\n",
       "      <td>1.536329</td>\n",
       "    </tr>\n",
       "    <tr>\n",
       "      <td>19579</td>\n",
       "      <td>283472189</td>\n",
       "      <td>202003</td>\n",
       "      <td>0.0</td>\n",
       "      <td>0.0</td>\n",
       "      <td>0.0</td>\n",
       "      <td>0.0</td>\n",
       "      <td>0.0</td>\n",
       "      <td>0.0</td>\n",
       "      <td>0.0</td>\n",
       "      <td>0.0</td>\n",
       "      <td>...</td>\n",
       "      <td>0.0</td>\n",
       "      <td>0.0</td>\n",
       "      <td>106158.0</td>\n",
       "      <td>6285215.0</td>\n",
       "      <td>1727609.0</td>\n",
       "      <td>420062.0</td>\n",
       "      <td>0.0</td>\n",
       "      <td>7687.0</td>\n",
       "      <td>0.0</td>\n",
       "      <td>27.346092</td>\n",
       "    </tr>\n",
       "    <tr>\n",
       "      <td>19580</td>\n",
       "      <td>283472190</td>\n",
       "      <td>202003</td>\n",
       "      <td>0.0</td>\n",
       "      <td>0.0</td>\n",
       "      <td>0.0</td>\n",
       "      <td>0.0</td>\n",
       "      <td>0.0</td>\n",
       "      <td>0.0</td>\n",
       "      <td>0.0</td>\n",
       "      <td>0.0</td>\n",
       "      <td>...</td>\n",
       "      <td>0.0</td>\n",
       "      <td>0.0</td>\n",
       "      <td>0.0</td>\n",
       "      <td>0.0</td>\n",
       "      <td>0.0</td>\n",
       "      <td>0.0</td>\n",
       "      <td>0.0</td>\n",
       "      <td>0.0</td>\n",
       "      <td>0.0</td>\n",
       "      <td>5.536629</td>\n",
       "    </tr>\n",
       "    <tr>\n",
       "      <td>19581</td>\n",
       "      <td>283472977</td>\n",
       "      <td>202003</td>\n",
       "      <td>0.0</td>\n",
       "      <td>0.0</td>\n",
       "      <td>0.0</td>\n",
       "      <td>0.0</td>\n",
       "      <td>0.0</td>\n",
       "      <td>0.0</td>\n",
       "      <td>0.0</td>\n",
       "      <td>0.0</td>\n",
       "      <td>...</td>\n",
       "      <td>0.0</td>\n",
       "      <td>0.0</td>\n",
       "      <td>0.0</td>\n",
       "      <td>0.0</td>\n",
       "      <td>0.0</td>\n",
       "      <td>199127.0</td>\n",
       "      <td>0.0</td>\n",
       "      <td>5714.0</td>\n",
       "      <td>1.0</td>\n",
       "      <td>63.168259</td>\n",
       "    </tr>\n",
       "    <tr>\n",
       "      <td>19582</td>\n",
       "      <td>283473842</td>\n",
       "      <td>202001</td>\n",
       "      <td>0.0</td>\n",
       "      <td>0.0</td>\n",
       "      <td>0.0</td>\n",
       "      <td>0.0</td>\n",
       "      <td>1.0</td>\n",
       "      <td>0.0</td>\n",
       "      <td>0.0</td>\n",
       "      <td>0.0</td>\n",
       "      <td>...</td>\n",
       "      <td>0.0</td>\n",
       "      <td>0.0</td>\n",
       "      <td>0.0</td>\n",
       "      <td>2139.0</td>\n",
       "      <td>0.0</td>\n",
       "      <td>0.0</td>\n",
       "      <td>0.0</td>\n",
       "      <td>0.0</td>\n",
       "      <td>0.0</td>\n",
       "      <td>0.279734</td>\n",
       "    </tr>\n",
       "  </tbody>\n",
       "</table>\n",
       "<p>19583 rows × 73 columns</p>\n",
       "</div>"
      ],
      "text/plain": [
       "       SAVM_GROUP_ID  year_quarter  Vert_Education- Public/Private  \\\n",
       "0          203684844        202003                             0.0   \n",
       "1          203684845        202003                             0.0   \n",
       "2          203684846        202003                             0.0   \n",
       "3          203684847        202003                             0.0   \n",
       "4          203684848        202003                             0.0   \n",
       "...              ...           ...                             ...   \n",
       "19578      283471757        202003                             0.0   \n",
       "19579      283472189        202003                             0.0   \n",
       "19580      283472190        202003                             0.0   \n",
       "19581      283472977        202003                             0.0   \n",
       "19582      283473842        202001                             0.0   \n",
       "\n",
       "       Vert_Energy/Utilities  Vert_Financial Services  Vert_Government  \\\n",
       "0                        1.0                      0.0              0.0   \n",
       "1                        0.0                      0.0              0.0   \n",
       "2                        0.0                      0.0              0.0   \n",
       "3                        0.0                      0.0              0.0   \n",
       "4                        1.0                      0.0              0.0   \n",
       "...                      ...                      ...              ...   \n",
       "19578                    0.0                      0.0              0.0   \n",
       "19579                    0.0                      0.0              0.0   \n",
       "19580                    0.0                      0.0              0.0   \n",
       "19581                    0.0                      0.0              0.0   \n",
       "19582                    0.0                      0.0              0.0   \n",
       "\n",
       "       Vert_Health Care  Vert_Hospitality/Hotels & Leisure  \\\n",
       "0                   0.0                                0.0   \n",
       "1                   1.0                                0.0   \n",
       "2                   0.0                                0.0   \n",
       "3                   0.0                                0.0   \n",
       "4                   0.0                                0.0   \n",
       "...                 ...                                ...   \n",
       "19578               0.0                                0.0   \n",
       "19579               0.0                                0.0   \n",
       "19580               0.0                                0.0   \n",
       "19581               0.0                                0.0   \n",
       "19582               1.0                                0.0   \n",
       "\n",
       "       Vert_Manufacturing  Vert_Media/Entertainment  ...  \\\n",
       "0                     0.0                       0.0  ...   \n",
       "1                     0.0                       0.0  ...   \n",
       "2                     0.0                       0.0  ...   \n",
       "3                     0.0                       0.0  ...   \n",
       "4                     0.0                       0.0  ...   \n",
       "...                   ...                       ...  ...   \n",
       "19578                 0.0                       0.0  ...   \n",
       "19579                 0.0                       0.0  ...   \n",
       "19580                 0.0                       0.0  ...   \n",
       "19581                 0.0                       0.0  ...   \n",
       "19582                 0.0                       0.0  ...   \n",
       "\n",
       "       BEval_SP Video Infrastructure  BEval_SP Video Software and Solutions  \\\n",
       "0                                0.0                                    0.0   \n",
       "1                                0.0                                    0.0   \n",
       "2                                0.0                                    0.0   \n",
       "3                                0.0                                    0.0   \n",
       "4                                0.0                                    0.0   \n",
       "...                              ...                                    ...   \n",
       "19578                            0.0                                    0.0   \n",
       "19579                            0.0                                    0.0   \n",
       "19580                            0.0                                    0.0   \n",
       "19581                            0.0                                    0.0   \n",
       "19582                            0.0                                    0.0   \n",
       "\n",
       "       BEval_Security  BEval_Service Provider Routing  BEval_Services ASS_L1  \\\n",
       "0                 0.0                             0.0                    0.0   \n",
       "1            125234.0                             0.0                    0.0   \n",
       "2           3487492.0                         74587.0                    0.0   \n",
       "3            566474.0                        202898.0               714740.0   \n",
       "4                 0.0                        208842.0                    0.0   \n",
       "...               ...                             ...                    ...   \n",
       "19578             0.0                             0.0               198795.0   \n",
       "19579        106158.0                       6285215.0              1727609.0   \n",
       "19580             0.0                             0.0                    0.0   \n",
       "19581             0.0                             0.0                    0.0   \n",
       "19582             0.0                          2139.0                    0.0   \n",
       "\n",
       "       BEval_Services TSS_L1  BEval_UNKNOWN  BEval_Wireless  Predictions  \\\n",
       "0                  1757043.0            0.0             0.0          0.0   \n",
       "1                  4716984.0            0.0             0.0          0.0   \n",
       "2                  3357083.0            0.0       2918853.0          1.0   \n",
       "3                  5852036.0            0.0             0.0          0.0   \n",
       "4                  6126419.0            0.0       1033090.0          0.0   \n",
       "...                      ...            ...             ...          ...   \n",
       "19578               880280.0            0.0        118254.0          0.0   \n",
       "19579               420062.0            0.0          7687.0          0.0   \n",
       "19580                    0.0            0.0             0.0          0.0   \n",
       "19581               199127.0            0.0          5714.0          1.0   \n",
       "19582                    0.0            0.0             0.0          0.0   \n",
       "\n",
       "            Prob  \n",
       "0       3.756938  \n",
       "1      45.341129  \n",
       "2      75.018822  \n",
       "3       6.094367  \n",
       "4      22.581158  \n",
       "...          ...  \n",
       "19578   1.536329  \n",
       "19579  27.346092  \n",
       "19580   5.536629  \n",
       "19581  63.168259  \n",
       "19582   0.279734  \n",
       "\n",
       "[19583 rows x 73 columns]"
      ]
     },
     "execution_count": 237,
     "metadata": {},
     "output_type": "execute_result"
    }
   ],
   "source": [
    "df_temp_2"
   ]
  },
  {
   "cell_type": "code",
   "execution_count": 238,
   "metadata": {},
   "outputs": [],
   "source": [
    "df_temp_2.to_csv('datacenter_Propensity.csv')"
   ]
  },
  {
   "cell_type": "code",
   "execution_count": null,
   "metadata": {},
   "outputs": [],
   "source": []
  }
 ],
 "metadata": {
  "kernelspec": {
   "display_name": "Python 3",
   "language": "python",
   "name": "python3"
  },
  "language_info": {
   "codemirror_mode": {
    "name": "ipython",
    "version": 3
   },
   "file_extension": ".py",
   "mimetype": "text/x-python",
   "name": "python",
   "nbconvert_exporter": "python",
   "pygments_lexer": "ipython3",
   "version": "3.7.4"
  }
 },
 "nbformat": 4,
 "nbformat_minor": 2
}
